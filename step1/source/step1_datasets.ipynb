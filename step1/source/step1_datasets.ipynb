{
 "cells": [
  {
   "cell_type": "markdown",
   "metadata": {},
   "source": [
    "# 📢 데이터셋 구축"
   ]
  },
  {
   "cell_type": "markdown",
   "metadata": {},
   "source": [
    "## 📌 라이브러리 설치 및 경로 변경 작업\n",
    "* <b>\"📌 스타일 단위 크롤링\"</b> 에서 라이브러리 import가 잘 된다면 생략 가능."
   ]
  },
  {
   "cell_type": "code",
   "execution_count": 2,
   "metadata": {},
   "outputs": [
    {
     "name": "stdout",
     "output_type": "stream",
     "text": [
      "Active code page: 65001\n"
     ]
    },
    {
     "name": "stderr",
     "output_type": "stream",
     "text": [
      "Cloning into 'pytorch_geometric'...\n"
     ]
    }
   ],
   "source": [
    "# ! git clone https://github.com/pyg-team/pytorch_geometric.git"
   ]
  },
  {
   "cell_type": "code",
   "execution_count": 5,
   "metadata": {},
   "outputs": [
    {
     "name": "stdout",
     "output_type": "stream",
     "text": [
      "Active code page: 65001\n"
     ]
    }
   ],
   "source": [
    "# ! cp ./bottom_to_upper.py ./pytorch_geometric/torch_geometric/datasets/bottom_to_upper.py\n",
    "# ! cp ./upper_to_bottom.py ./pytorch_geometric/torch_geometric/datasets/upper_to_bottom.py\n",
    "# ! cp ./__init__.py ./pytorch_geometric/torch_geometric/datasets/__init__.py"
   ]
  },
  {
   "cell_type": "markdown",
   "metadata": {},
   "source": [
    "파이썬 site-packages 경로에 복사합니다"
   ]
  },
  {
   "cell_type": "markdown",
   "metadata": {},
   "source": [
    "⬇⬇⬇ 아래는 Docker DSfinal 환경 copy"
   ]
  },
  {
   "cell_type": "code",
   "execution_count": 7,
   "metadata": {},
   "outputs": [
    {
     "name": "stdout",
     "output_type": "stream",
     "text": [
      "Active code page: 65001\n"
     ]
    }
   ],
   "source": [
    "# ! !cp -r /step1/pytorch_geometric/torch_geometric /opt/conda/lib/python3.10/site-packages/"
   ]
  },
  {
   "cell_type": "markdown",
   "metadata": {},
   "source": [
    "⬇⬇⬇ 아래는 윈도우 환경 copy 예시"
   ]
  },
  {
   "cell_type": "code",
   "execution_count": 11,
   "metadata": {},
   "outputs": [
    {
     "name": "stdout",
     "output_type": "stream",
     "text": [
      "Active code page: 65001\n"
     ]
    }
   ],
   "source": [
    "#! cp -r ./pytorch_geometric/torch_geometric 'c:\\\\Users\\\\AMD\\\\AppData\\\\Local\\\\Programs\\\\Python\\\\Python310\\\\lib\\\\site-packages'"
   ]
  },
  {
   "cell_type": "markdown",
   "metadata": {},
   "source": [
    "현재 위치의 geometric 삭제(선택)"
   ]
  },
  {
   "cell_type": "code",
   "execution_count": 2,
   "metadata": {},
   "outputs": [
    {
     "name": "stdout",
     "output_type": "stream",
     "text": [
      "Active code page: 65001\n"
     ]
    }
   ],
   "source": [
    "# ! rm -r ./pytorch_geometric"
   ]
  },
  {
   "cell_type": "markdown",
   "metadata": {},
   "source": [
    "### 🍔커널 <b>재시작</b> 필요합니다."
   ]
  },
  {
   "cell_type": "markdown",
   "metadata": {},
   "source": [
    "## 📌 스타일 단위 크롤링\n",
    "* 코디샵의 개별아이템 상세페이지 링크 수집\n",
    "* 개별아이템 상세페이지 링크 실행하며 스타일, 태그값 등을 수집하여 데이터셋 구축\n",
    "* 팀원들간 개별아이템 수집일이 다를 수 있지만, ITEM_ID기준으로 중복제거 및 nan값 제거 가능\n",
    "* lightGCN 학습을 위해, 전문코디의 스타일(상,하의 묶음)을 CODI_ID로 지정하여 데이터셋 구축 "
   ]
  },
  {
   "cell_type": "code",
   "execution_count": 1,
   "metadata": {},
   "outputs": [
    {
     "name": "stderr",
     "output_type": "stream",
     "text": [
      "c:\\Users\\AMD\\AppData\\Local\\Programs\\Python\\Python310\\lib\\site-packages\\tqdm\\auto.py:21: TqdmWarning: IProgress not found. Please update jupyter and ipywidgets. See https://ipywidgets.readthedocs.io/en/stable/user_install.html\n",
      "  from .autonotebook import tqdm as notebook_tqdm\n"
     ]
    },
    {
     "name": "stdout",
     "output_type": "stream",
     "text": [
      "현재 사용 중인 디바이스: cpu\n"
     ]
    }
   ],
   "source": [
    "import openpyxl\n",
    "import pandas as pd\n",
    "import selenium\n",
    "from selenium import webdriver\n",
    "from selenium.webdriver.common.by import By\n",
    "from selenium.webdriver.chrome.service import Service #이거 추가\n",
    "import platform\n",
    "import os\n",
    "import time\n",
    "import requests\n",
    "from bs4 import BeautifulSoup\n",
    "import random\n",
    "from tqdm import tqdm\n",
    "from selenium.webdriver.remote.webelement import WebElement\n",
    "from selenium.webdriver.support.ui import WebDriverWait\n",
    "from selenium.webdriver.support import expected_conditions as EC\n",
    "import copy\n",
    "from selenium.common.exceptions import WebDriverException\n",
    "from pprint import pprint\n",
    "import re\n",
    "import numpy as np\n",
    "import sqlite3\n",
    "from collections import Counter\n",
    "from datetime import datetime\n",
    "\n",
    "import os.path as osp\n",
    "from torch_geometric.datasets import BottomToUpper\n",
    "from torch_geometric.datasets import UpperToBottom\n",
    "from torch_geometric.nn import LightGCN\n",
    "from torch_geometric.utils import degree\n",
    "\n",
    "\n",
    "import torch\n",
    "\n",
    "device = torch.device(\"cuda:0\" if torch.cuda.is_available() else \"cpu\")\n",
    "pd.set_option('display.max_columns', None)\n",
    "pd.set_option('display.max_rows', 10000)\n",
    "\n",
    "print(f\"현재 사용 중인 디바이스: {device}\")\n",
    "\n",
    "driver = None"
   ]
  },
  {
   "cell_type": "code",
   "execution_count": 2,
   "metadata": {},
   "outputs": [
    {
     "name": "stdout",
     "output_type": "stream",
     "text": [
      "1번: https://www.musinsa.com/app/styles/lists?use_yn_360=&style_type=americancasual&brand=&model=&tag_no=&max_rt=&min_rt=&display_cnt=60&list_kind=big&sort=date&page=\n",
      "2번: https://www.musinsa.com/app/styles/lists?use_yn_360=&style_type=casual&brand=&model=&tag_no=&max_rt=&min_rt=&display_cnt=60&list_kind=big&sort=date&page=\n",
      "3번: https://www.musinsa.com/app/styles/lists?use_yn_360=&style_type=chic&brand=&model=&tag_no=&max_rt=&min_rt=&display_cnt=60&list_kind=big&sort=date&page=\n",
      "4번: https://www.musinsa.com/app/styles/lists?use_yn_360=&style_type=dandy&brand=&model=&tag_no=&max_rt=&min_rt=&display_cnt=60&list_kind=big&sort=date&page=\n",
      "5번: https://www.musinsa.com/app/styles/lists?use_yn_360=&style_type=formal&brand=&model=&tag_no=&max_rt=&min_rt=&display_cnt=60&list_kind=big&sort=date&page=\n",
      "6번: https://www.musinsa.com/app/styles/lists?use_yn_360=&style_type=girlish&brand=&model=&tag_no=&max_rt=&min_rt=&display_cnt=60&list_kind=big&sort=date&page=\n",
      "7번: https://www.musinsa.com/app/styles/lists?use_yn_360=&style_type=golf&brand=&model=&tag_no=&max_rt=&min_rt=&display_cnt=60&list_kind=big&sort=date&page=\n",
      "8번: https://www.musinsa.com/app/styles/lists?use_yn_360=&style_type=retro&brand=&model=&tag_no=&max_rt=&min_rt=&display_cnt=60&list_kind=big&sort=date&page=\n",
      "9번: https://www.musinsa.com/app/styles/lists?use_yn_360=&style_type=romantic&brand=&model=&tag_no=&max_rt=&min_rt=&display_cnt=60&list_kind=big&sort=date&page=\n",
      "10번: https://www.musinsa.com/app/styles/lists?use_yn_360=&style_type=sports&brand=&model=&tag_no=&max_rt=&min_rt=&display_cnt=60&list_kind=big&sort=date&page=\n",
      "11번: https://www.musinsa.com/app/styles/lists?use_yn_360=&style_type=street&brand=&model=&tag_no=&max_rt=&min_rt=&display_cnt=60&list_kind=big&sort=date&page=\n",
      "12번: https://www.musinsa.com/app/styles/lists?use_yn_360=&style_type=gorpcore&brand=&model=&tag_no=&max_rt=&min_rt=&display_cnt=60&list_kind=big&sort=date&page=\n"
     ]
    }
   ],
   "source": [
    "CODI_BASE_URL = {\n",
    "                    'americancasual': 'https://www.musinsa.com/app/styles/lists?use_yn_360=&style_type=americancasual&brand=&model=&tag_no=&max_rt=&min_rt=&display_cnt=60&list_kind=big&sort=date&page=',\n",
    "                    'casual' : 'https://www.musinsa.com/app/styles/lists?use_yn_360=&style_type=casual&brand=&model=&tag_no=&max_rt=&min_rt=&display_cnt=60&list_kind=big&sort=date&page=',\n",
    "                    'chic' : 'https://www.musinsa.com/app/styles/lists?use_yn_360=&style_type=chic&brand=&model=&tag_no=&max_rt=&min_rt=&display_cnt=60&list_kind=big&sort=date&page=',\n",
    "                    'dandy' : 'https://www.musinsa.com/app/styles/lists?use_yn_360=&style_type=dandy&brand=&model=&tag_no=&max_rt=&min_rt=&display_cnt=60&list_kind=big&sort=date&page=',\n",
    "                    'formal' : 'https://www.musinsa.com/app/styles/lists?use_yn_360=&style_type=formal&brand=&model=&tag_no=&max_rt=&min_rt=&display_cnt=60&list_kind=big&sort=date&page=',\n",
    "                    'girlish' : 'https://www.musinsa.com/app/styles/lists?use_yn_360=&style_type=girlish&brand=&model=&tag_no=&max_rt=&min_rt=&display_cnt=60&list_kind=big&sort=date&page=',\n",
    "                    'golf' : 'https://www.musinsa.com/app/styles/lists?use_yn_360=&style_type=golf&brand=&model=&tag_no=&max_rt=&min_rt=&display_cnt=60&list_kind=big&sort=date&page=',\n",
    "                    'retro' : 'https://www.musinsa.com/app/styles/lists?use_yn_360=&style_type=retro&brand=&model=&tag_no=&max_rt=&min_rt=&display_cnt=60&list_kind=big&sort=date&page=',\n",
    "                    'romantic' : 'https://www.musinsa.com/app/styles/lists?use_yn_360=&style_type=romantic&brand=&model=&tag_no=&max_rt=&min_rt=&display_cnt=60&list_kind=big&sort=date&page=',\n",
    "                    'sports' : 'https://www.musinsa.com/app/styles/lists?use_yn_360=&style_type=sports&brand=&model=&tag_no=&max_rt=&min_rt=&display_cnt=60&list_kind=big&sort=date&page=',\n",
    "                    'street' : 'https://www.musinsa.com/app/styles/lists?use_yn_360=&style_type=street&brand=&model=&tag_no=&max_rt=&min_rt=&display_cnt=60&list_kind=big&sort=date&page=',\n",
    "                    'gorpcore' : 'https://www.musinsa.com/app/styles/lists?use_yn_360=&style_type=gorpcore&brand=&model=&tag_no=&max_rt=&min_rt=&display_cnt=60&list_kind=big&sort=date&page='\n",
    "                }\n",
    "for idx, item in enumerate(CODI_BASE_URL):\n",
    "    print(f'{idx+1}번: {CODI_BASE_URL[item]}')"
   ]
  },
  {
   "cell_type": "code",
   "execution_count": 3,
   "metadata": {},
   "outputs": [],
   "source": [
    "def chrome_settings(_show):\n",
    "    global driver\n",
    "    chrome_options = webdriver.ChromeOptions()\n",
    "    \n",
    "    if not _show:\n",
    "        chrome_options.add_argument(argument='--headless')\n",
    "        \n",
    "    chrome_options.add_argument(argument='--no-sandbox')\n",
    "    chrome_options.add_argument(argument='--disable-dev-shm-usage')\n",
    "    chrome_options.add_argument(argument=\"--disable-infobars\")\n",
    "    chrome_options.add_argument(argument=\"--disable-notifications\")\n",
    "\n",
    "    if platform.system() == 'Windows':\n",
    "        print(\"윈도우 환경 작동 중..\")\n",
    "        service = Service(executable_path=os.path.join(\"..\", \"..\", \"chromedriver.exe\"))\n",
    "    else:\n",
    "        print(\"리눅스 계열 작동 중..\")\n",
    "        service = Service(executable_path=os.path.join(\"..\", \"..\", \"chromedriver\"))\n",
    "\n",
    "    if selenium.__version__[0] == '4':\n",
    "        driver = webdriver.Chrome(service=service, options=chrome_options)\n",
    "    else:\n",
    "        if platform.system() == 'Windows':\n",
    "            driver = webdriver.Chrome(executable_path=os.path.join(\"..\", \"..\", \"chromedriver.exe\"), options=chrome_options)\n",
    "        else:\n",
    "            driver = webdriver.Chrome(executable_path=os.path.join(\"..\", \"..\", \"chromedriver\"), options=chrome_options)\n",
    "    driver.maximize_window()\n",
    "    driver.implicitly_wait(30)"
   ]
  },
  {
   "cell_type": "markdown",
   "metadata": {},
   "source": [
    "### 🍔 실행 (1/3 단계)\n",
    "* 크롤링 진행하는 경우 A 루트\n",
    "* csv 파일 있는 경우 B 루트"
   ]
  },
  {
   "cell_type": "markdown",
   "metadata": {},
   "source": [
    "#### 🍟A 루트 (크롤링)"
   ]
  },
  {
   "cell_type": "code",
   "execution_count": 28,
   "metadata": {},
   "outputs": [
    {
     "name": "stdout",
     "output_type": "stream",
     "text": [
      "\u001b[33m\" 1번: americancasual 진행 중...\"\u001b[0m\n",
      "윈도우 환경 작동 중..\n"
     ]
    },
    {
     "name": "stderr",
     "output_type": "stream",
     "text": [
      "100%|██████████| 6/6 [00:17<00:00,  2.98s/it]"
     ]
    },
    {
     "name": "stdout",
     "output_type": "stream",
     "text": [
      "\u001b[32m\"1번: americancasual 완료...\"\u001b[0m\n"
     ]
    },
    {
     "name": "stderr",
     "output_type": "stream",
     "text": [
      "\n"
     ]
    },
    {
     "data": {
      "text/html": [
       "<div>\n",
       "<style scoped>\n",
       "    .dataframe tbody tr th:only-of-type {\n",
       "        vertical-align: middle;\n",
       "    }\n",
       "\n",
       "    .dataframe tbody tr th {\n",
       "        vertical-align: top;\n",
       "    }\n",
       "\n",
       "    .dataframe thead th {\n",
       "        text-align: right;\n",
       "    }\n",
       "</style>\n",
       "<table border=\"1\" class=\"dataframe\">\n",
       "  <thead>\n",
       "    <tr style=\"text-align: right;\">\n",
       "      <th></th>\n",
       "      <th>CODI_ID</th>\n",
       "      <th>PAGE_NUM</th>\n",
       "      <th>STYLE</th>\n",
       "      <th>DATE</th>\n",
       "      <th>VIEWS</th>\n",
       "      <th>TAG1</th>\n",
       "      <th>MODEL</th>\n",
       "      <th>CODI_IMG</th>\n",
       "    </tr>\n",
       "  </thead>\n",
       "  <tbody>\n",
       "    <tr>\n",
       "      <th>305</th>\n",
       "      <td>23923</td>\n",
       "      <td>6</td>\n",
       "      <td>아메리칸 캐주얼</td>\n",
       "      <td>21.11.25</td>\n",
       "      <td>조회 1,947</td>\n",
       "      <td>센스 더하기</td>\n",
       "      <td>모델 : 박호영</td>\n",
       "      <td>//image.msscdn.net/images/style/list/l_3_20211...</td>\n",
       "    </tr>\n",
       "  </tbody>\n",
       "</table>\n",
       "</div>"
      ],
      "text/plain": [
       "    CODI_ID PAGE_NUM     STYLE      DATE     VIEWS    TAG1     MODEL  \\\n",
       "305   23923        6  아메리칸 캐주얼  21.11.25  조회 1,947  센스 더하기  모델 : 박호영   \n",
       "\n",
       "                                              CODI_IMG  \n",
       "305  //image.msscdn.net/images/style/list/l_3_20211...  "
      ]
     },
     "metadata": {},
     "output_type": "display_data"
    },
    {
     "name": "stdout",
     "output_type": "stream",
     "text": [
      "\u001b[33m\" 2번: casual 진행 중...\"\u001b[0m\n",
      "윈도우 환경 작동 중..\n"
     ]
    },
    {
     "name": "stderr",
     "output_type": "stream",
     "text": [
      "100%|██████████| 223/223 [12:20<00:00,  3.32s/it]"
     ]
    },
    {
     "name": "stdout",
     "output_type": "stream",
     "text": [
      "\u001b[32m\"2번: casual 완료...\"\u001b[0m\n"
     ]
    },
    {
     "name": "stderr",
     "output_type": "stream",
     "text": [
      "\n"
     ]
    },
    {
     "data": {
      "text/html": [
       "<div>\n",
       "<style scoped>\n",
       "    .dataframe tbody tr th:only-of-type {\n",
       "        vertical-align: middle;\n",
       "    }\n",
       "\n",
       "    .dataframe tbody tr th {\n",
       "        vertical-align: top;\n",
       "    }\n",
       "\n",
       "    .dataframe thead th {\n",
       "        text-align: right;\n",
       "    }\n",
       "</style>\n",
       "<table border=\"1\" class=\"dataframe\">\n",
       "  <thead>\n",
       "    <tr style=\"text-align: right;\">\n",
       "      <th></th>\n",
       "      <th>CODI_ID</th>\n",
       "      <th>PAGE_NUM</th>\n",
       "      <th>STYLE</th>\n",
       "      <th>DATE</th>\n",
       "      <th>VIEWS</th>\n",
       "      <th>TAG1</th>\n",
       "      <th>MODEL</th>\n",
       "      <th>CODI_IMG</th>\n",
       "    </tr>\n",
       "  </thead>\n",
       "  <tbody>\n",
       "    <tr>\n",
       "      <th>13329</th>\n",
       "      <td>11</td>\n",
       "      <td>223</td>\n",
       "      <td>캐주얼</td>\n",
       "      <td>10.07.29</td>\n",
       "      <td>조회 4,725</td>\n",
       "      <td>1</td>\n",
       "      <td>모델 : 위준호</td>\n",
       "      <td>//image.msscdn.net/images/style/list/l_3_hs_bb...</td>\n",
       "    </tr>\n",
       "  </tbody>\n",
       "</table>\n",
       "</div>"
      ],
      "text/plain": [
       "      CODI_ID PAGE_NUM STYLE      DATE     VIEWS TAG1     MODEL  \\\n",
       "13329      11      223   캐주얼  10.07.29  조회 4,725    1  모델 : 위준호   \n",
       "\n",
       "                                                CODI_IMG  \n",
       "13329  //image.msscdn.net/images/style/list/l_3_hs_bb...  "
      ]
     },
     "metadata": {},
     "output_type": "display_data"
    },
    {
     "name": "stdout",
     "output_type": "stream",
     "text": [
      "\u001b[33m\" 3번: chic 진행 중...\"\u001b[0m\n",
      "윈도우 환경 작동 중..\n"
     ]
    },
    {
     "name": "stderr",
     "output_type": "stream",
     "text": [
      "100%|██████████| 18/18 [00:54<00:00,  3.03s/it]"
     ]
    },
    {
     "name": "stdout",
     "output_type": "stream",
     "text": [
      "\u001b[32m\"3번: chic 완료...\"\u001b[0m\n"
     ]
    },
    {
     "name": "stderr",
     "output_type": "stream",
     "text": [
      "\n"
     ]
    },
    {
     "data": {
      "text/html": [
       "<div>\n",
       "<style scoped>\n",
       "    .dataframe tbody tr th:only-of-type {\n",
       "        vertical-align: middle;\n",
       "    }\n",
       "\n",
       "    .dataframe tbody tr th {\n",
       "        vertical-align: top;\n",
       "    }\n",
       "\n",
       "    .dataframe thead th {\n",
       "        text-align: right;\n",
       "    }\n",
       "</style>\n",
       "<table border=\"1\" class=\"dataframe\">\n",
       "  <thead>\n",
       "    <tr style=\"text-align: right;\">\n",
       "      <th></th>\n",
       "      <th>CODI_ID</th>\n",
       "      <th>PAGE_NUM</th>\n",
       "      <th>STYLE</th>\n",
       "      <th>DATE</th>\n",
       "      <th>VIEWS</th>\n",
       "      <th>TAG1</th>\n",
       "      <th>MODEL</th>\n",
       "      <th>CODI_IMG</th>\n",
       "    </tr>\n",
       "  </thead>\n",
       "  <tbody>\n",
       "    <tr>\n",
       "      <th>1023</th>\n",
       "      <td>894</td>\n",
       "      <td>18</td>\n",
       "      <td>시크</td>\n",
       "      <td>15.07.10</td>\n",
       "      <td>조회 2,459</td>\n",
       "      <td>1967</td>\n",
       "      <td>모델 : 김지원</td>\n",
       "      <td>//image.msscdn.net/images/style/list/l_3_14365...</td>\n",
       "    </tr>\n",
       "  </tbody>\n",
       "</table>\n",
       "</div>"
      ],
      "text/plain": [
       "     CODI_ID PAGE_NUM STYLE      DATE     VIEWS  TAG1     MODEL  \\\n",
       "1023     894       18    시크  15.07.10  조회 2,459  1967  모델 : 김지원   \n",
       "\n",
       "                                               CODI_IMG  \n",
       "1023  //image.msscdn.net/images/style/list/l_3_14365...  "
      ]
     },
     "metadata": {},
     "output_type": "display_data"
    },
    {
     "name": "stdout",
     "output_type": "stream",
     "text": [
      "\u001b[33m\" 4번: dandy 진행 중...\"\u001b[0m\n",
      "윈도우 환경 작동 중..\n"
     ]
    },
    {
     "name": "stderr",
     "output_type": "stream",
     "text": [
      "100%|██████████| 49/49 [02:31<00:00,  3.09s/it]"
     ]
    },
    {
     "name": "stdout",
     "output_type": "stream",
     "text": [
      "\u001b[32m\"4번: dandy 완료...\"\u001b[0m\n"
     ]
    },
    {
     "name": "stderr",
     "output_type": "stream",
     "text": [
      "\n"
     ]
    },
    {
     "data": {
      "text/html": [
       "<div>\n",
       "<style scoped>\n",
       "    .dataframe tbody tr th:only-of-type {\n",
       "        vertical-align: middle;\n",
       "    }\n",
       "\n",
       "    .dataframe tbody tr th {\n",
       "        vertical-align: top;\n",
       "    }\n",
       "\n",
       "    .dataframe thead th {\n",
       "        text-align: right;\n",
       "    }\n",
       "</style>\n",
       "<table border=\"1\" class=\"dataframe\">\n",
       "  <thead>\n",
       "    <tr style=\"text-align: right;\">\n",
       "      <th></th>\n",
       "      <th>CODI_ID</th>\n",
       "      <th>PAGE_NUM</th>\n",
       "      <th>STYLE</th>\n",
       "      <th>DATE</th>\n",
       "      <th>VIEWS</th>\n",
       "      <th>TAG1</th>\n",
       "      <th>MODEL</th>\n",
       "      <th>CODI_IMG</th>\n",
       "    </tr>\n",
       "  </thead>\n",
       "  <tbody>\n",
       "    <tr>\n",
       "      <th>2901</th>\n",
       "      <td>135</td>\n",
       "      <td>49</td>\n",
       "      <td>댄디</td>\n",
       "      <td>11.01.04</td>\n",
       "      <td>조회 9,546</td>\n",
       "      <td>121</td>\n",
       "      <td>모델 : 위준호</td>\n",
       "      <td>//image.msscdn.net/images/style/list/l_3_hs_bb...</td>\n",
       "    </tr>\n",
       "  </tbody>\n",
       "</table>\n",
       "</div>"
      ],
      "text/plain": [
       "     CODI_ID PAGE_NUM STYLE      DATE     VIEWS TAG1     MODEL  \\\n",
       "2901     135       49    댄디  11.01.04  조회 9,546  121  모델 : 위준호   \n",
       "\n",
       "                                               CODI_IMG  \n",
       "2901  //image.msscdn.net/images/style/list/l_3_hs_bb...  "
      ]
     },
     "metadata": {},
     "output_type": "display_data"
    },
    {
     "name": "stdout",
     "output_type": "stream",
     "text": [
      "\u001b[33m\" 5번: formal 진행 중...\"\u001b[0m\n",
      "윈도우 환경 작동 중..\n"
     ]
    },
    {
     "name": "stderr",
     "output_type": "stream",
     "text": [
      "100%|██████████| 37/37 [01:55<00:00,  3.13s/it]"
     ]
    },
    {
     "name": "stdout",
     "output_type": "stream",
     "text": [
      "\u001b[32m\"5번: formal 완료...\"\u001b[0m\n"
     ]
    },
    {
     "name": "stderr",
     "output_type": "stream",
     "text": [
      "\n"
     ]
    },
    {
     "data": {
      "text/html": [
       "<div>\n",
       "<style scoped>\n",
       "    .dataframe tbody tr th:only-of-type {\n",
       "        vertical-align: middle;\n",
       "    }\n",
       "\n",
       "    .dataframe tbody tr th {\n",
       "        vertical-align: top;\n",
       "    }\n",
       "\n",
       "    .dataframe thead th {\n",
       "        text-align: right;\n",
       "    }\n",
       "</style>\n",
       "<table border=\"1\" class=\"dataframe\">\n",
       "  <thead>\n",
       "    <tr style=\"text-align: right;\">\n",
       "      <th></th>\n",
       "      <th>CODI_ID</th>\n",
       "      <th>PAGE_NUM</th>\n",
       "      <th>STYLE</th>\n",
       "      <th>DATE</th>\n",
       "      <th>VIEWS</th>\n",
       "      <th>TAG1</th>\n",
       "      <th>MODEL</th>\n",
       "      <th>CODI_IMG</th>\n",
       "    </tr>\n",
       "  </thead>\n",
       "  <tbody>\n",
       "    <tr>\n",
       "      <th>2203</th>\n",
       "      <td>147</td>\n",
       "      <td>37</td>\n",
       "      <td>포멀</td>\n",
       "      <td>11.04.19</td>\n",
       "      <td>조회 5,014</td>\n",
       "      <td>133</td>\n",
       "      <td>모델 : 허정</td>\n",
       "      <td>//image.msscdn.net/images/style/list/l_3_hs_bb...</td>\n",
       "    </tr>\n",
       "  </tbody>\n",
       "</table>\n",
       "</div>"
      ],
      "text/plain": [
       "     CODI_ID PAGE_NUM STYLE      DATE     VIEWS TAG1    MODEL  \\\n",
       "2203     147       37    포멀  11.04.19  조회 5,014  133  모델 : 허정   \n",
       "\n",
       "                                               CODI_IMG  \n",
       "2203  //image.msscdn.net/images/style/list/l_3_hs_bb...  "
      ]
     },
     "metadata": {},
     "output_type": "display_data"
    },
    {
     "name": "stdout",
     "output_type": "stream",
     "text": [
      "\u001b[33m\" 6번: girlish 진행 중...\"\u001b[0m\n",
      "윈도우 환경 작동 중..\n"
     ]
    },
    {
     "name": "stderr",
     "output_type": "stream",
     "text": [
      "100%|██████████| 45/45 [02:22<00:00,  3.17s/it]"
     ]
    },
    {
     "name": "stdout",
     "output_type": "stream",
     "text": [
      "\u001b[32m\"6번: girlish 완료...\"\u001b[0m\n"
     ]
    },
    {
     "name": "stderr",
     "output_type": "stream",
     "text": [
      "\n"
     ]
    },
    {
     "data": {
      "text/html": [
       "<div>\n",
       "<style scoped>\n",
       "    .dataframe tbody tr th:only-of-type {\n",
       "        vertical-align: middle;\n",
       "    }\n",
       "\n",
       "    .dataframe tbody tr th {\n",
       "        vertical-align: top;\n",
       "    }\n",
       "\n",
       "    .dataframe thead th {\n",
       "        text-align: right;\n",
       "    }\n",
       "</style>\n",
       "<table border=\"1\" class=\"dataframe\">\n",
       "  <thead>\n",
       "    <tr style=\"text-align: right;\">\n",
       "      <th></th>\n",
       "      <th>CODI_ID</th>\n",
       "      <th>PAGE_NUM</th>\n",
       "      <th>STYLE</th>\n",
       "      <th>DATE</th>\n",
       "      <th>VIEWS</th>\n",
       "      <th>TAG1</th>\n",
       "      <th>MODEL</th>\n",
       "      <th>CODI_IMG</th>\n",
       "    </tr>\n",
       "  </thead>\n",
       "  <tbody>\n",
       "    <tr>\n",
       "      <th>2684</th>\n",
       "      <td>867</td>\n",
       "      <td>45</td>\n",
       "      <td>걸리시</td>\n",
       "      <td>15.06.16</td>\n",
       "      <td>조회 3,677</td>\n",
       "      <td>1940</td>\n",
       "      <td>모델 : 이보람</td>\n",
       "      <td>//image.msscdn.net/images/style/list/l_3_14344...</td>\n",
       "    </tr>\n",
       "  </tbody>\n",
       "</table>\n",
       "</div>"
      ],
      "text/plain": [
       "     CODI_ID PAGE_NUM STYLE      DATE     VIEWS  TAG1     MODEL  \\\n",
       "2684     867       45   걸리시  15.06.16  조회 3,677  1940  모델 : 이보람   \n",
       "\n",
       "                                               CODI_IMG  \n",
       "2684  //image.msscdn.net/images/style/list/l_3_14344...  "
      ]
     },
     "metadata": {},
     "output_type": "display_data"
    },
    {
     "name": "stdout",
     "output_type": "stream",
     "text": [
      "\u001b[33m\" 7번: golf 진행 중...\"\u001b[0m\n",
      "윈도우 환경 작동 중..\n"
     ]
    },
    {
     "name": "stderr",
     "output_type": "stream",
     "text": [
      "100%|██████████| 13/13 [00:38<00:00,  2.95s/it]"
     ]
    },
    {
     "name": "stdout",
     "output_type": "stream",
     "text": [
      "\u001b[32m\"7번: golf 완료...\"\u001b[0m\n"
     ]
    },
    {
     "name": "stderr",
     "output_type": "stream",
     "text": [
      "\n"
     ]
    },
    {
     "data": {
      "text/html": [
       "<div>\n",
       "<style scoped>\n",
       "    .dataframe tbody tr th:only-of-type {\n",
       "        vertical-align: middle;\n",
       "    }\n",
       "\n",
       "    .dataframe tbody tr th {\n",
       "        vertical-align: top;\n",
       "    }\n",
       "\n",
       "    .dataframe thead th {\n",
       "        text-align: right;\n",
       "    }\n",
       "</style>\n",
       "<table border=\"1\" class=\"dataframe\">\n",
       "  <thead>\n",
       "    <tr style=\"text-align: right;\">\n",
       "      <th></th>\n",
       "      <th>CODI_ID</th>\n",
       "      <th>PAGE_NUM</th>\n",
       "      <th>STYLE</th>\n",
       "      <th>DATE</th>\n",
       "      <th>VIEWS</th>\n",
       "      <th>TAG1</th>\n",
       "      <th>MODEL</th>\n",
       "      <th>CODI_IMG</th>\n",
       "    </tr>\n",
       "  </thead>\n",
       "  <tbody>\n",
       "    <tr>\n",
       "      <th>733</th>\n",
       "      <td>18213</td>\n",
       "      <td>13</td>\n",
       "      <td>골프</td>\n",
       "      <td>20.10.08</td>\n",
       "      <td>조회 2,593</td>\n",
       "      <td>나이스 샷!</td>\n",
       "      <td>모델 : 오영수</td>\n",
       "      <td>//image.msscdn.net/images/style/list/l_3_20201...</td>\n",
       "    </tr>\n",
       "  </tbody>\n",
       "</table>\n",
       "</div>"
      ],
      "text/plain": [
       "    CODI_ID PAGE_NUM STYLE      DATE     VIEWS    TAG1     MODEL  \\\n",
       "733   18213       13    골프  20.10.08  조회 2,593  나이스 샷!  모델 : 오영수   \n",
       "\n",
       "                                              CODI_IMG  \n",
       "733  //image.msscdn.net/images/style/list/l_3_20201...  "
      ]
     },
     "metadata": {},
     "output_type": "display_data"
    },
    {
     "name": "stdout",
     "output_type": "stream",
     "text": [
      "\u001b[33m\" 8번: retro 진행 중...\"\u001b[0m\n",
      "윈도우 환경 작동 중..\n"
     ]
    },
    {
     "name": "stderr",
     "output_type": "stream",
     "text": [
      "100%|██████████| 3/3 [00:05<00:00,  1.94s/it]"
     ]
    },
    {
     "name": "stdout",
     "output_type": "stream",
     "text": [
      "\u001b[32m\"8번: retro 완료...\"\u001b[0m\n"
     ]
    },
    {
     "name": "stderr",
     "output_type": "stream",
     "text": [
      "\n"
     ]
    },
    {
     "data": {
      "text/html": [
       "<div>\n",
       "<style scoped>\n",
       "    .dataframe tbody tr th:only-of-type {\n",
       "        vertical-align: middle;\n",
       "    }\n",
       "\n",
       "    .dataframe tbody tr th {\n",
       "        vertical-align: top;\n",
       "    }\n",
       "\n",
       "    .dataframe thead th {\n",
       "        text-align: right;\n",
       "    }\n",
       "</style>\n",
       "<table border=\"1\" class=\"dataframe\">\n",
       "  <thead>\n",
       "    <tr style=\"text-align: right;\">\n",
       "      <th></th>\n",
       "      <th>CODI_ID</th>\n",
       "      <th>PAGE_NUM</th>\n",
       "      <th>STYLE</th>\n",
       "      <th>DATE</th>\n",
       "      <th>VIEWS</th>\n",
       "      <th>TAG1</th>\n",
       "      <th>MODEL</th>\n",
       "      <th>CODI_IMG</th>\n",
       "    </tr>\n",
       "  </thead>\n",
       "  <tbody>\n",
       "    <tr>\n",
       "      <th>174</th>\n",
       "      <td>16110</td>\n",
       "      <td>3</td>\n",
       "      <td>레트로</td>\n",
       "      <td>20.05.29</td>\n",
       "      <td>조회 2,247</td>\n",
       "      <td>대세는 레트로!</td>\n",
       "      <td>모델 : 김정은</td>\n",
       "      <td>//image.msscdn.net/images/style/list/l_3_20200...</td>\n",
       "    </tr>\n",
       "  </tbody>\n",
       "</table>\n",
       "</div>"
      ],
      "text/plain": [
       "    CODI_ID PAGE_NUM STYLE      DATE     VIEWS      TAG1     MODEL  \\\n",
       "174   16110        3   레트로  20.05.29  조회 2,247  대세는 레트로!  모델 : 김정은   \n",
       "\n",
       "                                              CODI_IMG  \n",
       "174  //image.msscdn.net/images/style/list/l_3_20200...  "
      ]
     },
     "metadata": {},
     "output_type": "display_data"
    },
    {
     "name": "stdout",
     "output_type": "stream",
     "text": [
      "\u001b[33m\" 9번: romantic 진행 중...\"\u001b[0m\n",
      "윈도우 환경 작동 중..\n"
     ]
    },
    {
     "name": "stderr",
     "output_type": "stream",
     "text": [
      "100%|██████████| 22/22 [01:06<00:00,  3.00s/it]"
     ]
    },
    {
     "name": "stdout",
     "output_type": "stream",
     "text": [
      "\u001b[32m\"9번: romantic 완료...\"\u001b[0m\n"
     ]
    },
    {
     "name": "stderr",
     "output_type": "stream",
     "text": [
      "\n"
     ]
    },
    {
     "data": {
      "text/html": [
       "<div>\n",
       "<style scoped>\n",
       "    .dataframe tbody tr th:only-of-type {\n",
       "        vertical-align: middle;\n",
       "    }\n",
       "\n",
       "    .dataframe tbody tr th {\n",
       "        vertical-align: top;\n",
       "    }\n",
       "\n",
       "    .dataframe thead th {\n",
       "        text-align: right;\n",
       "    }\n",
       "</style>\n",
       "<table border=\"1\" class=\"dataframe\">\n",
       "  <thead>\n",
       "    <tr style=\"text-align: right;\">\n",
       "      <th></th>\n",
       "      <th>CODI_ID</th>\n",
       "      <th>PAGE_NUM</th>\n",
       "      <th>STYLE</th>\n",
       "      <th>DATE</th>\n",
       "      <th>VIEWS</th>\n",
       "      <th>TAG1</th>\n",
       "      <th>MODEL</th>\n",
       "      <th>CODI_IMG</th>\n",
       "    </tr>\n",
       "  </thead>\n",
       "  <tbody>\n",
       "    <tr>\n",
       "      <th>1300</th>\n",
       "      <td>898</td>\n",
       "      <td>22</td>\n",
       "      <td>로맨틱</td>\n",
       "      <td>15.07.10</td>\n",
       "      <td>조회 7,466</td>\n",
       "      <td>1971</td>\n",
       "      <td>모델 : 한지연</td>\n",
       "      <td>//image.msscdn.net/images/style/list/l_3_14365...</td>\n",
       "    </tr>\n",
       "  </tbody>\n",
       "</table>\n",
       "</div>"
      ],
      "text/plain": [
       "     CODI_ID PAGE_NUM STYLE      DATE     VIEWS  TAG1     MODEL  \\\n",
       "1300     898       22   로맨틱  15.07.10  조회 7,466  1971  모델 : 한지연   \n",
       "\n",
       "                                               CODI_IMG  \n",
       "1300  //image.msscdn.net/images/style/list/l_3_14365...  "
      ]
     },
     "metadata": {},
     "output_type": "display_data"
    },
    {
     "name": "stdout",
     "output_type": "stream",
     "text": [
      "\u001b[33m\" 10번: sports 진행 중...\"\u001b[0m\n",
      "윈도우 환경 작동 중..\n"
     ]
    },
    {
     "name": "stderr",
     "output_type": "stream",
     "text": [
      "100%|██████████| 19/19 [00:52<00:00,  2.77s/it]"
     ]
    },
    {
     "name": "stdout",
     "output_type": "stream",
     "text": [
      "\u001b[32m\"10번: sports 완료...\"\u001b[0m\n"
     ]
    },
    {
     "name": "stderr",
     "output_type": "stream",
     "text": [
      "\n"
     ]
    },
    {
     "data": {
      "text/html": [
       "<div>\n",
       "<style scoped>\n",
       "    .dataframe tbody tr th:only-of-type {\n",
       "        vertical-align: middle;\n",
       "    }\n",
       "\n",
       "    .dataframe tbody tr th {\n",
       "        vertical-align: top;\n",
       "    }\n",
       "\n",
       "    .dataframe thead th {\n",
       "        text-align: right;\n",
       "    }\n",
       "</style>\n",
       "<table border=\"1\" class=\"dataframe\">\n",
       "  <thead>\n",
       "    <tr style=\"text-align: right;\">\n",
       "      <th></th>\n",
       "      <th>CODI_ID</th>\n",
       "      <th>PAGE_NUM</th>\n",
       "      <th>STYLE</th>\n",
       "      <th>DATE</th>\n",
       "      <th>VIEWS</th>\n",
       "      <th>TAG1</th>\n",
       "      <th>MODEL</th>\n",
       "      <th>CODI_IMG</th>\n",
       "    </tr>\n",
       "  </thead>\n",
       "  <tbody>\n",
       "    <tr>\n",
       "      <th>1087</th>\n",
       "      <td>68</td>\n",
       "      <td>19</td>\n",
       "      <td>스포츠</td>\n",
       "      <td>10.08.26</td>\n",
       "      <td>조회 2,847</td>\n",
       "      <td>52</td>\n",
       "      <td>모델 : 김홍우</td>\n",
       "      <td>//image.msscdn.net/images/style/list/l_3_hs_bb...</td>\n",
       "    </tr>\n",
       "  </tbody>\n",
       "</table>\n",
       "</div>"
      ],
      "text/plain": [
       "     CODI_ID PAGE_NUM STYLE      DATE     VIEWS TAG1     MODEL  \\\n",
       "1087      68       19   스포츠  10.08.26  조회 2,847   52  모델 : 김홍우   \n",
       "\n",
       "                                               CODI_IMG  \n",
       "1087  //image.msscdn.net/images/style/list/l_3_hs_bb...  "
      ]
     },
     "metadata": {},
     "output_type": "display_data"
    },
    {
     "name": "stdout",
     "output_type": "stream",
     "text": [
      "\u001b[33m\" 11번: street 진행 중...\"\u001b[0m\n",
      "윈도우 환경 작동 중..\n"
     ]
    },
    {
     "name": "stderr",
     "output_type": "stream",
     "text": [
      "100%|██████████| 79/79 [04:14<00:00,  3.22s/it]"
     ]
    },
    {
     "name": "stdout",
     "output_type": "stream",
     "text": [
      "\u001b[32m\"11번: street 완료...\"\u001b[0m\n"
     ]
    },
    {
     "name": "stderr",
     "output_type": "stream",
     "text": [
      "\n"
     ]
    },
    {
     "data": {
      "text/html": [
       "<div>\n",
       "<style scoped>\n",
       "    .dataframe tbody tr th:only-of-type {\n",
       "        vertical-align: middle;\n",
       "    }\n",
       "\n",
       "    .dataframe tbody tr th {\n",
       "        vertical-align: top;\n",
       "    }\n",
       "\n",
       "    .dataframe thead th {\n",
       "        text-align: right;\n",
       "    }\n",
       "</style>\n",
       "<table border=\"1\" class=\"dataframe\">\n",
       "  <thead>\n",
       "    <tr style=\"text-align: right;\">\n",
       "      <th></th>\n",
       "      <th>CODI_ID</th>\n",
       "      <th>PAGE_NUM</th>\n",
       "      <th>STYLE</th>\n",
       "      <th>DATE</th>\n",
       "      <th>VIEWS</th>\n",
       "      <th>TAG1</th>\n",
       "      <th>MODEL</th>\n",
       "      <th>CODI_IMG</th>\n",
       "    </tr>\n",
       "  </thead>\n",
       "  <tbody>\n",
       "    <tr>\n",
       "      <th>4725</th>\n",
       "      <td>69</td>\n",
       "      <td>79</td>\n",
       "      <td>스트릿</td>\n",
       "      <td>10.08.26</td>\n",
       "      <td>조회 2,514</td>\n",
       "      <td>53</td>\n",
       "      <td>모델 : 김홍우</td>\n",
       "      <td>//image.msscdn.net/images/style/list/l_3_hs_bb...</td>\n",
       "    </tr>\n",
       "  </tbody>\n",
       "</table>\n",
       "</div>"
      ],
      "text/plain": [
       "     CODI_ID PAGE_NUM STYLE      DATE     VIEWS TAG1     MODEL  \\\n",
       "4725      69       79   스트릿  10.08.26  조회 2,514   53  모델 : 김홍우   \n",
       "\n",
       "                                               CODI_IMG  \n",
       "4725  //image.msscdn.net/images/style/list/l_3_hs_bb...  "
      ]
     },
     "metadata": {},
     "output_type": "display_data"
    },
    {
     "name": "stdout",
     "output_type": "stream",
     "text": [
      "\u001b[33m\" 12번: gorpcore 진행 중...\"\u001b[0m\n",
      "윈도우 환경 작동 중..\n"
     ]
    },
    {
     "name": "stderr",
     "output_type": "stream",
     "text": [
      "100%|██████████| 5/5 [00:12<00:00,  2.50s/it]"
     ]
    },
    {
     "name": "stdout",
     "output_type": "stream",
     "text": [
      "\u001b[32m\"12번: gorpcore 완료...\"\u001b[0m\n"
     ]
    },
    {
     "name": "stderr",
     "output_type": "stream",
     "text": [
      "\n"
     ]
    },
    {
     "data": {
      "text/html": [
       "<div>\n",
       "<style scoped>\n",
       "    .dataframe tbody tr th:only-of-type {\n",
       "        vertical-align: middle;\n",
       "    }\n",
       "\n",
       "    .dataframe tbody tr th {\n",
       "        vertical-align: top;\n",
       "    }\n",
       "\n",
       "    .dataframe thead th {\n",
       "        text-align: right;\n",
       "    }\n",
       "</style>\n",
       "<table border=\"1\" class=\"dataframe\">\n",
       "  <thead>\n",
       "    <tr style=\"text-align: right;\">\n",
       "      <th></th>\n",
       "      <th>CODI_ID</th>\n",
       "      <th>PAGE_NUM</th>\n",
       "      <th>STYLE</th>\n",
       "      <th>DATE</th>\n",
       "      <th>VIEWS</th>\n",
       "      <th>TAG1</th>\n",
       "      <th>MODEL</th>\n",
       "      <th>CODI_IMG</th>\n",
       "    </tr>\n",
       "  </thead>\n",
       "  <tbody>\n",
       "    <tr>\n",
       "      <th>288</th>\n",
       "      <td>20947</td>\n",
       "      <td>5</td>\n",
       "      <td>고프코어</td>\n",
       "      <td>21.05.04</td>\n",
       "      <td>조회 2,959</td>\n",
       "      <td>트레킹 룩에 제격</td>\n",
       "      <td>모델 : 임재완</td>\n",
       "      <td>//image.msscdn.net/images/style/list/l_3_20210...</td>\n",
       "    </tr>\n",
       "  </tbody>\n",
       "</table>\n",
       "</div>"
      ],
      "text/plain": [
       "    CODI_ID PAGE_NUM STYLE      DATE     VIEWS       TAG1     MODEL  \\\n",
       "288   20947        5  고프코어  21.05.04  조회 2,959  트레킹 룩에 제격  모델 : 임재완   \n",
       "\n",
       "                                              CODI_IMG  \n",
       "288  //image.msscdn.net/images/style/list/l_3_20210...  "
      ]
     },
     "metadata": {},
     "output_type": "display_data"
    },
    {
     "data": {
      "text/html": [
       "<div>\n",
       "<style scoped>\n",
       "    .dataframe tbody tr th:only-of-type {\n",
       "        vertical-align: middle;\n",
       "    }\n",
       "\n",
       "    .dataframe tbody tr th {\n",
       "        vertical-align: top;\n",
       "    }\n",
       "\n",
       "    .dataframe thead th {\n",
       "        text-align: right;\n",
       "    }\n",
       "</style>\n",
       "<table border=\"1\" class=\"dataframe\">\n",
       "  <thead>\n",
       "    <tr style=\"text-align: right;\">\n",
       "      <th></th>\n",
       "      <th>CODI_ID</th>\n",
       "      <th>PAGE_NUM</th>\n",
       "      <th>STYLE</th>\n",
       "      <th>DATE</th>\n",
       "      <th>VIEWS</th>\n",
       "      <th>TAG1</th>\n",
       "      <th>MODEL</th>\n",
       "      <th>CODI_IMG</th>\n",
       "      <th>LEVEL</th>\n",
       "      <th>CODI_URL</th>\n",
       "    </tr>\n",
       "  </thead>\n",
       "  <tbody>\n",
       "    <tr>\n",
       "      <th>30763</th>\n",
       "      <td>20947</td>\n",
       "      <td>5</td>\n",
       "      <td>gorpcore</td>\n",
       "      <td>21.05.04</td>\n",
       "      <td>조회 2,959</td>\n",
       "      <td>트레킹 룩에 제격</td>\n",
       "      <td>모델 : 임재완</td>\n",
       "      <td>//image.msscdn.net/images/style/list/l_3_20210...</td>\n",
       "      <td>0</td>\n",
       "      <td>https://www.musinsa.com/app/styles/views/20947...</td>\n",
       "    </tr>\n",
       "  </tbody>\n",
       "</table>\n",
       "</div>"
      ],
      "text/plain": [
       "      CODI_ID PAGE_NUM     STYLE      DATE     VIEWS       TAG1     MODEL  \\\n",
       "30763   20947        5  gorpcore  21.05.04  조회 2,959  트레킹 룩에 제격  모델 : 임재완   \n",
       "\n",
       "                                                CODI_IMG  LEVEL  \\\n",
       "30763  //image.msscdn.net/images/style/list/l_3_20210...      0   \n",
       "\n",
       "                                                CODI_URL  \n",
       "30763  https://www.musinsa.com/app/styles/views/20947...  "
      ]
     },
     "metadata": {},
     "output_type": "display_data"
    }
   ],
   "source": [
    "before_df_list = list()\n",
    "for idx, item in enumerate(CODI_BASE_URL.values()):\n",
    "    print(f\"\\x1b[33m\\\" {idx+1}번: {list(CODI_BASE_URL.keys())[idx]} 진행 중...\\\"\\x1b[0m\")\n",
    "    chrome_settings(True) # True하면 크롬브라우저 뜸\n",
    "    tmp_list = list()\n",
    "    try:\n",
    "        driver.get(item + str(1))\n",
    "        time.sleep(random.uniform(2, 3))\n",
    "\n",
    "        soup = BeautifulSoup(driver.page_source, 'html.parser')\n",
    "        page_count = int(soup.prettify().split('totalPagingNum\">')[1].split('</span>')[0].strip())\n",
    "\n",
    "        for i in tqdm(range(page_count)):\n",
    "            if i != 0:\n",
    "                driver.get(item + str(i+1))\n",
    "                time.sleep(random.uniform(2, 3))\n",
    "            tmp_soup = BeautifulSoup(driver.page_source, 'html.parser')\n",
    "            for j, item2 in enumerate(tmp_soup.find_all(class_ = 'style-list-item')):\n",
    "                match = re.search(r'\\d+', item2.a['onclick']) # 정규표현식: goView(코디링크ID) 숫자만 추출\n",
    "                if match:\n",
    "                    extracted_number = match.group()\n",
    "                    if str(item2.find_all('span')[1].text) == 'N':\n",
    "                        tmp_list.append([extracted_number, str(i+1), item2.span.text, item2.find_all('span')[2].text, item2.find_all('span')[3].text, item2.strong.text, item2.find(class_='style-list-model').text, item2.find('img').get('src')])\n",
    "                    else:\n",
    "                        tmp_list.append([extracted_number, str(i+1), item2.span.text, item2.find_all('span')[1].text, item2.find_all('span')[2].text, item2.strong.text, item2.find(class_='style-list-model').text, item2.find('img').get('src')])\n",
    "    finally:\n",
    "        driver.close()\n",
    "    before_df_list.append(tmp_list)\n",
    "    pd.DataFrame(tmp_list, columns=['CODI_ID', 'PAGE_NUM', 'STYLE', 'DATE', 'VIEWS', 'TAG1', 'MODEL', 'CODI_IMG']).to_csv(os.path.join(\"..\", \"data\", \"_temp\", f\"{list(CODI_BASE_URL.keys())[idx]}.csv\"), index=True, encoding='utf-8')\n",
    "    print(f\"\\x1b[32m\\\"{idx+1}번: {list(CODI_BASE_URL.keys())[idx]} 완료...\\\"\\x1b[0m\")\n",
    "    display(pd.DataFrame(tmp_list, columns=['CODI_ID', 'PAGE_NUM', 'STYLE', 'DATE', 'VIEWS', 'TAG1', 'MODEL', 'CODI_IMG']).tail(1))\n",
    "\n",
    "df = pd.DataFrame()\n",
    "for i in before_df_list:\n",
    "    df = pd.concat([df, pd.DataFrame(i, columns=['CODI_ID', 'PAGE_NUM', 'STYLE', 'DATE', 'VIEWS', 'TAG1', 'MODEL', 'CODI_IMG'])], ignore_index=True)\n",
    "df['LEVEL'] = 0\n",
    "df.replace('아메리칸 캐주얼', 'americancasual', inplace=True) # 이 부분.. STYLE 컬럼에서만 적용하는 코드로 바꿔야함. - 상현님, 해지님 도움 필요\n",
    "df.replace('캐주얼', 'casual', inplace=True)\n",
    "df.replace('시크', 'chic', inplace=True)\n",
    "df.replace('댄디', 'dandy', inplace=True)\n",
    "df.replace('포멀', 'formal', inplace=True)\n",
    "df.replace('걸리시', 'girlish', inplace=True)\n",
    "df.replace('골프', 'golf', inplace=True)\n",
    "df.replace('레트로', 'retro', inplace=True)\n",
    "df.replace('로맨틱', 'romantic', inplace=True)\n",
    "df.replace('스포츠', 'sports', inplace=True)\n",
    "df.replace('스트릿', 'street', inplace=True)\n",
    "df.replace('고프코어', 'gorpcore', inplace=True)\n",
    "df['CODI_URL'] = 'https://www.musinsa.com/app/styles/views/' + df['CODI_ID'] + '?use_yn_360=&style_type='+ df['STYLE'] +'&brand=&model=&tag_no=&max_rt=&min_rt=&display_cnt=60&list_kind=big&sort=date&page='+ df['PAGE_NUM']\n",
    "df.to_csv(os.path.join(\"..\", \"data\", \"codishop_temp_all.csv\"), index=True, encoding='utf-8')\n",
    "display(df.tail(1))"
   ]
  },
  {
   "cell_type": "markdown",
   "metadata": {},
   "source": [
    "#### 🍟B 루트 (파일 읽어오기)"
   ]
  },
  {
   "cell_type": "code",
   "execution_count": 2,
   "metadata": {},
   "outputs": [
    {
     "name": "stdout",
     "output_type": "stream",
     "text": [
      "(30764, 10)\n"
     ]
    },
    {
     "data": {
      "text/html": [
       "<div>\n",
       "<style scoped>\n",
       "    .dataframe tbody tr th:only-of-type {\n",
       "        vertical-align: middle;\n",
       "    }\n",
       "\n",
       "    .dataframe tbody tr th {\n",
       "        vertical-align: top;\n",
       "    }\n",
       "\n",
       "    .dataframe thead th {\n",
       "        text-align: right;\n",
       "    }\n",
       "</style>\n",
       "<table border=\"1\" class=\"dataframe\">\n",
       "  <thead>\n",
       "    <tr style=\"text-align: right;\">\n",
       "      <th></th>\n",
       "      <th>CODI_ID</th>\n",
       "      <th>PAGE_NUM</th>\n",
       "      <th>STYLE</th>\n",
       "      <th>DATE</th>\n",
       "      <th>VIEWS</th>\n",
       "      <th>TAG1</th>\n",
       "      <th>MODEL</th>\n",
       "      <th>CODI_IMG</th>\n",
       "      <th>LEVEL</th>\n",
       "      <th>CODI_URL</th>\n",
       "    </tr>\n",
       "  </thead>\n",
       "  <tbody>\n",
       "    <tr>\n",
       "      <th>30759</th>\n",
       "      <td>21396</td>\n",
       "      <td>5</td>\n",
       "      <td>gorpcore</td>\n",
       "      <td>21.06.10</td>\n",
       "      <td>조회 1,739</td>\n",
       "      <td>스포츠 즐기기</td>\n",
       "      <td>모델 : 함재민</td>\n",
       "      <td>//image.msscdn.net/images/style/list/l_3_20210...</td>\n",
       "      <td>0</td>\n",
       "      <td>https://www.musinsa.com/app/styles/views/21396...</td>\n",
       "    </tr>\n",
       "    <tr>\n",
       "      <th>30760</th>\n",
       "      <td>21323</td>\n",
       "      <td>5</td>\n",
       "      <td>gorpcore</td>\n",
       "      <td>21.06.08</td>\n",
       "      <td>조회 1,661</td>\n",
       "      <td>캠핑 가자!</td>\n",
       "      <td>모델 : 박준성</td>\n",
       "      <td>//image.msscdn.net/images/style/list/l_3_20210...</td>\n",
       "      <td>0</td>\n",
       "      <td>https://www.musinsa.com/app/styles/views/21323...</td>\n",
       "    </tr>\n",
       "    <tr>\n",
       "      <th>30761</th>\n",
       "      <td>21185</td>\n",
       "      <td>5</td>\n",
       "      <td>gorpcore</td>\n",
       "      <td>21.05.28</td>\n",
       "      <td>조회 1,610</td>\n",
       "      <td>가벼운 스포츠 룩</td>\n",
       "      <td>모델 : 이지한</td>\n",
       "      <td>//image.msscdn.net/images/style/list/l_3_20210...</td>\n",
       "      <td>0</td>\n",
       "      <td>https://www.musinsa.com/app/styles/views/21185...</td>\n",
       "    </tr>\n",
       "    <tr>\n",
       "      <th>30762</th>\n",
       "      <td>21087</td>\n",
       "      <td>5</td>\n",
       "      <td>gorpcore</td>\n",
       "      <td>21.05.21</td>\n",
       "      <td>조회 1,751</td>\n",
       "      <td>스포츠 즐기기</td>\n",
       "      <td>모델 : 최규민</td>\n",
       "      <td>//image.msscdn.net/images/style/list/l_3_20210...</td>\n",
       "      <td>0</td>\n",
       "      <td>https://www.musinsa.com/app/styles/views/21087...</td>\n",
       "    </tr>\n",
       "    <tr>\n",
       "      <th>30763</th>\n",
       "      <td>20947</td>\n",
       "      <td>5</td>\n",
       "      <td>gorpcore</td>\n",
       "      <td>21.05.04</td>\n",
       "      <td>조회 2,959</td>\n",
       "      <td>트레킹 룩에 제격</td>\n",
       "      <td>모델 : 임재완</td>\n",
       "      <td>//image.msscdn.net/images/style/list/l_3_20210...</td>\n",
       "      <td>0</td>\n",
       "      <td>https://www.musinsa.com/app/styles/views/20947...</td>\n",
       "    </tr>\n",
       "  </tbody>\n",
       "</table>\n",
       "</div>"
      ],
      "text/plain": [
       "       CODI_ID  PAGE_NUM     STYLE      DATE     VIEWS       TAG1     MODEL  \\\n",
       "30759    21396         5  gorpcore  21.06.10  조회 1,739    스포츠 즐기기  모델 : 함재민   \n",
       "30760    21323         5  gorpcore  21.06.08  조회 1,661     캠핑 가자!  모델 : 박준성   \n",
       "30761    21185         5  gorpcore  21.05.28  조회 1,610  가벼운 스포츠 룩  모델 : 이지한   \n",
       "30762    21087         5  gorpcore  21.05.21  조회 1,751    스포츠 즐기기  모델 : 최규민   \n",
       "30763    20947         5  gorpcore  21.05.04  조회 2,959  트레킹 룩에 제격  모델 : 임재완   \n",
       "\n",
       "                                                CODI_IMG  LEVEL  \\\n",
       "30759  //image.msscdn.net/images/style/list/l_3_20210...      0   \n",
       "30760  //image.msscdn.net/images/style/list/l_3_20210...      0   \n",
       "30761  //image.msscdn.net/images/style/list/l_3_20210...      0   \n",
       "30762  //image.msscdn.net/images/style/list/l_3_20210...      0   \n",
       "30763  //image.msscdn.net/images/style/list/l_3_20210...      0   \n",
       "\n",
       "                                                CODI_URL  \n",
       "30759  https://www.musinsa.com/app/styles/views/21396...  \n",
       "30760  https://www.musinsa.com/app/styles/views/21323...  \n",
       "30761  https://www.musinsa.com/app/styles/views/21185...  \n",
       "30762  https://www.musinsa.com/app/styles/views/21087...  \n",
       "30763  https://www.musinsa.com/app/styles/views/20947...  "
      ]
     },
     "execution_count": 2,
     "metadata": {},
     "output_type": "execute_result"
    }
   ],
   "source": [
    "df = pd.read_csv(os.path.join(\"..\", \"data\" ,\"codishop_temp_all.csv\"), index_col=0)\n",
    "print(df.shape)\n",
    "df.tail(5)"
   ]
  },
  {
   "cell_type": "markdown",
   "metadata": {},
   "source": [
    "### 🍔 실행 (2/3)"
   ]
  },
  {
   "cell_type": "markdown",
   "metadata": {},
   "source": [
    "#### 🍟 A 루트"
   ]
  },
  {
   "cell_type": "markdown",
   "metadata": {},
   "source": [
    "##### ☕ A - 1 크롤링"
   ]
  },
  {
   "cell_type": "code",
   "execution_count": null,
   "metadata": {},
   "outputs": [],
   "source": [
    "before_df_list = list()\n",
    "tmp_list = list()\n",
    "chrome_settings(True) # True하면 크롬브라우저 뜸\n",
    "try:\n",
    "    home_url = 'https://www.musinsa.com'\n",
    "    driver.get(home_url)\n",
    "    print(f\"현재 URL: {driver.current_url}\\nPage title: {driver.title}\")\n",
    "\n",
    "    for idx, url in tqdm(enumerate(df['CODI_URL'])):\n",
    "        driver.execute_script(f\"window.open('{url}', '_blank')\")\n",
    "        time.sleep(random.uniform(1, 2))\n",
    "        driver.switch_to.window(driver.window_handles[1])\n",
    "\n",
    "        # 로직\n",
    "        soup = BeautifulSoup(driver.page_source, 'html.parser')\n",
    "\n",
    "        for i in soup.find_all('a', class_='styling_img'):\n",
    "            tmp_list.append([home_url + i['href'], url]) # 아이템 url, 코디 url\n",
    "\n",
    "        driver.close()\n",
    "        time.sleep(random.uniform(1, 2))\n",
    "        driver.switch_to.window(driver.window_handles[0])\n",
    "finally:\n",
    "    driver.close()\n",
    "\n",
    "df_tmp = pd.DataFrame(tmp_list, columns=['ITEM', 'CODI_URL'])\n",
    "df_tmp['ITEM_ID'] = df_tmp['ITEM'].apply(lambda x: x.split('/')[-1])\n",
    "df_tmp['CODI_ID'] = df_tmp['CODI_URL'].apply(lambda x: x.split('?')[0])\n",
    "df_tmp['CODI_ID'] = df_tmp['CODI_ID'].apply(lambda x: x.split('/')[-1])\n",
    "df_tmp.insert(0, 'ITEM_ID', df_tmp.pop('ITEM_ID'))\n",
    "df_tmp.insert(1, 'CODI_ID', df_tmp.pop('CODI_ID'))\n",
    "df_tmp['LEVEL'] = 1\n",
    "df_tmp.insert(0, 'LEVEL', df_tmp.pop('LEVEL'))\n",
    "df_tmp['STYLE'] = np.nan\n",
    "df_tmp.insert(3, 'STYLE', df_tmp.pop('STYLE'))\n",
    "df_tmp.insert(4, 'DATE', np.nan)\n",
    "df_tmp.insert(5, 'VIEWS', np.nan)\n",
    "df_tmp.insert(6, 'TAG1', np.nan)\n",
    "df_tmp.insert(7, 'MODEL', np.nan)\n",
    "df_tmp.insert(9, 'ITEM_URL', df_tmp.pop('ITEM'))\n",
    "df_tmp.to_csv(os.path.join(\"..\", \"data\" ,\"codishop_item.csv\"), index=True, encoding='utf-8')\n",
    "df_tmp"
   ]
  },
  {
   "cell_type": "markdown",
   "metadata": {},
   "source": [
    "##### ☕ A - 2 전처리 (B루트와 동일함)"
   ]
  },
  {
   "cell_type": "code",
   "execution_count": null,
   "metadata": {},
   "outputs": [],
   "source": [
    "df.insert(0, 'LEVEL', df.pop('LEVEL'))\n",
    "df.insert(1, 'ITEM_ID', np.nan)\n",
    "df['ITEM_ID'].astype('object')\n",
    "df.drop(['PAGE_NUM', 'CODI_IMG'], axis=1, inplace=True)\n",
    "\n",
    "df_tmp = pd.read_csv(os.path.join(\"..\", \"data\" ,\"codishop_item.csv\"), index_col=0)\n",
    "df_tmp['ITEM_ID'] = df_tmp['ITEM_ID'].astype('object')\n",
    "\n",
    "\n",
    "df_concat = pd.concat([df, df_tmp], ignore_index=True, axis=0)\n",
    "\n",
    "tmp_list = list()\n",
    "print(f\"\\x1b[33m\\\"LEVEL 1 데이터 STYLE 타입 처리...\\\"\\x1b[0m\")\n",
    "for i in tqdm(range(len(df_concat[df_concat['LEVEL'] == 1]))):\n",
    "    tmp_list.append(df_concat['CODI_URL'][i].split('style_type=')[1].split('&')[0])\n",
    "\n",
    "tmp_se = pd.Series(tmp_list)\n",
    "\n",
    "tmp_index = 0\n",
    "for idx, item in tqdm(enumerate(df_concat['STYLE'])):\n",
    "    if item is np.nan:\n",
    "        df_concat.iloc[idx, 3] = tmp_se[tmp_index]\n",
    "        tmp_index += 1\n",
    "print(\"\\x1b[32m\\\"LEVEL 1 데이터 STYLE 타입 처리 완료\\\"\\x1b[0m\")\n",
    "\n",
    "df_level0 = df_concat[df_concat['LEVEL'] == 0]\n",
    "df_level1 = df_concat[df_concat['LEVEL'] == 1]\n",
    "\n",
    "print(f\"\\x1b[33m\\\"LEVEL 0 데이터 ITEM_ID 처리...\\\"\\x1b[0m\")\n",
    "tmp_dict = dict()\n",
    "for codi, item in tqdm(zip(df_concat['CODI_ID'], df_concat['ITEM_ID'])):\n",
    "    if item is not np.nan:\n",
    "        if codi in list(tmp_dict.keys()): \n",
    "            tmp_dict[codi] = tmp_dict[codi] + ',' + str(item)\n",
    "        else:\n",
    "            tmp_dict[codi] = str(item)\n",
    "dict_key = list(tmp_dict.keys())\n",
    "for idx, item in enumerate(df_concat['CODI_ID']):\n",
    "    if item in dict_key and df_concat['ITEM_ID'][idx] is np.nan:\n",
    "        df_concat.iloc[idx, 1] = tmp_dict[item]\n",
    "print(\"\\x1b[32m\\\"LEVEL 0 데이터 ITEM_ID 처리 완료\\\"\\x1b[0m\")\n",
    "print(df_concat.isna().sum())\n",
    "display(df_concat)"
   ]
  },
  {
   "cell_type": "markdown",
   "metadata": {},
   "source": [
    "#### 🍟 B 루트 (전처리)"
   ]
  },
  {
   "cell_type": "code",
   "execution_count": 3,
   "metadata": {},
   "outputs": [
    {
     "name": "stdout",
     "output_type": "stream",
     "text": [
      "\u001b[33m\"LEVEL 1 데이터 STYLE 타입 처리...\"\u001b[0m\n"
     ]
    },
    {
     "name": "stderr",
     "output_type": "stream",
     "text": [
      "100%|██████████| 98521/98521 [00:00<00:00, 405440.54it/s]\n",
      "129285it [00:09, 13597.00it/s]\n"
     ]
    },
    {
     "name": "stdout",
     "output_type": "stream",
     "text": [
      "\u001b[32m\"LEVEL 1 데이터 STYLE 타입 처리 완료\"\u001b[0m\n",
      "\u001b[33m\"LEVEL 0 데이터 ITEM_ID 처리...\"\u001b[0m\n"
     ]
    },
    {
     "name": "stderr",
     "output_type": "stream",
     "text": [
      "129285it [00:09, 12943.78it/s]\n"
     ]
    },
    {
     "name": "stdout",
     "output_type": "stream",
     "text": [
      "\u001b[32m\"LEVEL 0 데이터 ITEM_ID 처리 완료\"\u001b[0m\n",
      "LEVEL           0\n",
      "ITEM_ID      3800\n",
      "CODI_ID         0\n",
      "STYLE           0\n",
      "DATE        98521\n",
      "VIEWS       98521\n",
      "TAG1        98521\n",
      "MODEL       98521\n",
      "CODI_URL        0\n",
      "ITEM_URL    30764\n",
      "dtype: int64\n"
     ]
    },
    {
     "data": {
      "text/html": [
       "<div>\n",
       "<style scoped>\n",
       "    .dataframe tbody tr th:only-of-type {\n",
       "        vertical-align: middle;\n",
       "    }\n",
       "\n",
       "    .dataframe tbody tr th {\n",
       "        vertical-align: top;\n",
       "    }\n",
       "\n",
       "    .dataframe thead th {\n",
       "        text-align: right;\n",
       "    }\n",
       "</style>\n",
       "<table border=\"1\" class=\"dataframe\">\n",
       "  <thead>\n",
       "    <tr style=\"text-align: right;\">\n",
       "      <th></th>\n",
       "      <th>LEVEL</th>\n",
       "      <th>ITEM_ID</th>\n",
       "      <th>CODI_ID</th>\n",
       "      <th>STYLE</th>\n",
       "      <th>DATE</th>\n",
       "      <th>VIEWS</th>\n",
       "      <th>TAG1</th>\n",
       "      <th>MODEL</th>\n",
       "      <th>CODI_URL</th>\n",
       "      <th>ITEM_URL</th>\n",
       "    </tr>\n",
       "  </thead>\n",
       "  <tbody>\n",
       "    <tr>\n",
       "      <th>0</th>\n",
       "      <td>0</td>\n",
       "      <td>3450087,3540430,3227713,3035852,3429258</td>\n",
       "      <td>35815</td>\n",
       "      <td>americancasual</td>\n",
       "      <td>23.09.27</td>\n",
       "      <td>조회 607</td>\n",
       "      <td>스포티 바이브</td>\n",
       "      <td>모델 : 송혜원</td>\n",
       "      <td>https://www.musinsa.com/app/styles/views/35815...</td>\n",
       "      <td>NaN</td>\n",
       "    </tr>\n",
       "    <tr>\n",
       "      <th>1</th>\n",
       "      <td>0</td>\n",
       "      <td>3451226,3524050,3523872,3431905,3450111,3450134</td>\n",
       "      <td>36233</td>\n",
       "      <td>americancasual</td>\n",
       "      <td>23.09.27</td>\n",
       "      <td>조회 587</td>\n",
       "      <td>시티보이 룩</td>\n",
       "      <td>모델 : 진킴</td>\n",
       "      <td>https://www.musinsa.com/app/styles/views/36233...</td>\n",
       "      <td>NaN</td>\n",
       "    </tr>\n",
       "    <tr>\n",
       "      <th>2</th>\n",
       "      <td>0</td>\n",
       "      <td>3484627,3493988,3453009,3413269,3453042,3463945</td>\n",
       "      <td>36228</td>\n",
       "      <td>americancasual</td>\n",
       "      <td>23.09.27</td>\n",
       "      <td>조회 839</td>\n",
       "      <td>americancasual</td>\n",
       "      <td>모델 : 진킴</td>\n",
       "      <td>https://www.musinsa.com/app/styles/views/36228...</td>\n",
       "      <td>NaN</td>\n",
       "    </tr>\n",
       "    <tr>\n",
       "      <th>3</th>\n",
       "      <td>0</td>\n",
       "      <td>3153140,3457629,3542129,2247148,3461469,3497070</td>\n",
       "      <td>36082</td>\n",
       "      <td>americancasual</td>\n",
       "      <td>23.09.21</td>\n",
       "      <td>조회 430</td>\n",
       "      <td>오버올 스타일</td>\n",
       "      <td>모델 : 김진령</td>\n",
       "      <td>https://www.musinsa.com/app/styles/views/36082...</td>\n",
       "      <td>NaN</td>\n",
       "    </tr>\n",
       "    <tr>\n",
       "      <th>4</th>\n",
       "      <td>0</td>\n",
       "      <td>3561777,3483411,3430632,3152009,3431911,3479540</td>\n",
       "      <td>36081</td>\n",
       "      <td>americancasual</td>\n",
       "      <td>23.09.21</td>\n",
       "      <td>조회 925</td>\n",
       "      <td>프레피 룩</td>\n",
       "      <td>모델 : 김진령</td>\n",
       "      <td>https://www.musinsa.com/app/styles/views/36081...</td>\n",
       "      <td>NaN</td>\n",
       "    </tr>\n",
       "    <tr>\n",
       "      <th>...</th>\n",
       "      <td>...</td>\n",
       "      <td>...</td>\n",
       "      <td>...</td>\n",
       "      <td>...</td>\n",
       "      <td>...</td>\n",
       "      <td>...</td>\n",
       "      <td>...</td>\n",
       "      <td>...</td>\n",
       "      <td>...</td>\n",
       "      <td>...</td>\n",
       "    </tr>\n",
       "    <tr>\n",
       "      <th>129280</th>\n",
       "      <td>1</td>\n",
       "      <td>1290270</td>\n",
       "      <td>21087</td>\n",
       "      <td>girlish</td>\n",
       "      <td>NaN</td>\n",
       "      <td>NaN</td>\n",
       "      <td>NaN</td>\n",
       "      <td>NaN</td>\n",
       "      <td>https://www.musinsa.com/app/styles/views/21087...</td>\n",
       "      <td>https://www.musinsa.com/app/goods/1290270</td>\n",
       "    </tr>\n",
       "    <tr>\n",
       "      <th>129281</th>\n",
       "      <td>1</td>\n",
       "      <td>1771289</td>\n",
       "      <td>21087</td>\n",
       "      <td>girlish</td>\n",
       "      <td>NaN</td>\n",
       "      <td>NaN</td>\n",
       "      <td>NaN</td>\n",
       "      <td>NaN</td>\n",
       "      <td>https://www.musinsa.com/app/styles/views/21087...</td>\n",
       "      <td>https://www.musinsa.com/app/goods/1771289</td>\n",
       "    </tr>\n",
       "    <tr>\n",
       "      <th>129282</th>\n",
       "      <td>1</td>\n",
       "      <td>1771276</td>\n",
       "      <td>20947</td>\n",
       "      <td>girlish</td>\n",
       "      <td>NaN</td>\n",
       "      <td>NaN</td>\n",
       "      <td>NaN</td>\n",
       "      <td>NaN</td>\n",
       "      <td>https://www.musinsa.com/app/styles/views/20947...</td>\n",
       "      <td>https://www.musinsa.com/app/goods/1771276</td>\n",
       "    </tr>\n",
       "    <tr>\n",
       "      <th>129283</th>\n",
       "      <td>1</td>\n",
       "      <td>1866392</td>\n",
       "      <td>20947</td>\n",
       "      <td>girlish</td>\n",
       "      <td>NaN</td>\n",
       "      <td>NaN</td>\n",
       "      <td>NaN</td>\n",
       "      <td>NaN</td>\n",
       "      <td>https://www.musinsa.com/app/styles/views/20947...</td>\n",
       "      <td>https://www.musinsa.com/app/goods/1866392</td>\n",
       "    </tr>\n",
       "    <tr>\n",
       "      <th>129284</th>\n",
       "      <td>1</td>\n",
       "      <td>969541</td>\n",
       "      <td>20947</td>\n",
       "      <td>girlish</td>\n",
       "      <td>NaN</td>\n",
       "      <td>NaN</td>\n",
       "      <td>NaN</td>\n",
       "      <td>NaN</td>\n",
       "      <td>https://www.musinsa.com/app/styles/views/20947...</td>\n",
       "      <td>https://www.musinsa.com/app/goods/969541</td>\n",
       "    </tr>\n",
       "  </tbody>\n",
       "</table>\n",
       "<p>129285 rows × 10 columns</p>\n",
       "</div>"
      ],
      "text/plain": [
       "        LEVEL                                          ITEM_ID  CODI_ID  \\\n",
       "0           0          3450087,3540430,3227713,3035852,3429258    35815   \n",
       "1           0  3451226,3524050,3523872,3431905,3450111,3450134    36233   \n",
       "2           0  3484627,3493988,3453009,3413269,3453042,3463945    36228   \n",
       "3           0  3153140,3457629,3542129,2247148,3461469,3497070    36082   \n",
       "4           0  3561777,3483411,3430632,3152009,3431911,3479540    36081   \n",
       "...       ...                                              ...      ...   \n",
       "129280      1                                          1290270    21087   \n",
       "129281      1                                          1771289    21087   \n",
       "129282      1                                          1771276    20947   \n",
       "129283      1                                          1866392    20947   \n",
       "129284      1                                           969541    20947   \n",
       "\n",
       "                 STYLE      DATE   VIEWS            TAG1     MODEL  \\\n",
       "0       americancasual  23.09.27  조회 607         스포티 바이브  모델 : 송혜원   \n",
       "1       americancasual  23.09.27  조회 587          시티보이 룩   모델 : 진킴   \n",
       "2       americancasual  23.09.27  조회 839  americancasual   모델 : 진킴   \n",
       "3       americancasual  23.09.21  조회 430         오버올 스타일  모델 : 김진령   \n",
       "4       americancasual  23.09.21  조회 925           프레피 룩  모델 : 김진령   \n",
       "...                ...       ...     ...             ...       ...   \n",
       "129280         girlish       NaN     NaN             NaN       NaN   \n",
       "129281         girlish       NaN     NaN             NaN       NaN   \n",
       "129282         girlish       NaN     NaN             NaN       NaN   \n",
       "129283         girlish       NaN     NaN             NaN       NaN   \n",
       "129284         girlish       NaN     NaN             NaN       NaN   \n",
       "\n",
       "                                                 CODI_URL  \\\n",
       "0       https://www.musinsa.com/app/styles/views/35815...   \n",
       "1       https://www.musinsa.com/app/styles/views/36233...   \n",
       "2       https://www.musinsa.com/app/styles/views/36228...   \n",
       "3       https://www.musinsa.com/app/styles/views/36082...   \n",
       "4       https://www.musinsa.com/app/styles/views/36081...   \n",
       "...                                                   ...   \n",
       "129280  https://www.musinsa.com/app/styles/views/21087...   \n",
       "129281  https://www.musinsa.com/app/styles/views/21087...   \n",
       "129282  https://www.musinsa.com/app/styles/views/20947...   \n",
       "129283  https://www.musinsa.com/app/styles/views/20947...   \n",
       "129284  https://www.musinsa.com/app/styles/views/20947...   \n",
       "\n",
       "                                         ITEM_URL  \n",
       "0                                             NaN  \n",
       "1                                             NaN  \n",
       "2                                             NaN  \n",
       "3                                             NaN  \n",
       "4                                             NaN  \n",
       "...                                           ...  \n",
       "129280  https://www.musinsa.com/app/goods/1290270  \n",
       "129281  https://www.musinsa.com/app/goods/1771289  \n",
       "129282  https://www.musinsa.com/app/goods/1771276  \n",
       "129283  https://www.musinsa.com/app/goods/1866392  \n",
       "129284   https://www.musinsa.com/app/goods/969541  \n",
       "\n",
       "[129285 rows x 10 columns]"
      ]
     },
     "metadata": {},
     "output_type": "display_data"
    }
   ],
   "source": [
    "df.insert(0, 'LEVEL', df.pop('LEVEL'))\n",
    "df.insert(1, 'ITEM_ID', np.nan)\n",
    "df['ITEM_ID'].astype('object')\n",
    "df.drop(['PAGE_NUM', 'CODI_IMG'], axis=1, inplace=True)\n",
    "\n",
    "df_tmp = pd.read_csv(os.path.join(\"..\", \"data\" ,\"codishop_item.csv\"), index_col=0)\n",
    "df_tmp['ITEM_ID'] = df_tmp['ITEM_ID'].astype('object')\n",
    "\n",
    "\n",
    "df_concat = pd.concat([df, df_tmp], ignore_index=True, axis=0)\n",
    "\n",
    "tmp_list = list()\n",
    "print(f\"\\x1b[33m\\\"LEVEL 1 데이터 STYLE 타입 처리...\\\"\\x1b[0m\")\n",
    "for i in tqdm(range(len(df_concat[df_concat['LEVEL'] == 1]))):\n",
    "    tmp_list.append(df_concat['CODI_URL'][i].split('style_type=')[1].split('&')[0])\n",
    "\n",
    "tmp_se = pd.Series(tmp_list)\n",
    "\n",
    "tmp_index = 0\n",
    "for idx, item in tqdm(enumerate(df_concat['STYLE'])):\n",
    "    if item is np.nan:\n",
    "        df_concat.iloc[idx, 3] = tmp_se[tmp_index]\n",
    "        tmp_index += 1\n",
    "print(\"\\x1b[32m\\\"LEVEL 1 데이터 STYLE 타입 처리 완료\\\"\\x1b[0m\")\n",
    "\n",
    "df_level0 = df_concat[df_concat['LEVEL'] == 0]\n",
    "df_level1 = df_concat[df_concat['LEVEL'] == 1]\n",
    "\n",
    "print(f\"\\x1b[33m\\\"LEVEL 0 데이터 ITEM_ID 처리...\\\"\\x1b[0m\")\n",
    "tmp_dict = dict()\n",
    "for codi, item in tqdm(zip(df_concat['CODI_ID'], df_concat['ITEM_ID'])):\n",
    "    if item is not np.nan:\n",
    "        if codi in list(tmp_dict.keys()): \n",
    "            tmp_dict[codi] = tmp_dict[codi] + ',' + str(item)\n",
    "        else:\n",
    "            tmp_dict[codi] = str(item)\n",
    "dict_key = list(tmp_dict.keys())\n",
    "for idx, item in enumerate(df_concat['CODI_ID']):\n",
    "    if item in dict_key and df_concat['ITEM_ID'][idx] is np.nan:\n",
    "        df_concat.iloc[idx, 1] = tmp_dict[item]\n",
    "print(\"\\x1b[32m\\\"LEVEL 0 데이터 ITEM_ID 처리 완료\\\"\\x1b[0m\")\n",
    "print(df_concat.isna().sum())\n",
    "display(df_concat)"
   ]
  },
  {
   "cell_type": "markdown",
   "metadata": {},
   "source": [
    "### 🍔 실행 (3/3)\n",
    "* 추후에 실행 2/3과 통합 예정\n",
    "* 다른 팀원의 db를 사용해서 빠르게 처리하기 위한 코드입니다."
   ]
  },
  {
   "cell_type": "markdown",
   "metadata": {},
   "source": [
    "##### ☕ 임시 통합본(1/2)"
   ]
  },
  {
   "cell_type": "code",
   "execution_count": 4,
   "metadata": {},
   "outputs": [
    {
     "name": "stdout",
     "output_type": "stream",
     "text": [
      "LEVEL                       0\n",
      "ITEM_ID                     0\n",
      "CODI_ID                     0\n",
      "STYLE                       0\n",
      "DATE                      567\n",
      "VIEWS                     567\n",
      "TAG1                      645\n",
      "TAG2                      645\n",
      "GENDER                    567\n",
      "MODEL                   98521\n",
      "CODI_URL                    0\n",
      "ITEM_URL                    0\n",
      "id                        567\n",
      "category_1                645\n",
      "category_2                645\n",
      "brand                     567\n",
      "gender                    567\n",
      "outfit_tags               567\n",
      "img_url                   575\n",
      "rating                  23008\n",
      "codi_number               567\n",
      "codi_tags                 567\n",
      "codi_upload_date          567\n",
      "codi_number_of_views      567\n",
      "dtype: int64\n"
     ]
    },
    {
     "data": {
      "text/html": [
       "<div>\n",
       "<style scoped>\n",
       "    .dataframe tbody tr th:only-of-type {\n",
       "        vertical-align: middle;\n",
       "    }\n",
       "\n",
       "    .dataframe tbody tr th {\n",
       "        vertical-align: top;\n",
       "    }\n",
       "\n",
       "    .dataframe thead th {\n",
       "        text-align: right;\n",
       "    }\n",
       "</style>\n",
       "<table border=\"1\" class=\"dataframe\">\n",
       "  <thead>\n",
       "    <tr style=\"text-align: right;\">\n",
       "      <th></th>\n",
       "      <th>LEVEL</th>\n",
       "      <th>ITEM_ID</th>\n",
       "      <th>CODI_ID</th>\n",
       "      <th>STYLE</th>\n",
       "      <th>DATE</th>\n",
       "      <th>VIEWS</th>\n",
       "      <th>TAG1</th>\n",
       "      <th>TAG2</th>\n",
       "      <th>GENDER</th>\n",
       "      <th>MODEL</th>\n",
       "      <th>CODI_URL</th>\n",
       "      <th>ITEM_URL</th>\n",
       "    </tr>\n",
       "  </thead>\n",
       "  <tbody>\n",
       "    <tr>\n",
       "      <th>0</th>\n",
       "      <td>1</td>\n",
       "      <td>3450087</td>\n",
       "      <td>35815</td>\n",
       "      <td>americancasual</td>\n",
       "      <td>NaN</td>\n",
       "      <td>NaN</td>\n",
       "      <td>NaN</td>\n",
       "      <td>NaN</td>\n",
       "      <td>NaN</td>\n",
       "      <td>NaN</td>\n",
       "      <td>https://www.musinsa.com/app/styles/views/35815...</td>\n",
       "      <td>https://www.musinsa.com/app/goods/3450087</td>\n",
       "    </tr>\n",
       "    <tr>\n",
       "      <th>1</th>\n",
       "      <td>1</td>\n",
       "      <td>3540430</td>\n",
       "      <td>35815</td>\n",
       "      <td>americancasual</td>\n",
       "      <td>2023.09.14</td>\n",
       "      <td>318.0</td>\n",
       "      <td>상의</td>\n",
       "      <td>맨투맨/스웨트셔츠</td>\n",
       "      <td>남, 여</td>\n",
       "      <td>NaN</td>\n",
       "      <td>https://www.musinsa.com/app/styles/views/35815...</td>\n",
       "      <td>https://www.musinsa.com/app/goods/3540430</td>\n",
       "    </tr>\n",
       "    <tr>\n",
       "      <th>2</th>\n",
       "      <td>1</td>\n",
       "      <td>3227713</td>\n",
       "      <td>35815</td>\n",
       "      <td>americancasual</td>\n",
       "      <td>2023.09.01</td>\n",
       "      <td>974.0</td>\n",
       "      <td>스커트</td>\n",
       "      <td>미니스커트</td>\n",
       "      <td>여</td>\n",
       "      <td>NaN</td>\n",
       "      <td>https://www.musinsa.com/app/styles/views/35815...</td>\n",
       "      <td>https://www.musinsa.com/app/goods/3227713</td>\n",
       "    </tr>\n",
       "    <tr>\n",
       "      <th>3</th>\n",
       "      <td>1</td>\n",
       "      <td>3035852</td>\n",
       "      <td>35815</td>\n",
       "      <td>americancasual</td>\n",
       "      <td>2023.09.11</td>\n",
       "      <td>547.0</td>\n",
       "      <td>양말/레그웨어</td>\n",
       "      <td>양말</td>\n",
       "      <td>남, 여</td>\n",
       "      <td>NaN</td>\n",
       "      <td>https://www.musinsa.com/app/styles/views/35815...</td>\n",
       "      <td>https://www.musinsa.com/app/goods/3035852</td>\n",
       "    </tr>\n",
       "    <tr>\n",
       "      <th>4</th>\n",
       "      <td>1</td>\n",
       "      <td>3429258</td>\n",
       "      <td>35815</td>\n",
       "      <td>americancasual</td>\n",
       "      <td>NaN</td>\n",
       "      <td>NaN</td>\n",
       "      <td>NaN</td>\n",
       "      <td>NaN</td>\n",
       "      <td>NaN</td>\n",
       "      <td>NaN</td>\n",
       "      <td>https://www.musinsa.com/app/styles/views/35815...</td>\n",
       "      <td>https://www.musinsa.com/app/goods/3429258</td>\n",
       "    </tr>\n",
       "    <tr>\n",
       "      <th>...</th>\n",
       "      <td>...</td>\n",
       "      <td>...</td>\n",
       "      <td>...</td>\n",
       "      <td>...</td>\n",
       "      <td>...</td>\n",
       "      <td>...</td>\n",
       "      <td>...</td>\n",
       "      <td>...</td>\n",
       "      <td>...</td>\n",
       "      <td>...</td>\n",
       "      <td>...</td>\n",
       "      <td>...</td>\n",
       "    </tr>\n",
       "    <tr>\n",
       "      <th>98516</th>\n",
       "      <td>1</td>\n",
       "      <td>1290270</td>\n",
       "      <td>21087</td>\n",
       "      <td>girlish</td>\n",
       "      <td>2021.05.21</td>\n",
       "      <td>1748.0</td>\n",
       "      <td>스포츠/용품</td>\n",
       "      <td>아우터</td>\n",
       "      <td>남</td>\n",
       "      <td>NaN</td>\n",
       "      <td>https://www.musinsa.com/app/styles/views/21087...</td>\n",
       "      <td>https://www.musinsa.com/app/goods/1290270</td>\n",
       "    </tr>\n",
       "    <tr>\n",
       "      <th>98517</th>\n",
       "      <td>1</td>\n",
       "      <td>1771289</td>\n",
       "      <td>21087</td>\n",
       "      <td>girlish</td>\n",
       "      <td>2021.05.21</td>\n",
       "      <td>1748.0</td>\n",
       "      <td>모자</td>\n",
       "      <td>버킷/사파리햇</td>\n",
       "      <td>남</td>\n",
       "      <td>NaN</td>\n",
       "      <td>https://www.musinsa.com/app/styles/views/21087...</td>\n",
       "      <td>https://www.musinsa.com/app/goods/1771289</td>\n",
       "    </tr>\n",
       "    <tr>\n",
       "      <th>98518</th>\n",
       "      <td>1</td>\n",
       "      <td>1771276</td>\n",
       "      <td>20947</td>\n",
       "      <td>girlish</td>\n",
       "      <td>2021.05.04</td>\n",
       "      <td>2957.0</td>\n",
       "      <td>모자</td>\n",
       "      <td>버킷/사파리햇</td>\n",
       "      <td>남</td>\n",
       "      <td>NaN</td>\n",
       "      <td>https://www.musinsa.com/app/styles/views/20947...</td>\n",
       "      <td>https://www.musinsa.com/app/goods/1771276</td>\n",
       "    </tr>\n",
       "    <tr>\n",
       "      <th>98519</th>\n",
       "      <td>1</td>\n",
       "      <td>1866392</td>\n",
       "      <td>20947</td>\n",
       "      <td>girlish</td>\n",
       "      <td>2021.05.04</td>\n",
       "      <td>2957.0</td>\n",
       "      <td>가방</td>\n",
       "      <td>백팩</td>\n",
       "      <td>남</td>\n",
       "      <td>NaN</td>\n",
       "      <td>https://www.musinsa.com/app/styles/views/20947...</td>\n",
       "      <td>https://www.musinsa.com/app/goods/1866392</td>\n",
       "    </tr>\n",
       "    <tr>\n",
       "      <th>98520</th>\n",
       "      <td>1</td>\n",
       "      <td>969541</td>\n",
       "      <td>20947</td>\n",
       "      <td>girlish</td>\n",
       "      <td>2020.07.15</td>\n",
       "      <td>2369.0</td>\n",
       "      <td>스니커즈</td>\n",
       "      <td>패션스니커즈화</td>\n",
       "      <td>남, 여</td>\n",
       "      <td>NaN</td>\n",
       "      <td>https://www.musinsa.com/app/styles/views/20947...</td>\n",
       "      <td>https://www.musinsa.com/app/goods/969541</td>\n",
       "    </tr>\n",
       "  </tbody>\n",
       "</table>\n",
       "<p>98521 rows × 12 columns</p>\n",
       "</div>"
      ],
      "text/plain": [
       "       LEVEL  ITEM_ID  CODI_ID           STYLE        DATE   VIEWS     TAG1  \\\n",
       "0          1  3450087    35815  americancasual         NaN     NaN      NaN   \n",
       "1          1  3540430    35815  americancasual  2023.09.14   318.0       상의   \n",
       "2          1  3227713    35815  americancasual  2023.09.01   974.0      스커트   \n",
       "3          1  3035852    35815  americancasual  2023.09.11   547.0  양말/레그웨어   \n",
       "4          1  3429258    35815  americancasual         NaN     NaN      NaN   \n",
       "...      ...      ...      ...             ...         ...     ...      ...   \n",
       "98516      1  1290270    21087         girlish  2021.05.21  1748.0   스포츠/용품   \n",
       "98517      1  1771289    21087         girlish  2021.05.21  1748.0       모자   \n",
       "98518      1  1771276    20947         girlish  2021.05.04  2957.0       모자   \n",
       "98519      1  1866392    20947         girlish  2021.05.04  2957.0       가방   \n",
       "98520      1   969541    20947         girlish  2020.07.15  2369.0     스니커즈   \n",
       "\n",
       "            TAG2 GENDER MODEL  \\\n",
       "0            NaN    NaN   NaN   \n",
       "1      맨투맨/스웨트셔츠   남, 여   NaN   \n",
       "2          미니스커트      여   NaN   \n",
       "3             양말   남, 여   NaN   \n",
       "4            NaN    NaN   NaN   \n",
       "...          ...    ...   ...   \n",
       "98516        아우터      남   NaN   \n",
       "98517    버킷/사파리햇      남   NaN   \n",
       "98518    버킷/사파리햇      남   NaN   \n",
       "98519         백팩      남   NaN   \n",
       "98520    패션스니커즈화   남, 여   NaN   \n",
       "\n",
       "                                                CODI_URL  \\\n",
       "0      https://www.musinsa.com/app/styles/views/35815...   \n",
       "1      https://www.musinsa.com/app/styles/views/35815...   \n",
       "2      https://www.musinsa.com/app/styles/views/35815...   \n",
       "3      https://www.musinsa.com/app/styles/views/35815...   \n",
       "4      https://www.musinsa.com/app/styles/views/35815...   \n",
       "...                                                  ...   \n",
       "98516  https://www.musinsa.com/app/styles/views/21087...   \n",
       "98517  https://www.musinsa.com/app/styles/views/21087...   \n",
       "98518  https://www.musinsa.com/app/styles/views/20947...   \n",
       "98519  https://www.musinsa.com/app/styles/views/20947...   \n",
       "98520  https://www.musinsa.com/app/styles/views/20947...   \n",
       "\n",
       "                                        ITEM_URL  \n",
       "0      https://www.musinsa.com/app/goods/3450087  \n",
       "1      https://www.musinsa.com/app/goods/3540430  \n",
       "2      https://www.musinsa.com/app/goods/3227713  \n",
       "3      https://www.musinsa.com/app/goods/3035852  \n",
       "4      https://www.musinsa.com/app/goods/3429258  \n",
       "...                                          ...  \n",
       "98516  https://www.musinsa.com/app/goods/1290270  \n",
       "98517  https://www.musinsa.com/app/goods/1771289  \n",
       "98518  https://www.musinsa.com/app/goods/1771276  \n",
       "98519  https://www.musinsa.com/app/goods/1866392  \n",
       "98520   https://www.musinsa.com/app/goods/969541  \n",
       "\n",
       "[98521 rows x 12 columns]"
      ]
     },
     "metadata": {},
     "output_type": "display_data"
    }
   ],
   "source": [
    "conn = sqlite3.connect(os.path.join(\"..\", \"data\" , \"musinsa_codishop.db\"))\n",
    "\n",
    "cur = conn.cursor()\n",
    "\n",
    "query = \"\"\"\n",
    "SELECT * \n",
    "FROM outfit_data\n",
    "\"\"\"\n",
    "\n",
    "cur.execute(query)\n",
    "\n",
    "results = cur.fetchall()\n",
    "\n",
    "df_db = pd.DataFrame(results, columns=[desc[0] for desc in cur.description])\n",
    "\n",
    "conn.close()\n",
    "df_db.tail(1)\n",
    "\n",
    "df_db.insert(0, 'ITEM_ID', df_db.pop('page_number'))\n",
    "df_db.drop_duplicates(subset=['ITEM_ID'], keep='first', inplace=True)\n",
    "df_db.reset_index(drop=True, inplace=True)\n",
    "\n",
    "df_level1_db = pd.merge(df_level1, df_db, how='left', on='ITEM_ID')\n",
    "df_level1_db['TAG1'] = df_level1_db['category_1']\n",
    "df_level1_db['DATE'] =  df_level1_db['codi_upload_date']\n",
    "df_level1_db['VIEWS'] = df_level1_db['codi_number_of_views']\n",
    "df_level1_db.insert(7, 'TAG2', df_level1_db['category_2'])\n",
    "df_level1_db.insert(8, 'GENDER', df_level1_db['gender'])\n",
    "\n",
    "print(df_level1_db.isna().sum())\n",
    "df_level1_db.drop(['id', 'category_1', 'category_2', 'brand', 'gender', 'outfit_tags', 'img_url', 'rating', 'codi_number', 'codi_tags', 'codi_upload_date', 'codi_number_of_views'], axis=1, inplace=True)\n",
    "display(df_level1_db)\n",
    "\n"
   ]
  },
  {
   "cell_type": "markdown",
   "metadata": {},
   "source": [
    "##### ☕ 임시 통합본(2/2)"
   ]
  },
  {
   "cell_type": "code",
   "execution_count": 5,
   "metadata": {},
   "outputs": [
    {
     "name": "stdout",
     "output_type": "stream",
     "text": [
      "\u001b[33m\"LEVEL 0 데이터 ITEM_ID 처리...\"\u001b[0m\n"
     ]
    },
    {
     "name": "stderr",
     "output_type": "stream",
     "text": [
      "129285it [00:09, 13831.17it/s]"
     ]
    },
    {
     "name": "stdout",
     "output_type": "stream",
     "text": [
      "\u001b[32m\"LEVEL 0 데이터 ITEM_ID 처리 완료\"\u001b[0m\n"
     ]
    },
    {
     "name": "stderr",
     "output_type": "stream",
     "text": [
      "\n"
     ]
    },
    {
     "data": {
      "text/html": [
       "<div>\n",
       "<style scoped>\n",
       "    .dataframe tbody tr th:only-of-type {\n",
       "        vertical-align: middle;\n",
       "    }\n",
       "\n",
       "    .dataframe tbody tr th {\n",
       "        vertical-align: top;\n",
       "    }\n",
       "\n",
       "    .dataframe thead th {\n",
       "        text-align: right;\n",
       "    }\n",
       "</style>\n",
       "<table border=\"1\" class=\"dataframe\">\n",
       "  <thead>\n",
       "    <tr style=\"text-align: right;\">\n",
       "      <th></th>\n",
       "      <th>LEVEL</th>\n",
       "      <th>ITEM_ID</th>\n",
       "      <th>CODI_ID</th>\n",
       "      <th>STYLE</th>\n",
       "      <th>DATE</th>\n",
       "      <th>VIEWS</th>\n",
       "      <th>TAG1</th>\n",
       "      <th>TAG2</th>\n",
       "      <th>GENDER</th>\n",
       "      <th>MODEL</th>\n",
       "      <th>CODI_URL</th>\n",
       "      <th>ITEM_URL</th>\n",
       "    </tr>\n",
       "  </thead>\n",
       "  <tbody>\n",
       "    <tr>\n",
       "      <th>0</th>\n",
       "      <td>0</td>\n",
       "      <td>3450087,3540430,3227713,3035852,3429258</td>\n",
       "      <td>35815</td>\n",
       "      <td>americancasual</td>\n",
       "      <td>23.09.27</td>\n",
       "      <td>조회 607</td>\n",
       "      <td>스포티 바이브</td>\n",
       "      <td>NaN</td>\n",
       "      <td>NaN</td>\n",
       "      <td>모델 : 송혜원</td>\n",
       "      <td>https://www.musinsa.com/app/styles/views/35815...</td>\n",
       "      <td>NaN</td>\n",
       "    </tr>\n",
       "    <tr>\n",
       "      <th>1</th>\n",
       "      <td>0</td>\n",
       "      <td>3451226,3524050,3523872,3431905,3450111,3450134</td>\n",
       "      <td>36233</td>\n",
       "      <td>americancasual</td>\n",
       "      <td>23.09.27</td>\n",
       "      <td>조회 587</td>\n",
       "      <td>시티보이 룩</td>\n",
       "      <td>NaN</td>\n",
       "      <td>NaN</td>\n",
       "      <td>모델 : 진킴</td>\n",
       "      <td>https://www.musinsa.com/app/styles/views/36233...</td>\n",
       "      <td>NaN</td>\n",
       "    </tr>\n",
       "    <tr>\n",
       "      <th>2</th>\n",
       "      <td>0</td>\n",
       "      <td>3484627,3493988,3453009,3413269,3453042,3463945</td>\n",
       "      <td>36228</td>\n",
       "      <td>americancasual</td>\n",
       "      <td>23.09.27</td>\n",
       "      <td>조회 839</td>\n",
       "      <td>americancasual</td>\n",
       "      <td>NaN</td>\n",
       "      <td>NaN</td>\n",
       "      <td>모델 : 진킴</td>\n",
       "      <td>https://www.musinsa.com/app/styles/views/36228...</td>\n",
       "      <td>NaN</td>\n",
       "    </tr>\n",
       "    <tr>\n",
       "      <th>3</th>\n",
       "      <td>0</td>\n",
       "      <td>3153140,3457629,3542129,2247148,3461469,3497070</td>\n",
       "      <td>36082</td>\n",
       "      <td>americancasual</td>\n",
       "      <td>23.09.21</td>\n",
       "      <td>조회 430</td>\n",
       "      <td>오버올 스타일</td>\n",
       "      <td>NaN</td>\n",
       "      <td>NaN</td>\n",
       "      <td>모델 : 김진령</td>\n",
       "      <td>https://www.musinsa.com/app/styles/views/36082...</td>\n",
       "      <td>NaN</td>\n",
       "    </tr>\n",
       "    <tr>\n",
       "      <th>4</th>\n",
       "      <td>0</td>\n",
       "      <td>3561777,3483411,3430632,3152009,3431911,3479540</td>\n",
       "      <td>36081</td>\n",
       "      <td>americancasual</td>\n",
       "      <td>23.09.21</td>\n",
       "      <td>조회 925</td>\n",
       "      <td>프레피 룩</td>\n",
       "      <td>NaN</td>\n",
       "      <td>NaN</td>\n",
       "      <td>모델 : 김진령</td>\n",
       "      <td>https://www.musinsa.com/app/styles/views/36081...</td>\n",
       "      <td>NaN</td>\n",
       "    </tr>\n",
       "    <tr>\n",
       "      <th>...</th>\n",
       "      <td>...</td>\n",
       "      <td>...</td>\n",
       "      <td>...</td>\n",
       "      <td>...</td>\n",
       "      <td>...</td>\n",
       "      <td>...</td>\n",
       "      <td>...</td>\n",
       "      <td>...</td>\n",
       "      <td>...</td>\n",
       "      <td>...</td>\n",
       "      <td>...</td>\n",
       "      <td>...</td>\n",
       "    </tr>\n",
       "    <tr>\n",
       "      <th>129280</th>\n",
       "      <td>1</td>\n",
       "      <td>1290270</td>\n",
       "      <td>21087</td>\n",
       "      <td>girlish</td>\n",
       "      <td>2021.05.21</td>\n",
       "      <td>1748.0</td>\n",
       "      <td>스포츠/용품</td>\n",
       "      <td>아우터</td>\n",
       "      <td>남</td>\n",
       "      <td>NaN</td>\n",
       "      <td>https://www.musinsa.com/app/styles/views/21087...</td>\n",
       "      <td>https://www.musinsa.com/app/goods/1290270</td>\n",
       "    </tr>\n",
       "    <tr>\n",
       "      <th>129281</th>\n",
       "      <td>1</td>\n",
       "      <td>1771289</td>\n",
       "      <td>21087</td>\n",
       "      <td>girlish</td>\n",
       "      <td>2021.05.21</td>\n",
       "      <td>1748.0</td>\n",
       "      <td>모자</td>\n",
       "      <td>버킷/사파리햇</td>\n",
       "      <td>남</td>\n",
       "      <td>NaN</td>\n",
       "      <td>https://www.musinsa.com/app/styles/views/21087...</td>\n",
       "      <td>https://www.musinsa.com/app/goods/1771289</td>\n",
       "    </tr>\n",
       "    <tr>\n",
       "      <th>129282</th>\n",
       "      <td>1</td>\n",
       "      <td>1771276</td>\n",
       "      <td>20947</td>\n",
       "      <td>girlish</td>\n",
       "      <td>2021.05.04</td>\n",
       "      <td>2957.0</td>\n",
       "      <td>모자</td>\n",
       "      <td>버킷/사파리햇</td>\n",
       "      <td>남</td>\n",
       "      <td>NaN</td>\n",
       "      <td>https://www.musinsa.com/app/styles/views/20947...</td>\n",
       "      <td>https://www.musinsa.com/app/goods/1771276</td>\n",
       "    </tr>\n",
       "    <tr>\n",
       "      <th>129283</th>\n",
       "      <td>1</td>\n",
       "      <td>1866392</td>\n",
       "      <td>20947</td>\n",
       "      <td>girlish</td>\n",
       "      <td>2021.05.04</td>\n",
       "      <td>2957.0</td>\n",
       "      <td>가방</td>\n",
       "      <td>백팩</td>\n",
       "      <td>남</td>\n",
       "      <td>NaN</td>\n",
       "      <td>https://www.musinsa.com/app/styles/views/20947...</td>\n",
       "      <td>https://www.musinsa.com/app/goods/1866392</td>\n",
       "    </tr>\n",
       "    <tr>\n",
       "      <th>129284</th>\n",
       "      <td>1</td>\n",
       "      <td>969541</td>\n",
       "      <td>20947</td>\n",
       "      <td>girlish</td>\n",
       "      <td>2020.07.15</td>\n",
       "      <td>2369.0</td>\n",
       "      <td>스니커즈</td>\n",
       "      <td>패션스니커즈화</td>\n",
       "      <td>남, 여</td>\n",
       "      <td>NaN</td>\n",
       "      <td>https://www.musinsa.com/app/styles/views/20947...</td>\n",
       "      <td>https://www.musinsa.com/app/goods/969541</td>\n",
       "    </tr>\n",
       "  </tbody>\n",
       "</table>\n",
       "<p>129285 rows × 12 columns</p>\n",
       "</div>"
      ],
      "text/plain": [
       "        LEVEL                                          ITEM_ID  CODI_ID  \\\n",
       "0           0          3450087,3540430,3227713,3035852,3429258    35815   \n",
       "1           0  3451226,3524050,3523872,3431905,3450111,3450134    36233   \n",
       "2           0  3484627,3493988,3453009,3413269,3453042,3463945    36228   \n",
       "3           0  3153140,3457629,3542129,2247148,3461469,3497070    36082   \n",
       "4           0  3561777,3483411,3430632,3152009,3431911,3479540    36081   \n",
       "...       ...                                              ...      ...   \n",
       "129280      1                                          1290270    21087   \n",
       "129281      1                                          1771289    21087   \n",
       "129282      1                                          1771276    20947   \n",
       "129283      1                                          1866392    20947   \n",
       "129284      1                                           969541    20947   \n",
       "\n",
       "                 STYLE        DATE   VIEWS            TAG1     TAG2 GENDER  \\\n",
       "0       americancasual    23.09.27  조회 607         스포티 바이브      NaN    NaN   \n",
       "1       americancasual    23.09.27  조회 587          시티보이 룩      NaN    NaN   \n",
       "2       americancasual    23.09.27  조회 839  americancasual      NaN    NaN   \n",
       "3       americancasual    23.09.21  조회 430         오버올 스타일      NaN    NaN   \n",
       "4       americancasual    23.09.21  조회 925           프레피 룩      NaN    NaN   \n",
       "...                ...         ...     ...             ...      ...    ...   \n",
       "129280         girlish  2021.05.21  1748.0          스포츠/용품      아우터      남   \n",
       "129281         girlish  2021.05.21  1748.0              모자  버킷/사파리햇      남   \n",
       "129282         girlish  2021.05.04  2957.0              모자  버킷/사파리햇      남   \n",
       "129283         girlish  2021.05.04  2957.0              가방       백팩      남   \n",
       "129284         girlish  2020.07.15  2369.0            스니커즈  패션스니커즈화   남, 여   \n",
       "\n",
       "           MODEL                                           CODI_URL  \\\n",
       "0       모델 : 송혜원  https://www.musinsa.com/app/styles/views/35815...   \n",
       "1        모델 : 진킴  https://www.musinsa.com/app/styles/views/36233...   \n",
       "2        모델 : 진킴  https://www.musinsa.com/app/styles/views/36228...   \n",
       "3       모델 : 김진령  https://www.musinsa.com/app/styles/views/36082...   \n",
       "4       모델 : 김진령  https://www.musinsa.com/app/styles/views/36081...   \n",
       "...          ...                                                ...   \n",
       "129280       NaN  https://www.musinsa.com/app/styles/views/21087...   \n",
       "129281       NaN  https://www.musinsa.com/app/styles/views/21087...   \n",
       "129282       NaN  https://www.musinsa.com/app/styles/views/20947...   \n",
       "129283       NaN  https://www.musinsa.com/app/styles/views/20947...   \n",
       "129284       NaN  https://www.musinsa.com/app/styles/views/20947...   \n",
       "\n",
       "                                         ITEM_URL  \n",
       "0                                             NaN  \n",
       "1                                             NaN  \n",
       "2                                             NaN  \n",
       "3                                             NaN  \n",
       "4                                             NaN  \n",
       "...                                           ...  \n",
       "129280  https://www.musinsa.com/app/goods/1290270  \n",
       "129281  https://www.musinsa.com/app/goods/1771289  \n",
       "129282  https://www.musinsa.com/app/goods/1771276  \n",
       "129283  https://www.musinsa.com/app/goods/1866392  \n",
       "129284   https://www.musinsa.com/app/goods/969541  \n",
       "\n",
       "[129285 rows x 12 columns]"
      ]
     },
     "execution_count": 5,
     "metadata": {},
     "output_type": "execute_result"
    }
   ],
   "source": [
    "df_concat2 = pd.concat([df_level0, df_level1_db], ignore_index=True, axis=0)\n",
    "\n",
    "df_concat2.insert(7, 'TAG2_', df_concat2['TAG2'])\n",
    "df_concat2.insert(8, 'GENDER_', df_concat2['GENDER'])\n",
    "df_concat2.drop(['TAG2', 'GENDER'], axis=1, inplace=True)\n",
    "df_concat2.rename(columns={'TAG2_': 'TAG2'}, inplace=True)\n",
    "df_concat2.rename(columns={'GENDER_': 'GENDER'}, inplace=True)\n",
    "\n",
    "print(f\"\\x1b[33m\\\"LEVEL 0 데이터 ITEM_ID 처리...\\\"\\x1b[0m\")\n",
    "tmp_dict = dict()\n",
    "for codi, item in zip(df_concat2['CODI_ID'], df_concat2['ITEM_ID']):\n",
    "    if item is not np.nan:\n",
    "        # if codi == 35815:\n",
    "        #     print(item)\n",
    "        if codi in list(tmp_dict.keys()): \n",
    "            tmp_dict[codi] = tmp_dict[codi] + ',' + str(item)\n",
    "        else:\n",
    "            tmp_dict[codi] = str(item)\n",
    "dict_key = list(tmp_dict.keys())\n",
    "for idx, item in tqdm(enumerate(df_concat2['CODI_ID'])):\n",
    "    if item in dict_key and df_concat2['ITEM_ID'][idx] is np.nan:\n",
    "        df_concat2.iloc[idx, 1] = tmp_dict[item]\n",
    "print(\"\\x1b[32m\\\"LEVEL 0 데이터 ITEM_ID 처리 완료\\\"\\x1b[0m\")\n",
    "\n",
    "df_concat2"
   ]
  },
  {
   "cell_type": "markdown",
   "metadata": {},
   "source": [
    "## 📌 아이템 조회\n",
    "* 추론단계에서 인덱스가 나왔을 때, 여기서 맵핑하여 아이템을 조회합니다."
   ]
  },
  {
   "cell_type": "code",
   "execution_count": 9,
   "metadata": {},
   "outputs": [
    {
     "name": "stdout",
     "output_type": "stream",
     "text": [
      "TAG1: Counter({'상의': 15935, '주얼리': 15202, '바지': 12425, '신발': 9957, '아우터': 9539, '스니커즈': 7091, '여성 가방': 5667, '가방': 5483, '스포츠/용품': 3905, '모자': 3666, '스커트': 2475, '액세서리': 2001, '선글라스/안경테': 1448, '시계': 1161, '원피스': 1024, '이지 캐주얼': 701, '양말/레그웨어': 609, nan: 567, '스트리트 캐주얼': 539, '스트릿 캐주얼': 459, 'girlish': 403, 'americancasual': 346, '유스': 246, 'dandy': 208, '리빙': 184, 'formal': 149, '스쿨': 137, 'sports': 127, '워너비 스타일': 95, '원 마일 웨어': 80, None: 78, '디지털/테크': 77, '패셔니스타': 75, '데일리 캐주얼': 73, '스트릿 바이브': 73, '이지 캐주얼 룩': 67, '컬러 포인트': 66, '디테일에 주목!': 66, '스트리트 캐주얼 룩': 65, '시선을 끄는': 62, '활동성 UP!': 59, '유니크한 조합': 57, '사랑스러워': 57, '빈티지 무드': 56, '캐주얼 무드': 53, '탐나는 조합': 53, '페미닌': 51, '스타일리시해': 50, '톤온톤 스타일링': 50, '셋업 스타일링': 50, '손쉽게 멋 내기': 48, '와이드한 매력': 47, '시선 집중!': 47, '독보적인 분위기': 46, '쿨한 매력': 45, '러블리 캐주얼': 44, '스트릿 무드': 44, '패턴 포인트': 43, '취향 저격': 41, '믹스 매치': 39, '간결한 실루엣': 37, '시크하게': 37, '데일리 무드': 36, '센스 만점': 36, '사랑스러워!': 36, '남다른 센스': 35, '꾸안꾸 스타일링': 35, '시크한 자태': 35, '꾸안꾸 코디': 34, '데일리로 제격': 34, '완벽한 조합': 34, '매력 만점': 34, '독보적 분위기': 34, '스타일리시해!': 33, '와이드 실루엣': 33, '[24SS 시즌 프리뷰] SOFT UTILITY': 33, '따라 입고 싶어': 33, '러블리 끝판왕': 33, '[24SS 시즌 프리뷰] ARTISANAL TOUCH': 32, '디테일에 주목': 32, '지금 입기 좋아': 32, '캐주얼의 정석': 32, '서머 캐주얼': 32, '누구나 좋아해': 32, '힙한 무드': 32, 'retro': 32, '[24SS 시즌 프리뷰] REFINED CASUAL': 31, '실패 없는 조합': 31, '힙 바이브': 31, '발랄한 무드': 31, '감각적이야': 31, '미니멀 무드': 31, '확실한 포인트': 30, '편하게 멋 내기': 30, '설레는 하루': 30, '따라 입고 싶은': 30, '시크 카리스마': 30, '셋업 코디': 29, '디테일 더하기': 29, '레이어드 코디': 29, '귀여운 조합': 29, '이렇게 입어줘!': 29, '특별한 날': 29, '차분한 분위기': 29, '걸리시 룩': 29, '컬러 조합이 관건': 28, '유니크한 디테일': 28, '꾸안꾸 스타일': 27, '화사하게': 27, '꾸민 듯 안 꾸민 듯': 27, '가벼운 차림': 27, '시선 강탈': 27, '레드 포인트': 27, '찰떡 조합': 27, '독보적인 존재감': 27, '블랙&화이트': 27, '원 컬러 포인트': 26, '데일리로 좋아': 26, '그래픽 포인트': 26, '취향 저격!': 26, '디테일 가득!': 26, '깔끔한 매치': 26, '가벼운 외출': 26, '로맨틱한 하루': 26, '이렇게 입어줘': 26, '센스 있는 조합': 26, '우아한 실루엣': 26, '속옷': 26, '레트로 바이브': 25, '센스 있는 매치': 25, '센스 더하기': 25, '캠퍼스 룩': 25, '[24SS 시즌 프리뷰] DENIM ON DENIM': 25, '돋보이는 디테일': 25, '셋업 활용법': 25, '유니크해': 25, '개성 만점': 25, '레더 활용법': 25, '데일리로 딱!': 25, '유니크한 멋': 25, '러블리 그 자체': 25, '매력적이야': 24, '스타일리시': 24, '무심한 멋': 24, '컬러 포인트!': 24, '시선 집중': 24, '매일 입기 좋은': 24, '로맨틱 무드': 24, '뉴트럴 톤 코디': 23, '돋보이는 조합': 23, '캐주얼하게': 23, '깔끔한 조합': 23, '캠퍼스 훈남': 23, '스포티 무드': 23, '스타일 뽐내기': 23, '매일 입어도 좋아': 23, '개성 있어': 22, '남다른 디테일': 22, '시크한 매력': 22, '시크한 무드': 22, '핑크 포인트': 21, '톤온톤 코디': 21, '매력 있어': 21, '핑크 홀릭': 21, '돋보이는 센스': 21, '요즘 스타일': 21, '시크한 분위기': 21, '찰떡 코디': 21, '힙하다 힙해': 21, '유니크하게': 20, 'HIP!': 20, '블랙 러버': 20, '꾸안꾸 룩': 20, '깔끔한 스타일': 20, '유니크 끝판왕': 20, '개성 뽐내기': 20, '러블리 무드': 20, '데일리 강추': 20, '오버 핏의 매력': 19, '깔끔한 실루엣': 19, '윈터 캐주얼': 19, '카디건 활용법': 19, '매일 입고 싶어': 19, '데님 활용법': 19, '톤온톤 매치': 19, '패턴 활용법': 19, '포인트 더하기': 19, '레트로 무드': 19, '유니크한 매치': 19, '귀여운 포인트': 19, '소녀 감성': 19, '페미닌 룩': 19, '도회적 이미지': 19, '화사한 분위기': 19, '고프코어 룩': 19, '트렌디하게': 18, '아메리칸 캐주얼 룩': 18, '빈티지 캐주얼': 18, '베스트 활용법': 18, '매일 입을래': 18, '데일리 코디': 18, '괜찮은 조합': 18, '꾸안꾸의 정석': 18, '화사한 매력': 18, '남다른 조합': 18, '비비드 포인트': 18, '셋업 연출법': 18, '트렌드세터': 18, '심플한 매치': 17, '컬러 매치가 관건': 17, '분위기 있어': 17, '데일리하게': 17, '레이어드 룩': 17, '센스를 더해': 17, '요즘 대세!': 17, '활동적인 날': 17, '볼수록 매력적': 17, '심플한 멋': 17, '너무 귀여워!': 17, '지금 입기 딱!': 17, '데이트 하는 날': 17, '러블리 시크': 17, '시티보이 룩': 16, '오버 핏 실루엣': 16, '개성 넘쳐': 16, '모노톤 코디': 16, '데일리 룩': 16, '체크 포인트': 16, '편안한 무드': 16, '올 블랙 코디': 16, '센스 있어': 16, '스포티하게': 16, '힙 무드': 16, '포근한 마무리': 16, '탐나는 스타일': 16, '깔끔하게': 16, '체크 포인트!': 16, '화사한 하루': 16, '원피스 스타일링': 16, '안색을 밝혀주는': 16, '매력 넘쳐': 16, '예쁨 주의보': 16, '필드 위 멋쟁이': 16, '뉴트럴 톤 매치': 15, '레이어드 연출법': 15, '확실한 존재감': 15, '머플러 포인트': 15, '매일 입기 좋아': 15, '[24SS 시즌 프리뷰] GRUNGE REVIVAL': 15, '심플하게': 15, '로고 플레이': 15, '모노톤 매치': 15, '트렌디한 조합': 15, '귀여운 디테일': 15, '꾸안꾸 패션': 15, '가벼운 발걸음': 15, '남친 룩의 정석': 15, '편안한 차림': 15, '워너비 코디': 15, '운동하는 날': 15, '세련된 스타일': 15, '스포티한 매력': 15, '언제 어디서나': 15, '귀찮은 날엔': 15, '단정하게': 15, '세련됐어': 14, '빈티지 감성': 14, '시선 강탈!': 14, '개성 있게': 14, '레이어드 연출': 14, '[24SS 시즌 프리뷰] SPORTSCATION': 14, '눈에 띄어': 14, '캠퍼스 코디': 14, '데이트 코디': 14, '멋스럽게': 14, '서머 데일리': 14, '스포츠 캐주얼': 14, '세련된 무드': 14, '빈티지한 멋': 14, '패턴의 향연': 14, '모노 톤 코디': 14, '레더의 계절': 14, '심플한 매력': 14, '매력 뽐내기': 14, '컬러 활용법': 14, '차분한 무드': 14, '원피스 활용법': 14, '레트로 감성': 14, '세련된 멋': 14, '프레피 룩': 13, '남다른 아웃핏': 13, '개성 더하기': 13, '귀여운 매력': 13, '빈티지한 색감': 13, '뉴트럴 색감': 13, '가을 무드': 13, '환절기 코디': 13, '산뜻한 조합': 13, '돋보이는 스타일': 13, '청청 패션': 13, '원 마일 룩': 13, '편안한 조합': 13, '셋업의 매력': 13, '누구나 편하게': 13, '돋보이는 매치': 13, '요즘 대세': 13, '서머 데일리 룩': 13, '완벽한 컬러 매치': 13, '패딩의 계절': 13, '핑크 포인트!': 13, '포근한 매력': 13, '프레피 캐주얼': 13, '유니크한 매력': 13, '산뜻한 컬러': 13, '블랙 앤 화이트': 13, '레이어드 센스': 13, '트렌디해': 13, '세련미 가득': 13, '프레피 무드': 13, '상큼발랄': 13, '편하게 멋내기': 13, '분위기 끝판왕': 13, '데이트 룩 추천': 13, '담백하게': 13, '분위기 여신': 13, '미니멀하게': 13, '미니멀 코디': 13, '서머 댄디 룩': 13, '데이트 룩': 13, '오늘의 출근 룩': 13, '볼수록 예뻐': 13, '스트릿의 정석': 13, '아메카지 룩': 12, '뉴트럴 톤 조합': 12, '돋보이는 아웃핏': 12, '빈티지한 매력': 12, '훈훈한 분위기': 12, '훈훈 남친 룩': 12, '가볍고 멋스럽게': 12, '비 오는 날': 12, '모노톤 스타일링': 12, '편안하게': 12, '센스 만점!': 12, '남다른 아이템': 12, '편안한 매력': 12, '발랄하게!': 12, '모노 톤 스타일링': 12, '상큼 발랄': 12, '발랄한 매력': 12, '모노 톤 러버': 12, '귀여운 컬러 매치': 12, '넘치는 매력': 12, '편하게 즐겨': 12, '패턴으로 완성': 12, '유니크해!': 12, '끌리는 분위기': 12, '하객 룩 추천!': 12, '데이트 가는 날': 12, '걸리시 무드': 12, '하이틴 감성': 12, '서머 스트릿': 12, '빈티지 색감': 11, '미니멀 감성': 11, '눈에 띄는 컬러': 11, '셔츠 스타일링': 11, '화사한 이미지': 11, '빈티지한 무드': 11, '화사한 조합': 11, '미니멀 스타일링': 11, '가벼운 착용': 11, '레이어드 스타일': 11, '블루 포인트': 11, '경쾌한 조합': 11, '편안한 핏': 11, '시크해 보여': 11, '힙한 매력': 11, '이 조합 찬성!': 11, '멋스러운 디테일': 11, '심플한 디테일': 11, '세련된 느낌': 11, '봄나들이 룩': 11, '데일리 룩 추천': 11, '센스가 돋보여': 11, '돋보이는 컬러': 11, '완벽 조합': 11, '끌리는 매치': 11, '데일리 캠퍼스': 11, '편안한 게 좋아': 11, '귀여운 그녀': 11, '데일리 웨어': 11, '디테일에 반해': 11, '편하고 예뻐': 11, '남다른 감각': 11, '담백한 코디': 11, '편하게 입자!': 11, '독보적 스타일': 11, '설레는 데이트': 11, '주말 데이트 룩': 11, '심쿵 유발': 11, '화사하게!': 11, '스포티하게!': 11, '데이트하는 날': 11, '스포츠 즐기기': 11, '뉴트럴 톤': 10, '편안한 매치': 10, '개성 가득': 10, '톤온톤 조합': 10, '스웨트셔츠 코디': 10, '편하고 멋스럽게': 10, '컬러 포인트 룩': 10, '레이니 룩': 10, '특별한 하루': 10, '담백한 연출': 10, '심플한 조합': 10, '캐주얼한 매력': 10, '꾸안꾸 매력': 10, '스타일리시하게': 10, '요즘 입기 좋아': 10, '모노톤 조합': 10, '완벽한 매치': 10, '손쉽게 꾸미기': 10, '가볍게 꾸미기': 10, '믹스 매치 룩': 10, '디테일 가득': 10, '키치한 무드': 10, '힙한 바이브': 10, '귀여운 매치': 10, '힙하게 완성': 10, '탐나는 코디': 10, '아웃도어 룩': 10, '완벽한 핏': 10, '통통 튀는 매력': 10, '에스닉 무드': 10, '절제된 멋': 10, '누구나 좋아해!': 10, '패턴 더하기': 10, '개성 만점!': 10, '오늘의 코디': 10, '힙하다 힙해!': 10, '간결한 멋': 10, '매력이 넘쳐': 10, '다들 좋아해': 10, '마음에 쏙!': 10, '청순 발랄!': 10, '자꾸만 눈이 가': 10, '멋스러운 조합': 10, '담백한 무드': 10, '산뜻하게': 10, '독보적이야': 10, '분위기 있게': 10, '매일 입고 싶은': 10, '간편하게 멋내기': 10, '포근한 분위기': 10, '댄디 룩': 10, '단아한 매력': 10, '나이스 샷!': 10, '라운딩 패션': 10, '캠퍼스 룩의 정석': 9, '적절한 포인트': 9, '한 끗 포인트': 9, '멋스러운 무드': 9, '이렇게 입어봐!': 9, '강렬한 포인트': 9, '세련된 모습': 9, '환절기 스타일링': 9, '카디건 스타일링': 9, '이렇게 입어봐': 9, '손쉽게 멋내기': 9, '쿨한 매치': 9, '레드 포인트!': 9, '가벼운 옷차림': 9, '산뜻한 분위기': 9, '화사한 포인트': 9, '서머 스타일링': 9, '데님 포인트': 9, '스포티한 무드': 9, '화사한 컬러 매치': 9, '간단하고 멋스럽게': 9, '웨스턴 무드': 9, '깔끔한 연출': 9, '심플하게 완성': 9, '포인트를 더해': 9, '데일리 스타일링': 9, '따라 입고 싶어!': 9, '블루 활용법': 9, '끌리는 조합': 9, '무결점 코디': 9, '돋보이는 룩': 9, '개성을 더해': 9, '힙하게 꾸미기': 9, '핑크 러버': 9, '패턴 포인트!': 9, '깔끔한 멋': 9, '편하게 꾸미기': 9, '유니크 아이템': 9, '탁월한 선택': 9, '패턴으로 완성!': 9, '담백한 조합': 9, '발랄한 분위기': 9, '화사한 매치': 9, '매력 발산': 9, '멋쁨 가득': 9, '러프한 매력': 9, '편하고 멋져': 9, '부드러운 인상': 9, '심쿵 포인트': 9, '눈에 띄어!': 9, '차분한 느낌': 9, '고급스러워': 9, '무심 털털하게': 9, '러블리 셋업': 9, '무톤 재킷 코디': 9, '멋쁨의 정석': 9, '데이트 있는 날': 9, '단정한 매력': 9, '우아하게': 9, '하이틴 무드': 9, '분위기를 더해': 9, '필드 위 패피': 9, '필드 위 주인공': 9, '스포츠 룩': 9, '애슬레저 룩': 9, '고프코어 스타일': 9, '남다른 멋': 8, '느낌 있게': 8, '입고 싶어': 8, '편안한 착용': 8, '니트의 계절': 8, '매일 이렇게': 8, '요즘 날씨에 제격': 8, '핫한 스타일': 8, '그린 포인트': 8, '비가 오는 날엔': 8, '서머 캐주얼 룩': 8, '영 캐주얼': 8, '멋스러운 착용': 8, '여름 느낌': 8, '핑크 활용법': 8, '댄디 캐주얼': 8, '한 끗 차이': 8, '센스 있는 코디': 8, '색다른 조합': 8, '깔끔한 매력': 8, '스타일 좋아': 8, '간편한 매치': 8, '와이드한 멋': 8, '꾸안꾸 데일리 룩': 8, '유니크한 포인트': 8, '블루 포인트!': 8, '편한 느낌': 8, '멋스러운 매치': 8, '돋보이는 멋': 8, '윈터 액세서리': 8, '귀여움 한 스푼': 8, '기분 좋은 하루': 8, '자연스러운 멋': 8, '돋보이는 분위기': 8, '반전 매력': 8, '마음에 들어': 8, '가벼운 매치': 8, '데일리 끝판왕': 8, '올 블랙 스타일링': 8, '편하게 입어': 8, '매력 넘쳐!': 8, '단정한 느낌': 8, '셋업으로 완성': 8, '완벽한 하루': 8, '카디건의 계절': 8, '편해서 좋아': 8, '스프링 데일리': 8, '유니크하게!': 8, '멋쁨 가득!': 8, '느낌이 좋아': 8, '눈길을 끌어': 8, '액세서리 활용법': 8, '담백한 멋': 8, '산뜻한 하루': 8, '가을 분위기': 8, '빠져드는 매력': 8, '청순 발랄': 8, '편하고 멋지게': 8, 'CHIC': 8, '멋쁨 매력': 8, '시크함 가득': 8, '무드를 더해': 8, '넘사벽 분위기': 8, '멋스러운 분위기': 8, '분위기 가득': 8, '상큼함 충전!': 8, '분위기 올킬!': 8, '얼죽코 스타일링': 8, '코트의 계절': 8, '차분한 조합': 8, '섬세한 디테일': 8, '귀여운 골프 룩': 8, '애슬레저 끝판왕': 8, '조화로워': 7, '패턴 포인트 룩': 7, '스트라이프 활용법': 7, '베스트 코디': 7, '스카프 포인트': 7, '멋스러워': 7, '클래식한 무드': 7, '프레피 감성': 7, '안성맞춤': 7, '훈훈한 남친 룩': 7, '다채로운 조합': 7, '감각적인 조합': 7, '가을 색감': 7, '체크 패턴 포인트': 7, '레이어드의 계절': 7, '데일리 조합': 7, '꾸안꾸 매치': 7, '데일리로 제격!': 7, '편하고 힙하게': 7, '워너비 아웃핏': 7, '손쉬운 매치': 7, '레인 코디': 7, '모노톤 러버': 7, '스타일의 한 끗': 7, '숏 팬츠의 계절': 7, '꾸안꾸 조합': 7, '셔츠 코디': 7, '베이식한 조합': 7, '눈에 띄는 디테일': 7, '손쉬운 연출': 7, '깔끔한 컬러 매치': 7, '주말 나들이 룩': 7, '캐주얼 스타일': 7, '편안한 연출': 7, '편안한 실루엣': 7, '트렌디 아이템': 7, '데님 스타일링': 7, '힙한 매치': 7, '캐주얼한 멋': 7, '캐주얼한 조합': 7, '워너비 출근 룩': 7, '숏 팬츠 활용법': 7, '워너비 룩': 7, '꾸안꾸로 완성': 7, '코트 활용법': 7, '오렌지 포인트!': 7, '멋스럽게!': 7, '멋스러운 스타일': 7, '꾸안꾸 완성': 7, '편하고 따뜻해': 7, '남다른 스타일': 7, '센스 있게': 7, '편안한 외출': 7, '색다른 매치': 7, '오버 핏이 대세': 7, '캠퍼스 여신': 7, '클래식 무드': 7, '청량한 느낌': 7, '심플한 게 좋아': 7, '트렌디한 무드': 7, '쿨한 무드': 7, '패턴의 매력': 7, '무심하게 툭!': 7, '청량함 가득!': 7, '남다른 매치': 7, '귀여운 캐주얼': 7, '캠퍼스 캐주얼': 7, '편안하게!': 7, '활동적인 하루': 7, '멋스러운 자태': 7, '완벽한 조화': 7, '편안한 셋업': 7, '겨울 필수템': 7, '포인트 살리기': 7, '포근한 느낌': 7, '프레피 룩의 정석': 7, '독보적 매력': 7, '후디 활용법': 7, '팬츠에 주목!': 7, '디테일을 더해': 7, '오버사이즈 매력': 7, '편한 게 최고': 7, '미니멀 룩': 7, '핑크핑크해': 7, '상큼발랄!': 7, '활동성 갑': 7, '가볍게 입기': 7, '쿨한 스타일': 7, '깜찍 발랄': 7, '보라보라해': 7, '서머 니트 활용법': 7, '완벽한 셋업': 7, '셋업이 좋아': 7, '편해서 좋아!': 7, '러브홀릭': 7, '담백한 매력': 7, '타이다이 활용법': 7, '기분 좋은 날': 7, '러블리하게': 7, '자주 찾는 룩': 7, '사랑스럽게': 7, '멋쟁이 신사': 7, '서머 원피스': 7, '하나로 끝내기': 7, '러블리해!': 7, '특별한 날엔': 7, '시크한 멋': 7, '시크한 감각': 7, '무톤 재킷 활용법': 7, '카리스마 넘쳐': 7, '무드 있게': 7, '분위기에 끌려': 7, '트렌디한 실루엣': 7, '댄디하게': 7, '미니멀 패션': 7, '댄디 룩의 정석': 7, '트위드의 계절': 7, '가벼운 출근 룩': 7, '커리어 우먼': 7, '서머 포멀 룩': 7, '러블리 블랙': 7, '설렘 유발': 7, '라운딩 룩': 7, '여신 분위기': 7, '화사한 무드': 6, '미니멀한 매력': 6, '청청 코디': 6, '캐주얼한 무드': 6, '레더 재킷 활용법': 6, '편안해 보여': 6, '편하게 완성': 6, '스트라이프 홀릭': 6, '셔츠 활용법': 6, '색감이 좋아': 6, '청량한 매력': 6, '호불호 없어': 6, '데일리로 즐겨': 6, '이색 매치': 6, '올 화이트 룩': 6, '레인 부츠 코디': 6, '비 내리는 날': 6, '데님의 매력': 6, '시원한 서머 룩': 6, '뉴트럴 톤의 매력': 6, '시원해 보여': 6, '무심하게 툭': 6, '편하게 입기': 6, '쿨한 이미지': 6, '시원한 느낌': 6, '독특한 디테일': 6, '요즘 대세야': 6, '봄 내음 물씬': 6, '편하게 입기 좋아': 6, '트렌드 아이템': 6, '워너비 조합': 6, '더플코트 활용법': 6, '블랙의 매력': 6, '블루 컬러 포인트': 6, '힙하게 완성!': 6, '넘치는 센스': 6, '겨울 감성': 6, '센스 있는 레이어링': 6, '따뜻한 조합': 6, '머플러 활용법': 6, '귀여운 느낌': 6, '캠핑 러버': 6, '편한 차림': 6, '스트릿하게': 6, '숏 패딩 스타일링': 6, '캠핑 가자!': 6, '센스 있는 레이어드': 6, '취향저격!': 6, '쿨한 연출': 6, '깔끔한 스타일링': 6, '오렌지 포인트': 6, '꾸러기 룩': 6, '실패 없는 코디': 6, '컬러에 반해': 6, '편하게 입자': 6, '싱그러운 컬러': 6, '그래픽 포인트!': 6, '편안한 룩': 6, '따라 입을래!': 6, '셋업 연출하기': 6, '귀여운 무드': 6, '탁월한 매치': 6, '레오퍼드 포인트': 6, '겨울 멋쟁이': 6, '레이어드 끝판왕': 6, '모노 톤 활용법': 6, '시크한 남자': 6, '누구나 어울려': 6, '유니크함 가득': 6, '가벼운 차림새': 6, '가볍게 입자': 6, '과즙미 팡팡': 6, '발랄한 조합': 6, '편하고 멋있게': 6, '세련된 스타일링': 6, '산뜻하게!': 6, '과즙미 팡팡!': 6, '포인트 스타일링': 6, '활용도 만점': 6, '베스트 조합': 6, '체크 활용법': 6, '편한 매력': 6, '아웃도어 패션': 6, '차분하게 완성': 6, '데일리 룩 정석': 6, '러블리 프레피': 6, '옐로 포인트!': 6, '신선한 조합': 6, '은근 멋있어': 6, '잘 입은 캐주얼': 6, '독보적인 매력': 6, '주말 데이트': 6, '간편하게': 6, '컬러 조합 최고': 6, '포근한 겨울': 6, '너무 멋있잖아!': 6, '디테일의 끝': 6, '단아하게': 6, '톤앤톤 스타일링': 6, '심플해서 좋아': 6, '예쁨주의': 6, '레이어드 스타일링': 6, '루즈한 매력': 6, '데일리룩 추천': 6, '데님 온 데님': 6, '이런 조합 어때': 6, '우아한 자태': 6, '시크한 매치': 6, '패셔너블해': 6, '시크한 이미지': 6, '겨울 출근 룩': 6, '담백한 스타일': 6, '봄 데이트 룩': 6, '데이트 스타일링': 6, '코트 스타일링': 6, '블랙 시크': 6, '커리어우먼': 6, '세련된 출근 룩': 6, '출근 룩 강추': 6, '우아한 매력': 6, '단아한 멋': 6, '언제나 예뻐': 6, 'Y2K 무드': 6, '귀여운 여친 룩': 6, '골프 웨어': 6, '로맨틱 아웃핏': 6, '분위기 좋아': 6, '아메카지 무드': 5, '루즈한 실루엣': 5, '쿨하게': 5, '은은한 매력': 5, '포인트 있게': 5, '빈티지 한 스푼': 5, '빈티지 바이브': 5, '따뜻한 컬러': 5, '소년미 가득': 5, '시티보이 무드': 5, '매력적인 조합': 5, '힙하게': 5, '코듀로이 활용법': 5, '돋보이는 매력': 5, '훈훈한 비주얼': 5, '워싱 디테일': 5, '레터링 포인트': 5, '블랙으로 멋 내기': 5, '비 오는 날 코디': 5, '장마철 코디': 5, '레이어링 연출법': 5, '대세 아이템': 5, '트렌디한 매력': 5, '꾸안꾸 연출법': 5, '페스티벌 룩': 5, '청량한 컬러': 5, '러블리해': 5, '캐주얼 룩': 5, '티셔츠 스타일링': 5, '디테일 끝판왕': 5, '쿨한 조합': 5, '셔츠 포인트': 5, '힙한 연출': 5, '대세 스타일': 5, '포인트 아이템': 5, '보헤미안 무드': 5, '산뜻한 무드': 5, '힙해!': 5, '톤온톤 스타일': 5, '여친 룩의 정석': 5, '트렌디한 멋': 5, '완벽한 데일리 룩': 5, '경쾌한 차림새': 5, '편해보여': 5, '꾸안꾸 느낌': 5, '데님 러버': 5, '레이어드의 매력': 5, '진리의 조합': 5, '조화로운 매치': 5, '레이어드 패션': 5, '가벼운 캐주얼': 5, '캠퍼스 룩 추천': 5, '스포티 캐주얼': 5, '센스 있게!': 5, '감각적인 매치': 5, '편안하고 멋스럽게': 5, '깔끔한 코디': 5, '따뜻함 가득': 5, '필수 아이템': 5, '다채로운 매력': 5, '레이어드 러버': 5, '매력적이야!': 5, '팬츠 포인트': 5, '원 마일 웨어 룩': 5, '귀여운 남친 룩': 5, '가을 느낌 물씬': 5, '편한 게 좋아': 5, '다양한 매력': 5, '시스루 디테일': 5, '환절기 패션': 5, '귀여운 셋업': 5, '데일리 룩 완성': 5, '트렌디한 연출': 5, '경쾌한 느낌': 5, '청량하게!': 5, '화사하게 완성': 5, '여름의 향기': 5, '매력적인 모습': 5, '시원하게 입자': 5, '담백 캐주얼': 5, '데일리로 좋아!': 5, '개성 넘치게!': 5, '스프링 캐주얼': 5, '셋업의 정석': 5, '스포티 룩': 5, '디테일로 승부': 5, '너무 귀여워': 5, '패딩 활용법': 5, '화사한 컬러': 5, '편한 스타일': 5, '활용도 만점!': 5, '캐주얼 워크 웨어': 5, '귀여운 코디': 5, '요즘 대세야!': 5, '남다른 바이브': 5, '개성을 뽐내': 5, '잘 어울려': 5, '깔끔한 게 좋아': 5, '백 점짜리 코디': 5, '훈훈한 이미지': 5, '시원하게': 5, '깔끔한 이미지': 5, '애슬레저 코디': 5, '활동성 UP': 5, '여름 안에서': 5, '감각 있어': 5, '상큼한 컬러': 5, '힙한 스타일': 5, '상큼 주의보': 5, '깔끔하게 완성': 5, '편한게 최고야': 5, '미니멀리즘 코디': 5, '캐주얼하게!': 5, '남다른 핏': 5, '데일리로 딱': 5, '즐겨 입는 룩': 5, '귀여운 이미지': 5, '질리지 않아': 5, '실패 없는 블랙': 5, '화사한 겨울': 5, '귀여운 스쿨 룩': 5, '롱 코트의 계절': 5, '환상의 조합': 5, '느낌 충만': 5, '해피 홀리데이': 5, '네온 포인트': 5, '데일리로 찰떡': 5, '은은한 멋': 5, '색다른 매력': 5, '상큼한 코디': 5, '너무 귀엽잖아!': 5, '자체발광': 5, '여름을 닮은': 5, '데이트 가도 돼': 5, '레트로 열풍': 5, '요즘 대세 룩': 5, '러블리 지수 업!': 5, '훈훈하게': 5, '훈훈하다': 5, '포인트 제대로': 5, '코트 뽐내기': 5, '너무 좋아': 5, '로맨틱한 무드': 5, '너무 멋져': 5, '편하게 입기 좋은': 5, '매일 입어줘': 5, '취향저격': 5, '로맨틱하게': 5, '후리하게!': 5, '하나를 입어도': 5, '워크웨어 코디': 5, '유니크한 실루엣': 5, '하늘하늘하게': 5, '깔끔해서 좋아': 5, '러블리한 조합': 5, '컬러를 더해봐': 5, '스포티룩': 5, '예쁨 폭발': 5, '쿨한 느낌': 5, '스쿨 룩': 5, '독보적 무드': 5, '독보적인 아웃핏': 5, '시크 그 자체': 5, '돋보이는 라인': 5, '도회적 분위기': 5, '분위기 올킬': 5, '멋스러운 셋업': 5, '올 블랙의 멋': 5, '모노톤의 매력': 5, '트렌치코트의 계절': 5, '단정한 멋': 5, '깔끔한 핏': 5, '훈남 스타일': 5, '데이트 성공 룩': 5, '댄디한 무드': 5, '클래식한 멋': 5, '하객 룩 연출': 5, '탐나는 실루엣': 5, '단정한 모습': 5, '서머 출근 룩': 5, '로맨틱 실루엣': 5, '데이트 준비': 5, '블레이저 활용법': 5, '트위드의 매력': 5, '깔끔함에 반해': 5, '특별한 날에': 5, '트렌디한 출근 룩': 5, '여름 출근 룩': 5, '환절기 출근 룩': 5, '넘치는 세련미': 5, '물오른 분위기': 5, '셋업으로 완성!': 5, '요즘 트렌드': 5, '레깅스 활용법': 5, '포멀 룩': 5, '사랑스러운 매력': 5, '볼수록 예뻐!': 5, '러블리한 매력': 5, '원피스 홀릭': 5, '산뜻한 매력': 5, '예쁨주의보': 5, '골프 즐기기': 5, '스트릿 감성': 5, '라운딩 가는 날': 5, '요즘 골프 웨어': 5, '운동하기 좋은 날': 5, '오운완!': 5, '에너지 넘쳐': 5, '스포츠 캐주얼 룩': 5, '스트릿 패션': 5, '이지 테크 웨어': 5, '고프코어 패션': 5, '서머 고프코어': 4, '오버롤 활용법': 4, '프레피 스타일': 4, '시티보이 연출': 4, '더플코트 코디': 4, '미니멀한 무드': 4, '센스 있는 룩': 4, '레이어드 포인트': 4, '아메카지 감성': 4, '더플코트의 매력': 4, '데님 셋업': 4, '데님 재킷 코디': 4, '멋스러운 연출': 4, '가을 데일리 룩': 4, '데일리 캠퍼스 룩': 4, '믹스&매치': 4, '멋스러운 실루엣': 4, '레더 스타일링': 4, '스웨트셔츠 활용법': 4, '블록코어 패션': 4, '블록코어': 4, '트렌디한 매치': 4, '올 블랙 매치': 4, '뉴트럴 조합': 4, '손쉽게 완성': 4, '귀여운 실루엣': 4, '데님 셔츠 활용법': 4, '여름 캠퍼스 룩': 4, '레이어드 매치': 4, '올 블랙 연출법': 4, '캠퍼스 라이프': 4, '시원한 착용': 4, '레이어링 연출': 4, '시원한 연출': 4, '캐주얼 룩의 정석': 4, '데일리로 추천': 4, '간편한 차림': 4, '스트라이프 포인트': 4, '데일리 캐주얼 룩': 4, '레드 컬러 포인트': 4, '캐주얼 바이브': 4, '그래픽 더하기': 4, '깔끔한 디테일': 4, '경쾌한 스타일': 4, '컬러 매치': 4, '캠퍼스 스타일링': 4, '시원하게!': 4, '꾸안꾸 무드': 4, '돋보이는 존재감': 4, '오버 핏 코디': 4, '손쉽게 완성!': 4, '지금 입어줘': 4, '꾸안꾸 연출': 4, '바캉스 패션': 4, '스웨트 코디': 4, '편안한 느낌': 4, '아가일 포인트': 4, '서머 니트 코디': 4, '레이어링 코디': 4, '파스텔 컬러 코디': 4, '러블리 핑크': 4, '숨겨진 디테일': 4, '화사한 느낌': 4, '데일리 매치': 4, '멋스러운 코디': 4, '블루 컬러 코디': 4, '훈훈한 스타일': 4, '시크한 스타일': 4, '캠퍼스 훈녀': 4, '코트 연출법': 4, '환절기 레이어드': 4, '신학기 룩': 4, '그래픽 디테일': 4, '찰떡 매치': 4, '따뜻하고 멋스럽게': 4, '포근한 외출': 4, '한파 대비': 4, '무톤 재킷의 계절': 4, '멋스러워!': 4, '데일리 룩 추천!': 4, '포인트 컬러': 4, '가을 컬러': 4, '발랄한 매치': 4, '추위 걱정 끝!': 4, '힙한 실루엣': 4, '따뜻한 색감': 4, '유니크 조합': 4, '적절한 매치': 4, '풋풋한 새내기': 4, '캠퍼스 패션': 4, '모노 톤 조합': 4, '워너비 실루엣': 4, '지금 입기 좋아!': 4, '데님 포인트!': 4, '청청 패션의 정석': 4, '매력적인 그녀': 4, '실패 없는 데님': 4, '핫 서머 룩': 4, '감각적인 룩': 4, '청량한 분위기': 4, '시원한 여름': 4, '인기 만점': 4, '산뜻한 캐주얼': 4, '핫한 조합': 4, '발랄한 코디': 4, '핑크가 대세!': 4, '꾸러기 스타일': 4, '꾸안꾸 정석': 4, '청량한 코디': 4, '옐로 포인트': 4, '모노 톤으로 완성': 4, '시원한 컬러': 4, '탐나는 스타일링': 4, '꾸안꾸 캠퍼스 룩': 4, '돋보이는 포인트': 4, '피크닉 가는 날': 4, '산뜻하게 완성': 4, '캐주얼 셋업': 4, '데일리 패션': 4, '인기 만점!': 4, '따뜻한 겨울나기': 4, '모노 톤의 매력': 4, '파스텔 코디': 4, '매일 입고 싶어!': 4, '따뜻해 보여': 4, '편하고 힙해': 4, '원 포인트 코디': 4, '담백한 매치': 4, '매력 발산!': 4, '꿀조합': 4, '산뜻한 코디': 4, '블루 스타일링': 4, '개성 넘쳐!': 4, '디테일 살리기': 4, '패턴이 포인트': 4, '블랙 홀릭': 4, '요즘 날씨에 딱!': 4, '워너비 패션': 4, '트렌치코트 활용법': 4, '완벽한 스타일': 4, '기본에 충실': 4, '남다른 무드': 4, '활동성 100%': 4, '로고 포인트': 4, '발랄하게': 4, '귀여운 스타일': 4, '여름 느낌 물씬': 4, '느낌 있어': 4, '화사한 봄 코디': 4, '편한게 좋아': 4, '편하고 좋아': 4, '심플한 무드': 4, '차분한 컬러': 4, '레이어드로 완성': 4, '훈훈하게 완성': 4, '카디건 코디': 4, '존재감 있게': 4, '가볍게 걸치기': 4, '사랑스러운 조합': 4, '심플 이즈 베스트': 4, '위트를 더해': 4, '탐나는 아우터': 4, '위트 넘쳐!': 4, '깔끔한 캐주얼': 4, '데이트에 제격': 4, '겨울에도 화사하게': 4, '러블리 한 스푼': 4, '시크하게 완성': 4, '색다른 느낌': 4, '상큼한 조합': 4, '포인트로 제격': 4, '화사함에 반해': 4, '편하게 즐겨요': 4, '멋짐 한도 초과': 4, '레이어드 고수': 4, '기막힌 조합': 4, '가볍게 입자!': 4, '서머 데이트 룩': 4, '상큼 발랄해': 4, '질리지 않아!': 4, '심쿵 스타일': 4, '내추럴한 멋': 4, '지금 입기에 딱!': 4, '블랙 스타일링': 4, '봄과 어울려': 4, '매력 넘친다': 4, '편안한 스타일': 4, '멋짐 폭발': 4, '돋보이는 아이템': 4, '가볍게 툭!': 4, '차분한 매력': 4, '컬러 조합 최고!': 4, '설레는 코디': 4, '포근하게': 4, '누구나 쉽게': 4, '원 포인트!': 4, '편안함이 좋아': 4, '뚜렷한 존재감': 4, '귀염뽀짝': 4, '편하고 따뜻하게': 4, '멋진 하루': 4, '미친 컬러 조합': 4, '귀여운 데일리': 4, '블레이저 코디': 4, '오늘의 주인공': 4, '너무 예뻐!': 4, '컬러로 승부': 4, '편한게 최고': 4, '세상 편하게': 4, '진리의 아메카지': 4, '오버핏 간지': 4, '힙스터 스타일': 4, '가볍고 편하게': 4, '사랑스러움 가득': 4, '톤온톤 룩': 4, '너무 예뻐': 4, '미니멀리스트': 4, '데일리룩 강추': 4, '후리하게': 4, '라벤더 향기': 4, '스프링룩': 4, '간단하게 멋내기': 4, '시크한 조합': 4, '미니멀리즘': 4, '시크하게!': 4, '감각적인 코디': 4, '시크 털털하게': 4, '눈길이 간다': 4, '모던 룩': 4, '모노톤 연출': 4, '매력적인 실루엣': 4, '독보적 존재감': 4, '독보적인 실루엣': 4, '독보적인 아우라': 4, '돋보이는 실루엣': 4, '로맨틱 시크': 4, '성숙한 분위기': 4, '시크한 그녀': 4, '강렬한 인상': 4, '매력 상승': 4, '감각적인 실루엣': 4, '시크한 마무리': 4, '남다른 포스': 4, '트위드 활용법': 4, '뉴 프레피': 4, '댄디 그 자체': 4, '댄디 무드': 4, '데이트 가자': 4, '미니멀 댄디 룩': 4, '세련된 조합': 4, '댄디의 정석': 4, '홀리데이 룩': 4, '미니멀 데이트 룩': 4, '톤온톤의 매력': 4, '분위기 있는 룩': 4, '지적인 미': 4, '취향 저격 코디': 4, '남친 룩의 표본': 4, '댄디한 분위기': 4, '얼죽코 코디': 4, '반하겠어': 4, '클래식한 매력': 4, '댄디 가이': 4, '분위기에 취해': 4, '분위기 넘쳐': 4, '깔끔한 남자': 4, '호감도 상승': 4, '유니크 무드': 4, '가을 느낌': 4, '포멀 룩의 정석': 4, '멋있는 조합': 4, '심플함의 미학': 4, '위풍당당': 4, '원피스로 끝!': 4, '키치한 매력': 4, '윈터 걸리시': 4, '데이트 룩 추천!': 4, '꾸미고 싶은 날': 4, '발랄한 그녀': 4, '시선을 빼앗겨': 4, 'Y2K 감성': 4, '하이틴 끝판왕': 4, '러블리한 하루': 4, '걸리쉬 룩': 4, '요즘 골프 룩': 4, '여름 필드 룩': 4, '캐주얼 한 스푼': 4, '필드 룩 추천': 4, '서머 골프 룩': 4, '시원한 필드 룩': 4, '화사한 골프 룩': 4, '필드 룩 추천!': 4, '세련된 골프 룩': 4, '가벼운 골프 룩': 4, '트렌디한 골프 웨어': 4, '탐나는 필드 룩': 4, '캐주얼 골프 룩': 4, '남다른 골프 웨어': 4, '시크한 골프 룩': 4, '귀여운 골프 웨어': 4, '오늘의 필드 룩': 4, '독보적인 스타일': 4, '로맨틱 분위기': 4, '분위기에 반해': 4, '포인트 가득': 4, '오운완': 4, '운동하는 남자': 4, '힙스터': 4, '시선 집중 코디': 4, '스포티걸': 4, '강렬한 모습': 4, '스트릿 룩': 4, '유니크한 룩': 4, '스트릿 강자': 4, '힙하게 입기': 4, '귀엽고 힙해': 4, '밀리터리': 4, '쿨한 컬러 매치': 3, '아메카지의 정석': 3, '오버올 코디': 3, '롤업 디테일': 3, '서머 니트 연출법': 3, '스타일링 치트키': 3, '패셔너블': 3, '스타일리시한 셋업': 3, '색다른 모습': 3, '조화로워!': 3, '캐주얼한 연출': 3, '겨울 아메카지': 3, '포근한 착용': 3, '뉴트럴 컬러 조합': 3, '멋스럽게 완성': 3, '서머 시티보이': 3, '점프 슈트 활용법': 3, '멋스러운 모습': 3, '따뜻하게 꾸미기': 3, '[이동연 스타일리스트] 패턴 포인트': 3, '환절기 캐주얼': 3, '[정설 스타일리스트] 확실한 포인트': 3, '일상 속 한복': 3, '경쾌한 무드': 3, '캠퍼스 스타일': 3, '독보적이야!': 3, '스웨트셔츠의 계절': 3, '편안하게 완성': 3, '데일리한 조합': 3, '트렌디한 아웃핏': 3, '환절기에 제격': 3, '니트 활용법': 3, '꾸안꾸 홀릭': 3, '워싱의 매력': 3, '셔츠의 계절': 3, '블록코어 룩': 3, '편한 실루엣': 3, '깔끔한 아웃핏': 3, '시원하게 완성': 3, '그래픽이 좋아': 3, '바캉스 즐기기': 3, '카고 팬츠 활용법': 3, '스트라이프의 매력': 3, '오버 핏으로 완성': 3, '패턴 셔츠 활용법': 3, '바비코어': 3, '특별한 조합': 3, '레이어링 센스': 3, '유니크 포인트': 3, '핑크 컬러 포인트': 3, '크로셰 활용법': 3, '활동성 최고': 3, '[이동연 스타일리스트] 트렌드 아이템': 3, '유니크한 연출': 3, '깔끔함의 정석': 3, '쿨하게 완성': 3, '데님 연출법': 3, '민소매의 계절': 3, '캐주얼하게 완성': 3, '쿨한 레이어드': 3, '여름에 제격': 3, '비 오는 날엔': 3, '파스텔 조합': 3, '베이식의 정석': 3, '바캉스 코디': 3, '바캉스 무드': 3, '여행을 떠나요': 3, '오버 핏 매치': 3, '편안함이 매력': 3, '차분해 보여': 3, '반소매의 계절': 3, '비가 와도 좋아': 3, '스타일에 반해': 3, '여행 가자!': 3, '여행 룩 추천!': 3, '티셔츠 활용법': 3, '멋스러운 데일리': 3, '시원하게 즐겨': 3, '무심하게': 3, '바캉스 준비': 3, '떠나고 싶어!': 3, '가벼운 연출': 3, '스트라이프 코디': 3, '레이어링 추천': 3, '폭염 대비': 3, '여름의 컬러': 3, '휴양지 패션': 3, '안정적인 톤': 3, 'COOL!': 3, '스타일 살리기': 3, '부츠 컷 실루엣': 3, '여름 준비': 3, '훈남 코디': 3, '화사한 색감': 3, '데일리로 완성': 3, '화이트 홀릭': 3, '봄 캐주얼 룩': 3, '컬러감이 좋아': 3, '완벽 매치': 3, '캐주얼 코디': 3, '남친 룩 등극': 3, '활동성 업!': 3, '캠퍼스 패피': 3, '핑크 컬러 활용법': 3, '힙 바이브!': 3, '톡톡 튀는 매력': 3, '카디건 포인트': 3, '겨울 원 마일 웨어': 3, '찰떡 스타일링': 3, '따뜻한 외출': 3, '겨울 데일리 룩': 3, '데일리 꿀조합': 3, '데일리 룩의 정석': 3, '겨울 캠퍼스 룩': 3, '꾸안꾸는 이렇게': 3, '얼죽코': 3, '플리스 활용법': 3, '따뜻하게 완성': 3, '편한 게 최고야': 3, '포인트가 중요해': 3, '화사한 컬러 조합': 3, '블루 러버': 3, '편한 조합': 3, '입고 싶은 코디': 3, '화사한 데일리 룩': 3, '뉴트럴 매치': 3, '뉴트럴 컬러 매치': 3, '비가 와도 멋지게!': 3, '넘치는 분위기': 3, '레이어드 비법': 3, '남다른 데일리 룩': 3, '니트 스타일링': 3, '센스 넘쳐': 3, '손이 가는 코디': 3, '스타일리시한 무드': 3, '크롭 활용법': 3, '편안하고 멋스러워': 3, '가을 남자': 3, '귀여운 컬러 조합': 3, '스타일 UP!': 3, '훈훈한 캠퍼스 룩': 3, '그린 포인트!': 3, '편해보여!': 3, '폭염 주의보': 3, '깔끔한 모노 톤': 3, '발랄한 이미지': 3, '유니크한 디자인': 3, '펀칭 디테일': 3, '루즈 핏이 대세': 3, '편안한 게 최고!': 3, '니트 포인트': 3, '인생 코디': 3, '해변으로 가요': 3, '오버 핏 연출': 3, '캠핑에 제격': 3, '그래픽의 향연': 3, '서머 레이어드': 3, '휴양지 코디': 3, '꾸러기 같아': 3, '돋보이는 패턴': 3, '색다른 포인트': 3, '무더위 극복!': 3, '가벼운 운동': 3, '더위 걱정 끝!': 3, '화이트 스타일링': 3, '적당한 포인트': 3, '개성 있어!': 3, '은근 매력 있어': 3, '화사해보여': 3, '봄 내음 물씬!': 3, '감각적인 스타일': 3, '개성 넘치는 조합': 3, '믹스 매치 스타일': 3, '신학기 코디': 3, '매력적인 포인트': 3, '완벽한 꿀조합': 3, '깔끔해!': 3, '끌리는 매력': 3, '편한 게 최고!': 3, '깔끔한 포인트': 3, '레이어드가 대세': 3, '따뜻하게!': 3, '개성 가득!': 3, '포근한 코디': 3, '캠퍼스의 패피': 3, '인기 있는 패션': 3, '한파 걱정 끝!': 3, '탁월한 조합': 3, '홀리데이 코디': 3, '체크의 매력': 3, '깔끔한 톤온톤': 3, '힙해보여!': 3, '따뜻함 가득!': 3, '디테일에 집중': 3, '포근한 조합': 3, '볼수록 매력 있어': 3, '캠핑 즐기기': 3, '꾸안꾸로 딱!': 3, '따뜻한 레이어드': 3, '편하고 멋스러워': 3, '유니크한 패턴': 3, '셋업 연출': 3, '포근한 하루': 3, '대세는 그린!': 3, '겨울 필수 아이템': 3, '체크로 완성': 3, '돋보이는 그래픽': 3, '안정적인 색감': 3, '개성 넘치게': 3, '이렇게 입자': 3, '컬러에 반했어': 3, '러프하게': 3, '세련된 감각': 3, '데일리 룩 강추': 3, '아우터 활용법': 3, '힙한 느낌': 3, '매력적인 셋업': 3, '매력있어': 3, '담백하게 완성': 3, '파스텔 포인트': 3, '빈티지 스타일': 3, '화사해!': 3, '따라 입기 좋아': 3, '간단한데 멋져!': 3, '가벼운 조합': 3, '핫한 스타일!': 3, '여름에 입는 니트': 3, '유니크한 스커트': 3, '달콤한 컬러': 3, '여름 안에서!': 3, '센스 가득': 3, '완벽한 스타일링': 3, '청량한 서머 룩': 3, '셔츠로 완성!': 3, '화사하게 꾸미기': 3, '장마철 스타일링': 3, '쿨한 마무리': 3, '모노 톤 연출법': 3, '무결점 스타일': 3, '청량해': 3, '간편한 코디': 3, '최고의 조합': 3, '요즘 대세 코디': 3, '가볍고 편안해': 3, '컬러 포인트 코디': 3, '컬러 더하기': 3, '자유로운 멋': 3, '시티보이': 3, '편안한 스타일링': 3, '귀여운 포인트!': 3, '시원한 조합': 3, '하나로 끝내!': 3, '리조트 룩': 3, '포인트는 체크!': 3, '초록초록해': 3, '활동성 갑!': 3, '귀여움 가득!': 3, '에너지 넘쳐!': 3, '심플 캐주얼': 3, '편안함의 끝': 3, '담백한 실루엣': 3, '산뜻한 컬러 매치': 3, '기본 중 기본': 3, '레이어드 센스!': 3, '레트로 스타일': 3, '실패 없어!': 3, '포근함 더하기': 3, '따뜻함이 두 배!': 3, '밀리터리 룩': 3, '특별한 룩': 3, '스타일 만점': 3, '간결한 마무리': 3, '볼수록 멋져': 3, '첫눈에 반했어': 3, '포근해서 좋아': 3, '상큼 발랄!': 3, '귀엽고 따뜻하게!': 3, '레더의 매력': 3, '완벽한 꿀 조합': 3, '남다른 스타일링': 3, '디테일이 가득!': 3, '시크 캐주얼': 3, '똑 떨어지는 핏': 3, '패턴 홀릭': 3, '데일리 코트': 3, '귀여움에 빠져': 3, '자주 입게 돼': 3, '부담 없이 즐겨': 3, '돌직구 매력': 3, '청순미 가득': 3, '유니크의 정점!': 3, '상큼함에 반해': 3, '예감 좋은 날': 3, '상큼함 더하기': 3, '점프수트 활용법': 3, '포인트는 이렇게': 3, '단아함 가득': 3, '심플한 포인트': 3, '간결한 라인': 3, '남친 룩 정석': 3, '타이다이의 계절': 3, '눈이 즐거워': 3, '매력이 뚝뚝': 3, '느낌 알지?': 3, '마성의 데님': 3, '귀여움 한도 초과': 3, '세련미 넘쳐': 3, '데일리로 찰떡!': 3, '편하고 귀여워': 3, '스타일 체크!': 3, '심플함의 매력': 3, '경쾌한 포인트': 3, '상큼하잖아!': 3, '셋업으로 편하게': 3, '여름을 준비해': 3, '간편하게!': 3, '남자의 핑크': 3, '어쩐지 좋아': 3, '내일은 이렇게': 3, '데일리로 최고': 3, '치명적인 매력': 3, '하늘색 꿈': 3, '데일리의 정석': 3, '어쩐지 귀여워': 3, '오늘도 맑음!': 3, '설레는 봄': 3, '그냥 멋있어': 3, '개강 준비': 3, '화사한 봄날': 3, '최애 조합': 3, '빈티지 매력': 3, '블레이저의 계절': 3, '봄 데일리 룩': 3, '봄 코디로 딱!': 3, '가볍게 입기 좋아': 3, '깔끔한 분위기': 3, '레더로 멋 내기': 3, '클린 캐주얼': 3, '데일리로 입기': 3, '활동성 최고!': 3, '힙하게!': 3, '위트 있게': 3, '데일리 완성': 3, '완전 내 스타일!': 3, '세상 편해': 3, '플리스의 계절': 3, '옷잘알 코디': 3, '데일리 룩 해결': 3, '부드럽고 따뜻해': 3, '길게 입자': 3, '핫한 아이템': 3, '당당한 매력': 3, '오늘의 분위기': 3, '귀엽잖아!': 3, '매일 입어줘!': 3, '스웨터가 다함': 3, '힙한 남자': 3, '시크한 블랙': 3, '돋보이는 핏': 3, '깔끔한 느낌': 3, '피크닉 데이트': 3, '셔츠로 멋내기': 3, '감탄사 연발': 3, '상큼 터져': 3, '로고 티셔츠 코디': 3, '하와이안 보이': 3, '싱그러움 가득': 3, '바캉스에 딱!': 3, '강렬하게!': 3, '하늘하늘': 3, '예쁜 조합': 3, '젊은 우리!': 3, '루즈한 멋': 3, '청량함 가득': 3, '훈남의 정석': 3, '깔끔한 무드': 3, '하나만 입어도': 3, '원피스로 올킬': 3, '너무 예쁘잖아': 3, '셔츠의 매력': 3, '은은하게': 3, '라임 러브': 3, '로맨틱 캐주얼': 3, '청량감 넘쳐': 3, '청량하게': 3, '단아하다': 3, '실패없는 조합': 3, '자연스럽게': 3, '깔끔함의 미학': 3, '루즈하게': 3, '쇼츠의 계절': 3, '셋업으로 끝내기': 3, '깔끔하게!': 3, '편한게 최고!': 3, '내추럴한 매력': 3, '귀여운 원피스': 3, '오늘은 힙하게': 3, '깔끔한 스트릿': 3, '체크 셔츠는 필수': 3, '카모의 매력': 3, '너무 귀엽잖아': 3, '컬러로 승부!': 3, '데일리룩': 3, '봄을 담은 컬러': 3, '크롭의 계절': 3, '레이어드 스킬': 3, '세련미 장착': 3, '셋업으로 멋내기': 3, '운동하러 가자': 3, '유니크한 원피스': 3, '베스트 스타일링': 3, '데일리룩 저격': 3, '올블랙 시크': 3, '니트니트해': 3, '상큼 발랄하게': 3, '셋업은 진리': 3, '로고의 힘': 3, '러블리 카디건': 3, '따뜻하고 편하게': 3, '유스 룩': 3, '세련된 연출': 3, '유니크 셋업': 3, '모노톤 스타일': 3, '모던 시크': 3, '독보적 아우라': 3, '모던한 이미지': 3, '부드러운 분위기': 3, '완벽한 실루엣': 3, '블랙 & 화이트': 3, '최애 컬러': 3, '색다른 분위기': 3, '힙 앤 시크': 3, '여름에도 블랙!': 3, '시크 지수 업!': 3, '고급진 실루엣': 3, '원피스로 끝내기!': 3, '오늘의 주인공!': 3, '활동하기 편해': 3, '카리스마 뿜뿜': 3, '시크한 레더': 3, '럭셔리 무드': 3, '단정한 실루엣': 3, '바캉스 룩 추천': 3, '여심 저격 패션': 3, '올해도 타이다이': 3, '화사한 연출': 3, '이목 집중': 3, '댄디한 멋': 3, '젠틀하게': 3, '댄디한 매력': 3, '카디건 연출법': 3, '데님 패션': 3, '미니멀의 정석': 3, '레더 포인트': 3, '환절기 데이트 룩': 3, '깔끔한 남친 룩': 3, '스타일리시한 출근 룩': 3, '댄디한 연출': 3, '차분한 이미지': 3, '간결한 매력': 3, '연말 데이트 룩': 3, '겨울 남자': 3, '머플러의 계절': 3, '가을 멋쟁이': 3, '트렌디해!': 3, '유니크한 모습': 3, '매력 어필': 3, '산뜻한 멋': 3, '워너비 남친 룩': 3, '시원한 무드': 3, '지적인 느낌': 3, '독보적인 멋': 3, '가벼운 아우터': 3, '미니멀한 매치': 3, '화사한 코디': 3, '롱 코트 연출법': 3, '따뜻한 컬러 매치': 3, '시크한 룩': 3, '베이식한 멋': 3, '유행의 선두주자': 3, '퍼플 포인트': 3, '데이트에 제격!': 3, '볼수록 멋져!': 3, '첫눈에 반해': 3, '레이어드 정석': 3, '난 네게 반했어': 3, '어쩐지 멋있어': 3, '신사의 품격': 3, '남자는 핑크!': 3, '모던하게': 3, '상견례 프리패스': 3, '코트 훈남': 3, '출근 룩의 정석': 3, '남다른 분위기': 3, '출근 룩 스타일링': 3, '봄 출근 룩': 3, '멋스러운 출근길': 3, '미니멀 출근 룩': 3, '코트의 매력': 3, '완벽한 출근 룩': 3, '완벽 그 자체': 3, '쿨비즈의 정석': 3, '비즈니스 룩': 3, '분위기를 담아': 3, '클래식 감성': 3, '매력이 넘쳐!': 3, '겨울엔 레이어드!': 3, '가을을 닮은': 3, '트렌치의 계절': 3, '비즈니스맨': 3, '깔끔해서 좋아!': 3, '우아한 멋': 3, '완벽 실루엣': 3, '설레는 봄 코디': 3, '시크함 물씬': 3, '지나치게 예뻐': 3, '감각 있는 룩': 3, '봄이 온다': 3, '딱 좋은 스타일': 3, '내가 찾던 코디': 3, '여친 룩 스타일': 3, '여친 룩 추천': 3, '과감한 스타일': 3, '발레코어 룩': 3, '하이틴 코디': 3, '레이어드의 진수': 3, '포인트 가득!': 3, '매력 만점!': 3, '러블리한 그녀': 3, '걸리시 룩의 정석': 3, '체크의 계절': 3, '귀여운 마무리': 3, '볼수록 예쁘다': 3, '원피스의 계절': 3, '스커트의 계절': 3, '원피스 코디': 3, '산뜻한 매치': 3, '사랑스러운': 3, '빛나는 하루': 3, '함께 입으면 더 예뻐': 3, '대세 스웨트셔츠': 3, '누가 봐도 예쁨': 3, '귀엽게 완성': 3, '산뜻한 윈터 룩': 3, '러블리 데이트 룩': 3, '프레피의 정석': 3, '상큼 발랄하게!': 3, '원피스의 매력': 3, '핫해서 끌려': 3, '귀여움 가득': 3, '마음에 든다': 3, '환절기 골프 룩': 3, '데일리 골프 웨어': 3, '영 골퍼': 3, '봄 라운딩 룩': 3, '가벼운 골프 웨어': 3, '남다른 필드 룩': 3, '겨울 라운딩 룩': 3, '걸리시 골프 웨어': 3, '겨울 골프 룩': 3, '필드 위의 패피': 3, '라운딩 룩 추천!': 3, '골프 치는 날': 3, '골프 코디네이션': 3, '골프 치기 좋은 날': 3, '경쾌한 골프 웨어': 3, '눈에 띄는 조합': 3, '눈에 띄는 룩': 3, '데이트 룩 연출': 3, '로맨틱 데이트': 3, '차분한 색감': 3, '로맨틱 디테일': 3, '로맨틱 데이': 3, '하객 룩 추천': 3, '단아한 하객 룩': 3, '청순한 그녀': 3, '멋스러운 스포츠 룩': 3, '피트니스 룩': 3, '스포티한 멋': 3, '애슬레저 러버': 3, '텐션 업!': 3, '활동성 보장': 3, '테크 웨어 정석': 3, '애슬레저': 3, '힙한 분위기': 3, '힙한 조합': 3, '눈에 띄는 실루엣': 3, '힙한 이미지': 3, '힙스터 코디': 3, '카무플라주 활용법': 3, '힙한 마무리': 3, '힙한 그녀': 3, '스트릿의 완성': 3, '시크한 스트릿룩': 3, '스트릿 간지': 3, '스트릿룩의 정석': 3, '스트릿 캐주얼 룩': 3, '환절기 고프코어': 3, '아웃도어 스타일': 3, '이지 고프코어': 3, '캠핑 가는 날': 3, '미니멀 아메카지': 2, '페스티벌 패피': 2, '오버올 활용법': 2, '뉴스보이 룩': 2, '서머 아메카지': 2, '멋스러운 블랙': 2, '실패 없는 매치': 2, '빈티지 아메카지': 2, '힙한 아메카지': 2, '강렬한 색감': 2, '프레피 룩 연출': 2, '워너비 컬러 매치': 2, '아메카지': 2, '더플코트의 계절': 2, '조화로운 룩': 2, '따뜻해보여!': 2, '아메카지 패션': 2, '색다른 아메카지': 2, '카무플라주의 매력': 2, '댄디한 아메카지': 2, '꾸러기처럼': 2, '스타일리시한 소년': 2, '가벼운 시티보이': 2, '패턴에 반했어': 2, '캠핑 룩으로 제격': 2, '항공 점퍼 코디': 2, '가볍지만 멋스럽게': 2, '지금 필요한 아우터': 2, '매력 있게': 2, '체크 패턴 즐기기': 2, '톤 다운 연출': 2, '손이 가는 조합': 2, '깔끔하게 멋 내기': 2, '톤온톤 연출': 2, '그래픽 즐기기': 2, '전통의 미': 2, '생활한복 코디': 2, '올 블랙 패션': 2, '데일리 추천': 2, '돋보이는 코디': 2, '[이동연 스타일리스트] 남다른 센스': 2, '[이동연 스타일리스트] 개성 만점': 2, '[이동연 스타일리스트] 데일리 무드': 2, '[이동연 스타일리스트] 디테일 더하기': 2, '[이동연 스타일리스트] 괜찮은 조합': 2, '핑크가 잘 어울려': 2, '훈훈한 대학생': 2, '편안한 연출법': 2, '셋업 패션': 2, '체크 셔츠 코디': 2, '남다른 존재감': 2, '트러커의 계절': 2, '따라 하고 싶어!': 2, '캐주얼한 매치': 2, '완벽한 디테일': 2, '스웨트 패션': 2, '힙한 포인트': 2, '와이드한 실루엣': 2, '데님 코디': 2, '블록코어 스타일': 2, '클래식 조합': 2, '오버 핏 조합': 2, '핑크 컬러가 대세': 2, '카무플라주 매력': 2, '쿨하게 즐겨': 2, '카고 활용법': 2, '레인 부츠 활용법': 2, '쿨한 데일리 룩': 2, '매력적인 아웃핏': 2, '심플한 게 최고': 2, '눈에 띄는 포인트': 2, '레인 부츠는 필수': 2, '편한데 힙해!': 2, '장마 코디': 2, '쿨한 서머 룩': 2, '쿨한 스타일링': 2, '스타일리시한 데님': 2, '리조트 웨어': 2, '[이동연 스타일리스트] 셔츠 스타일링': 2, '[이동연 스타일리스트] 손쉬운 연출': 2, '원피스 레이어드': 2, '[정진아 스타일리스트] 톤온톤 매치': 2, '[윤애리 스타일리스트] 패셔니스타': 2, '데일리한 연출': 2, '조화로운 조합': 2, '간편한 스타일링': 2, '레이어드 즐기기': 2, '[정설 스타일리스트] 시스루의 매력': 2, '가벼운 코디': 2, '화사한 캐주얼': 2, '편하게 입어봐': 2, '청량한 스타일': 2, '린넨 셔츠 활용법': 2, '간편한 외출 룩': 2, '쿨한 아웃핏': 2, '여행 가기 좋은 날': 2, '레인코트 활용법': 2, '[윤애리 스타일리스트] 남다른 아웃핏': 2, '여행 가는 날': 2, '슬리브리스 코디': 2, '컷아웃 포인트': 2, '오버 핏 스타일': 2, '편하게 입어봐!': 2, '시원한 여행 룩': 2, '경쾌하게': 2, '훈훈한 무드': 2, '완벽한 코디': 2, '떠나자!': 2, '여름맞이': 2, '서머 아웃도어': 2, '디테일 강조': 2, '와이드 스타일': 2, '레이어드 매력': 2, '가볍게 즐기기': 2, '블랙 아이템': 2, '파스텔 컬러 조합': 2, '세련된 컬러 매치': 2, '담백한 차림새': 2, '휴양지 스타일': 2, '편안한 데일리 룩': 2, '크로셰 디테일': 2, '미니멀 스타일': 2, '티셔츠에 청바지': 2, '센스 있게 완성': 2, '봄 컬러 조합': 2, '간결한 매치': 2, '힙하게 즐겨': 2, '오버롤 코디': 2, '가볍게 즐겨': 2, '끌리는 코디': 2, '시원해보여!': 2, '모노톤 데일리 룩': 2, '디테일이 관건': 2, '봄 코디': 2, '신학기 룩 추천': 2, '탐나는 아이템': 2, '트렌디한 레이어드': 2, '포인트를 더해줘': 2, '캐주얼 룩 완성': 2, '카디건의 매력': 2, '무채색 조합': 2, '셋업 홀릭': 2, '감각적인 데일리 룩': 2, '대세 조합': 2, '컬러 조합 좋아': 2, '꾸안꾸': 2, '캐주얼 끝판왕': 2, '포인트 코디': 2, '얼죽코의 매력': 2, '베이식 조합': 2, '따뜻한 마무리': 2, '꿀 조합 코디': 2, '환절기 캠퍼스 룩': 2, '따뜻하게': 2, '컬러 블록 포인트': 2, '오버사이즈 핏 매력': 2, '가볍게 멋 내기': 2, '윈터 캠퍼스 룩': 2, '힙해 보여': 2, '완벽 데일리 룩': 2, '감각적 조합': 2, '편하게 꾸민': 2, '깔끔한 데일리 룩': 2, '겨울 코디': 2, '머플러 더하기': 2, '멋스러운 데님 코디': 2, '늘 새로워': 2, '조화로운 스타일': 2, '빈티지 디테일': 2, '따라 입어 봐!': 2, '롱 패딩의 계절': 2, '힙스터 분위기': 2, '원 컬러 포인트!': 2, '돋보이는 색감': 2, '파스텔 컬러의 향연': 2, '캠핑 룩 추천!': 2, '센스 있는 컬러 매치': 2, '숏 패딩의 계절': 2, '포근한 무드': 2, '올겨울 필수템': 2, '롱 패딩 스타일링': 2, '가벼운 캐주얼 룩': 2, '한파에는 이렇게!': 2, '빈티지 패션': 2, '힙한 캠퍼스 룩': 2, '루즈하게 완성': 2, '탐나는 레이어드': 2, '귀여운 프레피 룩': 2, '볼수록 귀여워': 2, '멋스러운 레이어드': 2, '세련된 룩': 2, '편하게 스타일링': 2, '따뜻하게 멋 내기': 2, '빈티지 조합': 2, '만점 코디': 2, '포인트 주는 법': 2, '시선 집중 패션': 2, '꾸안꾸 완성!': 2, '캠퍼스 룩 추천!': 2, '환절기 꾸안꾸': 2, '개강 룩 추천': 2, '셋업 아이템': 2, '스웨트 스타일링': 2, '데님 홀릭': 2, '베이식하게': 2, '그래픽에 주목!': 2, '대세는 핑크!': 2, 'MZ 무드': 2, '멋스러운 셋업 룩': 2, '루즈 핏 코디': 2, '꾸안꾸란 이런 것': 2, '가을 캠퍼스 룩': 2, '캐주얼 룩의 표본': 2, '파스텔 컬러 매치': 2, '화사한 원피스 룩': 2, '안정적인 컬러감': 2, '아우터 포인트': 2, '오버 핏 활용법': 2, '빈티지한 느낌': 2, '심플한 코디': 2, '유니크한 그래픽': 2, '이런 게 꾸안꾸': 2, '스타일리시한 모노 톤': 2, '크로셰 포인트': 2, '그린 러버': 2, '청청 패션 꾸미기': 2, '탐나는 룩': 2, '컬러 매치가 관건!': 2, '바캉스 룩': 2, '그래픽 활용법': 2, '포인트는 핑크!': 2, '서머 셋업 룩': 2, '여행 가는 기분': 2, '화사하게 즐겨': 2, '바캉스 가자!': 2, '블루 코디': 2, '이색 조합': 2, '손쉽게 꾸미는 법': 2, '페스티벌 패션': 2, '트렌디한 디테일': 2, '화사한 컬러감': 2, '리조트 스타일링': 2, '누구나 편하게!': 2, '비가 와도 괜찮아': 2, '떠나고 싶어': 2, '눈에 띄는 컬러감': 2, '체크로 완성!': 2, '핏이 예술': 2, '서머 코디네이션': 2, '남다른 심플함': 2, '서머 셔츠 활용법': 2, '발랄한 느낌': 2, '컬러 매치 추천!': 2, '디테일 가득해': 2, '시원한 차림': 2, '적당한 꾸밈': 2, '팬츠 활용법': 2, '꾸민 듯 안꾸민 듯': 2, '센스를 발휘해': 2, '컬러 매치 추천': 2, '눈길이 가는 룩': 2, '미니멀 캐주얼': 2, '트렌디한 캐주얼': 2, '깔끔한 컬러 조합': 2, '요즘 대세 컬러': 2, '베스트 스타일': 2, '강렬한 디테일': 2, '컬러에 시선 집중': 2, '나들이 룩 추천!': 2, '가벼운 느낌': 2, '패피의 캠퍼스 룩': 2, '봄 스타일링': 2, '상큼한 포인트': 2, '니트 셋업 룩': 2, '쿨한 멋': 2, '화사한 게 좋아': 2, '이색 레이어드': 2, '패턴으로 포인트': 2, '봄 느낌 물씬!': 2, '완벽한 포인트': 2, '캠퍼스 데일리': 2, '재킷 포인트': 2, '눈에 확 띄어': 2, '따라 입어 봐': 2, '유니크한 셋업': 2, '신학기 준비': 2, '레이어드의 정석': 2, '트렌디한 셋업': 2, '원 마일 웨어 연출': 2, '무톤 코트로 완성': 2, '센스 넘치게!': 2, '돋보이는 패션': 2, '탐나는 매치': 2, '귀엽게 마무리': 2, '아우터로 완성': 2, '완벽한 믹스 매치': 2, '독특한 포인트': 2, '유니크한 무드': 2, '포근해보여': 2, '트렌디한 컬러 매치': 2, '간단하고 멋스러워': 2, '트렌드 컬러': 2, '겨울 캐주얼 룩': 2, '따뜻한 매치': 2, '백 점짜리 조합': 2, '안정적인 컬러': 2, '겨울 캠핑 룩': 2, '겨울이 좋아': 2, '편한데 힙해 보여!': 2, '겨울 느낌 물씬!': 2, '얼죽코 패션': 2, '센스 더하기!': 2, '센스 만점 코디': 2, '반가운 비 소식': 2, '비비드한 포인트': 2, '편하고 시크해': 2, '체크의 향연': 2, '떠오르는 패션': 2, '숏 패딩 연출법': 2, '트렌디한 감각': 2, '겨울엔 레이어드': 2, '가볍게 즐겨!': 2, '컬러풀 포인트': 2, '스타일 완성': 2, '숏 패딩 포인트': 2, '컬러풀한 디테일': 2, '비가 오는 날엔!': 2, '캠퍼스 꾸러기': 2, '대세 스타일링': 2, '그래픽 아이템': 2, '매력적인 스타일링': 2, '체크를 더해줘': 2, '안정감 있어': 2, '클래식 아이템': 2, '편하게 즐겨!': 2, '힙해보여': 2, '무채색의 매력': 2, '알차게 꾸미기': 2, '따뜻한 매력': 2, '이런 게 꾸안꾸!': 2, '믹스 매치 러버': 2, '활동량 많은 날': 2, '특별한 레이어드': 2, '손쉬운 셋업 코디': 2, '편하고 힙한!': 2, '개성 뽐내기!': 2, '환절기 캐주얼 룩': 2, '레트로 캐주얼': 2, '훈훈한 느낌': 2, '꾸안꾸의 매력': 2, '환절기 필수템': 2, '아우터가 포인트': 2, '안정적인 조합': 2, '쿨한 감성': 2, '스타일리시한 매치': 2, '눈에 띄는 색감': 2, '시크한 연출법': 2, '더 쿨하게!': 2, '편안함 그 자체': 2, '가볍게 입어봐': 2, '귀여움 끝판왕': 2, '에스닉 감성': 2, '팬츠가 포인트': 2, '패턴에 주목': 2, '시크한 느낌': 2, '꾸안꾸 어때?': 2, '간단하게 꾸미기': 2, '에너지 가득!': 2, '경쾌한 매력': 2, '독보적인 무드': 2, '셔츠가 포인트': 2, '유니크한 분위기': 2, '대세 코디': 2, '활동성 up!': 2, '레오퍼드 포인트!': 2, '비비드 컬러 매치': 2, '티셔츠에 주목': 2, '피크닉 준비': 2, '워크 웨어 연출법': 2, '여름 컬러에 물든': 2, '은근히 멋져': 2, '흰 티에 청바지': 2, '찰떡 조합!': 2, '심플 캐주얼 룩': 2, '디테일을 더해!': 2, '가볍지만 알차게': 2, '가볍게 즐겨요': 2, '심플 스타일링': 2, '핑크핑크해!': 2, '꾸안꾸 좋아!': 2, '카우 패턴 활용법': 2, '여름 휴가 코디': 2, '데일리로 만점!': 2, '데님으로 완성': 2, '적절한 컬러 매치': 2, '파스텔 스타일링': 2, '데일리에 적합': 2, '서머 바캉스 룩': 2, '핫 서머 코디': 2, '볼캡 포인트': 2, '디테일 천재': 2, '블랙 활용법': 2, '핫 서머!': 2, '경쾌한 멋!': 2, '가볍게 완성!': 2, '가벼워서 좋아': 2, '미니멀해': 2, '귀엽게 완성!': 2, '편한데 예뻐!': 2, '패턴이 돋보여': 2, '편함 포인트': 2, '숏 팬츠 스타일링': 2, '가볍게 연출하기': 2, '확실한 포인트!': 2, '봄 아우터': 2, '스프링 셋업': 2, '편안한 하루': 2, '파스텔 활용법': 2, '인기 만점이야': 2, '쿨하다 쿨해!': 2, '매력이 뚝뚝!': 2, '적절한 레이어드': 2, '타이다이 매력': 2, '레이어드의 신': 2, '무톤 패션': 2, '컬러 조합 만점': 2, '비니 활용법': 2, '귀여운 아우터': 2, '데일리로 추천!': 2, '레오퍼드 홀릭': 2, '편하게 즐기는': 2, '강추위도 문제없어': 2, '스타일링 합격!': 2, '특별함을 더해!': 2, '숨은 디테일 찾기': 2, '스타일의 완성': 2, '레이어드 활용법': 2, '훈훈한 스타일링': 2, '미니멀이 대세': 2, '귀여운 데일리 룩': 2, '화사한 윈터 룩': 2, '기본 중의 기본': 2, '니트에 주목!': 2, '포근한 코트': 2, '레이어드는 필수': 2, '머플러 연출법': 2, '집콕 패션': 2, '매일 찾게 돼': 2, '화사하게 완성!': 2, '사복 패션 장인': 2, '기대 이상': 2, '트렌드 세터': 2, '귀여운 체크': 2, '코트로 마무리!': 2, '숏 패딩 활용법': 2, '따뜻하고 예뻐': 2, '든든한 재킷': 2, '레드로 포인트': 2, '아메리칸 스타일': 2, '롱 코트의 매력': 2, '원 마일 웨어 추천': 2, '최상의 조합': 2, '완벽한 레이어드': 2, '화사한 오늘': 2, '겨울 준비 끝!': 2, '레이어링 비법': 2, '아우터 맛집': 2, '데일리 룩 해결사': 2, '코트로 마무리': 2, '레이어링 스타일': 2, '인기 만점 스타일': 2, '가볍게 걸쳐봐': 2, '햇살 좋은 날': 2, '칭찬 일색': 2, '컬러에 주목!': 2, '레트로 패션': 2, '패턴 믹스 매치': 2, '발랄한 포인트!': 2, '존재감 200%': 2, '무심하게 멋 내기': 2, '돋보이는 팬츠': 2, '가을의 컬러': 2, '듬직해!': 2, '매력에 퐁당': 2, '생기발랄해': 2, '100점 만점': 2, '상큼하게!': 2, '가을 준비': 2, '오늘의 추천': 2, '랭킹 1위': 2, '꾸안꾸 치트키': 2, '데일리 강추!': 2, '가볍게 꾸미는 법': 2, '편안하고, 멋있게': 2, '간결한 디테일': 2, '패셔니스타!': 2, '비비드 포인트!': 2, '서머 레트로': 2, '근사한 모습': 2, '컬러로 포인트': 2, '패피는 이렇게!': 2, '완벽한 포인트!': 2, '시원한 매력': 2, '파스텔 톤 매력': 2, '의외의 조합': 2, '오늘의 무드': 2, '귀여움은 덤!': 2, '어디에나 착붙!': 2, '쉽게 입어': 2, '편안함은 덤!': 2, '비비드한 매력': 2, '오버사이즈 코디': 2, '단정한 코디': 2, '건강미 넘치게!': 2, '파스텔 톤 코디': 2, '훈훈한 매치': 2, '경쾌한 컬러': 2, '유니크하잖아!': 2, '깜찍 발랄!': 2, '심플한 오늘': 2, '오늘도 내일도': 2, '원 포인트 룩': 2, '이렇게 좋아': 2, '최애 코디': 2, '산뜻한 마무리': 2, '화이트&데님': 2, '컬러 매치 만점!': 2, '트렌디한 핏': 2, '제대로 여름': 2, '적당한 느낌': 2, '색감에 반해': 2, '원 포인트': 2, '이렇게 입어 봐': 2, '새로운 조합': 2, '단순한데 강렬해': 2, '이런 느낌 좋아': 2, '활동성 넘치는': 2, '개성을 입다': 2, '깔끔하고 편해': 2, '통통 튀어!': 2, '자꾸만 입게 돼': 2, '화사하니 더 예뻐': 2, '훈내 폴폴': 2, '나의 원픽!': 2, '때로는 이렇게': 2, '편한데 예뻐': 2, '여름날의 원피스': 2, '시원함은 덤': 2, '미니멀리즘 패션': 2, '매력에 빠져!': 2, '매일 입자': 2, '발끝 포인트': 2, '데이트 룩 정석': 2, '확실한 어필': 2, '가볍고 산뜻하게!': 2, '도도해 보여': 2, '모던한 무드': 2, '매일 입는 코디': 2, '자주 입는 룩': 2, '편안함은 덤': 2, '심플한 느낌': 2, '놓칠 수 없어!': 2, '역시 데님!': 2, '통통 튀어': 2, '슬랙스 여신': 2, '백 점 만점 코디': 2, '코디 장인': 2, '유스 룩의 정석': 2, '데일리 필수템!': 2, '봄맞이 코디': 2, '심플한 컬러 매치': 2, '컬러 포인트 장착': 2, '설레는 계절': 2, '캐주얼 데이': 2, '눈부신 컬러': 2, '핏으로 승부!': 2, '재킷의 계절': 2, '어렵지 않아!': 2, '러블리 룩': 2, '보통의 멋짐': 2, '환절기 아우터': 2, '쉽게 입기': 2, '멋쁨 폭발': 2, '실패 없는 룩': 2, '매일 입어봐!': 2, '이렇게 입어': 2, '요즘 많이 입어': 2, '이렇게 입을까?': 2, '끝없는 매력': 2, '은은한 디테일': 2, '편한 데일리 룩': 2, '언제나 편해': 2, '만능 아우터': 2, '청청 스타일링': 2, '마음에 들지?': 2, '유니크한 아이템': 2, '상큼하게 완성': 2, '믿고 입는 코디': 2, '남자라면 핑크': 2, '믹스 매치 코디': 2, '참고하기 좋아': 2, '깨끗하게 맑게': 2, '기다려온 계절': 2, '깔끔하잖아': 2, '아메카지 보이': 2, '내추럴 코디': 2, '오늘은 이렇게': 2, '치명적 매력': 2, '어깨 깡패': 2, '센스 있게 코디!': 2, '남다른 캐주얼': 2, '남다른 패딩': 2, '핫한 아우터': 2, '오늘 멋있어': 2, '역시 숏패딩!': 2, '매력 발산 중!': 2, '여리여리해': 2, '내 아우터 어때?': 2, '무톤 재킷의 멋': 2, '센스있는 조합': 2, '매력 터져!': 2, '컬러 조합': 2, '올킬 코트': 2, '플리스의 매력': 2, '따뜻한 겨울': 2, '캐주얼 코트': 2, '준비 완료': 2, '새콤달콤': 2, '유니크한 코디': 2, '패딩의 힘': 2, '데일리 스타일': 2, '귀여운 차림새': 2, '겨울나기': 2, '남다른 매력': 2, '스키장 가자!': 2, '세심한 매치': 2, '포근한 아우터': 2, '어디든 떠나자': 2, '진짜 좋아해!': 2, '자유분방한 멋': 2, '심플한게 최고': 2, '색조합 굿': 2, '은근 멋져': 2, '담백하게 꾸미기': 2, '매일 입고싶어!': 2, '추위 문제없어': 2, '세련미 낭낭': 2, '오늘의 데이트': 2, '레이어드 효과': 2, '지금 입어!': 2, '너무 멋져!': 2, '놓칠 수 없지': 2, '간결한 포인트': 2, 'MA-1의 매력': 2, '재킷 활용법': 2, '착 감기는 핏': 2, '믿고 입는 MA-1': 2, '훈남 결정체': 2, '지금 딱이야!': 2, '매일 입어': 2, '가을을 입다': 2, '잘생긴 코디': 2, '지금 날씨에 딱!': 2, '반짝반짝 빛나': 2, '오버핏 코디': 2, '너무 부드러워!': 2, '이국적인 느낌': 2, '너무 상큼!': 2, '멋진 남자의 룩': 2, '디테일의 차이': 2, '간절기 데일리 룩': 2, '여유있게': 2, '활기를 더해!': 2, '훈훈 캠퍼스 룩': 2, '반전있는 룩': 2, '시원한 데이트': 2, '데일리 스트릿': 2, '상큼하게': 2, '따라해봐!': 2, '핑크로 포인트!': 2, '시원한 색감': 2, '차분한 매치': 2, '댄디하게 마무리': 2, '상큼한 하루': 2, '경쾌한 분위기': 2, '사랑스러운 원피스': 2, '바로 이거야!': 2, '단아한 오늘': 2, '소프트한 매력': 2, '그린그린해': 2, '여름이니까': 2, '편안하고 시원해': 2, '매일의 티셔츠': 2, '기분 좋아!': 2, '지적인 스타일': 2, '여름 데일리 룩': 2, '단정하고 단아한': 2, '체리체리해': 2, '편하고 시원해': 2, '길어보이게': 2, '왠지 귀여워': 2, '여름 컬러 담아': 2, '매력적인 룩': 2, '편해 보여': 2, '휴가룩 강추': 2, '남친룩의 정석': 2, '서머 바이브': 2, '귀여운 여인': 2, '여름엔 쇼츠!': 2, '베이지 러버': 2, '최애 데일리룩': 2, '강렬한 컬러': 2, '더욱 편하게': 2, '블랙 앤 핑크': 2, '모두가 좋아해': 2, '편한 캐주얼': 2, '위트 있게!': 2, '컬러가 다했네': 2, '싱그러워': 2, '여름을 즐겨': 2, '심플한게 매력': 2, '깜찍한 티셔츠': 2, '올여름 교복': 2, '깔끔한 하루': 2, '귀여운 아메카지': 2, '독특한 셔츠': 2, '분위기 강탈': 2, '담백하게!': 2, '분위기 깡패': 2, '액세서리 포인트': 2, '사파리 월드': 2, '귀여움 독점': 2, '청순보스': 2, '프리티걸': 2, '개성을 담아': 2, '세상 귀여운': 2, '여유로운 날': 2, '무한 매력': 2, '여름 셔츠': 2, '여신 강림': 2, '베이식의 멋': 2, '매일의 코디': 2, '담백하고 깔끔한': 2, '컬러 맛집': 2, '귀여운 셔츠': 2, '귀여움 그 자체': 2, '실용성 만점': 2, '소프트 컬러': 2, '깔맞춤은 진리': 2, '세상 귀엽게': 2, '깔끔해서 더 멋져': 2, '화사한 스프링룩': 2, '민트 향기': 2, '트러커 재킷 코디': 2, '봄처럼 화사해': 2, '청량한 조합': 2, '편하게 힙해': 2, '은근 인기 많아': 2, '벚꽃 보러 가자': 2, '밀리터리 무드': 2, '캠퍼스룩의 정석': 2, '밤에도 빛나': 2, '셋업 캐주얼': 2, '원피스가 편해': 2, '패턴 온 패턴': 2, '밀리터리 감성': 2, '자유롭게': 2, '이런 코디 사랑해': 2, '후디 하나면 끝': 2, '베이식의 매력': 2, '소녀감성': 2, '밝은 컬러 매치': 2, '데일리 아이템': 2, '후리하게 멋내기': 2, '볼수록 매력있어': 2, '매일 입고싶은': 2, '카디건 훈남': 2, '이코디 합격': 2, '장난꾸러기 같아': 2, '캠퍼스 가십걸!': 2, '봄햇살 같아': 2, '트렌치 훈남': 2, '아메카지룩': 2, '산뜻함을 더해': 2, '발랄하게 입자': 2, '무심한듯 멋있게': 2, '과대 남신': 2, '얼.죽.코': 2, '레이어드의 귀재': 2, '어쩐지 멋져': 2, '우아한 스타일': 2, '플리스 코디': 2, '스무스하게!': 2, '센스 넘치는 조합': 2, '찰떡 플리스': 2, '매력 터져': 2, '대세는 숏패딩!': 2, '심쿵 셋업': 2, '멋있게 레이어드': 2, '브리티시 보이': 2, '편하게 입자고': 2, '니트가 다함': 2, '감각 있게!': 2, '센스 만점 룩': 2, '시크한 당신': 2, '편안한 멋': 2, '더플코트 매력': 2, '패딩룩의 강자': 2, '레이어드 훈남': 2, '과탑 미녀 코디': 2, '옷 좀 입는 남자': 2, '이렇게 귀엽다니!': 2, '여유로운 룩': 2, '패피의 지름길': 2, '말이 필요해?': 2, '안색 밝히는 컬러': 2, '은근 섹시해': 2, '무스탕의 계절': 2, '편하게 입어보자': 2, '반할 거 같아': 2, '마성의 코트': 2, '터틀넥의 계절': 2, '오버핏 데일리룩': 2, '다운 재킷 코디': 2, '아메카지 끝판왕': 2, '남자의 로망': 2, '아메리칸 감성': 2, '따뜻하고 멋져!': 2, '핑크핑크 해': 2, '한번쯤 시크하게': 2, '시크한 도시여자': 2, '귀여운 댄디남': 2, '시선집중 코디': 2, '스쿨 걸 룩': 2, '워크웨어 룩': 2, '레트로 룩': 2, '오버사이즈드 데님 재킷': 2, '2213': 2, '1069': 2, '1048': 2, '478': 2, '137': 2, '93': 2, '67': 2, '포인트 디테일': 2, '고혹적인 매력': 2, '[윤애리 스타일리스트] 워너비 코디': 2, '쿨한 감각': 2, '시크한 올 블랙': 2, '시크 무드': 2, '[윤애리 스타일리스트] 미니멀 룩': 2, '[정설 스타일리스트] 모노톤 조합': 2, '쿨한 바이브': 2, '시스루 포인트': 2, '포인트 요소': 2, '독보적인 자태': 2, '모던 시크 룩': 2, '시선을 사로잡는': 2, '연말 룩 추천': 2, '남다른 연출': 2, '겨울 무드': 2, '시크의 계절': 2, '레이어링 고수': 2, '미니멀한 연출': 2, '슬림 핏의 매력': 2, '돋보이는 시크함': 2, '디테일의 끝!': 2, '시크함 뽐내기': 2, '강렬한 패턴': 2, '시크의 끝판왕': 2, '화사한 눈꽃처럼': 2, '연말 파티 룩': 2, '시크한 레더 코디': 2, '감각적인 셋업': 2, '유니크 그 자체': 2, '가을 무드 가득': 2, '나만의 멋': 2, '분위기에 물들어': 2, '올 화이트 패션': 2, '레이어드 도전!': 2, '시크함은 덤': 2, '시크함 장착': 2, '세련미 넘치게': 2, '샤프한 매력': 2, '반할 것 같아': 2, '데일리로 입자': 2, '워너비 스타일링': 2, '우아하고 우와해!': 2, '코디 고민 끝!': 2, '스타일에 눈이 가': 2, '진리의 블랙': 2, '도도한 발걸음': 2, '블랙핑크': 2, '레더는 필수!': 2, '고급미 낭낭': 2, '강렬한 레드': 2, '카리스마 폭발': 2, '레이어드 조합': 2, '유니크한 한복': 2, '모던 한복 스타일': 2, '훈훈한 멋': 2, '올드머니 룩': 2, '[윤애리 스타일리스트] 트렌드세터': 2, '올드 머니 룩': 2, '담백한 룩': 2, '아이비 룩': 2, '화사한 뉴트럴 톤': 2, '데이트 룩 완성': 2, '멋짐 가득!': 2, '워싱 디테일에 주목': 2, '뉴트럴 톤이 대세': 2, '오버 핏 연출법': 2, '리조트 패션': 2, '타이다이의 매력': 2, '댄디한 조합': 2, '가벼운 댄디 룩': 2, '멋스러운 아웃핏': 2, '블랙으로 멋내기': 2, '피케 셔츠 코디': 2, '마린 룩 코디': 2, '깔끔 캐주얼': 2, '톤온톤 완성': 2, '탐나는 컬러 매치': 2, '모노톤 연출법': 2, '데일리 댄디 룩': 2, '피크닉 룩': 2, '스타일리시한 여행': 2, '시크해보여': 2, '포인트 매치': 2, '봄의 시작': 2, '프레피 스타일링': 2, '워너비 댄디 룩': 2, '봄 느낌 물씬': 2, '무스탕 활용법': 2, '시크한 코디': 2, '윈터 댄디 룩': 2, '크리스마스 코디': 2, '그린 컬러 포인트': 2, '블랙&레드': 2, '시크한 실루엣': 2, '워너비 톤온톤': 2, '깔끔한 댄디 룩': 2, '퍼 포인트': 2, '댄디하게 완성': 2, '겨울 훈남': 2, '품격 있어': 2, '세련된 실루엣': 2, '깔끔한 데이트 룩': 2, '따라 입고 싶은 룩': 2, '겨울 분위기': 2, '시크한 모습': 2, '댄디 룩 추천': 2, '와일드한 매력': 2, '데님 재킷 포인트': 2, '탐나는 멋': 2, '톤온톤 연출법': 2, '가을 남친 룩': 2, '근사한 컬러': 2, '시선을 끌어': 2, '로맨틱해!': 2, '쿨비즈 스타일': 2, '트렌디한 코디': 2, '세련된 코디': 2, '스타일리시!': 2, '스타일리시하게 완성': 2, '쿨비즈 룩': 2, '댄디한 훈남': 2, '존재감 상승': 2, '셋업 매치': 2, '미니멀한 조합': 2, '휴양지 룩': 2, '눈길이 가!': 2, '인상 깊어': 2, '화사한 톤': 2, '시원한 출근 룩': 2, '봄기운 물씬': 2, '실패 없는 모노 톤': 2, '데이트 갈래?': 2, '셀럽 스타일링': 2, '설렘 주의보': 2, '적절한 디테일': 2, '남다른 코디': 2, '슬림한 매력': 2, '남친 룩 장인': 2, '따뜻하고 멋져': 2, '로맨틱한 남자': 2, '쿨하고 시크하게': 2, '단정한 게 좋아': 2, '따뜻한 분위기': 2, '무톤 스타일링': 2, '남친 룩 코디': 2, '품격 있는 스타일': 2, '독보적 조합': 2, '정갈한 멋': 2, '완벽한 데이트 룩': 2, '가을 감성': 2, '취향 저격 스타일링': 2, '감각적인 무드': 2, '매력적인 패턴': 2, '시크한 연출': 2, '여름 스타일링': 2, '데이트 가는 길': 2, '차분한 룩': 2, '올 블랙 러버': 2, '아티스트': 2, '시크해': 2, '남다른 한복 코디': 2, '시선 집중 패턴': 2, '완성형 코디': 2, '성공적 데이트': 2, '필수 레이어드': 2, '훈훈함 가득': 2, '스타일 업!': 2, '보면 입고 싶어': 2, '도시적 이미지': 2, '남다른 룩': 2, '폼생폼사': 2, '느낌 있어!': 2, '댄디하게 입자': 2, '멋진 남자': 2, '스윗 가이': 2, '섹시한 남자': 2, '산뜻하게 입자': 2, '훈남 포스': 2, '끌리는 무드': 2, '프레피 룩 도전!': 2, '셔츠로 포인트': 2, '평소와 다르게': 2, '훈내 나는 코디': 2, '스타일 있게': 2, '깔끔한 매무새': 2, '딱 좋아!': 2, '남자 퍼 재킷': 2, '걸치기만 해': 2, '중요한 날에': 2, '가을 코디 추천': 2, '너무 멋있어!': 2, '깔끔하잖아!': 2, '스타일 제대로': 2, '여름 댄디': 2, '남자는 핑크': 2, '포스가 남달라': 2, '유니크한 재킷': 2, '포멀 댄디 룩': 2, '오버사이즈드 MA-1 재킷': 2, '세미 포멀 룩': 2, '포멀 코디네이션': 2, '우아한 분위기': 2, '출근 룩 추천!': 2, '모노톤 포멀 룩': 2, '차분한 하루': 2, '차분한 감성': 2, '트렌디한 슈트': 2, '화사한 포멀 룩': 2, '클래식 바이브': 2, '세련된 그녀': 2, '미니멀 시크': 2, '출근 룩으로 제격': 2, '세련됐어!': 2, '지적인 그녀': 2, '단아한 느낌': 2, '출근 룩도 멋있게': 2, '깔끔 그 자체': 2, '옷잘알의 출근길': 2, '스프링 출근 룩': 2, '레이어드가 좋아': 2, '눈을 뗄 수 없는 멋': 2, '무채색 패션': 2, '미니멀하게 완성': 2, '겨울 포멀 룩': 2, '담백한 셋업': 2, '남들과는 달라!': 2, '은은한 분위기': 2, '단정한 차림새': 2, '완벽한 한 벌': 2, '무심한 매력': 2, '출근 룩 강추!': 2, '로맨틱한 분위기': 2, '포멀의 정석': 2, '겨울 오피스 룩': 2, '격식 있게': 2, '로맨틱 연말': 2, '워커홀릭': 2, '시선 집중 포인트!': 2, '차분해서 좋아': 2, '지적인 여자': 2, '러블리 포멀': 2, '이유 있는 끌림': 2, '봄에 입어줘': 2, '민트 컬러 홀릭': 2, '멋쁨 가득해': 2, '단아한 분위기': 2, '포스 넘쳐': 2, '셋업은 이렇게!': 2, '자주 입는 코디': 2, '차려입는 날': 2, '컬러 조합 굿': 2, '당당하게!': 2, '겨울 즐기기': 2, '코트의 멋': 2, '스커트 포인트': 2, '입을수록 매력적': 2, '시크함의 정점': 2, '돋보이고 싶은 날': 2, '제대로 입었어': 2, '시크도도': 2, '탐나는 원피스': 2, '오피스 룩의 정석': 2, '섹시 카리스마': 2, '개성파 스타일': 2, '구매욕 상승': 2, '봄바람 살랑': 2, '셋업의 멋': 2, '우아한 그녀': 2, '넌 내 취향저격': 2, '분위기 넘사벽': 2, '세련된 아웃핏': 2, '한복 스타일링': 2, '발레코어': 2, '유니크 걸리시': 2, '스타일리시한 바캉스': 2, '유니크한 마무리': 2, '로맨틱 바캉스': 2, '요즘 핫해!': 2, '러블리한 이미지': 2, '봄 나들이 스타일링': 2, '감각적 레이어드': 2, '디테일에 집중!': 2, '하이틴 여주인공': 2, '러블리한 마무리': 2, '겨울 아이템 활용법': 2, '예쁨 장착!': 2, '따뜻하고 예쁘게': 2, '윈터 걸리시 룩': 2, '파스텔 러버': 2, '비가 와도 예뻐!': 2, '원피스 연출법': 2, '프렌치 감성': 2, '셋업 즐기기': 2, '발랄한 그녀!': 2, '예쁨 더하기': 2, '오늘은 귀엽게': 2, '청량한 색감': 2, '가볍고 시원하게!': 2, '반할 수밖에': 2, '하나로 완성': 2, '상큼 발랄해!': 2, '러블리 디테일': 2, '언밸런스 디테일': 2, '하이틴 주인공': 2, '러블리한 컬러': 2, '볼수록 끌려': 2, '패턴에 빠져': 2, '데이트 룩으로 딱!': 2, '원피스로 멋 내기': 2, '핑크에 빠져': 2, '여친 룩 어때?': 2, '예쁨 한가득': 2, '러블리 홀리데이': 2, '매력 상승!': 2, '레오퍼드 러버': 2, '언제나 예뻐!': 2, '깜찍한 그녀': 2, '러블리 분위기': 2, '원피스 즐기기': 2, '프린세스 룩': 2, '서머 셋업 코디': 2, '매력이 살랑살랑': 2, '상큼하게 완성!': 2, '설렘 가득해!': 2, '러블리한 매치': 2, '스프링 데이트 룩': 2, '달콤한 매력': 2, '퍼 아이템 활용법': 2, '발랄하게 완성!': 2, '마성의 원피스': 2, '보랏빛 향기': 2, '톡톡 튀는 스타일': 2, '누가 봐도 예뻐': 2, '레트로 즐기기': 2, '레트로 열풍!': 2, '포인트가 있지!': 2, '귀여움에 빠져!': 2, '기분 전환에 딱!': 2, '꽃보다 화사해': 2, '러블리함 가득': 2, '상큼한 서머 룩': 2, '깔끔한 차림새': 2, '보헤미안 감성': 2, '이렇게 예뻐도 돼?': 2, '꿀조합 코디': 2, '유니크의 정점': 2, '반반 매력': 2, '원피스가 좋아': 2, '러블리 원피스': 2, '마성의 아우터': 2, '매력만점': 2, '유니크 디테일': 2, '페이크 퍼 롱 코트': 2, '라운딩의 계절': 2, '서머 필드 룩': 2, '스포티 아이템': 2, '라운딩 스타일링': 2, '쿨하게 연출': 2, '골프의 계절': 2, '눈에 띄는 매치': 2, '뉴 골프 웨어': 2, '봄 필드 룩': 2, '영 골퍼 룩': 2, '쿨한 라운딩 룩': 2, '화사한 필드 룩': 2, '환절기 라운딩 룩': 2, '특별한 골프 웨어': 2, '심플한 필드 룩': 2, '필드 위 여신': 2, '화사한 라운딩 룩': 2, '편안한 골프 룩': 2, '겨울 필드 룩': 2, '스타일리시한 골퍼': 2, '윈터 골프 룩': 2, '라운딩 룩 추천': 2, '러블리 골프 룩': 2, '필드의 주인공': 2, '골프 룩도 예쁘게': 2, '남다른 골프 룩': 2, '가을 골프 룩': 2, '트렌디 골프 웨어': 2, '산뜻한 골프 룩': 2, '센스 있는 필드 룩': 2, '라운딩 웨어 추천': 2, '캐주얼한 골프 룩': 2, '골프 여신': 2, '개성 있는 조합': 2, '골프가 대세!': 2, '세련된 라운딩 룩': 2, '대세 골프 룩': 2, '골프 웨어 추천!': 2, '골프 웨어 추천': 2, '귀여운 필드 룩': 2, '감각적인 필드 룩': 2, '화사한 골프 웨어': 2, '윈터 골프 웨어': 2, '골프 홀릭': 2, '골프 열풍': 2, '골프 웨어 홀릭': 2, '겨울 골프 웨어': 2, '멋스러운 필드 룩': 2, '민트 러버': 2, '특별하게 완성': 2, '레저 스포츠': 2, '트렌디한 골프 룩': 2, '서머 골프 웨어': 2, '남다른 핏!': 2, '스포츠도 멋있게!': 2, '핫한 그녀': 2, '유니크한 자태': 2, '찐 레트로 감성': 2, '대세는 레트로!': 2, '힙한 일상': 2, '레트로 바이브!': 2, '로맨틱한 연출': 2, '로맨틱 스타일': 2, '여행의 계절': 2, '여름 데이트 룩': 2, '블랙 원피스 코디': 2, '하객 스타일링': 2, '청순한 매력': 2, '봄 하객 룩': 2, '느낌 있게!': 2, '겨울 하객 룩': 2, '로맨틱 셋업': 2, '비주얼 끝판왕': 2, '화사함 더하기': 2, '심쿵 유발 코디': 2, '화사한 셋업': 2, '로맨틱 홀릭': 2, '여신 비주얼': 2, '청순하게 입어봐': 2, '자꾸만 눈이 가!': 2, '사랑스러운 실루엣': 2, '로맨틱 한 스푼': 2, '우아함 그 자체': 2, '한눈에 반했어': 2, '로맨틱 홀리데이': 2, '셋업 잘 입는 법': 2, '두 번 반해': 2, '상큼한 여름': 2, '누가 꽃이게?': 2, '여리여리 끝판왕': 2, '로맨틱 원피스': 2, '주말 나들이': 2, '내 마음대로': 2, '컬러 매치 굿': 2, '스포츠 웨어': 2, '레깅스 코디': 2, '등산 가자!': 2, '해변의 여인': 2, '저지 활용법': 2, '경쾌한 느낌!': 2, '테니스 즐기기': 2, '스포티한 셋업': 2, '운동 하는 날': 2, '가볍게 달리자!': 2, '겨울 스포츠 즐기기': 2, '윈터 스포티 룩': 2, '보드 타러 가자!': 2, '운동하러 가자!': 2, '캠핑 감성': 2, '아웃도어 캐주얼': 2, '테니스 룩': 2, '가벼운 스포츠 룩': 2, '테크 웨어': 2, '운동 가는 날': 2, '애슬레틱 코디': 2, '레깅스 스타일링': 2, '스포츠맨': 2, '아웃도어 라이프': 2, '에너지 가득': 2, '요즘 자주 입어': 2, '느낌 있잖아?': 2, '강력한 한방': 2, '기분 좋아져!': 2, '힙스터의 길': 2, '운동 가자!': 2, '포인트가 필요해!': 2, '애슬레저 정석': 2, '놓칠 수 없어': 2, '카리스마 퍽!발!': 2, '운동하는 여자': 2, '정말 심쿵해': 2, '멋스러운 스트릿': 2, '편한듯 멋있게': 2, '애슬레저룩': 2, '과감하게 입어봐': 2, '워너비 블록코어': 2, '[이동연 스타일리스트] 돋보이는 디테일': 2, '시스루 패션': 2, '워너비 스트릿 룩': 2, '스트릿 그 자체': 2, '슬리브리스의 계절': 2, '패턴 강조': 2, '유니크 패션': 2, '쿨한 그녀': 2, '힙하게 입어봐': 2, '어디서든 돋보여': 2, '힙한 셋업 룩': 2, '보온성 UP!': 2, '진정한 힙스터': 2, '힙한 감성': 2, '포인트 룩': 2, '멋스러운 포인트': 2, '스트릿 끝판왕': 2, '서머 스트릿 룩': 2, '나만의 개성 뽐내기': 2, '그런지 룩': 2, '편한데 멋져!': 2, '디테일 부자': 2, '스타일리시한 자태': 2, '패턴 멋쟁이': 2, '스트릿 멋쟁이': 2, '힙하게 입자!': 2, '힙하게 입자': 2, '스타일 치트키': 2, '자유로운 감성': 2, '센스에 반해': 2, '유니크한 스타일': 2, '스타일 더하기': 2, '스타일 천재': 2, '자신감 충전': 2, '최신 유행 룩': 2, '100점짜리 매치': 2, '복고 열풍': 2, '캐주얼 스트릿': 2, '개성있게!': 2, '개성만점': 2, '스트릿 즐기기': 2, '대세는 숏패딩': 2, '내가 제일 잘나가': 2, '세상 힙해': 2, '카무플라주 최고': 2, '개성 표출': 2, '유니크한 셔츠': 2, '시크하게 스트릿': 2, '후리한 멋': 2, '오버핏의 매력': 2, '진정한 스트릿': 2, '컬러를 더해': 2, '걸크러시': 2, '시선이 간다': 2, '멋있는 스트릿룩': 2, '개성 표출!': 2, '레트로로 만나자': 2, '락 시크 룩': 2, '캠퍼 룩': 2, '활동성 더하기': 2, '유니크 고프코어': 2, '고프코어의 매력': 2, '일상 아웃도어': 2, '고프코어가 대세': 2, '대세는 고프코어': 2, '스포티 바이브': 1, '오버올 스타일': 1, '아메카지 조합': 1, '힙스러워!': 1, '돋보이는 아메카지': 1, '[윤애리 스타일리스트] 와이드 실루엣': 1, '아메카지 스타일': 1, '바시티 재킷 입는 법': 1, '센스 있는 아메카지': 1, '뉴트럴 톤 즐기기': 1, '쿨한 셔츠 코디': 1, '멋스러운 장마 룩': 1, '캐주얼한 스타일': 1, '[정진아 스타일리스트] 센스 더하기': 1, '[정진아 스타일리스트] 패셔니스타': 1, '서머 댄디 코디': 1, '뉴트럴 톤 아메카지': 1, '오버 핏 홀릭': 1, '쿨한 아메카지 룩': 1, '아메카지 연출법': 1, '독보적 감성': 1, '날 따라 해봐!': 1, '멋 그 자체': 1, '위트를 더해봐': 1, '한 끗 디테일': 1, '위트 있는 포인트': 1, '이렇게 꾸며봐!': 1, '댄디 한 스푼': 1, '단정한 아메카지': 1, '화사한 아메카지 룩': 1, '퀼팅 활용법': 1, '겨울 아메카지 룩': 1, '프렌치 캐주얼': 1, '이지 워크 웨어': 1, '센스 있는 연출': 1, '매력적인 무드': 1, '셋업으로 코디': 1, '과감한 벌룬 핏': 1, '헤비 아우터의 계절': 1, '강추위 대비': 1, '아메카지의 모든 것': 1, '감각에 반했어': 1, '어울리는 조합': 1, '멋스러운 아메카지': 1, '백 점 만점': 1, '개성 찾기': 1, '스타일리시한 룩': 1, '소년미 가득!': 1, '가을 캠핑 룩': 1, '시티보이 컨셉': 1, '특별한 아메카지': 1, '디테일이 달라': 1, '우중 캠핑은 어때?': 1, '클래식하게 꾸미기': 1, '캠핑 룩으로 완성': 1, '서머 아메카지 룩': 1, '베스트 포인트': 1, '서머 빈티지': 1, '멋스러운 청청패션': 1, '이런 게 워크 웨어': 1, '간단하게 꾸미는 법': 1, '피시테일 코디': 1, '트렌치코트의 매력': 1, '아메리칸 캐주얼 무드': 1, '패턴이 멋져': 1, '워크 웨어 무드': 1, '필수 레이어링': 1, '따뜻하게 스타일 업!': 1, '톤온톤으로 무장': 1, '스타디움 연출법': 1, '[이동연 스타일리스트] 멋스럽게': 1, '[이동연 스타일리스트] 남다른 아웃핏': 1, '[이동연 스타일리스트] 스타일리시하게': 1, '[이동연 스타일리스트] 레이어링 연출': 1, '[이동연 스타일리스트] 환절기 아우터': 1, '[이동연 스타일리스트] 패셔너블': 1, '[정진아 스타일리스트] 이렇게 입어줘': 1, '[정설 스타일리스트] 쿨 캐주얼 룩': 1, '[정설 스타일리스트] 데일리 웨어': 1, '가을 보더 룩': 1, '환절기 룩으로 제격': 1, '브라운 포인트': 1, '편안한 가을 룩': 1, '심플한 아웃핏': 1, '바시티 재킷 활용법': 1, '[윤애리 스타일리스트] 꾸안꾸 치트키': 1, '[윤애리 스타일리스트] 레이어드 맛집': 1, '[윤애리 스타일리스트] 웨스턴 캐주얼 무드': 1, '[윤애리 스타일리스트] 데님의 계절': 1, '[정진아 스타일리스트] 레이어링 코디': 1, '[정진아 스타일리스트] 믹스 매치': 1, '[정진아 스타일리스트] 라이징 스타일': 1, '[정설 스타일리스트] 환절기 아이템': 1, '캠핑 룩으로 어때?': 1, '가벼운 캠퍼스 룩': 1, '가을 니트 스타일': 1, '트렌디한 골퍼 룩': 1, '데님이 좋아': 1, '데일리한 연출법': 1, '가벼운 가을 룩': 1, '편안한 아웃핏': 1, '캠퍼스 룩으로 제격': 1, '[이동연 스타일리스트] 특별한 아웃핏': 1, '[정설 스타일리스트] 남친 룩의 표본': 1, '[정설 스타일리스트] 훈훈한 분위기': 1, '[정설 스타일리스트] 셋업 활용법': 1, '[윤애리 스타일리스트] 가을 내음 물씬!': 1, '[정진아 스타일리스트] 완벽한 레이어드': 1, '[정진아 스타일리스트] 뉴트럴 컬러 조합': 1, '레더 즐기기': 1, '쉽게 따라 해봐!': 1, '후드 티셔츠 코디': 1, '[엄아름 스타일리스트] 스타일 추천': 1, '[엄아름 스타일리스트] 편한 매력': 1, '백 디테일': 1, '[윤애리 스타일리스트] 멋스러운 연출': 1, '[윤애리 스타일리스트] 믹스 매치': 1, '[이동연 스타일리스트] 데일리 스타일링': 1, '[이동연 스타일리스트] 개성 있게': 1, '[이동연 스타일리스트] 깔끔한 컬러 매치': 1, '[이동연 스타일리스트] 키치한 매력': 1, '[이동연 스타일리스트] 캐주얼 무드': 1, '[이동연 스타일리스트] 스웨트셔츠의 계절': 1, '[이동연 스타일리스트] 캠퍼스 룩의 정석': 1, '[정설 스타일리스트] 꾸안꾸 룩': 1, '[정설 스타일리스트] 쿨한 연출': 1, '꾸안꾸 모습': 1, '감각적인 캐주얼': 1, '환절기 데일리 룩': 1, '데님 셋업 스타일링': 1, '옐로 컬러 홀릭': 1, '부드러운 실루엣': 1, '깔끔한 연출법': 1, '가을 셔츠 코디': 1, '오버 핏으로 즐겨': 1, '편안한 원 마일 룩': 1, '오버 핏  조합': 1, '캠퍼스 룩 완성': 1, '올가을 추천 룩': 1, '편안한 일상': 1, '쿨한 데님': 1, '저지 탑 코디': 1, '니트&데님': 1, '시크 모노톤': 1, '블록코어 코디': 1, '스웨트셔츠 러버': 1, '후드 스타일링': 1, '캠퍼스 아웃핏': 1, '이지 펑크 웨어': 1, '차분한 컬러 웨이': 1, '환절기를 위한': 1, '뉴트럴 톤 완성': 1, '윈드브레이커 활용법': 1, '심플한 캐주얼 룩': 1, '간단한 연출': 1, '특별한 아웃핏': 1, '셔츠 코디법': 1, '캐주얼한 남친 룩': 1, '미니멀하게!': 1, '따라 하기 쉬워!': 1, '셋업 추천': 1, '링거 티셔츠로 완성': 1, '오버 핏 즐기기': 1, '핑크가 좋아': 1, '멋스러운 레이어링': 1, '화사하게 연출': 1, '휴가 시즌': 1, '비 오는날 코디': 1, '스웨트 코디 추천': 1, '개성 한 스푼': 1, '빈티지한 조합': 1, '무더위에 추천': 1, '여행을 떠나자': 1, '빈티지한 감성': 1, '폭염 스타일링': 1, '트렌디한 데님 룩': 1, '타이다이 패션': 1, '팬츠가 돋보여': 1, 'y2k 무드': 1, '피크닉 룩 추천': 1, '완벽한 뒷모습': 1, '블록코어가 대세': 1, '오버 핏 스타일링': 1, '꾸안꾸 일상 룩': 1, '센스 만점 패션': 1, '쿨하게 여름 나기': 1, '패치 워크 디테일': 1, '손쉽게 연출': 1, '레터링이 좋아': 1, '꾸안꾸 룩 완성': 1, '센스 있는 그래픽': 1, '청량한 여행 룩': 1, '비 와도 멋지게': 1, '여름 소년': 1, '바캉스 인생샷': 1, '폭염 대비 룩': 1, '컬러 포인트 스타일': 1, '어디에나 돋보여': 1, '여름에 입는 셔츠': 1, '[정설 스타일리스트] 남다른 아웃핏': 1, '[정설 스타일리스트] 그런지 룩': 1, '[이동연 스타일리스트] 패턴 활용법': 1, '[이동연 스타일리스트] 모노톤 코디': 1, '데님 팬츠 연출법': 1, '센스 있는 보더 룩': 1, '[정진아 스타일리스트] 뉴트럴 컬러': 1, '[정진아 스타일리스트] 핑크 포인트': 1, '[정진아 스타일리스트] 비가 와도 좋아': 1, '[정진아 스타일리스트] 손쉽게 완성!': 1, '[정진아 스타일리스트] 가벼운 착용': 1, '[윤애리 스타일리스트] 꾸안꾸 코디': 1, '[윤애리 스타일리스트] 그때 그 시절 패션': 1, '부드러운 컬러 매치': 1, '카고 팬츠 스타일': 1, '데님 팬츠로 폼내기': 1, '나만의 인생샷': 1, '눈에 띄는 티셔츠': 1, '힙한 디테일': 1, '슬리브리스 매치': 1, '이렇게 입고 싶어': 1, '무심한 데일리 룩': 1, '여름의 캐주얼': 1, '여행지에서': 1, '[정설 스타일리스트] 패턴 활용법': 1, '[정설 스타일리스트] 장마 대비': 1, '[정설 스타일리스트] 레인 웨어': 1, '[정설 스타일리스트] 개성 있어': 1, '[이동연 스타일리스트] 유니크한 매력': 1, '[이동연 스타일리스트] 멋스러운 조합': 1, '사랑스러운 아웃핏': 1, '따라 하고 싶은 룩': 1, '마린 룩': 1, '폭염 대비 코디': 1, '슬림 핏 스타일': 1, '링거 티셔츠 활용법': 1, '[정진아 스타일리스트] 바캉스 룩': 1, '[정진아 스타일리스트] 담백하게': 1, '[정진아 스타일리스트] 다채로운 조합': 1, '[정진아 스타일리스트] 남다른 아웃핏': 1, '[이동연 스타일리스트] 매력 만점': 1, '[이동연 스타일리스트] 이지 캐주얼': 1, '[이동연 스타일리스트] 편안한 연출': 1, '[이동연 스타일리스트] 와이드 실루엣': 1, '[이동연 스타일리스트] 오버 핏 코디': 1, '[정설 스타일리스트] 클래식 조합': 1, '[정설 스타일리스트] 편안한 실루엣': 1, '[정설 스타일리스트] 여름의 컬러': 1, '[정설 스타일리스트] 벌룬 팬츠 코디': 1, '[윤애리 스타일리스트] 무심하게 툭!': 1, '[윤애리 스타일리스트] 러블리 디테일': 1, '[윤애리 스타일리스트] 레트로 감성': 1, '[윤애리 스타일리스트] HIP!': 1, '[윤애리 스타일리스트] 데일리하게': 1, '데일리 마린 룩': 1, '워싱 디테일은 필수': 1, '과감하게': 1, '캐주얼하게 폼 내기': 1, '멋스러운 보더 룩': 1, '시원한 여름 니트': 1, '편안하게 즐기기': 1, '오버 핏 셔츠 연출법': 1, '화사한 레인 룩': 1, '장마 패션': 1, '비 올 땐 이렇게!': 1, '미니멀 Y2K': 1, '저지 연출법': 1, '필승 조합': 1, '가벼운 연출법': 1, '화이트 컬러 매치': 1, '[윤애리 스타일리스트] 데일리 룩 제안': 1, '[이동연 스타일리스트] 바캉스 코디': 1, '[이동연 스타일리스트] 서머 캐주얼': 1, '[이동연 스타일리스트] 쿨한 컬러 매치': 1, '[이동연 스타일리스트] 오버 핏의 매력': 1, '[정설 스타일리스트] 블루 포인트!': 1, '[정설 스타일리스트] 편하고 멋스럽게': 1, '민소매 패션': 1, '날염 패턴에 주목': 1, '워너비 서머 룩': 1, '아웃핏에 반해': 1, '체크 패턴 코디': 1, '린넨 셔츠 연출법': 1, '레터링 디테일': 1, '휴양지 콘셉트': 1, '설레는 마음': 1, '폭염주의보': 1, '힙한 캠퍼스 생활': 1, '뉴트럴 톤 패션': 1, '완벽한 연출': 1, '장마 시작!': 1, '데일리로 즐기기': 1, '여름 필수 조합': 1, '시선을 끄는 패턴': 1, '데님 원피스 활용법': 1, '[박서현 스타일리스트]디테일에 주목!': 1, '[박서현 스타일리스트]돋보이는 아웃핏': 1, '셋업 활용': 1, '비와도 좋아!': 1, '그래픽이 매력적': 1, '여행 룩': 1, '편안한 분위기': 1, '캐주얼하게 즐기기': 1, '베레 포인트': 1, '디테일 포인트 룩': 1, '워싱에 주목': 1, '올여름 트렌드': 1, '힙한 공항 패션': 1, '공항 패션': 1, '여행 분위기': 1, '설레는 룩': 1, '뒤태가 멋져': 1, '따라 하기 쉬워': 1, '오묘한 매력': 1, '자유로운 분위기': 1, '베이식한 매력': 1, '핑크 홀릭!': 1, '로고 포인트 코디': 1, '서머 바캉스': 1, '핫한 연출법': 1, '톤 다운 컬러 플레이': 1, '데님 아이템 조합': 1, '편안함 더하기': 1, '시어서커 셔츠 활용법': 1, '캐주얼 하게 즐기기': 1, '와일드 스타일': 1, '휴가를 떠나자': 1, '크롭 탑 활용법': 1, '캐주얼한 포인트': 1, '화사함 장착': 1, '데님으로  멋 내기': 1, '청량한 블루': 1, '프린팅 강조 룩': 1, '꾸안꾸가 좋아': 1, '빈티지 콘셉트': 1, '워싱이 좋아': 1, '스트라이프 매치법': 1, '그래픽 홀릭': 1, '편안한 바이브': 1, '활동성 업': 1, '와이드 핏': 1, '조화로운 톤': 1, '눈에 띄는 핑크': 1, '오버올의 매력': 1, '힙하고 편하게': 1, '니트 셔츠 활용법': 1, '그래픽에 집중': 1, '원피스 레이어링': 1, '데님 팬츠 코디': 1, '그래픽의 매력': 1, '레터링으로 폼내기': 1, '쿨하게 즐기기': 1, '캠퍼스 바이브': 1, '데님 팬츠 스타일': 1, '깔끔한 매치법': 1, '빛나는 코디': 1, '부들부들해!': 1, '스포티 셋업': 1, '다채로운 매치': 1, '이 조합 추천!': 1, '패셔너블한 이미지': 1, '스타일리시한 감성': 1, '어디서나 돋보여': 1, '크롭 셔츠 활용법': 1, '맥시스커트 코디': 1, '이유 있는 선택': 1, '니트 코디법': 1, '피크닉 룩 즐기기': 1, '부드러운 연출법': 1, '올블랙의 매력': 1, '캐주얼이 좋아': 1, '프레피 코디': 1, '쿨한 마린 룩': 1, '인생샷 패션': 1, '데일리 룩 패션': 1, '링거 티 활용법': 1, '와이드한 아웃핏': 1, '레이어드로 폼내기': 1, '데일리한 룩': 1, '[박서현 스타일리스트] 브랜드 추천': 1, '[박서현 스타일리스트] 감각적인 데일리 룩': 1, '[박서현 스타일리스트] 믹스 매치 코디': 1, '[박서현 스타일리스트] 추천 코디네이션': 1, '봄 데님 코디': 1, '셋업으로 올 킬!': 1, '빈티지 룩': 1, '봄 니트 활용법': 1, '멋스럽게 꾸민 룩': 1, '데님 재킷의 계절': 1, '데님을 주목해': 1, '링거티 패션': 1, '와이드 핏이 대세': 1, '니트 베스트 활용법': 1, '롱스커트 코디': 1, '핑크 스타일': 1, '트렌디한 남자': 1, '하프 팬츠 코디': 1, '학교 가는 날': 1, '개강맞이 룩': 1, '간단한 레이어드': 1, '크롭 포인트!': 1, '봄 캐주얼': 1, '환절기 스타일': 1, 'CK 코디': 1, '재킷 연출법': 1, '화사해보여!': 1, '봄 날씨에 제격': 1, '꿀 조합 스타일링': 1, '리버서블 패션': 1, '스웨트셔츠 연출법': 1, '시크한 올블랙': 1, '그린 컬러 코디': 1, '컬러 매치가 돋보여': 1, '봄이 느껴져': 1, '스프링 캐주얼 룩': 1, '환절기 룩': 1, '힙한 신학기 룩': 1, '무심한 조합': 1, '바시티 코디': 1, '봄 캠퍼스 룩': 1, '크롭 스타일링': 1, '워너비 청청 패션': 1, '풀오버 활용법': 1, '윈드브레이커의 계절': 1, '데일리한 매력': 1, '활동성 있게!': 1, '탐나는 셋업': 1, '편한 캠퍼스 룩': 1, '와이드 핏 활용법': 1, '뉴트럴 캐주얼 룩': 1, '남다른 캠퍼스 룩': 1, '바시티 스타일링': 1, '힙 한 스푼': 1, '롱 패딩 스타일': 1, '스타일리시한 캠퍼스 룩': 1, '머플러를 더해봐': 1, '조화로운 레이어링': 1, '화사한 핏': 1, '브라운 컬러 룩': 1, '패셔너블한 룩': 1, '눈에 띄는 머플러': 1, '한파 대비 룩': 1, '남친 룩 추천': 1, 'MLB 코디': 1, '브라운 컬러 매치': 1, '패션 센스가 돋보여': 1, '핑크를 더해봐': 1, '데일리 룩 연출': 1, '윈터 꾸안꾸': 1, '윈터 원 마일 웨어': 1, '따뜻한 데일리 룩': 1, '화사한 톤온톤': 1, '남친 룩 완성': 1, '귀여운 감성': 1, '겨울 외출 룩': 1, '이런 조합 찬성': 1, '컬러풀해!': 1, '편하게 연출': 1, '연말 포인트 컬러': 1, '파스텔 톤 조합': 1, '피쉬테일 활용법': 1, '센스있는 매치': 1, '숏 패딩 룩': 1, '꾸안꾸 대학생': 1, '남친 룩 등극!': 1, '레이어드 멋 내기': 1, '핑크 보이!': 1, '한파 필수템': 1, '아우터로 완성!': 1, '따뜻한데 스타일리시해': 1, '훈훈 데일리 룩': 1, '피시테일 활용법': 1, '바시티의 매력': 1, '겨울 느낌': 1, '더플코트로 완성': 1, '센스 있는 모습': 1, '패피의 데일리 룩': 1, '스포티 감성': 1, '퀼팅의 매력': 1, '플리스가 대세!': 1, '겨울 소재로 완성': 1, '따뜻한 게 좋아': 1, '화사한 외출': 1, '더플코트 스타일링': 1, '핑크 팬츠 코디': 1, '카고 팬츠 스타일링': 1, '양말 포인트!': 1, '시티 걸 스타일': 1, '퍼 재킷의 포근함': 1, '겨울 룩 연출': 1, '편한 코디': 1, '손 쉽게 멋내기': 1, '따뜻한 게 최고': 1, '스웨트 셋업!': 1, '오버 핏 더블 코트': 1, '가을 장마 코디': 1, '원 마일 웨어로 입기': 1, '꾸안꾸 캠퍼스': 1, '그래픽 패턴 포인트': 1, '믹스 매치 하기': 1, '멋스러운 룩': 1, '캠퍼스 멋쟁이': 1, '편안함이 달라': 1, '시티보이 룩 연출': 1, '믹스 매치가 좋아': 1, '보랏빛 매치': 1, '뉴트럴 홀릭': 1, '손쉬운 코디': 1, '초겨울 스타일링': 1, '아우터의 계절': 1, '가벼운 청청 코디': 1, '멋스러운 레더': 1, '오버 핏이 좋아': 1, '캠핑 코디!': 1, '그러데이션 포인트': 1, '매력적인 컬러 조합': 1, '레이니 데이': 1, '가을의 색': 1, '힙한 비 코디': 1, '편한데 힙해': 1, '꾸안꾸가 대세': 1, '편한 캠퍼스 코디': 1, '풀오버 레이어드': 1, '톤온톤 레이어드': 1, '강렬한 컬러 포인트': 1, '환절기에 어울려': 1, '편한데 힙해 보여': 1, '비 와도 좋아!': 1, '환절기 레이니 룩': 1, '가을장마': 1, '캠퍼스 감성': 1, '편한 무드': 1, '요즘 바이브': 1, '탐나는 디테일': 1, '스웨트 연출법': 1, '스웨트 셋업': 1, '환절기 코디네이션': 1, '환절기 셔츠 활용법': 1, '단정해서 좋아': 1, '개량 한복 코디': 1, '잔잔한 매력': 1, '멋스러운 청청 코디': 1, '카디건으로 개강룩': 1, '비가 와도 멋스럽게': 1, '손쉽게 꾸며봐': 1, '핑크 러버!': 1, '스웨트 활용법': 1, '신학기엔 이렇게!': 1, '쿨한 컬러': 1, '불수록 귀여워': 1, '체크 셔츠의 계절': 1, '꾸러기 모드': 1, '블루 컬러 매치': 1, '환절기 룩 완성': 1, '후드 집업의 계절': 1, '활동성 많은 날!': 1, '스웨트 셋업 코디': 1, '셋업 스타일': 1, '센스있게 완성': 1, '훈남 대학생': 1, '트렌디해보여!': 1, '훈훈한 모습': 1, '편한 개강룩': 1, '청청패션': 1, '환절기 날씨에 제격': 1, '한끗 포인트': 1, '개강룩 준비': 1, '화려한 패턴': 1, '환절기 코디법': 1, '귀엽게 꾸며봐': 1, '스웨트의 계절': 1, '개강 룩 추천!': 1, '레이어링 디테일': 1, '컬러 팬츠 활용법': 1, '완벽한  연출': 1, '로라이즈 활용법': 1, '멋쁨이란 이런 것': 1, '너드미 훈남': 1, '간편하게 완성': 1, '주말용 코디': 1, '환절기에 추천해': 1, '캠핑 룩': 1, '남다른 셔츠 코디': 1, '쿨하게 등교해': 1, '정석 캠퍼스 룩': 1, '깔끔한 꾸안꾸': 1, '한강 나들이 룩': 1, '와이드의 매력': 1, '멋스러운 뒤태': 1, '비 소식 대비!': 1, '추천 데일리 룩': 1, '여름 카디건 코디': 1, '손쉽게 외출해': 1, '시원한 훈남': 1, '청량한 무드': 1, '베스트로 꾸안꾸': 1, '유니크 청청': 1, '가볍고 시원하게': 1, '센스의 차이': 1, '트렌디한 스타일': 1, '훈남 캠퍼스 룩': 1, '바다 갈 땐 이렇게!': 1, '대세 패션': 1, '이색 코디': 1, '공부하기 좋은 날': 1, '시원하게 외출해': 1, '핫한 여행 룩': 1, '키치한 포인트': 1, '서머 캠핑 룩': 1, '로고 플레이!': 1, '베이식 캐주얼': 1, '호불호 없는 스타일': 1, '네온 컬러 포인트': 1, '우산도 패션': 1, '비 시즌!': 1, '비 오는 날은 편하게!': 1, 'MZ 세대 스타일': 1, '청청 코디로 완성': 1, '쿨한 리조트 룩': 1, '시원한 게 좋아': 1, '캐주얼한 게 최고!': 1, '피크닉 패션': 1, '패피의 레이니 룩': 1, '멋스러운 청청': 1, '비가 올 땐 편하게!': 1, '서머 데일리 코디': 1, '크로셰 디자인': 1, '시원한 꾸안꾸': 1, '패턴 팬츠 포인트': 1, '소나기 대비!': 1, '장마에 제격': 1, '서머 데일리 스타일': 1, '스윔웨어는 이렇게': 1, '보기만 해도 시원해': 1, '더위에 지지 않아': 1, '독보적인 바이브': 1, '기분 좋은 외출': 1, '장마에도 끄떡없어': 1, '장마철 대비': 1, '우산은 필수!': 1, '가벼운 룩': 1, '체크 셔츠 스타일링': 1, '화사한 스타일': 1, '트렌디한 분위기': 1, '셔츠 활용하기': 1, '데일리로 만점': 1, '포인트는 그린!': 1, '편하고 근사해': 1, '소나기 주의보': 1, '비 오는 날씨': 1, '폭염 고민 해결': 1, '훈훈해보여': 1, '펀칭 디자인': 1, '시원한 스타일링': 1, '여름 캐주얼 룩': 1, '폭염 대비!': 1, '여행 준비 끝': 1, '플리츠가 대세': 1, '바다 보러 가자': 1, '예쁜데 편해': 1, '핑크의 매력': 1, '비 오는 습한 날씨에': 1, '키치한 색감': 1, '꾸안꾸 포인트': 1, '레이스 디테일': 1, '시크한 청청 패션': 1, '여름에 어울려': 1, '휴가 가자!': 1, '레이어링은 이렇게': 1, '휴가 가는 날': 1, '귀여운 티셔츠': 1, '티셔츠 연출법': 1, '비오는 날 편하게': 1, '서머 캠퍼스': 1, '베스트 레이어드': 1, '민소매 코디': 1, '휴양지 스타일링': 1, '시티보이 감성': 1, '편한 데일리 코디': 1, '캠핑 룩 어때?': 1, '서머 캐주얼 코디': 1, '눈길을 끄는': 1, '확고한 스타일': 1, '시원한 스타일': 1, '비비드 컬러': 1, '시원하고 편안해': 1, '패션의 완성은 컬러': 1, '통통 튀는 서머 룩': 1, '상큼한 여름 컬러': 1, '은근히 멋있어!': 1, '시원한 매치': 1, '센스 만점 원 마일 룩': 1, '끌리는 스타일': 1, '대학생 코디': 1, '개성 있는 컬러 매치': 1, '포인트가 필요한 날': 1, '꿀조합 추천': 1, '비비드한 컬러': 1, '워너비 셋업': 1, '모노 톤 꾸안꾸': 1, '돋보이는 편안함': 1, '내 멋대로': 1, '가벼운 데일리 룩': 1, '이색 포인트': 1, '개구쟁이 패션': 1, '심플한 스타일': 1, '서머 니트 룩': 1, '남들과는 다르게': 1, '시선을 끄는!': 1, '완벽 데일리 룩!': 1, '돋보이는 연출': 1, '요즘 대세 패턴': 1, '탐나는 연출': 1, '패턴 아이템 코디': 1, '캠핑 스타일링': 1, '여름 패션 맛보기': 1, '편해보이는 룩': 1, '꾸안꾸 멋내기': 1, '남다른 모습': 1, '청량한 블루 룩': 1, '화사하게 빛나': 1, '컬러 팬츠 도전': 1, '편한 룩이 좋아': 1, '청량해!': 1, '나만의 코디': 1, '완벽한 편안함': 1, '풋풋한 대학생 룩': 1, '더울 땐 편안하게!': 1, '시원한 코디 완성': 1, '운동 갈 때 입어봐!': 1, '간편한 게 좋아': 1, '디테일이 중요해!': 1, '피크닉 가자!': 1, '요즘  입기 좋아': 1, '그래픽에 주목': 1, '톤온톤의 정석': 1, '캐주얼한 패턴': 1, '자수가 포인트!': 1, '멋스러운 데일리 룩': 1, '돌아온 반팔의 계절': 1, '청량감 업!': 1, '가벼운 워크 웨어': 1, '트렌드 컬러 매치': 1, '캐주얼 조합': 1, '유니크한 오버롤': 1, '비비드 컬러의 매력': 1, '루즈 핏이 대세!': 1, '스웨트 셋업 패션': 1, '날씨 요정': 1, '장마철 룩': 1, '비가 오면 이렇게!': 1, '캐주얼한 룩': 1, '비 코디': 1, '스타일리시한 매력': 1, '편한데 힙해보여!': 1, '환절기 필수!': 1, '캐주얼 감성': 1, '오늘의 날씨는 비!': 1, '무심하게 완성': 1, '환절기 캠핑 룩': 1, '즐겨 입는 패션': 1, '루즈 핏의 매력': 1, '데님을 좋아해': 1, '빛나는 훈훈함': 1, '파스텔 컬러의 매력': 1, '신학기 즐기기': 1, '간단하지만 멋스럽게': 1, '편안한 원 마일 웨어': 1, '봄맞이 카디건 코디': 1, '스타일리시한 청청 코디': 1, '환절기 레더 코디': 1, '마음에 드는 매치': 1, '데님 입기 좋은 날': 1, '오늘은 힙하게!': 1, '파스텔 컬러 연출법': 1, '화사한 봄 패션': 1, '꾸미지 않은 멋': 1, '새 학기 룩': 1, '조화로운 컬러 매치': 1, '블루 홀릭': 1, '후디 러버': 1, '피크닉 캐주얼': 1, '봄에는 이렇게!': 1, '컬러 블록 아이템': 1, '매력 있는 조합': 1, '힙한 컬러 포인트': 1, '새 학기 룩 추천': 1, '활동성 up': 1, '남다른 패턴': 1, '벌룬 핏 코디': 1, '캐주얼 셋업 코디': 1, '꿀조합 완성': 1, '독보적인 비주얼': 1, '벌룬 핏의 매력': 1, '가볍고 멋스럽게!': 1, '로고 활용법': 1, '꾸안꾸 그 자체': 1, '데님 팬츠 포인트': 1, '패턴 레이어드 룩': 1, '한복의 변화': 1, '전통 스타일': 1, '로고 플레이 룩': 1, '존재감 가득': 1, '러블리 남친 룩': 1, '남다른 비주얼': 1, '포근한 캐주얼 룩': 1, '편하지만 멋있게': 1, '조화로운 레이어드': 1, '비비드한 디테일': 1, '매력적인 남자': 1, '강추위도 문제 없어!': 1, '파스텔 홀릭': 1, '따뜻하고 편안해!': 1, '머플러로 완성': 1, '체크 스타일링': 1, '꿀 조합 레이어드': 1, '산뜻한 신학기 룩!': 1, '로고 플레이는 이렇게!': 1, '매력적인 파스텔 톤': 1, '포인트는 확실하게': 1, '화사한 셋업 코디': 1, '데일리 무드 완성': 1, '센스를 더해줘': 1, '보온성 업!': 1, '따뜻해보여': 1, '아가일 포인트!': 1, '아가일 활용법': 1, '한파 코디': 1, '롱 패딩은 필수': 1, '포근하게 마무리': 1, '체크가 좋아': 1, '쉬운 셋업 스타일링': 1, '분위기 있어 보여': 1, '패딩은 필수!': 1, '인기 만점 코디': 1, '패턴에 눈이 가': 1, '모노 톤으로 꾸미기': 1, '편안한 셋업 코디': 1, '편하게 입는 팬츠': 1, '한파도 문제 없어!': 1, '로고의 강렬함': 1, '오버롤이 최고야': 1, '메리 크리스마스': 1, '베이식 패션': 1, '무난한 청청 패션': 1, '조화로운 코디': 1, '따뜻한 캐주얼 무드': 1, '보온성과 스타일 업': 1, '레드 활용법': 1, '겨울 꾸안꾸': 1, '이런 게 남친 룩': 1, '머플러 스타일링': 1, '캐주얼 스타일링': 1, '따뜻함이 느껴져': 1, '체크 패턴 레이어드': 1, '겨울 느낌 가득': 1, '개성 있는 룩': 1, '색다른 청청 패션': 1, '귀엽게 코디하기': 1, '이게 바로 꾸안꾸': 1, '스타일리시한 색감': 1, '셀럽 따라잡기': 1, '돋보이는 따뜻함': 1, '뛰어난 코디 센스': 1, '편하게, 멋지게!': 1, '핑크 스타일링': 1, '모노 톤의 계절': 1, '본격적인 겨울': 1, '즐겨 찾는 코디': 1, '한파에는 파카!': 1, '비가 내리고': 1, '겨울 뉴트럴': 1, '시선 집중 숏 패딩!': 1, '돋보이는 셋업 코디': 1, '부드러운 남자': 1, '리버서블 아이템': 1, '윈터 캐주얼 룩': 1, '워너비 아웃 핏': 1, '색다른 비주얼': 1, '완벽한 레이어링': 1, '바시티 활용법': 1, '더플코트 연출법': 1, '스웨트의 매력': 1, '올 블랙 꾸안꾸': 1, '편해 보이는 조합': 1, '숏 패딩이 포인트!': 1, '완벽한 더플코트 룩': 1, '매력적인 레이어드': 1, '카키 포인트!': 1, '플리스 스타일': 1, '포근해 보이는 룩': 1, '오버 핏 좋아': 1, '옷잘러의 데일리 룩': 1, '전통적인 매력': 1, '흐린 날씨가 좋아': 1, '독보적 바이브': 1, '추워도 괜찮아': 1, '편안함이 돋보여': 1, '비가 와도 멋져': 1, '매력적인 색감': 1, '유니크한 캐주얼 룩': 1, '활동적인 스타일': 1, '분위기 있는 톤 매치': 1, '개성 있는 꾸안꾸': 1, '꾸안꾸 셋업': 1, '오늘의 룩': 1, '블루 포인트 룩': 1, '시크한 꾸안꾸': 1, '즐겨 입는 스타일': 1, '겨울 데일리': 1, '겹쳐 입어봐!': 1, '남다른 레이어드': 1, '실패 없는 캐주얼': 1, '편하지만 멋있게!': 1, '힙한데 편하게!': 1, '팬츠가 멋져!': 1, '풋풋한 모습': 1, '캐주얼 즐기기': 1, '체크 패턴 홀릭': 1, '확실한 개성': 1, '담백한 마무리': 1, '레이니 룩 추천': 1, '툭 걸쳐도 멋져': 1, '트렌치코트 연출': 1, '활동적인 룩': 1, '빈티지 캐주얼의 매력': 1, '가을 훈남': 1, '매력적인 꾸안꾸': 1, '베이지 컬러 스타일': 1, '편하고 멋져!': 1, '소나기 주의!': 1, '플리스 스타일링': 1, '세련된 톤온톤 룩': 1, '과감한 조합': 1, '편하게 꾸며봐': 1, '가볍게 개성 뽐내기': 1, '심벌 포인트': 1, '남다른 아우터': 1, '적절한 믹스 매치': 1, '올 시즌 필수템': 1, '가볍게 꾸민 날': 1, '쿨해서 좋아!': 1, '우산으로 돋보이게!': 1, '센스 있는 꾸안꾸': 1, '힙한 셋업 코디': 1, '벌룬 팬츠 코디': 1, '레인 웨어': 1, '비 와도 예쁘게!': 1, '레인코트 포인트': 1, '소나기 대비 룩': 1, '가볍게 꾸며봐': 1, '개성 더하기!': 1, '화사한 데일리': 1, '환절기 코트': 1, '신선한 느낌': 1, '지루하지 않아': 1, '참고용 코디': 1, '이지 캐주얼 트렌드': 1, '활동적인 코디': 1, '데님 재킷 활용법': 1, '워너비 캐주얼': 1, '특별한 포인트': 1, '애정하는 패턴': 1, '베이식 레이어드': 1, '에스닉 캐주얼': 1, '핏이 관건': 1, '실패 없는 꾸안꾸': 1, '요즘 느낌!': 1, '캐주얼한 감성': 1, '실패 없는 레이어드': 1, '멋스러운 캐주얼 룩': 1, '기분 좋은 컬러감': 1, '뉴트럴 톤 베이스': 1, '완벽한 캐주얼': 1, '진정한 꾸안꾸': 1, '비비드 홀릭': 1, '가을 무드 물씬': 1, '꾸안꾸 끝판왕': 1, '깔끔해': 1, '단정한 이미지': 1, '센스 있는 디테일': 1, '대세는 시티보이': 1, '돋보이는 아우터': 1, '파스텔 컬러 활용법': 1, '미리 입는 플리스': 1, '셔츠에 카디건': 1, '모노 톤 패션': 1, '캠퍼스 룩 어때?': 1, '스웨터의 계절': 1, '매력적인 매치': 1, '패턴을 주목해!': 1, '데일리 룩 끝판왕': 1, '블랙&화이트 조합': 1, '입고싶은 꿀조합': 1, '환절기 룩 강추': 1, '가을에는 핑크': 1, '가장 핫한 코디': 1, '완벽한 셔츠 룩': 1, '눈길을 끄는 패턴': 1, '남다른 캐주얼 룩': 1, '색다른 레이어드': 1, '심플한데 멋져!': 1, '진리의 청청': 1, '펑키 무드': 1, '가볍게 걸쳐': 1, '시선을 끄는 룩': 1, '개성 만점 스타일': 1, '돋보이는 데일리 룩': 1, '쿨한 실루엣': 1, '차분한 스타일링': 1, '독보적인 모습': 1, '패턴에 시선 집중!': 1, '와이드 핏의 매력': 1, '시티보이가 대세!': 1, '웨스턴 룩': 1, '플라워 포인트': 1, '의외의 꿀조합': 1, '만능 레이어드': 1, '캐주얼한 모습': 1, '여름에 제격!': 1, '그래픽이 포인트': 1, '캠퍼스 프린스': 1, '대세 티셔츠 코디': 1, '블루 셋업 홀릭': 1, '여름 컬러': 1, '여름 기본템': 1, '만능 데일리 룩': 1, '이게 트렌드세터': 1, '지금 필요한 룩': 1, '센스 있는 롤업': 1, '빛나는 여름': 1, '가볍고 편해': 1, '호불호 없어!': 1, '특별한 아이템': 1, '코디 조합 굿': 1, '조화로운 스타일링': 1, '편해 보여!': 1, '시원한 착용감': 1, '훈훈한 핏': 1, '힙하고 멋스럽게': 1, '캠핑 준비 완료': 1, '화려한 룩': 1, '경쾌하게!': 1, '폭염 극복!': 1, '브라운 스타일링': 1, '체커보드가 대세!': 1, '아가일 패턴 홀릭': 1, '여행 룩에 제격': 1, '활기를 불어넣는': 1, '오버사이즈 핏': 1, '가볍고 멋스러워': 1, '활동적인 날!': 1, '디테일 넘치게': 1, '체커보드 활용법': 1, '멋스러운 릴랙스 핏': 1, '청량한 디테일': 1, '이게 트렌드': 1, '시원한 디테일': 1, '꾸안꾸 시티보이': 1, '핫 서머 가이': 1, '심플한데 쿨해': 1, '소년같은 스타일': 1, '발끝까지 힙해!': 1, '편한데 트렌디해': 1, '여유로운 핏': 1, '컬러풀한 포인트': 1, '캠핑 룩이 대세': 1, '쿨하게 즐겨봐': 1, '데님 아이템 코디': 1, '핫한 포인트': 1, '청량한 블루 컬러': 1, '꿀템 총 집합': 1, '여름이 느껴져': 1, '서머 꾸안꾸': 1, '여름을 시원하게': 1, '에스닉풍': 1, '휴양지 분위기': 1, '남다른 컬러 매치': 1, '시원한 꾸안꾸 룩': 1, '패턴의 계절': 1, '여름을 즐기자': 1, '산뜻한 오늘': 1, '상큼한 그녀': 1, '랜선 여행 어때?': 1, '벌룬 핏': 1, '컬러 배색': 1, '중독적이야': 1, '독보적인 조합': 1, '살아있는 디테일': 1, '뒤태 미남': 1, '바캉스 코디네이션': 1, '오버 핏 보더 룩': 1, '에스닉 룩 추천': 1, '뉴트럴 감성': 1, '청량한 패턴': 1, '옐로 스타일링': 1, '올 블랙 조합': 1, '장마철에 유용해': 1, '편안함에 집중!': 1, '그린 컬러 홀릭': 1, '그래픽 패턴 코디': 1, '비비드해서 좋아': 1, '레인템 풀 장착!': 1, '장마철 코디 끝': 1, '서머 애슬레저 룩': 1, '일상을 여행처럼!': 1, '꾸안꾸 룩 홀릭': 1, '훌륭한 컬러 매치': 1, '서머 원 마일 룩': 1, '산뜻한 서머 룩': 1, '힙한 그런지 룩': 1, '키치하게!': 1, '무더위 극복': 1, '스타일 합격': 1, '컬러 맛집!': 1, '스컬프터 러버': 1, '경쾌한 마무리': 1, '휴양지 코디 추천': 1, '남다른 그래픽': 1, '그냥 완벽해': 1, '요즘 멋쟁이': 1, '바캉스 느낌': 1, '걸치면 완성': 1, '색다른 변신': 1, '시티보이 출격': 1, '귀엽게 마무리!': 1, '숏 팬츠가 대세': 1, '여름이 좋아!': 1, '간결하게': 1, '여름을 즐기는 법': 1, '셔츠 하나면 돼!': 1, '매력 가득': 1, '경쾌한 발걸음': 1, '멀리서도 시선 강탈!': 1, '언제나 예쁜': 1, '찐 추천 조합': 1, '쿨하게 입기': 1, '확신의 조합': 1, '오버사이즈': 1, '레이어드 꾸미기': 1, '너무 귀엽지?': 1, '꾸준한 인기': 1, '여름을 책임져줘': 1, '저장 각!': 1, '쿨해보여': 1, '여름에 필수!': 1, '스타일 지수 UP!': 1, '시원한 느낌!': 1, '올해도 버킷햇': 1, '패턴 스타일링': 1, '데님에 반팔!': 1, '심플 코디': 1, '캠핑이 생각나': 1, '여름의 시작': 1, '옐로 팬츠 추천': 1, '단번에 완성!': 1, '시크한 포인트': 1, '포인트는 확실히': 1, '기본 아이템': 1, '가볍게 완성': 1, '멋을 알아': 1, '매일 입게 될걸?': 1, '비율 천재': 1, '베스트의 매력': 1, '캐주얼 포인트': 1, '상큼함을 더해': 1, '롱스커트 활용법': 1, '이토록 편안한!': 1, '연출의 힘': 1, '데일리 서머 룩': 1, '자유로운 스타일': 1, '국민 패턴 아이템': 1, '걸쳐 입기 좋아': 1, '센스가 느껴져': 1, '한껏 멋 내기': 1, '환절기에 딱': 1, '인기 급상승': 1, '셋업은 필수!': 1, '편안함에 반해': 1, '편안한 코디': 1, '전통적 매력': 1, '생활한복 연출': 1, '눈에 띄는 팬츠': 1, '고풍스러운 느낌': 1, '가볍고 센스 있게': 1, '경쾌한 스트라이프': 1, '봄날의 필수 코디': 1, '적당해': 1, '자주 입어': 1, '스타일 합격!': 1, '추천 아우터': 1, '스타일 완성 옐로': 1, '압도적이야': 1, '매일 매일 입자': 1, '멋 좀 부려볼까?': 1, '컬러 셋업 추천': 1, '누구나 어울려!': 1, '발랄하게 마무리': 1, '소풍 가기 좋은 날': 1, '톡톡 튀는 컬러': 1, '남다른 팬츠': 1, '기승전 블랙': 1, '베이식 컬러': 1, '스포티한 실루엣': 1, '봄 내음 가득!': 1, '매력 포인트': 1, '나들이 룩': 1, '더 힙하게!': 1, '웨스턴 스타일': 1, '클래식 블루': 1, '데일리 감성': 1, '인기의 비결': 1, '적당한 멋': 1, '환절기 안성맞춤': 1, '남친 룩으로 제격': 1, '화사하고 편하게': 1, '무채색 매력': 1, '훈훈함 가득!': 1, '귀여운 프린팅': 1, '컬러 매치 강추': 1, '환절기 추천 룩': 1, '깔끔한 블루 코디': 1, '봄 느낌 가득': 1, '가볍고 편안하게': 1, '트러커 스타일링': 1, '후드 레이어드': 1, '시선 집중 블루': 1, '컬러에 반했어!': 1, '후드 집업 활용법': 1, '편안하고 멋져!': 1, '참신한 발상': 1, '균형감 있게': 1, '스타일 변신': 1, '홈 웨어 제안': 1, '90년대 무드': 1, '연하남 스타일': 1, '대체 불가 스타일': 1, '루즈 핏 연출': 1, '홈 웨어 아이템': 1, '파자마 패션': 1, '발랄한 캐주얼 룩': 1, '대충 걸쳐도 예뻐!': 1, '오버 핏에 빠져': 1, '퍼포먼스 있게': 1, '화사하게 겨울나기': 1, '중독성 갑': 1, '나의 원픽': 1, '인기템 모음집': 1, '포인트를 살려': 1, '컬러 레시피!': 1, '체크 코디 꿀팁': 1, '패션 센스 업!': 1, '멋스러운 마무리': 1, '비교 불가': 1, '편하게 멋 내는 법': 1, '홈 웨어 연출': 1, '감각 있는 조합': 1, '원 마일 룩 연출': 1, '퍼 재킷 잘 입기': 1, '화이트 겨울': 1, '조합이 예술!': 1, '데일리로 강추': 1, '원 마일 룩 필수': 1, '포근한 오늘': 1, '극강의 따뜻함': 1, '따뜻하게 즐겨': 1, '핵심은 머플러!': 1, '꿀조합!': 1, '특별함을 더해줘': 1, '매일 입는 룩': 1, '포인트 얹기': 1, '레이어드 도전': 1, '올겨울 트렌드': 1, '올겨울 필수 룩': 1, '멋진 비주얼': 1, '원 마일 룩 추천': 1, '포근하게 입기': 1, '특별한 일상': 1, '최강 조합': 1, '매일 입을래!': 1, '강추위 문제 없어!': 1, '포근한 핑크 코디': 1, '춥지 않아!': 1, '매력 폭발': 1, '스타일 취향 저격': 1, '핫한 데일리 룩': 1, '경쾌한 체크 포인트': 1, '요즘 대세 룩!': 1, '운명 같은 조합': 1, '포근하게 완성': 1, '윈터 캐주얼!': 1, '쿨한 매력 발산!': 1, '지금 입어줘!': 1, '원 마일 룩 추천!': 1, '포근함에 반해': 1, '스타일에 끌려': 1, '포근함 만땅': 1, '추울 땐 레이어드': 1, '스타일이 살아나': 1, '여심 저격 룩': 1, '더플코트 잘 입기': 1, '발랄한 완성': 1, '변함없는 사랑': 1, '내일 입을 룩': 1, '코트가 좋아': 1, '숏 패딩의 매력': 1, '패딩으로 완성!': 1, '귀여운 겨울 룩': 1, '데일리로 굿': 1, '겨울의 포인트!': 1, '코트 스타일링법': 1, '겨울 코디 이렇게!': 1, '꾸안꾸는 이렇게!': 1, '언제 봐도 멋져': 1, '추위 걱정 없어!': 1, '부드러운 컬러 조합': 1, '겨울엔 숏 패딩!': 1, '월요일 아침': 1, '기분 전환용': 1, '정열의 레드': 1, '패턴 아이템 활용법': 1, '임팩트 있어': 1, '레이어드 기법': 1, '깊이 있는 코디': 1, '가볍고 따뜻하게': 1, '포근함에 끌려': 1, '스니커즈 포인트!': 1, '오버사이즈의 매력': 1, '알차게 코디하기': 1, '더플코트 좋아': 1, '카멜과 데님': 1, '매력적인 블루종': 1, '데일리 무스탕': 1, '레이어드 코디법': 1, '플리스 연출하기': 1, '필수템 패딩': 1, '내추럴이 최고': 1, '내일도 입고싶어': 1, '조화로운 컬러': 1, '편해서 더 좋아': 1, '겨울 아우터의 꽃': 1, '베이지 포인트': 1, '액세서리로 꾸미기': 1, '와이드 매력': 1, '찰떡 소화': 1, '귀여운 퍼 재킷': 1, '컬러가 굿!': 1, '패딩도 화사하게': 1, '체크 코트 응용법': 1, '보온성 갑 플리스': 1, '겨울엔 코트!': 1, '겨울의 그린': 1, '브라운이 좋아': 1, '한 눈에 반해': 1, '심쿵 주의': 1, '소장각 아우터': 1, '기본과 정석': 1, '청순미 가득!': 1, '그레이시 룩': 1, '모두 시선 집중': 1, '스윗한 핑크!': 1, '돋보이게 입기': 1, '보온성 갑': 1, '진정한 패피': 1, '플리스 맛집': 1, '남다른 워크 웨어': 1, '레이어드는 센스!': 1, '코트가 정답!': 1, '시선을 끄는 컬러': 1, '힙한 꿀 조합': 1, '자카드가 대세!': 1, '레이어드를 하자': 1, '요즘 패션': 1, '줄곧 찾게 돼': 1, '데일리 재킷': 1, '가을 스타일': 1, '코트가 제격': 1, '계절과 어울려': 1, '셋업으로 멋 내기': 1, '따뜻해서 좋아': 1, '국민 연하남': 1, '귀여워!': 1, '플리스가 정답!': 1, '가볍고 따뜻해!': 1, '지금 입어 줘': 1, '체크 맛집!': 1, '일상을 멋있게': 1, '요즘 제격이야': 1, '포스 넘쳐!': 1, '편하고 귀엽게': 1, '나의 계절': 1, '나처럼 해봐라': 1, '자꾸 손이 가': 1, '든든한 아우터': 1, '눈앞에 아른': 1, '깔끔하고 좋아': 1, '잘 떨어지는 핏': 1, '매일 입는 핑크': 1, '센스 있어!': 1, '지나치게 멋져!': 1, '포인트는 블루!': 1, '개성 시대': 1, '새로운 패턴': 1, '훈남의 하굣길': 1, '치명적인 조합': 1, '멋을 입다': 1, '심플하게 즐겨': 1, '블루가 포인트': 1, '깜찍한 매력': 1, '이 조합 어때?': 1, '멋짐의 비결': 1, '이 구역의 힙스터!': 1, '뉴트로의 귀환': 1, '비글미 넘치게': 1, '숨겨진 레이어드': 1, '언제든 좋아': 1, '멋지게 마무리': 1, '기본 스타일': 1, '쿨한 게 좋아!': 1, '꾸안꾸 코디 원탑': 1, '친절한 소년': 1, '위트 있어': 1, '오늘도 멋짐': 1, '기분 전환 성공': 1, '남들과는 달라': 1, '최애템 모음집': 1, '하이틴 스쿨': 1, '실물 깡패': 1, '훌륭해!': 1, '가을에 딱이야': 1, '트렌디하게!': 1, '데이트 성공': 1, '훈남과 함께': 1, '남친 룩 도전': 1, '오늘도 최고': 1, '가을을 준비해': 1, '무결점 코디!': 1, '편하고 예쁘게!': 1, '디테일이 생명': 1, '백팩이 포인트': 1, '과하게 멋있어': 1, '뉴스보이': 1, '나만의 컬러': 1, '셔츠로 마무리': 1, '훈남의 표본': 1, '최애 스타일': 1, '오렌지 블라썸': 1, '유독 멋있어': 1, '활기를 더해줘!': 1, '도전 정신': 1, '담백한 아이템': 1, '데이트 성공!': 1, '환상의 컬러': 1, \"'완벽' 그 자체!\": 1, '산뜻한 느낌!': 1, '캠퍼스 남친 룩': 1, '소년미 넘쳐': 1, '심플함에 빠져': 1, '청량한 컬러!': 1, '해피 바이러스': 1, '잘생겼어': 1, '무장해제': 1, '흥미로워': 1, '멋에 취해봐': 1, '남친 룩 입기': 1, '반하겠어!': 1, '#오오티디': 1, '같이 떠날래?': 1, '신비로운 매력': 1, '준비 OK!': 1, '이런게 대세': 1, '얼굴이 환해보여': 1, '핑크빛 데이트': 1, '모두 갖췄어!': 1, '도시적 스타일': 1, '시선 싹쓰리!': 1, '키치한 감각': 1, '스트라이프의 계절': 1, '자꾸 눈이 가': 1, '베스트로 가자': 1, '문제 없음!': 1, '포인트 좋아': 1, '인간 라임': 1, '여름 코디 만렙': 1, '떠나고 싶은 날': 1, '서머 룩 끝판왕': 1, '시선 집중 매력': 1, '디테일의 완성': 1, '예쁜데 편안해!': 1, '유쾌하게!': 1, '이 멋에 산다': 1, '멋 내기 좋아!': 1, '컬러 매치 좋아!': 1, '진리의 조합!': 1, '보헤미안 감성!': 1, '오늘은 편하게': 1, '독보적 데일리 룩': 1, '이런게 트렌드': 1, '오늘도 힙하게': 1, '포인트로 얹어봐': 1, '데님은 이렇게': 1, '자유롭게 입어봐': 1, '심플하니 멋져': 1, '태양을 즐겨!': 1, '스타일링 최고!': 1, '가장 편해': 1, '기분 좋아': 1, '심플은 베스트': 1, '요즘 자꾸 입어': 1, '컬러 조합 멋져': 1, '자유로운 여름': 1, '좋은 건 함께!': 1, '심플하게 가자': 1, '여행 룩 고민 끝!': 1, '프리스타일': 1, '안정감 있게': 1, '훈남 공식': 1, '내게 반하나?': 1, '여름 필수템': 1, '별 보러 가자': 1, '딱! 좋아': 1, '새로운 시작': 1, '느낌 그대로': 1, '실패확률 0%': 1, '비타민 같은 룩': 1, '최고의 흥행작': 1, '예감이 좋아': 1, '캠핑 가야지!': 1, '맑고 청량해': 1, '편한 게 최고야!': 1, '어디로 떠날래?': 1, '가볍게 착!': 1, '컬러에 주목해': 1, '귀엽게 레이어드': 1, '훈녀 등극!': 1, '이렇게 입어 봐!': 1, '스타일 좀 산다': 1, '매일 입자고': 1, '올 블랙의 매력': 1, '제대로 자유!': 1, '편하니까': 1, '깔끔美': 1, \"'핫'하게 입자\": 1, '여름엔 모노 톤': 1, '아방가르드 패션': 1, '패션의 정석': 1, '깔끔하게 끝내': 1, '시원해서 좋아': 1, '가볍고 편안해!': 1, '스타일리시 해': 1, '포인트 살리기!': 1, '핫하다! 힙하다!': 1, '두 번 입자': 1, '이 구역 힙스터': 1, '보고 또 보고': 1, '서머 무드': 1, '쉽게 입어 우리': 1, '꾸러기 코디': 1, '신나게 입을게!': 1, '일상을 채워줘!': 1, '시원한 패턴': 1, '이 시대의 꾸러기': 1, '여유 있는 핏': 1, '스케이트보더': 1, '너도 원해?': 1, '무더위 안녕': 1, '트로피컬 후르츠': 1, '셋업 중독': 1, '대담한 컬러': 1, '확실하게!': 1, '상상 이상': 1, '정직한 핏': 1, '호감 상승!': 1, '여유 있게': 1, '여름을 느껴 봐!': 1, '파스텔 톤의 매력': 1, '화사하게 연출하기': 1, '빈틈 없는 조합': 1, '다채로운 느낌': 1, '화사함 200%': 1, '청량 지수 UP': 1, '기분마저 시원해': 1, '티셔츠와 꿀조합': 1, '즐거운 여름': 1, '포인트 확실히': 1, '매일 새로워': 1, '만화 주인공': 1, '옷잘알': 1, '한 벌로 여신되기': 1, '여름과 어울려': 1, '블랙이 좋아': 1, '원하던 스타일': 1, '자주 오랫동안': 1, '여름 나기': 1, '심플하게 완성!': 1, '시원해!': 1, '너도 나도 입어': 1, '데일리 룩 미남': 1, '여름엔 블랙': 1, '포인트가 가득': 1, '포인트는 팬츠': 1, '훈훈함 풍기는': 1, '완벽 컬러 조합': 1, '데일리 룩 정석!': 1, '심플함이 좋아': 1, '모범답안': 1, '젠틀맨 최고!': 1, '잘 입었잖아?': 1, '여름 남자!': 1, '시원함의 레벨이 달라': 1, '이게 진짜지!': 1, '당장 입고 싶어!': 1, '산뜻함 충전!': 1, '화이트는 진리!': 1, '기분도 시원해': 1, '편하게 입는 오늘': 1, '원피스 뽐내기': 1, '시원하게 보내기': 1, '컬러로 완성': 1, '올여름 치트키': 1, '만능 아이템': 1, '맑은 컬러감': 1, '심플한 라인': 1, '가볍지만 멋있게!': 1, '트렌디한': 1, '편하고, 멋있게!': 1, '스타일의 숨은 고수': 1, '따라 입기 쉬워!': 1, '남다른 서머 룩': 1, '미모 업그레이드': 1, '여름에 딱!': 1, '귀여운 서머 룩': 1, '상큼함이 두 배!': 1, '여름의 낭만': 1, '본격 여름 준비': 1, '편하게 갖춰 입기': 1, '와이드 팬츠 활용법': 1, '즐거운 오늘': 1, '보통의 깔끔함': 1, '타이다이 입어봤어?': 1, '이제 진짜 여름!': 1, '데일리로 입어': 1, '러블리함이 두 배': 1, '황금 조합 코디': 1, '편하게 여름 나기': 1, '청량감 물씬': 1, '편하고, 멋있게': 1, '끝내주는 조합': 1, '자주 입을걸?': 1, '여름 겨냥 코디': 1, '블랙은 정답': 1, '비장의 무기': 1, '패션 센스 A+': 1, '훈남의 비밀': 1, '큐티 보이': 1, '시원함 보장!': 1, '보통의 아웃핏': 1, '나쁠 게 없지': 1, '트렌디한 요즘': 1, '인생샷 보장 룩': 1, '캐주얼 룩 절대 강자!': 1, '일상을 채워줘': 1, '진짜 데일리 웨어': 1, '퍼스널 컬러': 1, '정직한 조합': 1, '제일 핫해!': 1, '와! 여름이다': 1, '센스를 더하자': 1, '산뜻함 가득': 1, '비율 깡패 룩': 1, '완벽 비주얼': 1, '귀여운 디테일!': 1, '쿨한 원피스 룩': 1, '데일리 룩 치트키': 1, '숏 팬츠의 계절!': 1, '체크 전성시대': 1, '활동성 굿!': 1, '편하게 완성!': 1, '가볍게 끝내': 1, '트로피컬': 1, '실패 없어': 1, '훈내 난다!': 1, '지금 날씨에 제격': 1, '체크로 시작': 1, '에너지 충전!': 1, '데일리로 딱 좋아!': 1, '색다른 룩': 1, '셔츠를 입자!': 1, '한 벌로 멋지게!': 1, '데님으로 통한다': 1, '강렬한 스커트': 1, '믿고 입는 데님': 1, '모던한 컬러 매치': 1, '러블리 데님': 1, '한여름의 크리스마스': 1, '이게 남친룩!': 1, '컬러 매치 만점': 1, '지금 입기 딱 좋아': 1, '기막힌 조합!': 1, '산뜻한 이미지': 1, '코디력 만렙!': 1, '깔끔하게 가자': 1, '코디 고민 끝': 1, '존재감 확실': 1, '환상적 조합': 1, '심플해!': 1, '올봄 트렌드': 1, '언제나 옳아!': 1, '주말엔 이렇게': 1, '돋보이는 미모': 1, '편하게 예뻐지자': 1, '컬러가 다 했다': 1, '매력 그 자체': 1, '헌팅캡 활용법': 1, '편안하게 입기': 1, '똑 부러지는 스타일': 1, '여러모로 멋져!': 1, '데일리 룩으로!': 1, '은근 멋짐': 1, '쇼츠의 매력': 1, '데님에 빠지다!': 1, '맞춤 코디': 1, '컬러감 최고야': 1, '과감한 코디': 1, '쉽고 편하게': 1, '싱그러워!': 1, '깨알 디테일': 1, '식욕 증진 룩': 1, '데일리 룩 당첨!': 1, '기분 상승 룩': 1, '365일 코디': 1, '500일의 썸머': 1, '보라색 좋아': 1, '상큼한데?': 1, '편하게 가자!': 1, '인기 좋은 룩': 1, '티셔츠에 주목!': 1, '통통 튀는 패션': 1, '편안한 캐주얼': 1, '완연한 봄': 1, '완벽한 캠퍼스 룩': 1, '베스트가 포인트!': 1, '적절한 믹스': 1, '데일리 룩 나왔어!': 1, '베스트 연출법': 1, '패피 필수템': 1, '심플한게 좋아': 1, '찰떡같은 코디': 1, '이 느낌 좋아': 1, '이유 있는 인기': 1, '그냥 좋아': 1, '인생 룩 등장': 1, '가볍게 셔츠': 1, '무조건 셋업': 1, '봄을 닮은': 1, '청청 입는 방법': 1, '귀여우면 다야': 1, '발랄하게 입어 봄': 1, '좋은 날': 1, '잘 고른 카디건': 1, '블루의 계절': 1, '봄 감성 물씬': 1, '분위기 한가득': 1, '나들이처럼': 1, '하루 종일 멋져': 1, '청량한 데님': 1, '봄과 함께해': 1, '괜찮은 하루': 1, '훈훈함 더하기': 1, '깔끔하게 마무리': 1, '멋짐을 입다': 1, '역시 스트라이프': 1, '트렌치는 필수!': 1, '산뜻해 보여': 1, '가방으로 완성!': 1, '블랙은 이렇게!': 1, '청량한 데일리 룩': 1, '가볍게 입어줘': 1, '가볍게 포인트': 1, '힙 좀 안다?': 1, '환절기엔 이렇게': 1, '하늘을 닮았어': 1, '어쩐지 솜사탕': 1, '은근한 멋': 1, '상큼함 톡톡!': 1, '디테일이 살아있어!': 1, '편해도 너무 편해': 1, '한눈에 쏙!': 1, '남다른 느낌': 1, '편한데 예쁘다': 1, '지금부터 쭉': 1, '봄을 즐기자': 1, '블레이저 추천': 1, '가볍고 편한 룩': 1, '은근 꿀조합': 1, '간편해서 좋아': 1, '봄에 입자': 1, '꽤 멋져': 1, '심플한 데일리': 1, '가볍게 캐주얼': 1, '꾸안꾸의 룰': 1, '산뜻한 느낌': 1, '날 좀 봐요': 1, '산뜻한 재킷': 1, '봄에 입기 좋은': 1, '완전 유니크해!': 1, '심플하게 준비': 1, '이 조합 칭찬해': 1, '패턴에 시선 집중': 1, '대충 입어도 예뻐': 1, '꾸안꾸 필수템': 1, '봄이 기다려져': 1, '훈남 등극': 1, '너만 보여': 1, '안경을 꺼내 쓴 날': 1, '오렌지 바이브': 1, '포스 뿜뿜': 1, '상큼하게 입기': 1, '봄인가 봐': 1, '훈훈 무드': 1, '입으면 반한다': 1, '시크남의 데일리 룩': 1, '봄엔 카디건': 1, '셋업처럼': 1, '조합이 굿': 1, '베이식하게!': 1, '싱그러운 후디': 1, '개성있어': 1, '컬러가 산뜻': 1, '보통보다 좋아': 1, '대세잖아': 1, '산뜻한 캐주얼 룩': 1, '봄을 맞이해': 1, '이유 없이 좋아': 1, '셋업 중에 최고': 1, '캐주얼 데일리 룩': 1, '파스텔 매력': 1, '유니크 데님': 1, '눈에 띄는 센스': 1, '차분한 톤온톤': 1, '후디 뽐내기': 1, '오묘한 조합': 1, '눈이 환해진다!': 1, '원래 세트였나?': 1, '걱정 없는 코디': 1, '센스있는 훈남': 1, '귀여운 후배룩': 1, '내 맘속 남친룩': 1, '너도 나도 입자': 1, '재킷이 포인트!': 1, '모노톤의 장인': 1, '그의 데일리룩': 1, '봄 코디로 어때?': 1, '로고 뽐내기': 1, '오묘한 디테일': 1, '상큼한걸!': 1, '편한데 멋져': 1, '힙한 데일리 룩': 1, '딱 이런 느낌!': 1, '힙스터 무드': 1, '편한데 느낌있어': 1, '어쩐지 봄': 1, '힙스터 필수': 1, '남자의 봄 코디': 1, '레이어드 완성': 1, '손이 가는 재킷': 1, '편안함 가득': 1, '그녀의 데일리 룩': 1, '슬릿으로 포인트': 1, '아메카지 느낌': 1, '데일리룩 제안': 1, '심플하게 트렌디': 1, '워너비 스타일!': 1, '간편하게 걸쳐': 1, '이거면 됐어': 1, '편하게 입어!': 1, '소장하고 싶어': 1, '예쁨 한 스푼': 1, '형광등 컬러': 1, '느낌 있는 편안함': 1, '100점짜리': 1, '매력 있는 카디건': 1, '간편하게 멋짐': 1, '찰떡콩떡': 1, '이기적이야!': 1, '믿고 입는 조합': 1, '끌릴 수밖에': 1, '잘 입는 비결': 1, '걱정 없이 입어': 1, '봄을 느껴봐': 1, '모두가 극찬': 1, '봄바람 불 때': 1, '언제나 러블리': 1, '세련미 극치': 1, '스트릿하게!': 1, '이게 힙이다!': 1, '오늘의 데일리 룩': 1, '핏에 반해!': 1, '탐나는 니트': 1, '블루로 완성!': 1, '아메카지 잘 입기': 1, '아우터 포인트!': 1, '매일 입어도 좋아!': 1, '유난히 예쁨!': 1, '매일 즐겨 입어': 1, '임팩트 있게!': 1, '갖고 싶은 룩': 1, '훈훈한 조합': 1, '유니크한 그녀': 1, '좋아합니다': 1, '세상 행복해': 1, '깜찍한게 대세': 1, '눈정화 코디': 1, '카페 라테 룩': 1, '알고 싶은 연출법': 1, '캐주얼 정석': 1, '캐주얼 룩 소환': 1, '오늘은 이거다!': 1, '잘 입은 셔츠': 1, '진짜 최고': 1, '카디건 끝판왕': 1, '편한게 대세': 1, '데일리 코디 끝!': 1, '미친 조합': 1, '베스트로 가볍게!': 1, '재킷 레이어드': 1, '나만의 무드': 1, '단정한 캐주얼': 1, '왜 안입어?': 1, '훈남 향기': 1, '멋스러운 재킷': 1, '푸근한 매력': 1, '모자가 포인트': 1, '빈티지 무드 가득': 1, '편하고 심플': 1, '캐주얼 좋아': 1, '따뜻한 캐주얼 룩': 1, '머플러로 멋 내기': 1, '반대 없는 코디': 1, '모두 입어주라': 1, '멍뭉미 폭발': 1, '캐주얼 남신': 1, '빛이 난다 빛이 나': 1, '힙한 무드 물씬': 1, '편하게 입었어': 1, '당차고 멋져': 1, '이거면 충분해!': 1, '겨울에도 든든': 1, '딱봐도 편해!': 1, '고민 없이 입어!': 1, '체크로 승부': 1, '이게 찐이지!': 1, '매일 입고싶다': 1, '가볍게 따듯해': 1, '힙을 입었나?': 1, '아우터 플렉스': 1, '시작이 좋아': 1, '윈터 플라워': 1, '길어보여': 1, '실패 없는 스타일': 1, '편안한 겨울': 1, '그래픽 최고': 1, '클래식 캐주얼': 1, '가볍게 훈훈!': 1, '딱 내스타일!': 1, '참 좋은 스타일': 1, '스타일 제대로!': 1, '귀염뽀짝 보라': 1, '오늘도 파이팅': 1, '오렌지 러버': 1, '패션의 완성': 1, '영원한 클래식': 1, '아무나 소화 못해!': 1, '너무 멋있는데?': 1, '연말 룩 강추': 1, '심플해서 멋진': 1, '너드 룩': 1, '플리스로 마무리': 1, '개성넘쳐!': 1, '따뜻한 일상': 1, '힙하게 가자!': 1, '마음에 들어!': 1, '아메카지 러버': 1, '플리스 믹스': 1, '겨울의 화사함': 1, '더블로 따뜻': 1, '편하게 레이어드': 1, '무스탕의 매력': 1, '기분 전환': 1, '나의 원 픽': 1, '겨울 체크': 1, '오래오래 입자': 1, '따뜻한데 편해': 1, '가볍지만 따뜻해!': 1, '심플한 듯 멋스러운': 1, '따뜻하고 포근해': 1, '맨날 입어': 1, '영하 대비책': 1, '집 앞으로 나와': 1, '코듀로이 사랑': 1, '겨울의 여행': 1, '지금 입기좋아': 1, '데일리 아우터': 1, '어떤 자리에도': 1, '길고 편안하게': 1, '데님 레이어드': 1, '아이보리 매치': 1, '유행 타지 않아': 1, '셋업같은 컬러': 1, '마틸다처럼': 1, '데일리 레깅스': 1, '제대로 겨울': 1, '역시 체크!': 1, '러블리 포인트!': 1, '컬러 레이어드': 1, '산뜻한 겨울': 1, '겨울 여행': 1, '멋드러진': 1, '다양한 스타일': 1, '유행 타지 않는': 1, '숏패딩의 매력': 1, '양면으로 따뜻': 1, '포근한 인상': 1, '역시는 역시': 1, '완전 내꺼!': 1, '레더 좋아!': 1, '플리스는 영원히!': 1, '날 찍어봐!': 1, '겨울 코디 정석': 1, '겨울 강타!': 1, '빈틈없이 멋져': 1, '특별한 맨투맨': 1, '빛나는 겨울코디': 1, '한겨울의 데이트': 1, '첫눈을 닮은': 1, '또 다른 느낌': 1, '바쁜 일상': 1, '집 앞에서': 1, '롱한 따스함': 1, '바로 지금': 1, '꾸안꾸 캐주얼': 1, '시험 기간': 1, '지금 입을까': 1, '손이 가요': 1, '오늘 좀 멋져': 1, '발열 준비': 1, '힘찬 겨울': 1, '브라운 중독': 1, '좋아하는 룩': 1, '돌아보는 핏': 1, '자꾸 입게 돼': 1, '핑크 보이': 1, '뽀글이 재킷': 1, '겨울 숏패딩': 1, '돋보이는 개성': 1, '편한 듯 멋있게': 1, '매일 보는 사이': 1, '레이어드 좋아!': 1, '내 품에 안겨': 1, '1+1=귀요미': 1, '색다른 패딩': 1, '빛나는 순간': 1, '개구쟁이 포즈': 1, '대놓고 멋지기': 1, '대세 코디!': 1, '모두에게 추천': 1, '엄청 따뜻': 1, '완전 좋아': 1, '겨울 크루 모임': 1, '이게 진짜지': 1, '사계절 컬러': 1, '너무 따뜻해': 1, '겨울 왕국': 1, '오늘의 아우터': 1, '사파리 체험': 1, '퍼 재킷을 체크': 1, '레드 좋아': 1, '레이어드 캐주얼': 1, '활용 만점': 1, '좋아요 꾸욱': 1, '패치 포인트': 1, '차가워진 바람': 1, '플리스를 입자': 1, '포근 데일리': 1, '돋보이는 광택': 1, '핏이 다했네!': 1, '겨울에도 상큼': 1, '더플코트 러버': 1, '겨울을 책임져!': 1, '겨울 추천 룩': 1, '충분한 매력': 1, '시크하게 척!': 1, '멋진 겨울 여자': 1, '매력 철철!': 1, '색조합 좋아': 1, '고급미가 넘쳐': 1, '수줍은 겨울': 1, '널 위한 오늘': 1, '최애 재킷': 1, '재킷에 주목!': 1, '테디베어 등장': 1, '목도리의 계절': 1, '새로운 매력': 1, '겨울에도 산뜻하게': 1, '이렇게 멋진!': 1, '간결한 훈남 룩': 1, '훈내 진동': 1, '보드라운 니트': 1, '귀여운 재킷': 1, '미니 백 포인트': 1, '귀여움 업!': 1, '한파도 거뜬!': 1, '상큼 데이트': 1, '핑크 마니아': 1, '꾸며볼까': 1, '아이돌 같아': 1, '사진 찍어줄게': 1, '포인트쟁이': 1, '겨울 소식': 1, '유행 상관 없어': 1, '아메카지의 밤': 1, '댕댕이 최고': 1, '지금 바로 갈게': 1, '포근한 멋': 1, '캐주얼 하게': 1, '파스텔 좋아': 1, '입기 편한 코디': 1, '겨울 교복!': 1, '시도해봐도 좋아!': 1, '선택 아닌 필수!': 1, '깔 맞춤 스타일링': 1, '어쩐지 기분 UP!': 1, '너무 내스타일': 1, '은근 따듯해': 1, '공강 최고야': 1, '뒷면 포인트': 1, '믹스 매치 잘해': 1, '나름 깜찍!': 1, '스테디셀러지': 1, '나는 대세남!': 1, '겨울 순삭하자': 1, '역시 패딩': 1, '후디 컬러 굿!': 1, '캐주얼 무드!': 1, '치마가 한몫': 1, '가방에 주목': 1, '체크는 사랑': 1, '올바른 코디': 1, '잔잔한 프레피': 1, '야구부 주장': 1, '선물 고마워': 1, '미친 컬러 조합!': 1, '겨울 치트키': 1, '다 가진 코디': 1, '지금까지 좋아': 1, '포근함 충전': 1, '색 조합 좋아!': 1, '청순 끝판왕': 1, '러블리한 무드': 1, '최애 코디 등극': 1, '늦가을에 제격': 1, '레더 재킷 좋아': 1, '색감 저격': 1, '이 패딩 어때?': 1, '적당히 귀엽게': 1, '프레피 룩 전도사': 1, '하트 뿅뿅': 1, '일석이조 재킷': 1, '매일 입을거야': 1, '이쁨 다 내 것!': 1, '심바처럼': 1, '오늘 시험 잘봐': 1, '가을 캐주얼': 1, '활용도 높게': 1, '가을과 함께': 1, '사랑과 평화': 1, '브라운 좋아': 1, '가방이 포인트': 1, '발랄한 내 매력': 1, '가을이 아쉬워': 1, '알지? 내 마음': 1, '오늘의 OOTD': 1, '친구야 학교 가자!': 1, '영화관 데이트': 1, '리버서블 중독': 1, '라이더 활용법': 1, '니트 포인트!': 1, '하늘 같은 니트': 1, '마음에 드는 룩': 1, '카디건 뽐내기': 1, '핑크 뮬리처럼': 1, '활용도 갑': 1, '가을 아우터': 1, '코듀로이 입자!': 1, '언제나 따뜻해': 1, '보들보들 플리스!': 1, '트렌치 입자!': 1, '라이더의 계절': 1, '세젤예': 1, '경쾌한 포인트!': 1, '가을엔 체크': 1, '산뜻한 니트 룩': 1, '가을 감성!': 1, '선명한 스타일': 1, '세상 포근해': 1, '꽃보다 니트': 1, '다들 입어': 1, '후디와 셔츠': 1, '체크의 힘': 1, '언제 입어도': 1, '가을과 어울려': 1, '포근포근': 1, '매력있게': 1, '따뜻한데 편해!': 1, '트러커의 반전': 1, '아이유 느낌': 1, '깜찍해서 좋아': 1, '깜찍한 카디건': 1, '레더로 힙해': 1, '블라우스 대란': 1, '체크의 멋': 1, '한 눈에 쏙': 1, '니트 실루엣': 1, '코듀로이의 매력': 1, '가을 컬러 조합': 1, '차분한 코디': 1, '깔끔한 컬러': 1, '넉넉한 셋업': 1, '러블리 매력': 1, '레더+레오퍼드': 1, '체크 데이트': 1, '라이더 러버': 1, '담백한 블랙': 1, '포인트 니트': 1, '꽤 하는데?': 1, '힙하게 가즈아!': 1, '이코디 찬성': 1, '이게 진짜': 1, '최강 뉴트로': 1, '레오파드로 완성': 1, '동아리 선배님': 1, '부드러운 매력': 1, '지금 입기 딱': 1, '악몽 꾼 다음날': 1, '너무 포근해': 1, '최적의 아우터': 1, '아메카지의 매력': 1, '레더를 선택해!': 1, '실용적인 코디': 1, '말이 필요없어': 1, '인기만점': 1, '매력적인 코트': 1, '청순 끝판왕!': 1, '너무 예쁘잖아!': 1, '편하게 멋내기!': 1, '가을엔 아메카지': 1, '괜찮은 셋업': 1, '니트랑 찰떡': 1, '가을 만끽': 1, '산뜻한 인상': 1, '기다려온 스웨트': 1, '깔끔하니 좋다!': 1, '트렌디함의 끝': 1, '심플하게 댄디해': 1, '많이 멋있어': 1, '프리한 무드': 1, '멋쟁이 나가신다': 1, '가을 여행': 1, '포근한 카디건': 1, '스트라이프 감성': 1, '라이더 재킷 원픽': 1, '니트와 셔츠 조합': 1, '오늘 와인 한잔': 1, '민트초코 느낌': 1, '신비롭게': 1, '프릴&체크': 1, '가을 여인': 1, '감성 코디': 1, '러블리하다': 1, '숄 카디건처럼': 1, '니트가 입고싶다': 1, '가을 스웨트셔츠': 1, '내 사랑은 직진': 1, '매일 입어요': 1, '명작의 탄생': 1, '특별한 그녀': 1, '분위기 휘감기': 1, '완벽한 옐로': 1, '오버 핏 드림': 1, '기분 좋은 그레이': 1, '꽃처럼 예뻐': 1, '귀여운 꾸러기': 1, '가을 남신': 1, '아메카지의 계절': 1, '은근 매력': 1, '루즈한 게 좋아!': 1, '스타일 지수 업!': 1, '테디베어 룩': 1, '프레피 걸': 1, '뉴트럴하게!': 1, '궁극의 스쿨 룩': 1, '상큼한 니트': 1, '프레피하게': 1, '편한 옷이 최고': 1, '럭비 셔츠 코디': 1, '최애 데일리 룩': 1, '미리 겨울 준비': 1, '스포티 데일리 룩': 1, '스커트 예쁘지?': 1, '귀염 뽀짝': 1, '심플한 가을': 1, '가을맞이 코디': 1, '감각있는 룩': 1, '정석 캐주얼': 1, '좀 특이하지?': 1, '화요팅!': 1, '경쾌한 하루': 1, '드디어 청재킷!': 1, '스타일링 고민 끝': 1, '스웨트셔츠 계절': 1, '심플하게!': 1, '이런 깜찍함!': 1, '매일 입는 옷': 1, '편하게 원피스': 1, '루즈 핏 훈남': 1, '이지 캐주얼의 매력': 1, '개강 준비 끝': 1, '시강 스트릿룩': 1, '스웨이드로 멋내기': 1, '실용성 최고': 1, '체크 체크': 1, '러프한 느낌': 1, '이렇게 입기': 1, '롱슬리브의 계절': 1, '최애 색감': 1, '매력 있는 패션': 1, '히든 컬러': 1, '데일리 룩 확정': 1, '간단한 여행': 1, '여신 등장': 1, '올블랙 매치': 1, '최애템 등극': 1, '훈훈 데이트 룩': 1, '컬러 조합 좋아!': 1, '시원한 빨간색': 1, '편한 사이': 1, '간편하게 좋아': 1, '활기찬 그': 1, '지금을 즐겨': 1, '시크한 그대': 1, '스타일 박수!': 1, '만족스럽다': 1, '늦장 더위 비켜!': 1, '멋지잖아!': 1, '스타일링 좋아': 1, '데일리한 일상': 1, '레드 캐주얼': 1, '베이식 포인트': 1, '포켓에 주목': 1, '가볍게 데일리': 1, '이지하게!': 1, '캠퍼스를 누비자': 1, '훈남의 셔츠 룩': 1, '여름 셔츠 추천': 1, '민트향 풀풀': 1, '서핑 무드': 1, '의외의 호평': 1, '선물같은 코디': 1, '신학기에 입어': 1, '감사한 코디': 1, '패션 디톡스': 1, '나쁠 거 없잖아': 1, '귀엽고 상큼하게': 1, '돋보이는 스커트': 1, '젊음이 톡톡!': 1, '상큼하게 바캉스!': 1, '박수 칠게!': 1, '제법 멋져': 1, '진짜 편해': 1, '쉽게 꾸미기': 1, '러블리 매치': 1, '매력 컬러 모음': 1, '데일리한 멋': 1, '칼라에 포인트': 1, '체크하기': 1, '깔끔 베이식': 1, '깔끔한데 멋있어': 1, '레터링 활용법': 1, '파랗게 물들어': 1, '간편한 외출': 1, '컬러에 주목': 1, '컬러 맞춤': 1, '탄탄한 조합': 1, '퍼플 주목': 1, '여행룩 강추': 1, '카무플라주 코디': 1, '여름엔 리넨!': 1, '싱그러움 가득!': 1, '믿고 입는 원피스': 1, '매력이 가득 !': 1, '데님+화이트': 1, '산뜻한 데일리 룩': 1, '손쉽게 스타일링': 1, '고급진 조합': 1, '최애 컬러 조합': 1, '세상 깔끔해': 1, '베이식 스타일': 1, '활용도 100%': 1, '야자수 나무아래': 1, '하나로 끝낸다!': 1, '귀염뿜뿜!': 1, '청순하게 스커트': 1, '이게 데일리지!': 1, '신경 쓴 편안함': 1, '옐로에 주목': 1, '부담 없이': 1, '상쾌한 아침': 1, '떠나자 바다로': 1, '루즈한 느낌': 1, '훈훈 코디': 1, '쉬운 코디법': 1, '쉬운 데일리 룩': 1, '셔츠로 주목!': 1, '많이 입어': 1, '빛이 난다': 1, '딱 원하는 느낌!': 1, '키치한 티셔츠': 1, '내 마음속에 저장': 1, '도트 포인트': 1, '여름엔 리넨이지': 1, '오늘은 부담없이!': 1, '놀러가자!': 1, '청량하고 시원해': 1, '핑크&화이트': 1, '페이즐리 포인트': 1, '청순미 발산!': 1, '핫하다 핫해!': 1, '라벤더향 풀풀': 1, '내 마음이야': 1, '깔끔하게 끝!': 1, '컬러 파워!': 1, '핫해 핫해!': 1, '오늘은 단아하게': 1, '편하게 체크': 1, '든든한 매치': 1, '쉽고 시원하게': 1, '은은한 민트': 1, '시원해보여': 1, '톡톡 튀는': 1, '간단하게': 1, '캐주얼 셔츠 코디': 1, '필수 체크!': 1, '데일리룩의 정석': 1, '패션 천재': 1, '조합 끝판왕': 1, '원피스 편해': 1, '편하게 놀자': 1, '간편하게 입어줘': 1, '단아한 일상': 1, '간편한 스타일': 1, '잠시 주목': 1, '좀 더 편하게': 1, '올 블랙으로': 1, '인생 여행 각!': 1, '입기 편해!': 1, '빨리 떠나자': 1, '러블리 티셔츠': 1, '아메카지 지침서': 1, '귀여운 로고': 1, '패턴에 빠지다': 1, '트로피컬 드림': 1, '데일리 표본': 1, '믿고 입는 체크': 1, '더울 땐 셔츠!': 1, '여름 필수템!': 1, '매일 편하게': 1, '화이트로 맞춤': 1, '더우니까': 1, '베이식 타이다이': 1, '빈티지한 포인트': 1, '간편 시원하게': 1, '무지의 멋': 1, '시원하고 편해': 1, '따라입고 싶어': 1, '핑크핑크': 1, '분위기 장인': 1, '티셔츠로 끝내기': 1, '배신없는 조합': 1, '데님 셔츠로 완성': 1, '시원 청량하게': 1, '바캉스 필수템': 1, '스쿨 룩의 정석': 1, '내 마음의 셔츠': 1, '서핑 프린스': 1, '바다로 고고': 1, '패턴의 멋!': 1, '블랙앤화이트': 1, '보드 타고 싶어': 1, '올여름 해답': 1, '원포인트': 1, '매력적인 데님': 1, '편안한 인상': 1, '화이트+카키': 1, '세련된 블레이저': 1, '청순&섹시': 1, '개구장이 좋아': 1, '이게 딱이다!': 1, '스타일 폭발!': 1, '여름엔 이거다!': 1, '서머 타이다이': 1, '놀러 가자!': 1, '오늘은 편하게!': 1, '귀여운 당신!': 1, '자꾸 입게 돼!': 1, '시원하게 입어': 1, '살랑살랑': 1, '세상 산뜻해': 1, '아메카지 정석': 1, '세상 사랑스러운': 1, '하늘빛 셋업': 1, '최강 원피스': 1, '팬츠로 완성': 1, '여리여리한 느낌': 1, '집 앞 외출': 1, '스트라이프 하게': 1, '바닷가 셋업 장착': 1, '깔끔 오버핏': 1, '클린 아이보리': 1, '영화 보자': 1, '캐주얼한 빈티지': 1, '끼부리기': 1, '타이다이 워터룩': 1, '베이지 트립': 1, '빛나는 데일리룩': 1, '다 어울려!': 1, '예쁘다': 1, '꿀팁 공유': 1, '싱그러운 미소': 1, '달콤한 셋업': 1, '청순을 입다': 1, '이럴줄이야!': 1, '극찬합니다': 1, '빅로고 파워!': 1, '시.강 바캉스룩': 1, '옷잘남 출현': 1, '깔끔한 클린 룩': 1, '더 시원하게': 1, '키치한 그!': 1, '가볍게 산책': 1, '같이 캠핑가': 1, '중독될 코디': 1, '이게 진정 힙!': 1, '싱그럽게!': 1, '기분 최고!': 1, '행복한 티셔츠': 1, '입으면 깜찍': 1, '추천합니다!': 1, '귀염&청순': 1, '즐겁게 만들어!': 1, '뒤태도 살려!': 1, '제대로 즐기기': 1, '진정한 바캉스!': 1, '잘 입은 티셔츠': 1, '사랑스럽게!': 1, '티셔츠 코디': 1, '어머 이건 사야해': 1, '편안해서 좋아': 1, '바캉스 갈땐': 1, '반다나 원피스 룩': 1, '편안한 서머룩': 1, '극한의 러브리함': 1, '상큼하게 한컷': 1, '쇼츠로 끝내기': 1, '심플한 남자': 1, '탐난다': 1, '캠퍼스 요정': 1, '뒤태 살리기': 1, '바다로 고고!': 1, '매일 힙해!': 1, '여름이 온다!': 1, '훈남 캐주얼': 1, '산뜻하게 셋업': 1, '훈훈하게 코디': 1, '댄디한 컬러': 1, '고급스럽게': 1, '대세 셔츠': 1, '여름 교복': 1, '상큼함을 입어': 1, '세상 러블리해': 1, '옐로로 포인트!': 1, '플리츠 스타일링': 1, '매력의 푹!': 1, '금발이 너무해!': 1, '매력 만점 그녀': 1, '여름의 환상': 1, '환상적인 바캉스': 1, '우정 여행 가자': 1, '여유로운 원피스': 1, '멋있는 룩': 1, '편하잖아?': 1, '대세는 카무!': 1, '이정도는 입어야': 1, '컬러에 물들다': 1, '쾌적한 조합': 1, '말끔하게 티셔츠': 1, '휴가룩 추천!': 1, '시험기간 룩': 1, '브이 로그': 1, '패턴 플렉스': 1, '셋업 같이': 1, '프린팅에 주목': 1, '넉넉한 시원함': 1, '클린 이지하게': 1, '깔끔하고 쿨해': 1, '여름여행 준비': 1, '깔끔 캐주얼하게': 1, '가볍게 외출하기': 1, '이런 무드 어때': 1, '시원 청량하게!': 1, '더위에 맞설 자': 1, '카고 스커트 코디': 1, '샌들이 돋보여': 1, '원피스 하나로!': 1, '시선집중!': 1, '매력적인 티셔츠': 1, '옷발 살린다': 1, '힙함이 밀려와': 1, '잘 어울려요!': 1, '여름 아메카지': 1, '다들 따라해봐': 1, '랩스커트 코디': 1, '린넨 셋업 룩': 1, '세상 예쁜': 1, '훈훈하게 셔츠': 1, '훈훈한 컬러': 1, '대세 셔츠 코디': 1, '안색을 밝혀라': 1, '떠나볼까?': 1, '뮬로 끝내기': 1, '베스트 심플': 1, '아메카지 굿': 1, '여름을 책임져': 1, '바다 보러 갈래?': 1, '귀여운 게 최고야': 1, '러블리!': 1, '샌들이 포인트!': 1, '정말 심쿵해!': 1, '호불호 없다!': 1, '여름 카디건!': 1, '인기 많은 백팩': 1, '시험기간 스타일': 1, '개성 만점 티셔츠': 1, '상큼발랄한 그녀': 1, '시크하게 툭!': 1, '문제 없는 스타일': 1, '귀염뽀짝 뿜뿜': 1, '귀여움 뽐내기': 1, '인생 룩, 인생샷!': 1, '깜찍이 원피스': 1, '앞 뒤에 주목': 1, '파도와 어울려': 1, '뒤를 돌아봐줘': 1, '바닷가 스타일링': 1, '강렬한 편안함': 1, '가벼운 외출룩': 1, '체크로 체크': 1, '편하게 여행가기': 1, '깔끔하게 포인트': 1, '타이다이 포인트': 1, '풋풋한 데일리룩': 1, '얼굴까지 화사한': 1, '심플 아메카지': 1, '훈남룩의 정석': 1, '데일리웨어': 1, '원피스 하나로만': 1, '셔링 원피스 룩': 1, '꽃향기 가득한': 1, '여름 코디 끝!': 1, '환한 인상 주기': 1, '훈훈한 컬러만': 1, '깔끔 댄디': 1, '시원시원하게': 1, '세상 깔끔하게': 1, '아노락&쇼츠': 1, '귀여움 콜렉션': 1, '완벽한 하모니': 1, '발랄한 기운': 1, '스타일 체크 완료': 1, '바다에서 산책': 1, '더울 땐 가볍게': 1, '영화보기 좋은 날': 1, '인생 룩 완성!': 1, '나들이가자!': 1, '볼레로 스타일링': 1, '오렌지로 포인트': 1, '오늘은 화사하게': 1, '에너지 넘쳐나!': 1, '설렘 가득 티셔츠': 1, '카리스마 뒤태!': 1, '셋업으로 시원해': 1, '한강 피크닉!': 1, '요새 대세!': 1, '신수가 훤하다': 1, '여름 그 자체': 1, '풋풋한 매력': 1, '반해버렸어': 1, '반전 뒤태': 1, '단정한 스쿨 룩': 1, '산뜻한 데일리룩': 1, '세련된 분위기': 1, '청순한 조합': 1, '스트라이프 무드': 1, '편해서 좋은 룩': 1, '세상 러블리하게': 1, '따뜻한 컬러만': 1, '휴양지 미인': 1, '새틴의 매력': 1, '올여름 교복 각': 1, '매일 입어도 좋은': 1, '매일 예쁘게': 1, '깔끔한게 최고야!': 1, '셔츠가 정답': 1, '편한데 멋있어': 1, '디테일이 살아있네': 1, '가볍고 시원해': 1, '청순한데 귀여워': 1, '썸머 스타일링': 1, '청순 섹시!': 1, '클린한 여행 룩': 1, '레오퍼드로 멋내기': 1, '얼굴까지 화사해': 1, '체크 셔츠 활용법': 1, '배신 없는 조합': 1, '카모로 포인트!': 1, '러블리걸': 1, '타이다이로 완성!': 1, '여름엔 크롭': 1, '청순발랄': 1, '상큼한 여행룩': 1, '싱그러운 조합': 1, '데일리 셔츠 코디': 1, '깔끔하도다': 1, '여름 대비 룩': 1, '독특한 한방': 1, '멋스러운 오버핏': 1, '화사한 티셔츠': 1, '개구장이 그녀': 1, '마냥 우아하게': 1, '러플 드림': 1, '셋업 포기 못해': 1, '올여름 원픽': 1, '솔직 담백하게': 1, '자체발광 티셔츠': 1, '귀여운 너드': 1, '스테디셀러 코디': 1, '데님 셔츠 매력': 1, '포인트는 티셔츠': 1, '다 좋아해!': 1, '은근한 섹시미!': 1, '왠지 마음에 들어': 1, '지금부터 입어': 1, '귀여움 만점!': 1, '열정의 그대!': 1, '여행가기 딱 좋아': 1, '발랄하게 입기': 1, '컬러조합이 관건': 1, '풋풋한 캠퍼스룩': 1, '신발이 포인트': 1, '귀엽고 상큼해!': 1, '크롭탑 스타일링': 1, '원피스로 끝내기': 1, '찰떡조합': 1, '스쿨룩의 정석': 1, '사랑스러움 가득!': 1, '남심 저격': 1, '세트가 좋아!': 1, '미니멀한 취향': 1, '오버롤로 힙하게': 1, '산뜻한 스타일링': 1, '간절기 데일리룩': 1, '가볍게 떠나볼까': 1, '여유롭게 입기': 1, '산뜻하게 체리': 1, '편안하게 멋스럽게': 1, '대세는 쇼츠!': 1, '개구쟁이 훈남': 1, '싱그러운 티셔츠': 1, '스트라이프 최고': 1, '심플함의 멋': 1, '편한 아메카지': 1, '꽤 괜찮은 조합': 1, '맨날 입고싶어!': 1, '청순미가 다했다': 1, '꿀 조합': 1, '상큼 발랄 스쿨 룩': 1, '누가 꽃이게': 1, '형광빛 발사': 1, '참 괜찮은 셋업': 1, '다가오는 여름': 1, '네이비&머스터드': 1, '가볍게 떠나자': 1, '캐주얼의 멋': 1, '편하게 데일리룩': 1, '캠핑가자': 1, '활동성 만점': 1, '베이식 코디': 1, '무심 터프하게': 1, '눈이 가는 컬러': 1, '가볍게 떠날 땐': 1, '그린 그린해': 1, '데일리 티셔츠': 1, '착한 컬러': 1, '루즈 핏 데일리룩': 1, '블루&베이지': 1, '화사한 스프링 룩': 1, '원피스면 충분해!': 1, '심플이 최고': 1, '클린하게!': 1, '이시대의 힙': 1, '귀엽게 활짝': 1, '푸르구나': 1, '고민 하지마': 1, '소공녀의 하루': 1, '취향하는 스타일': 1, '봄 나들이 가자': 1, '핑크로 톤온톤': 1, '시부야 스트릿': 1, '깔끔하네!': 1, '레드+카모': 1, '편하지만 멋져': 1, '셔츠 재킷 룩': 1, '사진 잘 나오게': 1, '컬러로 시선강탈': 1, '리넨 원피스 코디': 1, '산뜻하고 풋풋해': 1, '깔끔하고 환하게': 1, '이런 코디 좋더라': 1, '마음에 쏙 들어!': 1, '요새 입는 코디': 1, '비올 때 딱!': 1, '셔츠가 대세': 1, '딱 지금이 시즌!': 1, '깜찍함 넘쳐': 1, '은근 인기 최고': 1, '푸르던': 1, '나의 라임 쇼츠': 1, '가볍게 입어요': 1, '체크체크': 1, '봄날의 캠핑': 1, '실패는 없어!': 1, '완벽한 셔츠': 1, '들꽃 세상': 1, '편한데 귀엽잖아!': 1, '발랄한 후디': 1, '산뜻함이 달라': 1, '롱다리 스커트': 1, '로고 티셔츠룩': 1, '더워질수록': 1, '린넨셔츠의 계절': 1, '간절기 재킷': 1, '댄디하게!': 1, '쇼츠가 필요해': 1, '당일치기 여행': 1, '여유있게!': 1, '셔츠룩': 1, '컬러 테라피': 1, '클린하게 멋있게': 1, '누가 뭐래도 심플': 1, '산뜻한 봄을 위해': 1, '발랄한 데이트룩': 1, '은은한 네온 컬러': 1, '캠퍼스룩은 이렇게!': 1, '핑크 앤 화이트': 1, '셋업으로 귀엽게': 1, '니트 활용법!': 1, '봄 나들이 룩': 1, '튀는 조거 팬츠': 1, '보드타러 가자': 1, '후디의 깜찍함': 1, '마음을 훔치다': 1, '편안함이 남달라': 1, '대세의 베스트': 1, '멋지게 살자': 1, '본새 난다!': 1, '스웨이드 스웩': 1, '봄날의 캠퍼스': 1, '편안함이 최고': 1, '루즈한 핏': 1, '무심털털하게': 1, '깔끔한 데일리룩': 1, '반반 스웨트셔츠': 1, '산뜻한 셔츠룩': 1, '도서관 가기': 1, '밤 산책 할래?': 1, '놀이공원 가기!': 1, '봄 데이트에 딱': 1, '베이식해서 이쁜': 1, '보들보들 니트': 1, '대세 셋업 룩': 1, '세상 귀여워!': 1, '러블리룩': 1, '보면 볼수록 예뻐': 1, '카모 셋업': 1, '네온 컬러 홀릭': 1, '신상 원피스': 1, '반소매 니트룩': 1, '감각 있게': 1, '컬러가 좋다면': 1, '프릴&스커트': 1, '상큼 산뜻': 1, '세일러 프리티': 1, '피케 원피스룩': 1, '단아하게 원피스': 1, '남자의 컬러 핑크!': 1, '자꾸 눈길이 가': 1, '니트가 다했네!': 1, '장난꾸러기 룩': 1, '대세는 오렌지!': 1, '개나리 피었다!': 1, '아직 트렌치다': 1, '단대 훈남': 1, '이게 봄이지': 1, '제일 좋은 날씨': 1, '그냥 좋은 코디': 1, '상큼 컬러': 1, '간편한 나들이': 1, '쇼츠가 돌아왔다': 1, '발걸음도 가벼워': 1, '니트가 대세': 1, '매니시한 스커트': 1, '유쾌한 조합': 1, '간편한 원피스': 1, '실패없는 스타일': 1, '가벼운 스타일링': 1, '꽃구경 갈까?': 1, '청순 데이트 룩': 1, '깔끔하게 블랙': 1, '청청은 진리': 1, '오버롤 잘 입는법': 1, '벚꽃 보러가자!': 1, '니트&쇼츠': 1, '프릴의 계절': 1, '봄 컬러를 담다': 1, '밀리터리 간지': 1, '과대표 훈남': 1, '팬츠로 포인트': 1, '스웨트의 멋': 1, '활용도 만점 셔츠!': 1, '상큼!발랄!': 1, '멋있어 최고야': 1, '제대로 입어봤어': 1, '정말 탐나': 1, '간편하게 입자': 1, '가벼운 니트': 1, '본새나는 아노락': 1, '가성비 갑!': 1, '찰떡궁합': 1, '가볍게 아메카지': 1, '잘만난 콜라보': 1, '크롭으로 힙하게': 1, '패션의 완성은 데님': 1, '심쿵 여친룩': 1, '오버롤로 귀엽게': 1, '셋업으로 편안하게': 1, '네온 컬러로 포인트': 1, '취향하는 코디': 1, '새싹같은 스타일': 1, '간편하게 멋내자': 1, '발랄한 봄': 1, '쇄골 미인': 1, '어때? 귀엽지?': 1, '꿀벌 룩!': 1, '카디건은 필수템!': 1, '청순함 그자체!': 1, '장난꾸러기의 코디': 1, '댄디룩의 정석': 1, '슈퍼갈때 멋내기': 1, '상큼하다': 1, '귀여운 꿀벌': 1, '귀여운걸 어떡해': 1, '컬러 좋은데?': 1, '니트는 스위트': 1, '심플하게 입어요': 1, '깜찍한데 섹시해': 1, '꼭 입고 말거야': 1, '딱 캠퍼스 스타일!': 1, '장난꾸러기 쇼츠': 1, '훈남의 길': 1, '이렇게 입고 나가': 1, '데일리 워크웨어': 1, '감성저격 데일리': 1, '훈훈한 공대생': 1, '데님이 잘 어울리는': 1, '청청으로 멋내기': 1, '계절의 향기': 1, '이렇게 귀여울수가': 1, '인기도 상승': 1, '로고로 끝낸다': 1, '트러커 빼놓지마': 1, '레더 셔츠의 매력': 1, '캠퍼스에서 만나': 1, '연청의 멋이란!': 1, '괜찮은 컬러 조합': 1, '나쁠게 없어!': 1, '가지고 싶어': 1, '걸음마저 힙해': 1, '데님은 역시!': 1, '간결한 봄 아우터': 1, '오버롤 홀릭': 1, '편하고 귀여운': 1, '데님재킷 코디': 1, '새학기룩': 1, '봄날의 조합': 1, '데일리에 딱': 1, '컬러 니트로 멋내기': 1, '봄맞이 룩': 1, '화사하게 빛나는': 1, '핑크와 카모의 조합': 1, '가끔씩 좋아': 1, '찰떡궁합 스타일': 1, '트러커는 필수': 1, '남바완 청치마': 1, '편하면 좋잖아': 1, '데님 재킷 활용': 1, '필수템 카모': 1, '카키는 진리': 1, '간절기 패션': 1, '바람막이 코디': 1, '너드룩 완성': 1, '아노락이 답': 1, '스프라이트처럼 시원해!': 1, '소녀처럼': 1, '편한 듯 예뻐': 1, '봄 바람 살랑': 1, '봄 맞이 스웨트': 1, '튤립의 인간화': 1, '뉴요커 느낌': 1, '깔끔한 아메카지': 1, '산뜻한 봄': 1, '로고의 멋': 1, '상큼한 스웨트셔츠': 1, '캐주얼한 코트': 1, '자수 디테일 최고': 1, '카리스마 스커트': 1, '크롭으로 섹시': 1, '봄의 스웨터': 1, '간단한 멋': 1, '활짝 웃어줘': 1, '데일리룩으로 딱': 1, '컬러 조합 봐': 1, '센스 있는 데일리': 1, '데일리룩 퀸': 1, '간절기 스타일': 1, '스타일 탐험가': 1, '귀찮을 때 코디': 1, '폴로 사용법': 1, '훈훈하다 훈훈해': 1, '너무 멋있잖아': 1, '후디 하나만으로': 1, '윈드브레이커 코디': 1, '간절기 필수': 1, '벨벳 재킷의 멋': 1, '패턴과 패턴!': 1, '심플하게 멋지기': 1, '무조건 입어': 1, '언밸란스의 매력': 1, '캠퍼스 상큼이': 1, '섹시한 원피스': 1, '봄이니까 데님': 1, '유니크한데?': 1, '클루리스 오마주': 1, '셀레는 봄 코디': 1, '산뜻한 니트': 1, '데일리 저격수': 1, '트러커 코디': 1, '어반 캐주얼': 1, '간절기 룩': 1, '믹스&매치 좋아': 1, '상큼한 미소!': 1, '귀염뽀짝!': 1, '그냥 봐도 힙해': 1, '깔끔 저격수': 1, '청량하도다': 1, '색감 최고!': 1, '후리한 매력': 1, '포근하고 화사해': 1, '데이트할땐': 1, '데일리에 딱!': 1, '스웨트 스타일': 1, '우아한 룩': 1, '체크로 포인트!': 1, '세련미 폭발': 1, '가볍게 멋져': 1, '느낌 쏘 굿': 1, '시크&섹시': 1, '트렌치가 트렌디': 1, '스웨트셔츠 간지': 1, '젠틀한 그대': 1, '진짜 귀여워': 1, '훈내가 난다!': 1, '카고의 매력': 1, '상큼 터지게': 1, '젠틀맨 컨셉': 1, '클래식의 진수': 1, '산뜻함을 원해': 1, '무심하게 무드있게': 1, '와이드 활용법': 1, '편하지만 멋있어': 1, '교양 같이 듣자': 1, '상큼함이 톡톡': 1, '우주를 줄게': 1, '멀리서도 주목': 1, '상큼한 그': 1, '상큼발랄 귀염뽀짝': 1, '귀엽고 후리해': 1, '세상 러블리함': 1, '봄아우터 장착': 1, '귀여움 증폭': 1, '눈부신 하루': 1, '매력포텐 코트룩': 1, '만능 데일리룩': 1, '봄날의 코디': 1, '봄 재킷 코디': 1, '훈남의 옷': 1, '데님 포기 못해': 1, '하늘을 날자': 1, '이조합 꿀조합': 1, '깜찍함 현상수배': 1, '아직 젊은 우리!': 1, '취향 저격 탕탕': 1, '데님은 필수!': 1, '남자의 아메카지': 1, '심플&시크': 1, '꽃샘추위 버티기': 1, '예쁜 컬러만': 1, '블링블링하게': 1, '소장가치100': 1, '세련된 캐주얼': 1, '커피 한잔': 1, '봄엔 트렌치코트!': 1, '무적의 라이더': 1, '잘입은 코트룩': 1, '훈훈한 선배': 1, '힙이 차오른다': 1, '뺵바지 센스!': 1, '네온이 포인트!': 1, '꽃샘 추위 견뎌!': 1, '쉽게 멋남 되기': 1, '마음이 끌려': 1, '체크 팬츠 최고': 1, '플리스는 귀여워': 1, '컬러 아우터 코디': 1, 'MA-1입는 날': 1, '남자의 멋': 1, '숏패딩 코디': 1, '플리스&데님': 1, '간절기룩': 1, '훌훌 털어버리고': 1, '과대 여신': 1, '멋쁨 정석': 1, '귀여운 항공점퍼': 1, '귀여움과 청순': 1, '도시여자의 룩': 1, '최고의 트러커': 1, '지금 딱!': 1, '아무나 소화못해': 1, '시부야 빈티지': 1, '봄처녀 등장': 1, '갓패딩': 1, '착착 감겨': 1, '플리스에 취해': 1, '개강도 문제없어': 1, '필수 체크': 1, '편한게 장땡': 1, '패.쪼로 올킬': 1, '편하고 단정해': 1, '컬러 조합 굳': 1, '스포티+클래식': 1, '믹스 매치 매력': 1, '독특한 매치': 1, '레트로 감각': 1, '꽃샘추위 견디기': 1, '후디만 입어도': 1, '컬러가 돋보이는날': 1, '유니크하잖아': 1, '귀찮은날은!': 1, '스포티한 멋!': 1, '편하고 심플해!': 1, '부티나는 도련님': 1, '조거 팬츠 좋아': 1, '귀여움을 입다': 1, '훈훈한 새내기': 1, '과대의 포스': 1, '장난꾸러기': 1, '훈남 냄새 진동': 1, '진짜 쉬운 코디': 1, '과탑 미녀룩': 1, '곧 봄이야': 1, '잘나가는 룩': 1, '편한 데일리룩': 1, '이런 무드': 1, '반반의 맛': 1, '플리스를 입는 방법': 1, '탐스러운 패딩': 1, '햇살 같은 코디': 1, '탐나는 캐주얼룩': 1, '따뜻한 아메카지': 1, '데일리룩 해결': 1, '은근 잘어울려': 1, '베스트 패션': 1, '최애 룩!': 1, '액세서리의 힘!': 1, '우린 인연이야': 1, '찰떡 코디네이션': 1, '폴로 재킷의 멋': 1, '인생 스타일링': 1, '늘씬해 보여': 1, '스웨터 깜찍해': 1, '원피스로 쉽게!': 1, '그냥 시크해!': 1, '분홍 구름 둥둥': 1, '요정의 현신': 1, '폴로는 이렇게!': 1, '후디로 편하게': 1, '손쉽게 매치하자': 1, '새학기 룩': 1, '디테일을 더해서': 1, '더플 코트 추천': 1, '그냥 입어도 멋': 1, '깔끔의 미학': 1, '멋진 언니 룩': 1, '세련되고 멋져': 1, '강추위에 강추': 1, '파티가기 좋은날': 1, '데이트 하자!': 1, '당당한 남자!': 1, '같이 놀자!': 1, '무슨 말을 해?': 1, '내 마음 훔쳤어': 1, '데일리룩 견본': 1, '진리의 레오퍼드': 1, '잔잔히 시선강탈': 1, '편한데 귀여워': 1, '이런 조합 좋아': 1, '믹스 매치 끝판': 1, '따뜻하게 오버핏': 1, '유러피안 바이브': 1, '스킬 있게!': 1, '옷 잘 입는 남자': 1, '훈훈 발랄': 1, '핸섬 가이': 1, '한번에 끝!': 1, '하늘닮은 당신': 1, '상큼함이 달라': 1, '핵인정 스타일': 1, '두번봐도 깜찍': 1, '개구장이의 코디': 1, '완벽하게 귀여워': 1, '새학기 기대해': 1, '당신은 행운남': 1, '편한듯 멋진': 1, '매력 넘치는 룩': 1, '패딩이 다했네': 1, '겨울 살아남기': 1, '엉뚱한 매력': 1, '걸크러시는 이것': 1, '노랑 나비': 1, '숏패딩 찰떡': 1, '귀여움의 인간화': 1, '청순섹시 표본': 1, '당당한 여자': 1, '감각있는 코디': 1, '최애 아메카지': 1, '세젤예 재킷코디': 1, '귀엽고 청순하게': 1, '깔끔한 캐주얼룩': 1, '넌 너무 예뻐': 1, '독특한 겨울템': 1, '연예인인가?': 1, '패딩이 한몫!': 1, '힙하면 아노락': 1, '그대로 박제': 1, '은근 나이스 조합': 1, '부러워할 코디': 1, '감탄사 남발': 1, '재킷의 하드캐리': 1, '가끔은 귀엽게': 1, '편한 예쁨?': 1, '옷 좀 입네?': 1, '강한 남자': 1, '도서관 훈남': 1, '깜찍 발사': 1, '어마어마 포스': 1, '코트가 다했어': 1, '감춰진 열정': 1, '본투비 힙': 1, '윈터룩 에센셜': 1, '데일리룩 조합': 1, '니트 셋업!': 1, '실용 아이템 집합': 1, '컬러 패딩룩': 1, '칙칙하지 않은': 1, '겨울 교복각': 1, '코트&후디 조합': 1, '깔끔하게 레이어드': 1, '훈훈함 끝판왕': 1, '깜찍한 플리스': 1, '깜찍의 인간화': 1, '귀염뽀짝해': 1, '플리스 재킷 최고': 1, '제일 좋아!': 1, '나만의 여인': 1, '자꾸만 웃게해': 1, '순백의 화이트': 1, '스킬있게!': 1, '깔끔하고 따뜻한': 1, '시크한 멋쟁이': 1, '정석 이지캐주얼': 1, '눈 오는 날엔': 1, '훈훈하게 캐주얼': 1, '제일 귀엽다고!': 1, '눈길받고 싶어': 1, '내꺼하자': 1, '깔끔하게 멋져': 1, '빠져든다!': 1, '터프한 당신!': 1, '당당한 젊음': 1, '귀여운 당신': 1, '이래도 멋져': 1, '힙한 플리스': 1, '프레피걸': 1, '웨스턴 힙스터': 1, '롱카디건 미녀': 1, '카디건 훈녀': 1, '미니멀의 매력': 1, '애티튜드 만발': 1, '숏패딩 대세!': 1, '캐주얼이 멋질때': 1, '윈터 데이트룩': 1, '실내에서도 따뜻': 1, '가장 멋진 너드': 1, '시험공부 같이해': 1, '특유의 분위기': 1, '딸기우유 같아': 1, '빨개요': 1, '구름같은 재킷': 1, '리즈너블 숏패딩': 1, '미국감성 물씬': 1, '카디건 러버': 1, '귀여움 폭발': 1, '소장가치 카디건': 1, '잘입은 패딩룩': 1, '후디+스커트': 1, '겨울에도 산뜻': 1, '잘입은 캐주얼': 1, '귀여움 한스푼': 1, '설레이는 코트룩': 1, '페이크퍼의 마력': 1, '와인처럼 고급져': 1, '보드 남신 등장!': 1, '사랑스런 악동': 1, '카리스마 폭발!': 1, '훈훈한 군밤장수?': 1, '귀여운 흑곰': 1, '스웨터로 힙하기': 1, '아노락 재킷의 힘': 1, '추위따위 문제없지': 1, '따뜻해서 손이가': 1, '니트 레이어드': 1, '데일리 아메카지': 1, '훈훈하게 워크웨어': 1, '훈훈하게 데이트': 1, '올겨울 교복이다': 1, '눈올 땐 데이트': 1, '카디건 센스': 1, '하프코트 스타일': 1, '그레이+레드 룩': 1, '세상 예쁘게!': 1, '니트 하나로 완성': 1, '귀여움에 항복': 1, '발랄함이 톡톡!': 1, '카디건을 재킷으로': 1, '귀여운 여인!': 1, '보라색이 고급스러': 1, '심쿵했또!': 1, '떡볶이 먹을래?': 1, '솔직히 질투나!': 1, '리버시블 아우터!': 1, '롱패딩 이렇게!': 1, '다운 재킷 어때': 1, '단정한 코트룩': 1, '편안한 워크웨어': 1, '훈훈한 레이어드': 1, '자꾸 생각나': 1, '당당한 새내기': 1, '딱봐도 내꺼!': 1, '시험기간도 힙해': 1, '시선이 자꾸가': 1, '은근 중독!': 1, '상큼이 스타일링': 1, '흑과백 적절해': 1, '뒤태도 챙기자': 1, '센스있게 플리스': 1, '잘입은 데일리룩': 1, '매력있는 그녀': 1, '간단히 예뻐지기': 1, '테디베어 캐주얼': 1, '아메카지 간지': 1, '상큼함의 끝': 1, '심플한 멋!': 1, '무톤재킷 패션': 1, '워크웨어 코디왕': 1, '진격의 체크패딩': 1, '재킷&스커트': 1, '플리스로 겨울나기': 1, '레이어드 킹왕': 1, '같이 영화 볼래?': 1, '바지에 눈이 가': 1, '이거 너무 좋아': 1, '강추위가 뭐람?': 1, '도서관 데이트 룩': 1, '나랑 놀아줘!': 1, '깔깔이의 변신!': 1, '고백하고 싶어': 1, '울학교 훈남': 1, '누나들의 남자': 1, '복실복실 귀여워': 1, '더 길어보이게!': 1, '숏패딩&스커트': 1, '패딩 셋업, 핫해!': 1, '라인 롱패딩 최고!': 1, '세련된 미니멀룩': 1, '매력만점 루즈핏': 1, '세젤예 데이트룩': 1, '반전 디테일': 1, '원피스+숏패딩': 1, '깜찍발랄!': 1, '탐나는 코트!': 1, '무슨 말이 필요해': 1, '이건 무조건 입어': 1, '형광 호피라니?!': 1, '롱스커트 매력적': 1, '눈보다 하얗게!': 1, '세련된 데일리룩': 1, '니트 셋업의 진가': 1, '너무 예쁜 캐주얼': 1, '편해도 귀여워!': 1, '향기나는 옷': 1, '테디베어 같은': 1, '머플러가 포인트': 1, '모두 완벽해!': 1, '미소 짓는 코디': 1, '라이더를 이렇게?': 1, '상주고 싶다': 1, '터프한 테디베어?': 1, '레이어드 공략법': 1, '여유있게 입자': 1, '올블랙 간지': 1, '롱패딩도 멋있게': 1, '데이트룩엔 코트': 1, '어른스러운 간지': 1, '플리스 훈남': 1, '윈터 데일리룩': 1, '플리스 재킷 필수': 1, '이구역 힙스터': 1, '깜찍함으로 승부': 1, '워커랑 찰떡이지': 1, '이불 속인 듯?': 1, '추천! 데이트룩': 1, '데일리룩 저격수': 1, '플리스 코디왕': 1, '센스 있게 입자!': 1, '재간둥이 후디룩': 1, '손쉽게 겨울나기': 1, '깔끔하니 좋잖아': 1, '월급털어서 사자': 1, '둘도 없는 스커트': 1, '플리스 롱 코트': 1, '이 코디 상큼해!': 1, '사랑스럽다구!': 1, '여친룩의 정석': 1, '완전 제대로다!': 1, '19학번 새내기?': 1, '대세는 유스다!': 1, '후디를 색다르게': 1, '애인에게 입힐래': 1, '오버핏 셔츠 최고': 1, '데님 핏 예술이다': 1, '플리스 대란 합류': 1, '악동같은 스타일': 1, '카디건은 이렇게!': 1, '이 조합 알지?': 1, '겨울 데일리룩': 1, '데님 트렌치 코디': 1, '숏패딩이 핫하지!': 1, '컬러 조합의 한수': 1, '넌 나의 취향저격': 1, '트렌치&원피스': 1, '아메카지의 멋': 1, '경량패딩 활용법': 1, '후디 코디네이션': 1, '추울땐 껴입어!': 1, '숏패딩이 대세!': 1, '편하고 훈훈하게': 1, '무심한듯 시크!': 1, '차분한 레드?': 1, '비니와 찰떡 궁합': 1, '캐주얼 코트 룩': 1, '폴로 후디로 끝': 1, '깔끔한 스트릿룩': 1, '레이어드 천재': 1, '로맨틱한 코디': 1, '털털한 재킷코디': 1, '숏패딩이 대세': 1, '흠잡을데 없어': 1, '추울수록 멋지다': 1, '최신 트랜드 상륙': 1, '아무나 소화 못해': 1, '워커 홀릭 패션': 1, '트러커는 이렇게!': 1, '따듯하고 귀엽게!': 1, '세련된 퍼재킷': 1, '산뜻한 니트룩': 1, '뽐내고 싶다구!': 1, '이건 꼭 사야해!': 1, '멋지게 흑화!': 1, '봐도봐도 안질려': 1, '센스가 만점': 1, '넘나리 깜찍!': 1, '예쁘다고 말해!': 1, '이 코디 부내난다': 1, '플리츠가 우아해': 1, '데님과 베스트': 1, '댄디하고 큐트해': 1, '목도리가 힙템!': 1, '이 날씨 찰떡~': 1, '포인트는 로고로': 1, '테디베어 그녀': 1, '낭만적인 하루': 1, '롱베스트 코디': 1, '버건디 코트 매치': 1, '가볍게! 재킷 코디': 1, '이런 코디 좋잖아': 1, '카디건이 예술': 1, '깜찍함이 잔뜩!': 1, '도도하고 멋있어!': 1, '패딩 코디 완료!': 1, '손이가는 코디!': 1, '강추위 다 덤벼': 1, '깔끔하게, 멋있게': 1, '너무나 멋지다': 1, '오늘은 이렇게!': 1, '어깨가 태평양': 1, '지디의 바지 핏': 1, '이 코디 박제': 1, '묘하게 끌려!': 1, '플리스가 답이야!': 1, '겨울도 끄떡없어': 1, '인생이 화보': 1, '사고싶은 스타일': 1, '헌팅 재킷의 멋': 1, '코치 재킷이 좋다': 1, '추울 땐 이렇게': 1, '세련된 폴로 룩': 1, '플리스 숏재킷!': 1, '가을 만끽 코디': 1, '스트라이프 훈녀': 1, '그린 컬러의 매력': 1, '진짜 진짜 귀여워': 1, '셋업으로 사자!': 1, '패션계의 떡볶이': 1, '컬러가 다했다!': 1, '호피무늬 중독!': 1, '포인트는 아우터!': 1, '유니크한 스웨터': 1, '편한듯 멋부림': 1, '화이트톤의 매력': 1, '시크한 아메카지': 1, '복실복실 따뜻해': 1, '베스트가 베스트!': 1, '트러커 재킷 좋아': 1, '오버핏이 멋있어': 1, '아노락이 힙해!': 1, '쉽고 멋지게!': 1, '청청 꿀조합': 1, '느낌 있는 컬러': 1, '베스트가 최고!': 1, '감성 워크웨어': 1, '아노락 간지': 1, '고급진 댄디남': 1, '여유로운 하루': 1, '원피스 없인 안돼': 1, '가을 코트 코디': 1, '꽃처럼 화사한': 1, '체크&코듀로이': 1, '곧 롱패딩 세상': 1, '브리티시 걸': 1, '세상 좋은 셋업': 1, '컬러풀 데일리룩': 1, '여행을 떠나요!': 1, '블루종 활용법': 1, '후디 하나로 끝내': 1, '편안한 멋이 최고': 1, '추워도 포기못해': 1, '댄디한 너의 모습': 1, '라이트 다운 활용': 1, '재기발랄한 하루': 1, '컬러 후디 코디': 1, '심플하고 깔끔해': 1, '깔맞춤은 옳아!': 1, '시선집중 깜찍함': 1, '뽀글뽀글 귀여워': 1, '오버핏이 좋다': 1, '컬러만 더하라': 1, '무심한듯 시크한': 1, '워크웨어의 정석': 1, '간편히 멋낼때': 1, '스포티 데일리룩': 1, '레이어드 이펙트': 1, '로고 끝판왕': 1, '세젤예 캠퍼스룩': 1, '니트 셋업&재킷': 1, '레트로 감성 충만': 1, '아메리칸 걸!': 1, '산뜻한 워크웨어': 1, '따듯한 매력': 1, '레이어드 여신': 1, '가을 타는 코디': 1, '모델이세요?': 1, '미국 냄새 물씬': 1, '워커는 항상 옳아': 1, '어머, 너무 예뻐': 1, '진정한 아메카지': 1, '이구역의 패피': 1, '왠지 멋져!': 1, '편한듯 멋지게': 1, '컬러가 다했어!': 1, '커피향같은 남자': 1, '대세는 유스 룩': 1, '큐티뽀짝 코디': 1, '눈길을 잡아끈다': 1, '치명적인 시스루': 1, '도도한 코트': 1, '무심한듯 힙해!': 1, '심플 & 유니크': 1, '프릴로 섹시하게': 1, '큐티 & 터프': 1, '시선 강탈 룩': 1, '감성 있는 스타일': 1, '후디 하나로 끝': 1, '세련된 니트 셋업': 1, '무심한듯 쿨하게': 1, '가을엔  체크': 1, '청순한 프릴': 1, '화사한 컬러 니트': 1, '컨템포러리 룩': 1, '세미 캐주얼 룩': 1, '페미닌한 오픈백 티셔츠': 1, '레트로한 니트': 1, '오버사이즈드 더플 코트': 1, '방풍 효과가 뛰어난 덕 다운 파카': 1, '밀리터리 의복에 스웨이드를 더한 MA-1': 1, '넉넉한 오버사이즈 실루엣의 재킷': 1, '묵직한 무게감이 느껴지는 셰르파 재킷': 1, '테슬 장식의 롱 체크 코트': 1, '캐시미어 소재의 체스터필드 코트': 1, '더블 체스터 필드 코트': 1, '빈티지한 밀리터리 재킷': 1, '벨벳 소재의 수베니어 재킷': 1, '스포티한 스타디움 재킷': 1, '송치 원단의 라이더 재킷': 1, '로고 스웨트 셔츠': 1, '탄탄한 데님 재킷': 1, '핑크 스웨트 셔츠': 1, '베이식 스웨트 셔츠': 1, '네이비 스웨트 셔츠': 1, '오버핏 트렌치 코트': 1, '클래식한 재킷': 1, '파스텔 컬러 니트': 1, '블루 스웨트 셔츠': 1, '빈티지 데님 팬츠': 1, '데미지 장식 데님': 1, '슬림 핏 블랙 데님': 1, '베이식 데님 스커트': 1, '데님 퍼티그 팬츠': 1, '레이싱 플래그 티셔츠': 1, '플라워 오픈 칼라 셔츠': 1, '라인 포인트 피케 셔츠': 1, '빈티지 알로하 셔츠': 1, '캐주얼 풋볼 티셔츠': 1, '레터링 알로하 셔츠': 1, '어깨 슬릿 티셔츠': 1, '레몬 컬러 오프숄더 티셔츠': 1, '캔디 패턴 슬립 원피스': 1, '2317': 1, '2316': 1, '2315': 1, '2314': 1, '2308': 1, '2305': 1, '2302': 1, '2301': 1, '2300': 1, '2299': 1, '2298': 1, '2297': 1, '2296': 1, '2294': 1, '2292': 1, '2290': 1, '2289': 1, '2288': 1, '2286': 1, '2285': 1, '2283': 1, '2280': 1, '2274': 1, '2273': 1, '2270': 1, '2266': 1, '2264': 1, '2259': 1, '2257': 1, '2254': 1, '2252': 1, '2251': 1, '2250': 1, '2249': 1, '2248': 1, '2247': 1, '2246': 1, '2242': 1, '2240': 1, '2237': 1, '2236': 1, '2234': 1, '2233': 1, '2230': 1, '2227': 1, '2226': 1, '2225': 1, '2224': 1, '2222': 1, '2221': 1, '2220': 1, '2219': 1, '2218': 1, '2217': 1, '2216': 1, '2215': 1, '2212': 1, '2210': 1, '2202': 1, '2200': 1, '2198': 1, '2193': 1, '2192': 1, '2191': 1, '2190': 1, '2189': 1, '2187': 1, '2186': 1, '2184': 1, '2183': 1, '2182': 1, '2180': 1, '2179': 1, '2178': 1, '2177': 1, '2176': 1, '2175': 1, '2173': 1, '2172': 1, '2171': 1, '2170': 1, '2169': 1, '2168': 1, '2167': 1, '2166': 1, '2165': 1, '2163': 1, '2161': 1, '2160': 1, '2157': 1, '2156': 1, '2155': 1, '2154': 1, '2152': 1, '2151': 1, '2148': 1, '2147': 1, '2146': 1, '2144': 1, '2143': 1, '2142': 1, '2141': 1, '2140': 1, '2139': 1, '2138': 1, '2136': 1, '2135': 1, '2134': 1, '2133': 1, '2131': 1, '2130': 1, '2129': 1, '2127': 1, '2126': 1, '2125': 1, '2123': 1, '2119': 1, '2117': 1, '2116': 1, '2115': 1, '2114': 1, '2112': 1, '2111': 1, '2108': 1, '2105': 1, '2104': 1, '2102': 1, '2101': 1, '2099': 1, '2098': 1, '2090': 1, '2088': 1, '2087': 1, '2084': 1, '2083': 1, '2082': 1, '2078': 1, '2071': 1, '2070': 1, '2069': 1, '2067': 1, '2066': 1, '2065': 1, '2064': 1, '2060': 1, '2053': 1, '2052': 1, '2051': 1, '2049': 1, '2047': 1, '2046': 1, '2045': 1, '2044': 1, '2042': 1, '2041': 1, '2040': 1, '2039': 1, '2038': 1, '2037': 1, '2036': 1, '2034': 1, '2033': 1, '2032': 1, '2031': 1, '2030': 1, '2028': 1, '2026': 1, '2025': 1, '2024': 1, '2023': 1, '2022': 1, '2021': 1, '2020': 1, '2018': 1, '2017': 1, '2015': 1, '2014': 1, '2013': 1, '2012': 1, '2011': 1, '2007': 1, '2006': 1, '2005': 1, '2004': 1, '2000': 1, '1999': 1, '1997': 1, '1996': 1, '1995': 1, '1993': 1, '1992': 1, '1989': 1, '1988': 1, '1985': 1, '1986': 1, '1983': 1, '1982': 1, '1981': 1, '1979': 1, '1977': 1, '1976': 1, '1974': 1, '1975': 1, '1973': 1, '1972': 1, '1970': 1, '1969': 1, '1962': 1, '1959': 1, '1957': 1, '1956': 1, '1953': 1, '1952': 1, '1949': 1, '1948': 1, '1947': 1, '1946': 1, '1945': 1, '1944': 1, '1939': 1, '1935': 1, '1934': 1, '1933': 1, '1932': 1, '1931': 1, '1929': 1, '1927': 1, '1926': 1, '1925': 1, '1924': 1, '1922': 1, '1921': 1, '1920': 1, '1919': 1, '1917': 1, '1916': 1, '1913': 1, '1911': 1, '1909': 1, '1907': 1, '1906': 1, '1905': 1, '1094': 1, '1093': 1, '1092': 1, '1091': 1, '1090': 1, '1089': 1, '1088': 1, '1087': 1, '1086': 1, '1085': 1, '1081': 1, '1080': 1, '1079': 1, '1077': 1, '1070': 1, '1066': 1, '1062': 1, '1059': 1, '1057': 1, '1056': 1, '1055': 1, '1053': 1, '1052': 1, '1049': 1, '1047': 1, '1046': 1, '1044': 1, '1042': 1, '1035': 1, '1033': 1, '1031': 1, '1029': 1, '1025': 1, '1024': 1, '1023': 1, '1021': 1, '1019': 1, '1018': 1, '1017': 1, '1010': 1, '1009': 1, '1007': 1, '1006': 1, '1005': 1, '1003': 1, '1001': 1, '1000': 1, '999': 1, '998': 1, '996': 1, '995': 1, '994': 1, '993': 1, '992': 1, '991': 1, '990': 1, '989': 1, '988': 1, '987': 1, '986': 1, '985': 1, '984': 1, '982': 1, '981': 1, '980': 1, '978': 1, '977': 1, '975': 1, '973': 1, '967': 1, '965': 1, '962': 1, '960': 1, '959': 1, '957': 1, '956': 1, '655': 1, '654': 1, '651': 1, '650': 1, '649': 1, '648': 1, '647': 1, '645': 1, '644': 1, '633': 1, '632': 1, '630': 1, '627': 1, '625': 1, '624': 1, '623': 1, '620': 1, '619': 1, '618': 1, '617': 1, '616': 1, '615': 1, '612': 1, '610': 1, '608': 1, '607': 1, '604': 1, '602': 1, '601': 1, '600': 1, '599': 1, '598': 1, '597': 1, '596': 1, '595': 1, '594': 1, '593': 1, '592': 1, '591': 1, '590': 1, '589': 1, '586': 1, '585': 1, '584': 1, '583': 1, '582': 1, '581': 1, '580': 1, '579': 1, '578': 1, '577': 1, '576': 1, '575': 1, '574': 1, '573': 1, '572': 1, '571': 1, '570': 1, '569': 1, '568': 1, '567': 1, '566': 1, '565': 1, '564': 1, '563': 1, '562': 1, '561': 1, '560': 1, '559': 1, '558': 1, '556': 1, '554': 1, '552': 1, '551': 1, '550': 1, '549': 1, '546': 1, '545': 1, '544': 1, '543': 1, '542': 1, '540': 1, '539': 1, '538': 1, '537': 1, '536': 1, '535': 1, '534': 1, '533': 1, '532': 1, '531': 1, '530': 1, '527': 1, '526': 1, '525': 1, '524': 1, '522': 1, '521': 1, '520': 1, '519': 1, '518': 1, '517': 1, '516': 1, '515': 1, '514': 1, '513': 1, '512': 1, '511': 1, '510': 1, '509': 1, '508': 1, '507': 1, '506': 1, '505': 1, '504': 1, '503': 1, '502': 1, '501': 1, '500': 1, '499': 1, '497': 1, '496': 1, '495': 1, '493': 1, '492': 1, '491': 1, '490': 1, '489': 1, '488': 1, '487': 1, '486': 1, '485': 1, '484': 1, '483': 1, '481': 1, '479': 1, '477': 1, '475': 1, '474': 1, '473': 1, '472': 1, '471': 1, '470': 1, '468': 1, '467': 1, '466': 1, '465': 1, '463': 1, '462': 1, '461': 1, '460': 1, '459': 1, '458': 1, '457': 1, '455': 1, '454': 1, '453': 1, '452': 1, '451': 1, '449': 1, '447': 1, '446': 1, '444': 1, '442': 1, '441': 1, '440': 1, '439': 1, '438': 1, '437': 1, '436': 1, '435': 1, '434': 1, '433': 1, '432': 1, '431': 1, '430': 1, '429': 1, '427': 1, '426': 1, '425': 1, '415': 1, '413': 1, '412': 1, '410': 1, '409': 1, '408': 1, '407': 1, '406': 1, '404': 1, '403': 1, '401': 1, '400': 1, '399': 1, '398': 1, '397': 1, '396': 1, '395': 1, '394': 1, '393': 1, '392': 1, '390': 1, '389': 1, '376': 1, '375': 1, '369': 1, '355': 1, '335': 1, '334': 1, '333': 1, '331': 1, '330': 1, '329': 1, '328': 1, '326': 1, '325': 1, '324': 1, '321': 1, '320': 1, '318': 1, '317': 1, '302': 1, '299': 1, '264': 1, '222': 1, '221': 1, '219': 1, '216': 1, '214': 1, '203': 1, '202': 1, '198': 1, '196': 1, '195': 1, '193': 1, '190': 1, '188': 1, '187': 1, '186': 1, '182': 1, '181': 1, '180': 1, '179': 1, '178': 1, '177': 1, '175': 1, '174': 1, '173': 1, '172': 1, '171': 1, '170': 1, '169': 1, '168': 1, '166': 1, '165': 1, '164': 1, '163': 1, '160': 1, '158': 1, '155': 1, '154': 1, '152': 1, '150': 1, '149': 1, '139': 1, '134': 1, '132': 1, '131': 1, '129': 1, '128': 1, '127': 1, '126': 1, '124': 1, '122': 1, '120': 1, '118': 1, '117': 1, '116': 1, '115': 1, '114': 1, '113': 1, '111': 1, '110': 1, '109': 1, '107': 1, '106': 1, '105': 1, '104': 1, '102': 1, '101': 1, '95': 1, '94': 1, '92': 1, '91': 1, '90': 1, '89': 1, '87': 1, '85': 1, '84': 1, '83': 1, '82': 1, '81': 1, '80': 1, '79': 1, '78': 1, '77': 1, '76': 1, '75': 1, '74': 1, '73': 1, '72': 1, '71': 1, '70': 1, '69': 1, '57': 1, '56': 1, '51': 1, '50': 1, '49': 1, '48': 1, '47': 1, '46': 1, '45': 1, '44': 1, '43': 1, '42': 1, '40': 1, '39': 1, '38': 1, '37': 1, '36': 1, '35': 1, '34': 1, '33': 1, '32': 1, '31': 1, '30': 1, '29': 1, '28': 1, '27': 1, '26': 1, '25': 1, '24': 1, '23': 1, '22': 1, '21': 1, '19': 1, '18': 1, '17': 1, '16': 1, '15': 1, '14': 1, '13': 1, '12': 1, '11': 1, '10': 1, '9': 1, '8': 1, '7': 1, '6': 1, '5': 1, '4': 1, '3': 1, '2': 1, '1': 1, '미니스커트 활용법': 1, '트위드 패션': 1, '[정설 스타일리스트] 카리스마 넘쳐': 1, '[정설 스타일리스트] 트렌디 아웃핏': 1, '[정설 스타일리스트] 환절기 시크 코디': 1, '[정설 스타일리스트] 레더의 매력': 1, '[윤애리 스타일리스트] 담백하게 완성': 1, '[윤애리 스타일리스트] 시크한 포인트': 1, '[윤애리 스타일리스트] 뉴트럴 톤': 1, '[윤애리 스타일리스트] 올드머니 패션': 1, '[윤애리 스타일리스트] 고급스러운 분위기': 1, '[윤애리 스타일리스트] 분위기 올킬!': 1, '[윤애리 스타일리스트] 베스트 코디': 1, '[윤애리 스타일리스트] 무심한 듯': 1, '[윤애리 스타일리스트] 시크 그 자체': 1, '[정진아 스타일리스트] 컬러 포인트 룩': 1, '[정설 스타일리스트] 록 시크 무드': 1, '[정설 스타일리스트] 레더의 계절': 1, '[정설 스타일리스트] 독보적 분위기': 1, '[정설 스타일리스트] 특별한 아웃핏': 1, '[이동연 스타일리스트] 데님 온 데님': 1, '[이동연 스타일리스트] 올 블랙 매치': 1, '[윤애리 스타일리스트] 멋 내고 싶은 날': 1, '[윤애리 스타일리스트] 환절기 꿀조합': 1, '[윤애리 스타일리스트] 셔츠 연출법': 1, '[윤애리 스타일리스트] 여유로운 핏': 1, '[윤애리 스타일리스트] 모던하게': 1, '[정진아 스타일리스트] 시크한 레더 코디': 1, '[정진아 스타일리스트] 가을 대표 룩': 1, '[엄아름 스타일리스트] 패셔너블한 연출': 1, '믹스 매치 트렌드': 1, '블랙 셔츠 코디': 1, '청청 패션 러버': 1, '패턴 믹스 룩': 1, '올 레더 룩': 1, '위트 있는 스타일': 1, '레드 포인트 룩': 1, '강렬한 카리스마': 1, '파리지엥처럼!': 1, '패셔너블하게': 1, '미니스커트 코디': 1, '색다른 연출': 1, '크롭 티 코디': 1, '레이어드로 즐겨': 1, '레이어드 추천': 1, '페스티벌 가자!': 1, '강렬하게': 1, '올 블랙으로 완성': 1, '시크 룩 완성': 1, '[윤애리 스타일리스트] 록 시크 무드': 1, '[윤애리 스타일리스트] 올 블랙 패션': 1, '[정진아 스타일리스트] 셋업은 이렇게!': 1, '미니멀한 감성': 1, '무심하고 시크하게': 1, '[윤애리 스타일리스트] 진리의 조합': 1, '[윤애리 스타일리스트] 매력이 넘쳐': 1, '강렬한 무드': 1, '스카프 디자인': 1, '[이동연 스타일리스트] 요즘 대세': 1, '[이동연 스타일리스트] 니트 베스트 코디': 1, '[이동연 스타일리스트] 패셔너블하게': 1, '[이동연 스타일리스트] 디테일로 완성': 1, '[정설 스타일리스트] 모노톤 매치': 1, '[정설 스타일리스트] 워너비 스타일': 1, '[윤애리 스타일리스트] 시크한 올 블랙': 1, '고혹적인 아웃핏': 1, '점프수트 연출법': 1, '[정진아 스타일리스트] 데님 온 데님': 1, \"[정진아 스타일리스트] 90's 베이식\": 1, '[윤애리 스타일리스트] 셋업 코디': 1, '[윤애리 스타일리스트] 레이어링 연출': 1, '[이동연 스타일리스트] 가볍고 멋스럽게': 1, '[정설 스타일리스트] 힙하게 즐겨': 1, '시크 리조트 룩': 1, '감도 있는 코디': 1, '남다른 아우라': 1, '[박서현 스타일리스트] 원픽 아이템': 1, '독보적인 셋업': 1, '공항 룩 추천!': 1, '크로셰 매치': 1, '화이트 조합': 1, '블랙 시크 룩': 1, '모던한 느낌': 1, '돋보이는 컬러 매치': 1, '쿨해 보여': 1, '프렌치 걸': 1, '퍼 재킷 연출법': 1, '무심한 포인트': 1, '데님 셋업 연출': 1, '스키니 실루엣': 1, '모던하고 시크해': 1, '레이어드의 신!': 1, '레더 연출법': 1, '디테일에 반했어': 1, '넘사벽 자태': 1, '매력적인 라인': 1, '때론 시크하게!': 1, '도도한 그녀': 1, '레더 러버': 1, '대체 불가 분위기': 1, '무채색에 빠져': 1, '스타일리시한': 1, '시크함 가득!': 1, '뉴트럴 스타일링': 1, '셔링 포인트': 1, '스키니한 매력': 1, '부츠 컷 홀릭': 1, '차도녀의 하루': 1, '한껏 꾸민 날': 1, '레이어드 추천!': 1, '멋있는 언니': 1, '프렌치 시크': 1, '시크한 레이어드 룩': 1, '유니크함을 더해줘': 1, '프렌치 시크 룩': 1, '모노 톤의 멋': 1, '시크함 폭발!': 1, '가을 원피스 룩': 1, '블랙 코디법': 1, '넘사벽 매력': 1, '마성의 패턴': 1, '세련된 올 블랙': 1, '시크의 대명사': 1, '센스 넘쳐!': 1, '레이어드 맛집': 1, '세련된 블랙': 1, '넘사벽 아우라': 1, '시크한 패션 감각': 1, '대체 불가 매력': 1, '시크한 스타일에 반해': 1, '넘사벽 센스': 1, '레드 러버': 1, '페이즐리 포인트!': 1, '세련된 봄 코디': 1, '투웨이 원피스': 1, '원픽 코디': 1, '세련된 청청 패션': 1, '세련된 데님 룩': 1, '트렌치코트에 주목': 1, '매혹적인 실루엣': 1, '시크 룩의 정석': 1, '도도해보여': 1, '시크하고 멋져': 1, '파리지앵 룩': 1, '포스 작렬': 1, '차도녀 어때?': 1, '블랙&브라운': 1, '겨울엔 레더!': 1, '시크함으로 승부': 1, '차도녀 이미지': 1, '시크한 하루': 1, '플리스는 필수!': 1, '스타일의 완성!': 1, '연말 룩 강추!': 1, '시크한 체크 코디': 1, '시크함의 끝': 1, '쿨걸의 코디': 1, '헌팅 재킷 활용법': 1, '시크함을 더해': 1, '레이어드 끝판왕!': 1, '완벽한 블랙': 1, '시크함 그 자체!': 1, '차도녀의 매력': 1, '모던 시크 룩!': 1, '여름엔 화이트!': 1, '트렌드세터!': 1, '언제나 블랙': 1, '블랙&골드': 1, '블랙 마니아': 1, '고혹적인 미모': 1, '혼자 보기 아까워': 1, '시크미 뿜뿜!': 1, '빈틈없는 코디': 1, '무심한 세련미': 1, '센스 끝판왕': 1, '원피스로 완성': 1, '차도녀 같아': 1, '특별한 매력': 1, '플라워 포인트!': 1, '시크한 봄': 1, '분위기 올 킬!': 1, '차분한 봄맞이': 1, '믿고 입는 니트': 1, '도도하고 시크해': 1, '심플&개성': 1, '셔링 포인트!': 1, '레더로 시크해': 1, '오늘 내가 주인공!': 1, '시크하고 도도해': 1, '시크함 뿜뿜': 1, '코듀로이 셋업': 1, '블링 블링 스커트': 1, '코트가 다 했어': 1, '이토록 멋질 수가!': 1, '헤어날 수 없지': 1, '매력 터진다!': 1, '시선 강탈 패턴': 1, '시크한 겨울': 1, '시크해 시크해': 1, '블랙으로': 1, '시크 포인트': 1, '퍼 재킷의 매력': 1, '체크 시크': 1, '돋보이는 재킷': 1, '감각적인 스타일링': 1, '블랙&체크': 1, '시크하게 매치': 1, '코트로 뽐내기': 1, '감동의 퍼 재킷': 1, '레오파드 패턴의 페이크 퍼 재킷': 1, '박시한 버튼 재킷': 1, '짧은 기장의 레더 재킷': 1, '루즈 핏 라이더 재킷': 1, '오버사이즈드 라이더 재킷': 1, '2056': 1, '1967': 1, '뉴트럴 톤 무드': 1, '[정진아 스타일리스트] 가을 뉴트럴 룩': 1, '[정진아 스타일리스트] 코트 스타일링': 1, '[정진아 스타일리스트] 비즈니스 캐주얼': 1, '[정진아 스타일리스트] 적절한 디테일': 1, '[정진아 스타일리스트] 워너비 코디': 1, '[정진아 스타일리스트] 데님 활용법': 1, '[정진아 스타일리스트] 댄디 무드': 1, '[정설 스타일리스트] 미니멀한 연출': 1, '[정설 스타일리스트] 바시티 연출법': 1, '심플한 실루엣': 1, '모던한 스타일': 1, '[이동연 스타일리스트] 댄디 캐주얼': 1, '[정설 스타일리스트] 모노톤 스타일링': 1, '[정설 스타일리스트] 미니멀한 매력': 1, '[정설 스타일리스트] 멋스러운 연출': 1, '[정설 스타일리스트] 소개팅 룩': 1, '[정설 스타일리스트] 데이트하는 날': 1, '[정설 스타일리스트] 감각적인 조합': 1, '댄디 룩 완성': 1, '뉴트럴 톤 색감': 1, '[윤애리 스타일리스트] 아이비 스타일': 1, '[윤애리 스타일리스트] 블레이저 활용법': 1, '레트로 한 스푼': 1, '레더 재킷 스타일링': 1, '트러커 재킷 활용법': 1, '니트 연출법': 1, '가을 출근 룩의 정석': 1, '색다른 코트 연출법': 1, '올가을 추천 댄디 룩': 1, '감각적인 연출': 1, '시스루 연출법': 1, '돌아온 카디건의 계절': 1, '편안한 댄디 룩': 1, '서머 댄디': 1, '트렌디한 남친 룩': 1, '지적인 무드': 1, '부담 없는 뉴트럴 톤': 1, '크롭 아이템 활용법': 1, '휴가 시즌 룩': 1, '훈훈함의 정석': 1, '손이 가는 아이템': 1, '댄디하게 즐겨': 1, '심플한 톤온톤 코디': 1, '여심 저격 코디': 1, '폭염 패션': 1, '[정설 스타일리스트] 카디건 스타일링': 1, '[정진아 스타일리스트] 뉴트럴 톤 매치': 1, '[정진아 스타일리스트] 트렌디한 데님': 1, '[정진아 스타일리스트] 셋업 활용법': 1, '크로셰가 대세': 1, '단정한 데이트 룩': 1, '[이동연 스타일리스트] 휴양지 리조트 룩': 1, '비비드 한 스푼': 1, '차분한 댄디 룩': 1, '돋보이는 공항 룩': 1, '여름 바캉스 룩': 1, '리조트 룩 추천': 1, '매력 있는 아웃핏': 1, '서머 피크닉 룩': 1, '비 오는 날 멋 내기': 1, '루즈한 연출': 1, '데님 셔츠 연출법': 1, '눈에 띄는 남자': 1, '깔끔하게 연출': 1, '여름 즐기기': 1, '멋진 주인공': 1, '여름 셔츠 활용법': 1, '핑크 컬러의 매력': 1, '이상적인 깔끔함': 1, '모노톤 룩': 1, '여름 댄디 룩': 1, '댄디 캐주얼 룩': 1, '슬림 핏 스타일링': 1, '파스텔 컬러 포인트': 1, '니트 카디건 코디': 1, '루즈 핏 패션': 1, '서머 비즈니스 룩': 1, '바캉스 시즌': 1, '뉴트럴 바이브': 1, '세련된 컬러 포인트': 1, '청량감 더하기': 1, '원 컬러 매치': 1, '시크한 모노톤': 1, '남친 스타일': 1, '봄 셋업': 1, '화사해': 1, '화사한 출근 룩': 1, '봄 컬러 포인트': 1, '세련된 남자': 1, '봄처럼 가볍게': 1, '이런 게 세련미': 1, '센스 있는 포인트': 1, '남다른 청청 패션': 1, '슬림 핏 실루엣': 1, '깔끔한 마무리': 1, '재킷으로 꾸안꾸': 1, '봄 트렌치': 1, '시크한 데님': 1, '크롭 디테일': 1, '뉴트럴톤이 대세': 1, '재킷이 포인트': 1, '입고 싶은 옷': 1, '트렌디한 댄디 룩': 1, '훈훈해!': 1, '봄 분위기': 1, '뉴트럴 톤 스타일링': 1, '화사한 연출법': 1, '트렌치코트 룩': 1, 'MZ 출근 룩': 1, '컬러 니트 연출법': 1, '깔끔 담백': 1, '피코트 연출법': 1, '레더 마니아': 1, '왁스 재킷의 계절': 1, '버건디 컬러 매치': 1, '웨스턴 스타일링': 1, '가벼워진 옷차림': 1, '깔끔 모노톤': 1, '볼수록 멋스러워': 1, '한껏 가볍게': 1, '슈트 스타일링': 1, '클래식한 분위기': 1, '패턴 레이어드': 1, '오버 핏 코트 연출법': 1, '웨어러블한 착용': 1, '돋보이는 머플러': 1, '더블 코트 활용법': 1, '겨울 댄디 룩': 1, '무심한 듯 멋지게': 1, '모노톤으로 꾸미기': 1, '시크한 뉴트럴 톤': 1, '무톤 재킷으로 완성': 1, '포근한 디테일': 1, '컬러 니트 매치': 1, '클래식한 조합': 1, '포근하게!': 1, '얼죽코로 완성': 1, '따뜻한 코트': 1, '연말 분위기': 1, '더플의 매력': 1, '레더 디테일': 1, '겨울 데이트 룩': 1, '스타일리시한 디테일': 1, '영한 무드': 1, '겨울 색감': 1, '룩에 포인트 주기': 1, '분위기 있는 남자': 1, '멋스러워 보여': 1, '입고 싶은 조합': 1, '체크 패턴 조합': 1, '입고 싶은 톤온톤': 1, '미니멀 댄디': 1, '겨울 모노톤': 1, '빈티지한 디테일': 1, '패셔너블한 무드': 1, '숏 패딩 코디': 1, '무심한듯 멋스럽게': 1, '무톤 재킷 포인트': 1, '무톤 재킷 추천': 1, '얼죽코 훈남': 1, '겨울 코트 추천': 1, '편안한 댄디함': 1, '감각적인 댄디 룩': 1, '클래식 그 자체': 1, '터프한 남자': 1, '데이트를 위한 코디': 1, '컬러감이 좋아!': 1, '스타일리시한 레이어드': 1, '손쉽게 멋 내는 법': 1, '포근한 색감': 1, '세미 프레피 룩': 1, '웨스턴 디테일': 1, '무난한 컬러 포인트': 1, '미니멀한 레이어드': 1, '유니크한 블랙': 1, '톤온톤 패션': 1, '심플한 댄디 룩': 1, '워너비 레이어드': 1, '감각적인 트렌치 룩': 1, '가을 미니멀 룩': 1, '환절기에는 코트!': 1, '웨스턴 댄디': 1, '왁스 재킷 활용법': 1, '가을맞이 셋업': 1, '스타일리시한 모습': 1, '팬츠 디테일': 1, '믹스 매치의 정석': 1, '반다나 연출': 1, '가을 하면 코트!': 1, '멋스러운 트위드': 1, '크롭 재킷 활용법': 1, '가을 데일리': 1, '디테일이 돋보여': 1, '데이트 룩 완성!': 1, '담백한 레이어드': 1, '클래식해!': 1, '끌림의 미학': 1, '매력적인 자태': 1, '스카프 디테일': 1, '돋보이고 싶은 날!': 1, '남다른 패션 센스': 1, '가을 추천 룩': 1, '오버핏 연출': 1, '무게감 있게': 1, '근사해!': 1, '올블랙 출근 룩': 1, '훈남 코디법': 1, '화려한 자태': 1, '피크닉 갈까?': 1, '댄디한 쿨비즈 룩': 1, '간편한 셋업 룩': 1, '크로셰 셔츠 활용법': 1, '서머 블레이저': 1, '비가 와도 멋있게': 1, '멋스러운 남친 룩': 1, '레이스의 매력': 1, '깔끔한 패션': 1, '올블랙 패션': 1, '미니멀한 멋': 1, '화사한 여름': 1, '서머 니트가 대세': 1, '휴양지 룩은 이거!': 1, '트렌디한 쿨비즈': 1, '훈훈해 보여': 1, '니트 셔츠의 매력': 1, '시크한 스타일링': 1, '투 톤 조합': 1, '넉넉한 핏': 1, '리조트 스타일': 1, '트라우저 활용법': 1, '빛나는 바캉스': 1, '데일리 멋': 1, '시크한 모노 톤': 1, '남친 룩으로 어때?': 1, '워너비 리조트 룩': 1, '트로피컬 패턴 룩': 1, '올여름 남친 룩': 1, '이런 스타일 어때?': 1, '세련된 리조트 룩': 1, '여행 준비 끝!': 1, '미니멀한 톤온톤': 1, '디테일한 멋': 1, '베이식한 무드': 1, '댄디 스타일링': 1, '여름 냄새 물씬': 1, '플리츠 디테일': 1, '단정하게 완성': 1, '하프 슬랙스 코디': 1, '차분한 톤': 1, '특별한 레이어드 룩': 1, '차분한 데이트 룩': 1, '남친 룩으로 좋아': 1, '미니멀한 스타일링': 1, '여름 코디': 1, '멋 좀 부려봤어!': 1, '미니멀 실루엣': 1, '단정한 조합': 1, '멋스러운 출근 룩': 1, '매력 지수 업': 1, '뜨거운 인기': 1, '세련된 핏': 1, '스타일리시한 캐주얼': 1, '팬츠가 포인트!': 1, '멋진 디테일 가득': 1, '스카프로 멋 내기': 1, '메시의 재발견': 1, '니트 러버': 1, '봄 코디 장인': 1, '에지 있는 스타일': 1, '시크함이 돋보여': 1, '봄날의 데이트': 1, '미니멀 매치': 1, '환절기에 필수!': 1, '오늘도 멋있어': 1, '디테일 승부사': 1, '깔끔 댄디 룩': 1, '개성 만점 댄디 룩': 1, '레더로 완성!': 1, '감각적인 패션': 1, '시크한 레더 스타일': 1, '심플 데이트 룩': 1, '봄 데이트': 1, '남친 룩으로 제격!': 1, '패피의 댄디 룩': 1, '남친 룩은 이렇게!': 1, '조화로운 아이템': 1, '패턴 베스트 활용법': 1, '댄디 룩의 아이콘': 1, '톤온톤으로 도전': 1, '컬러풀 레이어드': 1, '대세 남친 룩': 1, '실패 없는 레더': 1, '옷 잘입는 남친': 1, '유니크한 컬러 매치': 1, '트렌디한 아이템': 1, '롱 코트 활용법': 1, '센스쟁이': 1, '훈훈한 데이트 룩': 1, '컬러감 있는 룩': 1, '뉴트럴 톤 매력': 1, '데이트하기 좋아': 1, '멋스러움 강조': 1, '남다른 댄디 룩': 1, '만능 체크 패턴': 1, '무난한 매치': 1, '연말 추천 룩': 1, '데이트 패션': 1, '돋보이는 포근함': 1, '훈훈한 일상': 1, '완성된 시크함': 1, '겨울에는 이렇게!': 1, '겨울을 닮은 패턴': 1, '출구 없는 매력': 1, '폼 나게 입자': 1, '무톤 활용법': 1, '탁월한 컬러 매치': 1, '실패 없는 연출법': 1, '위트 가이': 1, '체크 디자인': 1, '특별한 데님 룩': 1, '센스 있는 스타일': 1, '포근한 레이어드': 1, '시크한 찰나': 1, '분위기 넘치게': 1, '겨울에도 톤온톤': 1, '컬러 디테일': 1, '간결한 스타일링': 1, '무톤 재킷 연출': 1, '단정한 무드': 1, '체크 패턴의 매력': 1, '매력 발산 코디': 1, '그냥 멋져!': 1, '얼죽코 스타일': 1, '분위기 있는 코디': 1, '시크한 얼죽코': 1, '무심하게!': 1, '스카프로 스타일 업': 1, '단조로운 컬러 매치': 1, '스타일리시한 실루엣': 1, '셀럽 코디': 1, '비 걱정 끝': 1, '스타일리시한 레인 룩': 1, '센스 있는 톤온톤': 1, '포근해!': 1, '무심하게 꾸미기': 1, '코트 코디네이션': 1, '멋있어!': 1, '레이어드가 생명': 1, '세련된 레이어링': 1, '재킷으로 스타일 업': 1, '돋보이는 디자인': 1, '멋진 가을 남자': 1, '재킷 포인트 룩': 1, '감각 더하기': 1, '센스 만렙': 1, '얼어 죽어도 코트!': 1, '시크함의 대명사': 1, '듬직한 매력': 1, '얼죽코의 계절': 1, '외출이 즐거워': 1, '가을 코디': 1, '레이어드 룩!': 1, '비가 와도 훈훈해': 1, '에스닉의 매력': 1, '따뜻해 보이는 색': 1, '자유분방한 매력': 1, '담백한 남자': 1, '가을 컬러 가득!': 1, '블랙 코디 정석': 1, '소개팅 룩': 1, '새로운 시도': 1, '센스 있는 무드': 1, '에스닉한 무드': 1, '가을 재킷 스타일': 1, '멋스러운 가을 남자': 1, '탐나는 남친 룩': 1, '찬 바람 불 때!': 1, '컬러를 입다': 1, '군더더기 없어': 1, '색다른 한복 룩': 1, '환절기에는 코트': 1, '멋스러운 애티튜드': 1, '매력적인 연출법': 1, '패턴으로 스타일 업': 1, '낭만 있어': 1, '가을 데이트 룩': 1, '차분한 멋': 1, '환절기 룩 추천!': 1, '시크 바이브': 1, '뉴트럴 톤 셋업': 1, '가을 셋업 룩': 1, '감각적인 핏': 1, '럭셔리해': 1, '멋진 분위기': 1, '볼수록 멋있어': 1, '색다른 핏': 1, '관능미 넘쳐': 1, '올 블랙 룩': 1, '만인의 댄디 룩': 1, '패턴 포인트 코디': 1, '패잘알의 코디': 1, '시크함의 정석': 1, '모두의 취향': 1, '빠져드는 룩': 1, '담백한 스타일링': 1, '베이식한 코디': 1, '심필한 멋': 1, '시원한 멋': 1, '화사한 서머 룩': 1, '시원해 보여!': 1, '심플한 게 좋아!': 1, '쿨한 서머 가이': 1, '내추럴 시크': 1, '오늘의 데이트 룩': 1, '환상의 매치': 1, '가장 핫해': 1, '피크닉 룩에 제격': 1, '파스텔 감성': 1, '뒤돌아보게 돼': 1, '모던한 감각': 1, '모던해': 1, '준비된 룩': 1, '취향 저격 패션': 1, '여름에도 레이어드!': 1, '멋스러운 하루': 1, '서머 미니멀 룩': 1, '쿨하게 입자!': 1, '취향 저격 룩': 1, '여름 감성': 1, '데이트용 코디': 1, '여름에 입는 블랙': 1, '슬랙스에 주목!': 1, '호감형 코디': 1, '슬림하게': 1, '여름에도 니트!': 1, '기본 패턴': 1, '차분해': 1, '쿨하고 멋있게': 1, '기막힌 컬러 매치': 1, '한껏 멋있게': 1, '오버 핏 무드': 1, '여름 감성 가득': 1, '댄디 룩 정석': 1, '셔츠에 주목!': 1, '마스크는 필수!': 1, '감각적인 포인트': 1, '댄디 룩의 표본': 1, '가벼운 포멀 룩': 1, '퓨전 한복 스타일': 1, '외출하기 좋은 날': 1, '패턴 홀릭!': 1, '스프링 포멀 룩': 1, '패셔니스타 등극': 1, '나처럼 입어 봐': 1, '시크한 댄디 룩': 1, '데이트 코디 추천': 1, '뉴트로 스쿨 룩': 1, '독보적 레더': 1, '프리미엄 룩': 1, '기본 이상': 1, '빈티지풍': 1, '완벽한 댄디 룩': 1, '화사함 가득': 1, '댄디한 이미지': 1, '깔끔 댄디!': 1, '명불허전': 1, '반했어!': 1, '훈남 대표': 1, '댄디 가이 변신!': 1, '설레임 유발': 1, '남친 룩 연출': 1, '스타일이 산다!': 1, '베스트 드레서': 1, '스타일 고수': 1, '댄디 룩 장인': 1, '패턴 아이템이 대세': 1, '훈훈함에 빠져': 1, '훌륭한 조합': 1, '따뜻하게 입자': 1, '겨울 안성맞춤': 1, '맵시가 느껴져': 1, '겨울 감성 가득': 1, '훈훈한 댄디 룩': 1, '찬란하게 완성': 1, '눈이 와도 따뜻해': 1, '취향 존중': 1, '매력적인 블랙': 1, '절제된 매력': 1, '근사한 룩': 1, '로맨틱 가이': 1, '남다른 자태': 1, '무스탕으로 완성!': 1, '시크한 네이비': 1, '심쿵 주의보': 1, '에지 있게': 1, '디테일 만점': 1, '데이트 필수템': 1, '레이어드 합격!': 1, '자신감 폭발': 1, '시크함에 빠져': 1, '데님 멋쟁이': 1, '나만의 색깔': 1, '옷이 날개': 1, '성공적 외출': 1, '코디 맛집': 1, '패턴에 집중': 1, '세련된 색상': 1, '따뜻한 느낌': 1, '매력 만점 코디': 1, '핑크빛 로맨스': 1, '강력 추천': 1, '감각적인 컬러': 1, '댄디 끝판왕': 1, '완벽한 데이트': 1, '깔끔한게 최고': 1, '가을 트렌드': 1, '보면 반해': 1, '여심 저격수': 1, '100점 남친 룩': 1, '코트가 정답': 1, '멋쁨 카디건': 1, '너무 시크해': 1, '잘 입은 셋업': 1, '가을의 남친 룩': 1, '셋업의 힘': 1, '입고 또 입고': 1, '새로운 계절': 1, '단정하게!': 1, '시스루 룩': 1, \"'옷잘알' 등극\": 1, '첫눈에 반할 때': 1, '가을이 왔어': 1, '비주얼 폭발': 1, '필살기 장착': 1, '셋업 느낌': 1, '가볍고 좋아': 1, '멋짐 가득': 1, '오늘도 훈훈해': 1, '데이트할래?': 1, '막 걸쳐도 멋져': 1, '가볍게 출발': 1, '밝은 색으로 포인트': 1, '신경 쓴 하루': 1, '여전히 멋져': 1, '유니크한 그': 1, '젠틀함이 매력': 1, '감각적이야!': 1, '깔끔한게 최고!': 1, '알고 싶은 매력': 1, '빈틈 없어': 1, '간결하게!': 1, '셔츠 하나로 완성': 1, '멋짐 장착': 1, '훈남 인정!': 1, '댄디하지?': 1, '모던하게!': 1, '너무 근사해': 1, '눈이 가는 룩': 1, '심하게 멋있어': 1, '심플하지?': 1, '화이트가 좋아': 1, '기분도 좋아': 1, '솔직히 멋져': 1, '멋있잖아': 1, '베이식의 대명사': 1, '쿨 톤 코디네이션': 1, '훈훈함': 1, '훈남의 서머 룩': 1, '이게 남친 룩!': 1, '멋짐의 정석': 1, '페도라의 멋': 1, '포인트 살리고': 1, '요즘 데일리 룩': 1, '언제나 옳아': 1, '쿨내 진동!': 1, '블랙은 옳다!': 1, '무드 넘쳐': 1, '다가올 여름': 1, '코튼 블루 향': 1, '멋쟁이 노하우': 1, '멋짐 주의보': 1, '어디에도 찰떡': 1, '데님은 옳다!': 1, '남친 룩 스타일': 1, '꽤 멋있잖아?': 1, '남자 프레피 룩': 1, '완벽한 카디건': 1, '패턴 셔츠 도전!': 1, '봄에 어울려': 1, '블레이저의 매력': 1, '카디건은 옳다!': 1, '니트로 가볍게': 1, '언제나 든든해': 1, '마성의 카디건': 1, '블레이저 입자': 1, '기분까지 좋아': 1, '봄 데이트!': 1, '훈남 스타일링': 1, '체크 코트': 1, '이상형 스타일링': 1, '내 몸에 꼭!': 1, '깔끔하게 완성!': 1, '봄이 왔어!': 1, '깔끔의 정석': 1, '뻔하지 않아': 1, '봄을 닮은 그': 1, '젠틀맨의 하루': 1, '캐주얼한 댄디': 1, '느낌 좋아!': 1, '찜콩 코디': 1, '주황색 입어줘!': 1, '남친룩 입기': 1, '갖고 싶은 멋': 1, '봄 아우터!': 1, '간편하게 입자!': 1, '불호 없음': 1, '멋있는 거 다해': 1, '벌써 봄!': 1, '가볍게 입어줘!': 1, '이상형의 남자': 1, '편한 듯 멋있어': 1, '느낌 아니까': 1, '완벽한 밸런스': 1, '역시 코트': 1, '멋의 정석': 1, '잘 만든 혼종': 1, '대세는 댄디': 1, '역대급 스타일': 1, '깔끔한 댄디': 1, '호감도 100%': 1, '인간적으로 멋짐': 1, '든든한 코트': 1, '명품 스타일': 1, '최고 멋져': 1, '깔끔하고 멋져': 1, '깔끔 남친 룩': 1, '톤다운 컬러': 1, '최적의 조합': 1, '깔끔하게 매치': 1, '겨울 멋은 코트': 1, '머플러 추가': 1, '깔끔 매력': 1, '깔끔 매치': 1, '흘러넘치는 멋': 1, '아우터가 다 함': 1, '매력 최대치': 1, '좀 멋있지?': 1, '반해버렸어!': 1, '한눈에 반해': 1, '겨울 여행 코디': 1, '차분한 오늘': 1, '체크 코트 매치': 1, '알아주는 코디': 1, '신경 좀 썼어': 1, '댄디함 물씬': 1, '댄디한 그': 1, '스웨터 뽐내기': 1, '따뜻함 충전': 1, '반짝 반짝 빛나리': 1, '유니크한 카디건': 1, '가을 남자 등장': 1, '가을을 머금은': 1, '가을 산책': 1, '가을 필수템': 1, '카디건 필수!': 1, '카키에 빠지다': 1, '가을 찰떡 조합': 1, '널 데리러가': 1, '가을 만끽!': 1, '깔끔 댄디룩': 1, '개성 넘치는 팬츠': 1, '단정한 댄디 룩': 1, '여름아 가지마!': 1, '컬러에 빠지다': 1, '멋진 댄디': 1, '넉넉한 핏감': 1, '클린 썸머': 1, '정갈한 댄디 룩': 1, '단정한 여유': 1, '멋을 담았다!': 1, '깔끔해 보여': 1, '괜찮은데?': 1, '깔끔하게 입어': 1, '어썸한 스타일': 1, '멋있다고!': 1, '끌리는 그 남자': 1, '댄디한 여름': 1, '내 남자의 코디': 1, '훈남의 데일리룩': 1, '깔끔해서 멋있어': 1, '산뜻하게 셔츠': 1, '댄디의 완성': 1, '댄디, 심플': 1, '깔끔한 그!': 1, '피크닉에 딱': 1, '딱 떨어지는 매치': 1, '자유로운 재킷': 1, '깔끔하다': 1, '혁명적 귀여움!': 1, '만점 스타일': 1, '이렇게 귀엽다니': 1, '폴로 라이프': 1, '때로는 차분히': 1, '잘 입는 남자': 1, '터프한 그': 1, '깔끔한 인기남': 1, '스테이크 사줄게': 1, '젠젠젠 젠틀맨': 1, '카디건의 남자': 1, '롱카디건은 옳아': 1, '귀공자 납시오!': 1, '귀여운 포켓남': 1, '기가 막히다': 1, '볼수록 보고파': 1, '훈남되는 코트': 1, '맛집 데이트 룩': 1, '다정보스 느낌!': 1, '인생이 런웨이': 1, '가볍지만 따뜻해': 1, '심플&나이스': 1, '가을남자의 코트': 1, '멋스러운 루즈핏': 1, '매력덩어리 룩': 1, '코트룩의 정석': 1, '카멜 코트 훈남': 1, '체크 코트 패션': 1, '패셔니스타의 옷': 1, '코트는 댄디하게': 1, '고독한 남자의 옷': 1, '멀리서도 훈남': 1, '스키장 간지남': 1, '추울수록 멋지게': 1, '가을 분위기 물씬': 1, '클린한 캐주얼': 1, '톤온톤 감성': 1, '딱 가을남자 룩': 1, '그레이가 어울려': 1, '로맨스가 필요해': 1, '스마트한 너': 1, '댄디가이의 룩': 1, '어깨 깡패 룩': 1, '울 원단으로 제작된 더플 코트': 1, '무톤 플라이트 재킷': 1, '덕 다운 울버린 파카': 1, '오버사이즈드 롱 코트': 1, '여유로운 실루엣의 오버핏 데님 재킷': 1, '자연스러운 어깨 라인을 그리는 드롭 숄더 코트': 1, '도포에서 모티브를 얻은 재킷': 1, '가볍게 착용하는 퀼팅 코트': 1, '울 소재의 피크드칼라 코트': 1, '헤링본 캐시미어 코트': 1, '스탠다드 셀비지 데님': 1, '라이드 블루 컬러 데님': 1, '프리미엄 린넨 셔츠': 1, '2241': 1, '2239': 1, '2207': 1, '2206': 1, '2205': 1, '2194': 1, '2158': 1, '2150': 1, '2137': 1, '2132': 1, '2120': 1, '2118': 1, '2103': 1, '2096': 1, '2095': 1, '2094': 1, '2081': 1, '2079': 1, '2068': 1, '2063': 1, '1964': 1, '1955': 1, '1910': 1, '1084': 1, '1064': 1, '1063': 1, '1060': 1, '1058': 1, '1054': 1, '1051': 1, '1050': 1, '1045': 1, '1043': 1, '1041': 1, '1040': 1, '1039': 1, '1038': 1, '1037': 1, '1036': 1, '1034': 1, '1032': 1, '1028': 1, '1027': 1, '1022': 1, '1020': 1, '1008': 1, '1004': 1, '1002': 1, '997': 1, '976': 1, '972': 1, '971': 1, '652': 1, '646': 1, '628': 1, '626': 1, '611': 1, '588': 1, '587': 1, '557': 1, '555': 1, '553': 1, '548': 1, '547': 1, '541': 1, '529': 1, '528': 1, '523': 1, '498': 1, '464': 1, '456': 1, '450': 1, '405': 1, '373': 1, '332': 1, '327': 1, '323': 1, '322': 1, '319': 1, '316': 1, '304': 1, '301': 1, '300': 1, '298': 1, '167': 1, '159': 1, '157': 1, '156': 1, '153': 1, '151': 1, '138': 1, '136': 1, '135': 1, '123': 1, '121': 1, '[정진아 스타일리스트] 셋업으로 완성': 1, '[정진아 스타일리스트] 출근 룩의 정석': 1, '[윤애리 스타일리스트] 미니멀 감성': 1, '[윤애리 스타일리스트] 감각적이야': 1, '[윤애리 스타일리스트] 차분한 컬러 매치': 1, '[윤애리 스타일리스트] 세련된 실루엣': 1, '[정설 스타일리스트] 올 블랙의 멋': 1, '[윤애리 스타일리스트] 모노톤 패션': 1, '[윤애리 스타일리스트] 출근 룩의 정석': 1, '[정진아 스타일리스트] 셋업의 매력': 1, '[윤애리 스타일리스트] 올드머니 룩': 1, '포멀한 스타일': 1, '포멀한 오피스 룩': 1, '[정진아 스타일리스트] 컨템포러리 우먼': 1, '[정진아 스타일리스트] 하객 룩 추천': 1, '단정해 보여': 1, '깔끔한 차림': 1, '간편한 셋업': 1, '컨템포러리 우먼': 1, '출근 룩': 1, '하객 패션 추천!': 1, '무드 더하기': 1, '슬랙스 스타일링': 1, '멋스러운 포멀 룩': 1, '뉴트럴 톤 댄디': 1, '시어서커 셋업': 1, '포멀 그 자체': 1, '경쾌한 비즈니스 룩': 1, '셋업 슈트 룩': 1, '포멀한 무드': 1, '감각적인 모습': 1, '슈트 패션': 1, '모노톤 셋업': 1, '패셔너블한 윈터 룩': 1, '포멀하게': 1, '윈터 출근 룩': 1, '따뜻하게 스타일링': 1, '레이어드 출근 룩': 1, '따뜻한 출근 룩': 1, '출근 룩 완성': 1, '남다른 출근 룩': 1, '출근 룩 추천': 1, '감각적인 포멀 룩': 1, '출근 셋업 룩': 1, '환절기 재킷 코디': 1, '비 오는 날 출근': 1, '태가 나': 1, '색감 조합 굿': 1, '센스 있는 셋업': 1, '포멀한 조합': 1, '쿨비즈 코디': 1, '린넨 활용법': 1, '쿨한 비즈니스 룩': 1, '옷잘알의 출근 룩': 1, '출근 룩 코디': 1, '쿨비즈의 계절': 1, '쿨한 슈트 셋업': 1, '센스 넘치는 디테일': 1, '심플 그 자체': 1, '클래식 매치': 1, '매력적인 출근 룩': 1, '산뜻한 출근 룩': 1, '단정한 체크 셋업': 1, '담백 데일리 룩': 1, '단아한 블랙': 1, '출근 룩은 이렇게!': 1, '눈이 가는 출근 룩': 1, '얼죽코 연출법': 1, '차분한 모습': 1, '출근 룩 끝판왕': 1, '모노 톤 미니멀 룩': 1, '탐나는 세련미': 1, '스타일리시한 포멀 룩': 1, '데일리 웨어 더하기': 1, '단정하게 따뜻하게!': 1, '색다른 포멀 룩': 1, '모던한 분위기': 1, '깔끔함에 반해!': 1, '멋스러움 가득': 1, '패피의 출근길': 1, '기대고 싶은 비주얼': 1, '남다른 소화력': 1, '포근함이 돋보여': 1, '유니크한 출근 룩': 1, '얼죽코 룩': 1, '실패 없는 출근 룩': 1, '멋있게 출근하기': 1, '따뜻함에 감탄!': 1, '노련한 멋': 1, '슈트 셋업 코디': 1, '워너비 포멀 룩': 1, '출근 룩 연출법': 1, '은근한 포인트': 1, '감성 더하기': 1, '눈부신 조합': 1, '따뜻한 감성': 1, '모델 포스': 1, '트렌치코트 연출법': 1, '매료당하다': 1, '수려한 자태': 1, '가을의 색감': 1, '환상의 컬러 조합': 1, '출근 룩도 유니크!': 1, '깔끔한 출근 룩': 1, '하객 룩 연출법': 1, '쿨비즈 추천': 1, '가벼운 출근': 1, '서머 코디 팁': 1, '훈훈해': 1, '매력 더하기': 1, '깔끔한 코디법': 1, '핏이 생명': 1, '완벽해': 1, '좋은 느낌': 1, '최고의 컬러 매치': 1, '오늘 코디도 맑음': 1, '시원한 포멀 룩': 1, '쿨한 복장': 1, '시크하고 싶다면': 1, '출근 룩 걱정 끝': 1, '린넨 아이템 홀릭': 1, '화이트&네이비': 1, '기분 좋은 출근!': 1, '젠틀한 이미지': 1, '화사한 출근': 1, '시원함에 반해': 1, '쿨비즈': 1, '셋업 코디 장인': 1, '여유로운 실루엣': 1, '출근 룩으로 제격!': 1, '린넨 연출법': 1, '단정한 룩': 1, '단정한 포멀 룩': 1, '믿고 입는 꿀 조합': 1, '첫 데이트 날': 1, '매력적인 코디': 1, '당찬 아우라': 1, '멋짐 그 자체': 1, '단정한 용모': 1, '오늘은 커리어우먼': 1, '안성맞춤 비즈니스  룩': 1, '완벽한 드레스 업': 1, '비즈니스 맨': 1, '봄맞이 포멀 룩': 1, '정직한 포멀 룩': 1, '입고 싶은 룩': 1, '출근하는 날': 1, '정통 포멀 룩': 1, '깔끔한 포멀 룩': 1, '세련된 카리스마': 1, '차도녀 느낌': 1, '그냥 완벽해!': 1, '단정한 차림': 1, '유니크 출근 룩': 1, '일과 패션을 다 잡자': 1, '오늘의 추천 룩': 1, '만인의 코디': 1, '클래식의 대명사': 1, '딱 떨어지는 실루엣': 1, '귀여운 포멀 룩': 1, '겨울의 끝자락': 1, '세미 오피스 룩': 1, '단정한 하루': 1, '포멀 룩 완성': 1, '전형적인 멋': 1, '출근 룩의 정답': 1, '시크 포멀 룩': 1, '출근 룩 고민 끝': 1, '시크함 듬뿍': 1, '다운 코트의 매력': 1, '포멀함에 반해': 1, '경이로운 멋': 1, '심플한 출근 룩': 1, '차분한 컬러 매치': 1, '포근하고 따뜻해': 1, '플리스 꿀조합': 1, '시크한 겨울 무드': 1, '포근해 보여': 1, '남다른 코트 핏': 1, '독보적인 센스': 1, '포근한 감성': 1, '눈 호강 비주얼': 1, '윈터 데일리 룩': 1, '완벽한 슈트 핏': 1, '부드러운 느낌': 1, '포근해서 좋아!': 1, '데님으로 마무리': 1, '플리스와 함께': 1, '완벽한 출근길': 1, '기품 있어': 1, '추위 걱정 없어': 1, '탄탄한 실루엣': 1, '매력에 빠져봐': 1, '쌀쌀한 날에': 1, '찬바람 불 때': 1, '지금 제격이야': 1, '가을 느낌 난다!': 1, '레이어링 제안': 1, '청명한 가을': 1, '출근길도 남달라': 1, '셋업은 필수': 1, '차분한 셋업': 1, '금의환향': 1, '도도한 멋': 1, '심쿵유발': 1, '가을의 시작': 1, '패피의 출근 룩': 1, '화사하고 밝게!': 1, '포멀 룩 잘 입기': 1, '인턴 졸업': 1, '출근 룩 어때?': 1, \"'심쿵 유발' 코디\": 1, '도시적인 매력': 1, '청순하게 완성': 1, '오늘 패션 맑음': 1, '멋을 입는 방법': 1, '포멀은 이렇게': 1, '넥타이가 포인트': 1, '지적인 멋': 1, '화사하게 입자': 1, '완벽한 포멀': 1, '화사함이 두 배': 1, '여름의 포멀 룩': 1, '박수갈채': 1, '린넨 스타일링': 1, '취저 데일리 룩': 1, '완소템 모음집': 1, '단정한데 귀여워!': 1, '여름 포멀 룩': 1, '여름에도 블랙': 1, '단아한 코디': 1, '눈부신 데일리 룩\\t포멀': 1, '여름과 찰떡 궁합': 1, '한 벌로 코디 끝!': 1, '센스 있는 느낌': 1, '멋짐 최고치': 1, '편하게 셋업': 1, '젠틀맨': 1, '상큼한 출근 룩': 1, '여름의 블레이저': 1, '가볍게 여름': 1, '데님 패션 즐기기': 1, '여름 여자의 멋!': 1, '독보적인 우아함': 1, '여름을 위한 셋업': 1, '이게 딱이지!': 1, '성공의 조합': 1, '여름에도 수트': 1, '센스 있는 오늘': 1, '간편한 출근 룩': 1, '옷잘알의 여름': 1, '지적미 가득': 1, '남자의 수트': 1, '청순함의 대명사': 1, '더위 걱정 없어!': 1, '멋진 당신': 1, '진짜 매력적!': 1, '남자의 여름': 1, '지적이게 완성': 1, '담백하고 깔끔해': 1, '심플함에 반해': 1, '숙녀의 품격': 1, '훈남의 데일리 룩': 1, '어디든 좋아': 1, '이거지!': 1, '귀여운 그': 1, '와이드의 멋': 1, '최애코디 각!': 1, '멋있어': 1, '가벼운 늦봄': 1, '일상이 런웨이': 1, '핵심은 깔맞춤!': 1, '컬러 슬랙스 도전': 1, '와이드한 매력!': 1, '절대 조합': 1, '고급스러운 그녀': 1, '심플하게 예쁘게': 1, '워커홀릭의 하루': 1, '완벽한 커리어': 1, '성공한 코디!': 1, '그냥 좋아!': 1, '포인트는 슬릿!': 1, '모두들 좋아해': 1, '데일리 룩 쉽지?': 1, '실패는 없다!': 1, '특별한 팬츠': 1, '유니크한 당신': 1, '신뢰도 100%': 1, '하객 룩 강추': 1, '스프링 컬러': 1, '카디건으로 완성!': 1, '가벼운 마음': 1, '지적미 첨가': 1, '스프링 포멀': 1, '산뜻한 라벤더': 1, '셋업으로 가자': 1, '지적인 블레이저': 1, '남자는 수트': 1, '이 조합 성공!': 1, '완벽한 컬러': 1, '봄날의 오피스': 1, '봄을 위한 룩': 1, '역시 데님': 1, '꽃샘추위 대비': 1, '봄이라 밝게!': 1, '블라우스 포인트': 1, '베이식한 봄': 1, '봄 코디 제격': 1, '스카프 활용법': 1, '멋짐 뿜뿜': 1, '데일리 카디건': 1, '눈길을 끄는 코디': 1, '뉴트럴 컬러 연출법': 1, '체크 하나로 완성!': 1, '산뜻하게 입기!': 1, '멋진 여자의 룩': 1, '멋짐이 뿜뿜!': 1, '유니크 포멀': 1, '너무 좋아!': 1, '니트가 최고': 1, '롱다리의 자신감': 1, '샤랄라 스커트': 1, '놈코어 제대로': 1, '모던 걸': 1, '스포츠 남신': 1, '남자는 슈트': 1, '데일리 오피스 룩': 1, '센스 넘치는 룩': 1, '깔끔하게 끝내기': 1, '황금 비율 원피스': 1, '상견례 프리 패스': 1, '블루로 포인트!': 1, '역시 트렌치코트!': 1, '오늘 제일 예뻐': 1, '산뜻하게 가자!': 1, '출근룩': 1, '매일 입기 딱!': 1, '차분하게 원피스': 1, '봄엔 스커트': 1, '전부다 찰떡': 1, '다 사고 싶어': 1, '가볍게': 1, '봄의 여신': 1, '단아한 포멀': 1, '역대급 반응': 1, '퀄리티 좋아': 1, '드라마 주인공': 1, '보기 좋아': 1, '손이 가는 룩': 1, '인생 원피스': 1, '첫눈에 반했어!': 1, '포멀&섹시': 1, '찬란한 블레이저': 1, '에센셜 아우터': 1, '센스 있는 포멀': 1, '코트로 멋 내기': 1, '봄을 기다려!': 1, '시크미 가득': 1, '성공한 여자': 1, '꽃피는 계절': 1, '고급스러워!': 1, '단아함의 표본': 1, '훈훈 포멀': 1, '인생 아우터': 1, '커피향 코트': 1, '여자의 로망': 1, '럭셔리 코트': 1, '완벽 그자체!': 1, '댄디향 솔솔': 1, '국민 아우터': 1, '퀄리티로 승부': 1, '남다른 포스!': 1, '뜨거운 반응': 1, '훈훈한 매력': 1, '자랑 좀 한다': 1, '레전설 코디': 1, '눈정화 제대로': 1, '날 좀 바라봐': 1, '여리여리 오버핏': 1, '놓칠 수 없는 핏': 1, '출근길 걱정 없어': 1, '내 남자의 수트': 1, '무드 있는 아우터': 1, '조각상의 부활': 1, '여자의 블루': 1, '드디어 완벽!': 1, '아우터 자랑': 1, '묵직한 존재감': 1, '코트는 옳아!': 1, '급한 약속에는': 1, '내추럴한 느낌': 1, '오늘의 신년회': 1, '단정한 셋업': 1, '남자의 겨울': 1, '안정된 오늘': 1, '컬러 맞추기': 1, '편하게 걸치기': 1, '겨울 레오퍼드': 1, '아우터 컬러 주목': 1, '외출하는 날': 1, '딱맞는 겨울': 1, '신년회를 위해': 1, '상반된 멋': 1, '지금은 외근중': 1, '코트 핏의 정석': 1, '완전 최고': 1, '대체불가 코디': 1, '체크는 영원해!': 1, '청순&시크': 1, '제대로 잘 입기': 1, '퍼 재킷의 따뜻함': 1, '셋업이 귀여워!': 1, '넘사벽 롱다리': 1, '진짜 멋쟁이!': 1, '얼죽코 소환': 1, '시크한 포멀 룩': 1, '도시여자의 코트': 1, '깜찍한 니트': 1, '시크함으로 무장': 1, '지적미 낭낭': 1, '찰떡인 조합!': 1, '오버 실루엣 코트': 1, '헤링본 셋업': 1, '롱하게 체크하기': 1, '탁월한 코트': 1, '고급스러운 날': 1, '하늘하늘 해': 1, '언제든지': 1, '포근한 컬러': 1, '양면으로 즐겨': 1, '멋스러운 체크': 1, '레이어드 어때?': 1, '부드러움에 빠져!': 1, '도도한 겨울': 1, '카리스마 뽐내기': 1, '엣지 있게': 1, '연말을 위하여': 1, '겨울의 플리스': 1, '코트로 끝': 1, '바쁜 아침': 1, '트렌치 러브': 1, '배색 포인트': 1, '성숙해졌어': 1, '변화 주기': 1, '데일리 출근 룩!': 1, '로맨틱한 겨울': 1, '중요한 자리': 1, '겨울 특권': 1, '탐나는 매력': 1, '연말 파티 룩!': 1, '귀여운 숏패딩!': 1, '매력 덩어리': 1, '100점 코디': 1, '아이 러브 체크': 1, '아찔한 레드': 1, '셋업 좋아해?': 1, '원피스&코트': 1, '벌룬 핏은 어때': 1, '있어줘요': 1, '오늘도 멋지게': 1, '브라운 코디': 1, '핑크 한 방울': 1, '올리브 향 가득': 1, '잘 선택한 컬러': 1, '지금 딱 좋아': 1, '이 코디 사랑해': 1, '어쩐지 즐거워': 1, '멋쁨가득': 1, '나에게 주목!': 1, '센 캐릭터': 1, '우아한 움직임': 1, '오늘도 상큼하게': 1, '겨울의 특권': 1, '포근한 출근길': 1, '미니멀 하지': 1, '찰떡이야!': 1, '근사한 코디': 1, '나만의 스타일': 1, '특별한 날 입어줘!': 1, '격이 다른 코트': 1, '이게 도시여자!': 1, '정말 반했어!': 1, '시크함 무장': 1, '희대의 코디!': 1, '명품 코디': 1, '헤이즐 라테': 1, '본적 없는 핏': 1, '포근한 착용감': 1, '심플 담백하게': 1, '잘 고른 재킷': 1, '믿고 입는 셋업': 1, '겨울의 매력': 1, '당장 구매 고고': 1, '멋있어서 감탄': 1, '시크하잖아?': 1, '분위기 물씬': 1, '무드가 살아있어': 1, '지금이 딱이야': 1, '감기 조심': 1, '가을 여자': 1, '입으면 훈남': 1, '역시 남바완': 1, '레더 사랑': 1, '데일리 체크': 1, '데일리 포인트': 1, '우아한 가을': 1, '컬러 조합 주목': 1, '셋업이 좋아요': 1, '우아한 모습': 1, '기억하고 싶은 룩': 1, '너로 정했어!': 1, '라벤더 향 가득': 1, '실패없는 코디': 1, '잊지 마 아름다움': 1, '분위기 챙겼어?': 1, '참 괜찮은 조합': 1, '분위기 최고': 1, '역시 블라우스': 1, '러블리 코트': 1, '차분한 그레이': 1, '진리의 트렌치': 1, '클래식의 매력': 1, '매일 함께해!': 1, '남다른 재킷': 1, '가을이니깐!': 1, '참한 분위기': 1, '시크한 가을': 1, '분위기 어때?': 1, '가을꽃': 1, '코스모스': 1, '컬러로 표현해': 1, '가을이 체질': 1, '롱부츠의 계절': 1, '능력있는 코디': 1, '인기있는 코디': 1, '포멀룩 근황': 1, '포멀 한스푼': 1, '울 재킷 코디': 1, '셜록처럼': 1, '잘생긴 분위기': 1, '슬랙스의 멋': 1, '루즈 핏의 여유': 1, '파스텔톤 좋아': 1, '센스있는 코디': 1, '블루의 매력': 1, '린넨 셋업으로': 1, '귀여운 포멀': 1, '리넨 스타일링': 1, '나른한 오후': 1, '심플&포인트': 1, '하객 룩 돈워리!': 1, '데일리로 찰떡 !': 1, '시원한데 예뻐': 1, '와이드 포멀': 1, '여름 하객 룩': 1, '매력 셔츠': 1, '회사 인기쟁이': 1, '여름 포멀룩': 1, '핸섬 그레이': 1, '덥지 않게': 1, '깔끔하게 가볍게': 1, '젠틀맨의 포멀룩': 1, '깔끔한 출근룩': 1, '여리여리': 1, '우아해': 1, '서머 룩 완성': 1, '지적인 분위기': 1, '오늘은 차분하게': 1, '세련미 넘치는': 1, '컬러가 예뻐': 1, '오늘은 단정하게': 1, '성숙한 여인': 1, '깔끔 시원하게': 1, '출장 가는 길': 1, '칼라 없는 재킷': 1, '시크한 출근룩': 1, '깔끔하게 한벌': 1, '세상 단아해': 1, '성숙미 최고!': 1, '요새 매일 입어': 1, '클래식하게!': 1, '나이스 데일리 룩': 1, '청초한 그녀': 1, '진리의 흰청!': 1, '손쉽게 쿨!': 1, '셔츠&슬랙스': 1, '컬러 조합 어때': 1, '멋스러운 셔츠룩': 1, '수트의 정석': 1, '단정한 젠틀맨': 1, '원피스가 다했네!': 1, '옐로 홀릭': 1, '딱 떨어지는 핏': 1, '깔끔한 인생': 1, '너무 스타일리시!': 1, '청순함 가득': 1, '뒤태가 말한다': 1, '비오는 날': 1, '시크하게 블랙': 1, '훈남 수트룩': 1, '수트 간지': 1, '스무스하게': 1, '셋업은 항상 옳아': 1, '톤앤톤 코디': 1, '대세는 미니멀': 1, '찬연한 그': 1, '봄의 남자': 1, '매력을 발산해': 1, '여유로운 멋': 1, '핸썸한 코디': 1, '차분한 그녀': 1, '안질리는 코디': 1, '이번엔 청순이야': 1, '꽤 괜찮아': 1, '들꽃 가득 원피스': 1, '베스트 하객룩': 1, '셔츠 하나로': 1, '클린 오피스룩': 1, '인기쟁이 사원룩': 1, '리넨 재킷 코디': 1, '세상 단아한': 1, '커피같은 하루': 1, '벚꽃 컬러를 담다': 1, '원피스 재킷': 1, '하늘빛 코디': 1, '오피스룩 베스트': 1, '시크하고 깔끔하게': 1, '지적미 풀풀': 1, '깔끔한 봄': 1, '블랙셔츠 카리스마': 1, '시크한 셔츠': 1, '청순바람 분다': 1, '프렌치시크!': 1, '벚꽃같은 카디건': 1, '트렌치로 멋내기': 1, '단아한 오피스룩': 1, '간절기 코트': 1, '톤온톤 센스': 1, '슬림한 오피스룩': 1, '청순미 장착': 1, '니트는 지지않아!': 1, '괜찮잖아?': 1, '아직도 트렌치': 1, '지적인 여인': 1, '시크한 조합!': 1, '체크 셋업룩': 1, '유니크하게 입기': 1, '반짝반짝 눈부셔': 1, '청순한 셋업': 1, '조합이 꿀이야': 1, '클래식 스타일': 1, '대세는 오렌지': 1, '차도녀 출근룩': 1, '데님 이즈 뭔들': 1, '디테일의 중요성': 1, '조합 최고!': 1, '단정해서 더 멋져': 1, '트렌치 코트의 계절': 1, '블레이저룩': 1, '스타일과 일 모두': 1, '낭만 오피스': 1, '개성 넘치는 코디': 1, '따라입고 싶은': 1, '오늘은 깔끔하게': 1, '시크한 걸음': 1, '원피스로 멋내자': 1, '튀는 블레이저': 1, '블레이저의 시선': 1, '성숙미 뿜뿜': 1, '오피스룩 성공적': 1, '스웨트 포인트': 1, '코팅 팬츠의 매력': 1, '가벼운 셋업': 1, '젠틀맨 감성': 1, '레이스의 무드': 1, '청초한 코디': 1, '세련미 풀장착': 1, '산뜻 단정하게': 1, '믹스 매치 스킬': 1, '거리의 시선강탈': 1, '트렌치 멋쟁이': 1, '로고 스웨트의 힘': 1, '무릎치는 스타일': 1, '청초한 재킷': 1, '하늘같은 아우터': 1, '오피스룩 정석': 1, '시크한 그여자': 1, '청순함이 넘쳐': 1, '성숙한 매력!': 1, '봄바람 따라서': 1, '봄나들이 가자': 1, '든든한 셋업': 1, '출근룩 당첨': 1, '시크 털털!': 1, '완벽한 오피스룩': 1, '단아하도다': 1, '도시 미녀': 1, '코코아 향기': 1, '핏이 다했네': 1, '어린 왕자?': 1, '카디건의 젠틀함': 1, '젠틀하게!': 1, '세련된 여자': 1, '분홍구름': 1, '봄날의 여인': 1, '따라입고 싶은 룩': 1, '곧 트렌치의 계절': 1, '우와하고 우아해': 1, '코트 사용법': 1, '팔짱 끼고 싶어': 1, '세련되게': 1, '감각적인 재킷': 1, '매력터진다!': 1, '시크한 겨울여자': 1, '발끝 엣지': 1, '봄의 컬러!': 1, '심플함이 최고야': 1, '분위기 있는': 1, '공유같아': 1, '설레인다': 1, '도쿄 스트릿!': 1, '반했어요!': 1, '진정한 훈남': 1, '교복으로 지정': 1, '흐믓해지는 룩': 1, '멋진 코트룩': 1, '어머 이건 내꺼!': 1, '멋진 여자의 표본': 1, '호피는 필수템': 1, '대세는 이 스타일': 1, '시크함 펄럭~': 1, '옳은 레이어드': 1, '성숙한 남자': 1, '무톤이 시크해': 1, '스타일 극호': 1, '멋진여자의 겨울': 1, '러블리의 극치': 1, '로맨틱하게!': 1, '매력 증폭장치': 1, '롱코트의 자신감': 1, '롱코트는 이맛': 1, '구매욕구 폭발': 1, '트렌드 리더': 1, '멋져부러!': 1, '두번봐도 멋져': 1, '퍼 아우터 코디': 1, '발끝까지 멋!': 1, '시크한 코트': 1, '분위기 여신 룩': 1, '시크한 블랙 퍼': 1, '차분한 여자': 1, '왠지 눈이 가': 1, '훈남 코트룩': 1, '내 남자 냄새': 1, '그남자의 스웨터': 1, '코트로 훈훈하게': 1, '코트 추천': 1, '이세상 코디다!': 1, '귀여운 테디베어': 1, '추위 다 덤벼!': 1, '돈 좀 있어보여': 1, '로브 코트 코디': 1, '단아한 코트룩': 1, '세련된 매치': 1, '심플의 미학': 1, '남자라면 호피': 1, '돌아보게 만든다': 1, '흑화한다!': 1, '젠틀맨 룩': 1, '개성있는 조합': 1, '레이어드 제왕': 1, '센스 일등급': 1, '너무 예뻐서 반칙': 1, '데이트 준비 끝': 1, '분위기가 난리나': 1, '깔끔한 코트룩': 1, '깨물어주고 싶어': 1, '젠틀함이 물씬': 1, '섹시미 터졌다!': 1, '만인의 누나': 1, '심장이 쿵했어!': 1, '탐나는 너드 룩!': 1, '최고의 프레피룩': 1, '블루블루 해~!': 1, '관능미 폭발!': 1, '색감 너무 좋잖아': 1, '프레피한 매력': 1, '분위기 끝장!': 1, '옷 잘입는 누나': 1, '패피의 선택': 1, '이걸로 겨울 끝!': 1, '나무랄데 없어': 1, '이 코디 최고': 1, '유니크한 세련미': 1, '참 잘입었다!': 1, '겨울을 기다렸어': 1, '시크함 끝판왕': 1, '체크 코트 훈남': 1, '롱코트는 진리': 1, '와인같은 코디': 1, '분위기 여신 여기!': 1, '롱 스커트와 함께': 1, '치명적인 스타일': 1, '감각 있는 겨울룩': 1, '분위기 강탈!': 1, '매력있는 코트룩': 1, '분위기있게': 1, '시크한 블랙!': 1, '리복 풀창작!': 1, '누구든 도전해': 1, '아우터가 다함': 1, '클래식한 재킷!': 1, '단정하고 우아한': 1, '트렌치 룩': 1, '유러피안 냄새': 1, '블레이저 백점': 1, '지성미 넘쳐나': 1, '누난 너무 예뻐': 1, '세련되게 입어봐': 1, '코트로 매력발산': 1, '제대로 매치하자': 1, '재킷 광채': 1, '시선 강탈 코트': 1, '패피의 레더코트': 1, '분위기 UP!': 1, '모자와 찰떡궁합': 1, '청순미 뿜뿜!': 1, '라이더의 마력': 1, '빛나는 패션감각': 1, '만찢남의 코트': 1, '성숙한 포멀룩': 1, '체크 코트 활용': 1, '세상 여성스럽게': 1, '우아하게 완성': 1, '오피스': 1, '시티 포멀 룩': 1, '어텀 룩': 1, '심플한 디자인의 헤링본 코트': 1, '화사한 블루 컬러 부클 코트': 1, '플레어 라인 데님 팬츠': 1, '2203': 1, '2199': 1, '2196': 1, '2145': 1, '2128': 1, '2113': 1, '1026': 1, '297': 1, '133': 1, '괜찮은 컬러 매치': 1, '가을 여친 룩': 1, '[정설 스타일리스트] 유니크 스타일': 1, '트렌디 조합': 1, '[윤애리 스타일리스트] 가을 웨스턴 룩': 1, '[정진아 스타일리스트] 스쿨 룩': 1, '[정진아 스타일리스트] 통통 튀는 매력': 1, '[정진아 스타일리스트] 가을 여친 룩': 1, '[정진아 스타일리스트] 빈티지 무드': 1, '추석맞이': 1, '그런지 스타일': 1, '포인트 데일리 룩': 1, '[정진아 스타일리스트] 조화로워': 1, '[정진아 스타일리스트] 가을의 문턱': 1, '[정설 스타일리스트] OOTD': 1, '[정설 스타일리스트] 가을 스쿨 룩': 1, '[정설 스타일리스트] 발랄한 이미지': 1, '[정설 스타일리스트] 톤온톤 스타일링': 1, '[정설 스타일리스트] 캠퍼스 여신': 1, '[정설 스타일리스트] 하이틴 무드': 1, '[정설 스타일리스트] 패턴 포인트': 1, '[정설 스타일리스트] 개강맞이 룩': 1, '가을 소녀': 1, '올드머니 스타일': 1, '블록코어 연출': 1, '쿨한 스쿨 룩': 1, '프레피 연출': 1, '뉴진스st': 1, '바비코어 룩': 1, '특별한 스타일링': 1, '폭염에도 스타일리시': 1, '[윤애리 스타일리스트] 레이어드 센스': 1, '[윤애리 스타일리스트] 컬러 포인트 룩': 1, '[윤애리 스타일리스트] 여행 코디': 1, '[윤애리 스타일리스트] 청량한 느낌': 1, '[윤애리 스타일리스트] 귀여운 매력': 1, '[윤애리 스타일리스트] 색다른 연출법': 1, '[윤애리 스타일리스트] 러블리 소녀': 1, '[정진아 스타일리스트] 완벽한 조합': 1, '[정진아 스타일리스트] 장마 시즌': 1, '[정진아 스타일리스트] 여친 룩 연출': 1, '[정진아 스타일리스트] 블루 러버': 1, '[윤애리 스타일리스트] 하이틴 무드': 1, '발레 코어': 1, '[정설 스타일리스트] 핑크 홀릭': 1, '[윤애리 스타일리스트] 데이트 룩 연출법': 1, '[윤애리 스타일리스트] 그래픽 포인트': 1, 'OOTD': 1, '레인부츠 활용법': 1, '대세 발레코어': 1, '[정진아 스타일리스트] 하이틴 비주얼': 1, '[정진아 스타일리스트] 코르사주 패션': 1, '[정진아 스타일리스트] 유니크한 아이템': 1, '[정진아 스타일리스트] 크로셰 패션': 1, '[정진아 스타일리스트] 카고 스커트 코디': 1, '[윤애리 스타일리스트] 원피스 스타일링': 1, '[정설 스타일리스트] 남다른 센스': 1, '[정설 스타일리스트] 서머 페스티벌': 1, '[정설 스타일리스트] 청량감 넘쳐': 1, '[정설 스타일리스트] 패셔니스타': 1, '[박서현 스타일리스트]모노톤 매치': 1, '[박서현 스타일리스트]장마 코디': 1, '귀여운 연출': 1, '매혹적인 자태': 1, '트렌드 패션': 1, '발레코어 패션': 1, '여름의 주인공': 1, '여행을 위한': 1, '하객 룩 어때?': 1, '화사한 데이트 룩': 1, '가볍고 화사하게': 1, '미니스커트 연출법': 1, '[박서현 스타일리스트] 미디스커트 활용법': 1, '[박서현 스타일리스트] 트렌드 제안': 1, '여친 룩으로 추천': 1, '데님 스커트 활용법': 1, 'Y2K 홀릭': 1, '걸리시 스타일': 1, '걸리시 그 자체': 1, '스프링 코디': 1, '하이틴 룩 연출': 1, '추천 여친 룩': 1, '편하고 예쁘게': 1, '프렌치 스타일': 1, '완벽 꿀 조합': 1, '연말 파티 주인공': 1, '화려한 매력': 1, '연말 준비': 1, '귀여움 주의보': 1, '겨울에도 예쁘게!': 1, '체크 러버': 1, '볼수록 귀여워!': 1, '생기 넘쳐!': 1, '연말 여친 룩': 1, '사랑스러움 끝판왕': 1, '키치한 스타일': 1, '스트릿 룩은 이렇게!': 1, '레그 워머 패션': 1, '레이어링 러버': 1, '여친 룩 그 자체': 1, '화사한 자태': 1, '남다른 믹스 매치': 1, '완벽한 여친 룩': 1, '요즘 스타일!': 1, '러블리 조합': 1, '레이어드는 이렇게': 1, '컬러 매치에 주목': 1, '체크 홀릭': 1, '포인트 액세서리': 1, '오늘의 여친 룩': 1, '여리여리하게': 1, '레이어드로 멋 내기': 1, '상큼주의보': 1, '트렌트세터': 1, '셔츠 연출법': 1, '빈티지 러블리 룩': 1, '베레의 계절': 1, '새내기 스타일': 1, '데님의 계절': 1, '러블리 레인 룩': 1, '귀여운 스타일링': 1, '심쿵하는 스타일': 1, '탐나는 원피스 룩': 1, '발랄함 가득': 1, '서머 걸리시 룩': 1, '원피스가 대새!': 1, '그린 러버!': 1, '가벼운 여친 룩': 1, '레이니 룩은 이렇게!': 1, '레인 부츠는 필수!': 1, '러블리한 디테일': 1, '사랑스러운 그녀': 1, '귀여운 하객 룩': 1, '하이틴 룩의 정석': 1, '밝은 매력': 1, '바다가 보여': 1, '여름 원피스 추천': 1, '실버 포인트': 1, '러블리 스윔웨어': 1, '서머 베케이션': 1, '상큼한 비 코디': 1, '빛나는 여행 룩': 1, '상큼 보스': 1, '매력에 풍덩!': 1, '돋보이는 액세서리': 1, '장마 대비!': 1, '바캉스 느낌 물씬!': 1, '상큼한 여친 룩': 1, '원피스 코디법': 1, '화사한 레이니 룩': 1, '깜찍 발랄해': 1, '러블리 OOTD': 1, '레트로 무드 한 스푼': 1, '러블리한 ootd': 1, '발랄한 셋업 룩': 1, '걸리시의 정석': 1, '러블리한 핑크': 1, '봄 원피스 코디': 1, '피크닉에 제격!': 1, '산뜻한 외출': 1, '상큼한 컬러 매치': 1, '러블리한 연출': 1, '감각 있는 코디': 1, '매력 듬뿍': 1, '스프링 룩': 1, '오늘의 아웃핏': 1, '봄 분위기 한 스푼': 1, '밸런타인데이 코디': 1, '귀여운 색감': 1, '섬세한 멋': 1, '사랑스러운 느낌': 1, '기분 좋은 발랄함': 1, '설레는 오늘': 1, '패딩 연출법': 1, '모노 톤의 향연': 1, '사랑스러운 가득!': 1, '퍼 재킷 홀릭': 1, '빈티지 러블리': 1, '겨울 걸리시 룩': 1, '귀여운 컬러 코디': 1, '눈처럼 화사한': 1, '연말 파티 주인공!': 1, '설레는 홀리데이': 1, '크리스마스 분위기': 1, '홀리데이 퀸': 1, '연말을 기다려': 1, '롱 패딩도 예쁘게!': 1, '상큼발랄해': 1, '색감 천재': 1, '퍼의 계절': 1, '볼수록 빠져들어': 1, '유니크한 감각': 1, '비 오는 날도 귀엽게': 1, '빛나는 조합': 1, '러블리 비주얼': 1, '지금 계절에 딱!': 1, '셋업 러버': 1, '하이틴 여주': 1, '핑크 한 스푼!': 1, '비가 와도 빛나': 1, '하이틴 홀릭': 1, '멋스러운 한복': 1, '심쿵 포인트!': 1, '사랑스러운 분위기': 1, '뉴트럴 코디': 1, '러블리 레이어드': 1, '환절기 걸리시 룩': 1, '후드 티셔츠 즐기기': 1, '하이틴의 정석': 1, '산뜻한 핑크': 1, '사랑받는 코디': 1, '가을 셋업 코디': 1, '키치 포인트': 1, '블랙에 빠져': 1, '경쾌한 원피스': 1, '페스티벌 룩 추천': 1, '생기 가득!': 1, '빛나는 매치': 1, '블루의 향연': 1, '핑크빛 코디': 1, '통통 튀는 매력!': 1, '러블리 하이틴 룩': 1, '동화 속 주인공': 1, '심플하고 예뻐': 1, '완벽한 분위기': 1, '여름엔 체크!': 1, '상큼발랄하게': 1, '러블리 더하기': 1, '비 와도 세젤예': 1, '레인코트를 입어봐': 1, '싱그러움을 입자': 1, '인생샷 보장!': 1, '상큼함 폭발!': 1, '원피스 러버': 1, '산뜻함 더하기': 1, '청량한 패턴 룩': 1, '풋풋한 하이틴 룩': 1, '설렘 가득': 1, '발랄함에 빠져': 1, '하이틴 재질': 1, '데이트 룩 고민 끝': 1, '청량감 넘치게!': 1, '서머 프레피 룩': 1, '하이틴 패션 추천': 1, '아가일 패턴의 매력': 1, '원피스의 계절!': 1, '일상 속의 한복': 1, '편하고 귀엽게!': 1, '체크가 대세야': 1, '원피스 룩 추천!': 1, '심쿵 걸리시 룩': 1, '따라 입어봐!': 1, '예쁨 주의': 1, '매일 귀엽게': 1, '하이틴 스타일': 1, '귀여운 청청 코디': 1, '찰떡궁합 코디': 1, '공주님 같아!': 1, '스타일 종결자': 1, '다가오는 봄에는': 1, '데이트 할까?': 1, '핑크 코디 팁!': 1, '인간 비타민 룩': 1, '사랑할 수밖에!': 1, '상큼함 200%': 1, '하이틴 패션': 1, '러블리 무드 가득': 1, '발랄하게 완성': 1, '귀여운 게 좋아': 1, '벨벳 원피스 코디': 1, '러블리의 정석': 1, '대세는 숏 패딩': 1, '발랄한 마무리': 1, '겨울 하면 패딩!': 1, '포인트를 더해!': 1, '눈처럼 포근해': 1, '감각적인 프레피 룩': 1, '상큼한 스쿨 룩': 1, '발랄한 스타일': 1, '눈처럼 화사하게': 1, '특별한 날에는!': 1, '귀여움에 반해': 1, '귀엽게 입어봐': 1, '키치하게 입어봐': 1, '연말의 주인공!': 1, '보송보송해': 1, '발랄한 겨울 룩': 1, '귀여움에 치였다!': 1, '러블리 윈터 룩': 1, '인기템 총 집합': 1, '대세는 체크!': 1, '귀여운 게 좋아!': 1, '바버의 계절': 1, '주말 룩 추천!': 1, '셋업 잘 입기': 1, '패턴을 더해줘': 1, '하이틴 감성 뿜뿜': 1, '한 벌로 끝내자': 1, '눈에 띄는 스타일': 1, '니트의 계절!': 1, '레이어드 필수!': 1, '셋업에 빠져!': 1, '취향 저격 스쿨 룩!': 1, '쿨하게 완성!': 1, '이렇게 입어 줘!': 1, '매일 입기 좋아!': 1, '컬러 포인트 더하기': 1, '상큼한 여행 룩': 1, '설렘 가득!': 1, '훈훈 여친 룩': 1, '탐나는 원피스!': 1, '마음에 쏙': 1, '데이트 가자!': 1, '여행의 향기': 1, '일상 속 여행': 1, '핫한 매력': 1, '최강의 조합': 1, '소녀 감성 뿜뿜': 1, '여름을 위한 블랙': 1, '반전 매력으로!': 1, '센스가 넘쳐': 1, '체크로 완성해': 1, '여름을 가득 담아': 1, '매력쟁이': 1, '여름의 특권!': 1, '누구든 탐내': 1, '여름의 무드': 1, '베스트가 대세!': 1, '하나로 끝내기!': 1, '입기만 해도 러블리': 1, '여친 룩의 교과서': 1, '핑크는 필수!': 1, '예뻐지는 마법!': 1, '베스트 꿀 조합': 1, '포인트는 필수': 1, '일상을 여행처럼': 1, '코디 걱정 끝!': 1, '상큼함 두 배!': 1, '누구보다 쿨하게': 1, '가볍고 트렌디해': 1, '설렘 가득한 룩': 1, '특별한 날에는': 1, '데이트 룩 제안': 1, '소녀 감성이 물씬!': 1, '만능 치트키': 1, '페이즐리의 매력': 1, '시원하게 물들어': 1, '원피스로 올킬!': 1, '이 조합 찬성': 1, '경쾌한 체크 룩': 1, '세련미 폭발!': 1, '넘치는 매력쟁이': 1, '하나만 입어': 1, '시원시원해': 1, '셋업 코디 맛집!': 1, '체크를 입는 법': 1, '귀여움이 톡톡!': 1, '분위기 여신 등극': 1, '소녀감성 물씬': 1, '매력이 넘치는': 1, '설레는 데이트!': 1, '인형처럼 예뻐': 1, '너무 사랑스러워': 1, '귀여운 게 최고!': 1, '기분까지 청량': 1, '말해 뭐해?': 1, '봄 기운 물씬': 1, '365일 원피스': 1, '뉴트로는 옳아!': 1, '벚꽃같은 원피스': 1, '내 매력을 보라!': 1, '봄이야!': 1, '나를 보라!': 1, '화사한 오늘의 룩': 1, '봄에 찰떡이야': 1, '시크한 핑크': 1, '환상적이야': 1, '남다른 카디건': 1, '비타민 충전!': 1, '싱그러운 봄 코디': 1, '언제나 옳다!': 1, '경쾌한 봄 코디': 1, '엔젤 룩': 1, '눈이 가는 스커트': 1, '걸리시 룩 정석': 1, '체크는 영원하다!': 1, '뉴트로 컨셉': 1, '귀여움 넘쳐': 1, '사랑스러운 핑크!': 1, '봄을 책임져': 1, '봄을 위한 셋업': 1, '귀여운 게 최고': 1, '발랄한 봄 코디': 1, '편안한 산책': 1, '요즘 딱!': 1, '완벽한 조합!': 1, '패턴에 꽂혔어!': 1, '개성 있는 그녀': 1, '봄의 느낌': 1, '데이트하자': 1, '가볍게!': 1, '상큼한 걸': 1, '첫 데이트에는!': 1, '이 코디 주목!': 1, '포켓 걸': 1, '데이트 하러가자!': 1, '가십걸': 1, '봄의 컬러': 1, '파워 청순': 1, '봄에 딱이야': 1, '나들이 가자!': 1, '기분도 좋아져!': 1, '호 100% 도전!': 1, '소녀시대': 1, '봄을 닮은 룩': 1, '봄을 기다려': 1, '스프링 프레피': 1, '귀염폭발!': 1, '발랄하게 입자!': 1, '자꾸 눈이가!': 1, '스타일 엿보기': 1, '급상승 코디': 1, '귀여움의 끝!': 1, '기다리는 새싹': 1, '귀여운 요정': 1, '파리지앵 복사': 1, '귀여우면 다야!': 1, '스타일 레시피': 1, '매력에 빠져봐!': 1, '솜사탕 컬러': 1, '데이트 할까': 1, '러블리한 느낌': 1, '또 입고싶어': 1, '체크 레이어드': 1, '베이지 좋아': 1, '포근포근해': 1, '연말의 한파': 1, '편안한 듯': 1, '오늘도 힘차게': 1, '볼매 스타일링': 1, '셋업으로 기분UP': 1, '역대급 깜찍': 1, '레더 레이어드!': 1, '특별한 느낌!': 1, '매력적인 겨울': 1, '이런 느낌 좋아!': 1, '약속 있는 날': 1, '깜찍하게 원피스': 1, '러블리한 겨울': 1, '맨날 포근해': 1, '감각적인 아우터': 1, '러블리의 정점': 1, '겨울엔 역시 레드': 1, '캐주얼 파티 룩': 1, '예쁘면 다야!': 1, '귀염뽀짝 스웨터': 1, '윈터 프레피': 1, '따뜻함이 달라': 1, '떨리는 데이트': 1, '재밌는 조합': 1, '패턴 중독': 1, '기분 전환 코디': 1, '구름같은 패딩': 1, '심플 데일리': 1, '신나는 휴가': 1, '유니크한 디자인의 퍼 재킷': 1, '2307': 1, '2306': 1, '2262': 1, '2261': 1, '2231': 1, '2211': 1, '2209': 1, '2185': 1, '2181': 1, '2164': 1, '2162': 1, '2124': 1, '2110': 1, '2086': 1, '2043': 1, '2027': 1, '2010': 1, '2009': 1, '2008': 1, '1991': 1, '1965': 1, '1960': 1, '1958': 1, '1940': 1, '시선 집중 필드 룩': 1, '힙한 라운딩 룩': 1, '힙한 라운딩 웨어': 1, '필드 룩의 정석': 1, '블록코어 골프 룩': 1, '트렌디 필드 룩': 1, '우아한 연출': 1, '심플하게 완성하기': 1, '봄 라운딩': 1, '데일리 골퍼': 1, '필드 룩': 1, '라운딩 스타일': 1, '시크한 필드 룩': 1, '캐주얼 골퍼': 1, '스프링 무드': 1, '스프링 골프 웨어': 1, '탐나는 골프 웨어': 1, '기분 좋은 라운딩': 1, '라운딩 가자': 1, '산뜻한 라운딩 룩': 1, '감각적인 라운딩 룩': 1, '워너비 라운딩 코디': 1, '남다른 필드 웨어': 1, '화이트 골프 웨어': 1, '완벽한 필드 룩': 1, '댄디한 라운딩 룩': 1, '간편한 라운딩 코디': 1, '시크한 골프 웨어': 1, '잘 입은 골프 룩': 1, '가벼운 골프 코디': 1, '스트릿 무드 골퍼': 1, '남다른 라운딩 룩': 1, '윈터 필드 룩': 1, '포근한 스타일': 1, '한파 준비 끝!': 1, '겨울에 제격': 1, '베이식한 연출': 1, '겨울 라운딩 패션': 1, '추천 골프 룩': 1, '캐주얼한 실루엣': 1, '캐주얼한 골퍼': 1, '패피의 필드 웨어': 1, '필드 룩 뽐내기': 1, '필드 위 샛별': 1, '겨울 라운딩': 1, '레이어드 골프 웨어': 1, '데일리 골프 룩': 1, '골프 웨어 연출': 1, '편한 라운딩 룩': 1, '역시 셋업!': 1, '차분한 컬러감': 1, '가을 라운딩 룩': 1, '캐주얼한 분위기': 1, '취향 저격 필드 룩': 1, '가을 필드 룩': 1, '시크한 골퍼': 1, '가을 스포츠': 1, '색다른 무드': 1, '캐주얼 골프 웨어': 1, '환절기 골프 웨어': 1, '필드 위 셀럽': 1, '나이스해!': 1, '골프웨어': 1, '뉴트럴톤으로 완성': 1, '골프 룩도 힙하게!': 1, '캐주얼 무드 가득!': 1, '레저 스포츠 룩': 1, '서머 라운딩 룩': 1, 'MZ 세대의 필드 룩': 1, '뉴 골프': 1, '나만의 연출법': 1, '이색 골프 웨어': 1, '여름 스포츠 룩': 1, '필드로 나가자!': 1, '굿 샷!': 1, '꾸안꾸 골프 룩': 1, '청량함이 돋보여': 1, '여름 라운딩 룩': 1, '골프 룩의 정석': 1, '홀인원 도전!': 1, '스웨트 라이프': 1, '골프계의 악동': 1, '하이브리드 패션': 1, '여름맞이 라운딩': 1, '패피의 스타일링': 1, '통통 튀는 골프 웨어': 1, '라운딩 웨어로 제격': 1, '싱그럽고 화사해': 1, '프로의 자세': 1, '라운딩 룩의 정석': 1, '귀여운 골퍼 룩': 1, '멋스럽게 골프 치기': 1, '싱그러운 필드 룩': 1, '모노 톤 골프 룩': 1, '취미 생활': 1, '골프 치러 가자': 1, '따라해봐, 골프 룩': 1, '요즘 필드 룩': 1, '골프 투어': 1, '미니멀 골프 룩': 1, '상큼함 한 스푼!': 1, '패피의 골프 웨어': 1, '파스텔 필드 웨어': 1, '캐주얼한 스타일링': 1, '시원하게 나이스샷': 1, '가볍게 골프 치기': 1, '데일리 필드 룩': 1, '환절기 필수 코디': 1, '시원한 라운딩 패션': 1, '봄 라운딩 코디': 1, '골프 룩도 예쁘게!': 1, '스프링 필드 룩': 1, '필드의 멋쟁이': 1, '베스트 골프 룩': 1, '힙해 보여!': 1, '데일리 라운딩': 1, '화사한 필드 코디': 1, '봄맞이 라운딩': 1, '리본 포인트': 1, '시크하게 완성!': 1, '멋스러운 골프 룩': 1, '모노 톤 라운딩 룩': 1, '활동적인 골프 룩': 1, '톰보이 스타일': 1, '댄디한 필드 룩': 1, '훈훈한 골프 룩': 1, '베이식 골프 웨어': 1, '레이어드 골프 룩': 1, '힙한 골프 룩': 1, '필드에서도 멋져!': 1, '골프 룩은 이렇게!': 1, '겨울 골프 코디': 1, '패턴 포인트 매치': 1, '요즘 대세 골프 웨어': 1, '골프 치기 편한 룩': 1, '스타일리시한 라운딩!': 1, '오늘의 라운딩 룩': 1, '멋진 필드 룩': 1, '필드의 패피': 1, '골프 룩도 멋지게!': 1, '따듯한 라운딩 룩': 1, '블루 라운딩 룩': 1, '힙한 라운딩 스타일': 1, '골프 칠 때도 멋져': 1, '따뜻한 라운딩': 1, '멋스러운 골퍼': 1, '단정한 라운딩 룩': 1, '골프 룩 추천': 1, '골프 열정': 1, '라운딩에 제격': 1, '따뜻하고 편해': 1, '라운딩 코디 추천!': 1, '라운딩 가자!': 1, '필드에서 빛나': 1, '댄디한 스타일': 1, '필드 위 훈남': 1, '겨울에도 골프!': 1, '나이스 샷': 1, '산뜻한 포인트': 1, '라운딩 갈 땐 이렇게!': 1, '대세 스포츠': 1, '주말 라운딩': 1, '세련된 골퍼': 1, '가볍지만 멋스러워': 1, '골프 룩의 표본': 1, '빛나는 라운딩 룩': 1, '클래식 골프 웨어': 1, '일상에서도 좋아': 1, '따뜻해!': 1, '골프 룩도 멋스럽게': 1, '편안해': 1, '올 블랙 필드 룩': 1, '스포츠 즐기는 법': 1, '라운딩 코디 추천': 1, '댄디 골프 웨어': 1, '프레피 골프 웨어': 1, '완벽한 핏!': 1, '봄맞이 필드 룩': 1, '부담 없이 즐겨!': 1, '필드 룩은 이렇게!': 1, '골프 룩 강추': 1, '야외 골프 만렙': 1, '핏이 생명!': 1, '젠틀한 골프 웨어': 1, '백전백승': 1, '필드의 왕자': 1, '힙스터 골프 룩': 1, '트렌디 스포츠 룩': 1, '필드 룩도 멋지게': 1, '골프 황제': 1, '럭셔리 라이프': 1, '시선 빼앗는 필드 룩': 1, '내일은 홀인원': 1, '오늘은 골프왕': 1, '나의 전성기': 1, '건전한 취미': 1, '필드의 프린스': 1, '[정진아 스타일리스트] 데님 레이어드': 1, 'Y2K 룩': 1, '레트로 시크': 1, '분위기 가득!': 1, 'Y2K 패션': 1, '쿨하고 핫해': 1, '복고 스타일': 1, '청청 연출법': 1, '빈티지한 연출': 1, '복고 느낌': 1, '신선한 컬러 매치': 1, '빈티지한 컬러 조합': 1, '빈티지 캐주얼 룩': 1, '블링 블링': 1, '서머 레트로 룩': 1, '대세 컬러 그린!': 1, '그때 그 시절': 1, '90년대 감성': 1, '서머 레이어드 룩': 1, '핫한 패션': 1, '패턴 활용법!': 1, '빈티지해서 좋아': 1, '에스닉 패턴 코디': 1, '귀엽고 쿨해': 1, '빈티지 무드 좋아': 1, '찐 레트로 룩!': 1, '레트로의 귀환': 1, '블랙&그레이': 1, '뉴트로 패션': 1, '겨울 감성 가득!': 1, '핫한 홀리데이 룩': 1, '패턴 니트 활용법': 1, '프린지의 향연': 1, '셋업이 좋아!': 1, '레트로 데님 룩': 1, '롱부츠 코디': 1, '[윤애리 스타일리스트] 클래식 스타일': 1, '[정진아 스타일리스트] 특별한 연출': 1, '[정진아 스타일리스트] 도회적 이미지': 1, '[정진아 스타일리스트] 단아한 분위기': 1, '[정진아 스타일리스트] 데님 포인트': 1, '트위드 연출법': 1, '로맨틱 룩': 1, '[정진아 스타일리스트] 차분한 조합': 1, '[정진아 스타일리스트] 화사한 컬러': 1, '[정진아 스타일리스트] 클래식 무드': 1, '[정진아 스타일리스트] 가을 하객 패션': 1, '[정진아 스타일리스트] 시선을 끄는': 1, '[정진아 스타일리스트] 스타일리시해': 1, '[정진아 스타일리스트] 트위드 원피스 코디': 1, '[정진아 스타일리스트] 로맨틱 하객 룩': 1, '[정진아 스타일리스트] 데이트 스타일링': 1, '[정진아 스타일리스트] 블랙 & 화이트': 1, '블레이저로 즐기기': 1, '트위드로 멋 내기': 1, '[윤애리 스타일리스트] 미니 원피스 코디': 1, '[정진아 스타일리스트] 비비드 포인트': 1, '[정진아 스타일리스트] 핑크를 더해줘': 1, '[정진아 스타일리스트] 주말 데이트': 1, '[정진아 스타일리스트] 클래식 스타일': 1, '[정진아 스타일리스트] 데일리 웨어': 1, '[정진아 스타일리스트] 차분한 무드': 1, '단아한 이미지': 1, '하객 룩 코디': 1, '여행 코디': 1, '슬립 원피스 활용법': 1, '쿨한 여행 룩': 1, '시원한 원피스 룩': 1, '서머 백 연출법': 1, '스윔웨어 즐기기': 1, '패셔너블한 휴가': 1, '유니크한 느낌': 1, '[정진아 스타일리스트] 청순한 시어 룩': 1, '[윤애리 스타일리스트] 매력적 실루엣': 1, '하객 룩 스타일링': 1, '패셔너블한 연출': 1, '태양 아래 코디': 1, '여름 무드': 1, '[박서현 스타일리스트]독보적인 존재감': 1, '[박서현 스타일리스트]취향 저격': 1, '[박서현 스타일리스트]여름 휴가': 1, '담백 데이트 룩': 1, '여행 즐기기': 1, '쿨한 매력 발산': 1, '히피 스타일': 1, '주말 데이트 가자': 1, '요즘 하객 룩': 1, '[박서현 스타일리스트] 카디건 스타일링': 1, '인기 만점 룩': 1, '하객 패션': 1, '파스텔톤 조합': 1, '봄 데이트 가자': 1, '고급진 하객 패션': 1, '차분한 뉴트럴 톤': 1, '봄 코디의 정석': 1, '로맨틱한 셋업': 1, '맥시 스커트 활용법': 1, '모노 데이트 룩': 1, '따뜻한 색 조합': 1, '뉴트럴 톤 연출': 1, '따뜻한 데이트 룩': 1, '지적인 매력': 1, '무채색 코디': 1, '차분한 데일리 룩': 1, '윈터 데이트 룩': 1, '퍼 재킷 코디': 1, '부드러운 뉴트럴 톤': 1, '스타일리시한 조합': 1, '겨울 여친 룩': 1, '무드 있는 연출': 1, '우아한 아웃 핏': 1, '단정한 매치': 1, '로맨틱 아이템': 1, '얼죽코 코디법': 1, '가을 내음': 1, '가을 하객 룩': 1, '빛나는 하객 룩': 1, '가을 그 자체!': 1, '로맨틱 끝판왕': 1, '클래식하게': 1, '가을 내음 물씬!': 1, '수수한 매력': 1, '우아한 디테일': 1, '고급스러운 셋업': 1, '단아한 자태': 1, '내추럴 무드': 1, '하나면 충분해': 1, '휴양지 룩으로 딱!': 1, '바캉스 분위기': 1, '완벽한 휴가 룩': 1, '해변 가는 날': 1, '편한 여행 룩': 1, '화사하게 외출해': 1, '고급스러운 무드': 1, '분위기 가득해': 1, '로맨틱 스프링': 1, '설레는 외출': 1, '돋보이는 청순미': 1, '봄 내음 가득': 1, '스프링 데이트': 1, '상큼해!': 1, '화사함 그 자체': 1, '미니멀 로맨틱': 1, '분위기 있어!': 1, '대세 컬러 조합!': 1, '봄 아우터 추천': 1, '트위드 셋업 룩': 1, '트렌치코트 코디': 1, '데님 셋업 룩': 1, '러블리 컬러 조합': 1, '겨울의 끝': 1, '분위기 더하기': 1, '화사해 보여': 1, '겨울 톤온톤': 1, '빛나는 셋업': 1, '롱 패딩 연출법': 1, '러블리 지수 UP!': 1, '트렌치코트 잘 입기': 1, '추석맞이 한복 코디': 1, '한국의 멋': 1, '레이어드 팁!': 1, '청순미 끝판왕': 1, '청순의 끝판왕': 1, '눈 부신 하루': 1, '서머 데이트': 1, '서머 하객 룩': 1, '휴양지 멋쟁이': 1, '밝은 분위기': 1, '청순한 분위기': 1, '청순의 끝': 1, '우아한 외출': 1, '서머 보헤미안': 1, '청순발랄!': 1, '화사함이 두 배!': 1, '하객 룩 완성!': 1, '매력 뿜뿜!': 1, '랩스커트의 매력': 1, '따뜻한 봄 컬러': 1, '한복 연출법': 1, '고혹적인 분위기': 1, '단아함 가득!': 1, '청순함 더하기': 1, '봄의 분위기': 1, '간단한 포인트': 1, '이토록 화사한': 1, '차분한 포인트': 1, '봄기운 가득!': 1, '매력을 뽐내': 1, '산뜻한 파스텔 톤': 1, '로맨틱한 핑크': 1, '미디스커트 코디': 1, '핑크 코트 연출법': 1, '강렬한 포인트!': 1, '비주얼에 반해': 1, '웜 톤 코디': 1, '겨울에도 우아하게': 1, '단정하게 시크하게': 1, '데이트 룩 어때?': 1, '눈꽃처럼 화사해': 1, '로맨틱 겨울': 1, '부츠 포인트!': 1, '은은한 컬러 조합': 1, '빛나는 연말 룩': 1, '컬러 코트 연출법': 1, '로맨틱 뿜뿜!': 1, '사랑스러움을 더해!': 1, '하트 포인트!': 1, '빈티지 로맨틱': 1, '잘 입은 니트': 1, '가을 냄새': 1, '내 마음에 쏙': 1, '너무 화사해': 1, '눈이 즐거워!': 1, '상큼 포텐 터져': 1, '청순함이 돋보여': 1, '여름을 가득 담은': 1, '반다나 활용법': 1, '러브 홀릭': 1, '화사함이 그대로': 1, '푹 빠져버렸어': 1, '향기 가득한 코디': 1, '서머 로맨틱 룩': 1, '설렘 가득해': 1, '특별하게 입자': 1, '이토록 사랑스러운': 1, '돋보이는 원피스': 1, '청순 발랄해': 1, '서머 오피스 룩': 1, '러블리+쿨': 1, '여름의 상징': 1, '패턴 팬츠 활용법': 1, '사랑스러움 완성': 1, '로맨틱 온도 상승!': 1, '개성을 뽐내봐!': 1, '싱그러운 주말 룩': 1, '서머 여신 필수템': 1, '여신 분위기 풍겨': 1, '특별한 날에!': 1, '서머 룩의 정석': 1, '소녀 감성 뿜뿜!': 1, '흐트러짐 없이!': 1, '더 로맨틱하게!': 1, '뉴트로 열풍!': 1, '러블리의 대명사': 1, '시선 집중 드레스': 1, '여신 강림!': 1, '상큼함 폭발': 1, '상큼함이 가득!': 1, '너 하나면 돼': 1, '데이트 가야지!': 1, '가벼워진 차림': 1, '꽃이 피었다!': 1, '싱그러움 넘쳐': 1, '꽃보다 너': 1, '눈부신 미모': 1, '청초미 물씬': 1, '무슨 말이 필요?': 1, '봄을 가득 담아': 1, '제법 편해': 1, '우아한 무드': 1, '아름다워': 1, '꽃밭': 1, '볼수록 설렌다': 1, '원 포인트 아이템': 1, '봄을 부르는 코디': 1, '벚꽃 컬러': 1, '나들이 갈까': 1, '너무 사랑스러워!': 1, '상큼한 데일리 룩': 1, '꽃보다 원피스': 1, '대세는 뉴트럴': 1, '매력지수 업!': 1, '고급스러움에 반해!': 1, '센스 만점룩': 1, '봄봄봄 봄이왔어요!': 1, '봄을 즐기는 자세': 1, '마음에 드는 원피스': 1, '봄을 알리는 룩': 1, '차분한 컬러 조합': 1, '볼수록 반해': 1, '반응 너무 좋아': 1, '예쁨 폭발!': 1, '하객룩 강자': 1, '오드리 햅번 룩': 1, '로맨틱한 봄': 1, '멋쁨 주의': 1, '러블리 결정체': 1, '예쁨 한도 초과': 1, '봄이 왔어요': 1, '꽃 보다 더': 1, '자연스러운 실루엣': 1, '하객룩 정석': 1, '봄 향기': 1, '여기 주목!': 1, '패션 고민 끝': 1, '심장 어택': 1, '국보급 원피스': 1, '청순가련': 1, '역대급 분위기': 1, '로맨틱 셔링': 1, '슬림한 실루엣': 1, '로맨틱 퍼': 1, '겨울 로맨스': 1, '무책임하게 예뻐': 1, '최애 바캉스 룩': 1, '핫한 랩스타일': 1, '퍼 칼라 롱 패딩': 1, '더블 버튼 여밈의 롱 코트': 1, '오버사이즈드 체스터필드 코트': 1, '울 소재의 더블 코트': 1, '심플한 라이더 재킷': 1, '셔츠 원피스': 1, '데님 벨트 원피스': 1, '오프숄더 블라우스': 1, '사이드 슬릿 원피스': 1, '배색 스트라이프 원피스': 1, '2311': 1, '2304': 1, '2293': 1, '2291': 1, '2282': 1, '2268': 1, '2267': 1, '2265': 1, '2223': 1, '2073': 1, '1971': 1, '후드 티셔츠 활용법': 1, '러닝 룩으로 제격': 1, '눕시의 귀환': 1, '올여름 픽!': 1, '해변의 훈남': 1, '강렬한 느낌': 1, '바다로 떠나요': 1, '서머 룩의 주인공': 1, '서핑 타러 가자': 1, '눈에 띄는 그래픽': 1, '[정진아 스타일리스트] 활동적인 날': 1, '러블리 바캉스': 1, '캘리포니아 걸': 1, '청량한 여름': 1, '바다로 떠나자!': 1, '스포츠 룩 추천': 1, '스포티한 연출': 1, '러닝하는 날': 1, '스포티한 하루': 1, '스포티한 아웃핏': 1, '서머 캠퍼 룩': 1, '해변 위 주인공': 1, '트로피컬 포인트': 1, '아웃도어 매치': 1, '러닝 하러 갈래?': 1, '어반 아웃도어': 1, '하이킹 룩': 1, '올 블랙 등산 룩': 1, '러닝 데일리 룩': 1, '러닝 룩의 매력': 1, '러닝 룩': 1, '시티 러닝 룩': 1, '언더아머 코디': 1, '시크한 스포티 무드': 1, '애슬레저 스타일': 1, '겨울 러닝 룩': 1, '러닝 가는 날': 1, '러닝 룩 추천': 1, '남다른 스포츠 웨어': 1, '스키의 계절': 1, '스키복도 힙하게!': 1, '올겨울 보더 룩': 1, '고프코어 룩 연출': 1, '건강미 넘쳐!': 1, '올 블랙 스포티 룩': 1, '스쿼시 하는 날': 1, '활동하기 좋아': 1, '테니스 여신': 1, '가을 캠핑 가자!': 1, '운동복도 멋스럽게': 1, '농구하러 갈래?': 1, '서퍼 스타일링': 1, '해변의 패피': 1, '즐거운 바캉스': 1, '완벽한 휴가': 1, '러닝 어때?': 1, '스포츠 룩의 표본': 1, '해변의 왕자': 1, '해변으로 가요!': 1, '탐나는 비치 웨어': 1, '테니스 룩 따라 해봐': 1, '개성 있는 셋업': 1, '러닝메이트': 1, '운동 갈 시간!': 1, '실용 만점 코디': 1, '가벼운 테니스 룩': 1, '레깅스 코디 추천': 1, '뜨고 있는 스포츠': 1, '운동복 고민 끝!': 1, '뉴트럴 애슬레저 룩': 1, '시크한 운동복': 1, '애슬레저 룩 홀릭': 1, '스포티 웨어': 1, '건강한 일상': 1, '선택 아닌 필수': 1, '운동복 추천': 1, '캠핑족은 주목!': 1, '활동성 있는 코디': 1, '트레킹 스타일': 1, '운동 갈 때 제격': 1, '러너를 위한 룩': 1, '일상이 스포츠!': 1, '스포티 그 자체': 1, '취향 저격 핑크 컬러': 1, '트렉 셋업이 대세': 1, '오렌지 보이!': 1, '겨울 스포츠 룩': 1, '스키장 패피': 1, '스노보드 여신': 1, '스노보드 룩': 1, '보드복 추천!': 1, '스키복 추천': 1, '스키 즐기기': 1, '스노보드 시즌': 1, '베스트 보더': 1, '진리의 애슬레저': 1, '힙하고 시크해!': 1, '스포티 스타일링': 1, '활기차게': 1, '러닝 메이트': 1, '서머 스포츠 룩': 1, '블랙 코디': 1, '러닝에 딱 좋아!': 1, '승리의 기운': 1, '국가대표': 1, '에너제틱해': 1, '스포티해': 1, '트레이닝 룩': 1, '활동성 굿': 1, '운동 가야지!': 1, '활동하기 좋은 날': 1, '가벼운 애슬레저 룩': 1, '완벽 스포츠 룩': 1, '스포티의 정석': 1, '적절한 조합': 1, '캠핑 룩 연출': 1, '따라 입게 돼': 1, '돋보여!': 1, '개성 폭발': 1, '활동이 많은 날!': 1, '개성 만점 스포츠': 1, '한파도 끄떡없어': 1, '겨울 캠핑족': 1, '아웃도어 코디': 1, '중독성 있어': 1, '멋있게 입어봐': 1, '최적의 아이템': 1, '생동감 넘쳐!': 1, '블랙과 블랙': 1, '윈터 애슬레저': 1, '퀼팅의 멋': 1, '동호회 모임': 1, '테니스 스포츠 룩': 1, '원 마일 룩 러버': 1, '운동복 패션': 1, '가장 편하게': 1, '스포츠 무드': 1, '스포츠 사랑': 1, '아노락 활용법': 1, '패셔너블한 일상': 1, \"'핫'한 힐링 패션\": 1, '등산 마니아': 1, '블랙 스포티': 1, '스타일 극복': 1, '보랏빛 매력': 1, '화이트 애슬레저': 1, '필승의 레드': 1, '톡톡 튀는 멋': 1, '한 골 더?': 1, '건강한 생활': 1, '매력에 끌려': 1, '운동에 제격': 1, '열정 충만해': 1, '긍정의 힘': 1, '남다른 컬러': 1, '기승전 운동': 1, '짜릿한 기분': 1, '새로운 느낌': 1, '운동 즐기는 법': 1, '꾸안꾸의 끝': 1, '원 마일 룩!': 1, '필라테스 가는 날!': 1, '어렵지 않아': 1, '달려볼까!': 1, '활력 촉진': 1, '스타일 분석': 1, '멋진거 인정?': 1, '쿨하게 입어!': 1, '힘이 느껴져!': 1, '에너지 충전': 1, '패턴에 주목해': 1, '활발한 재간둥이': 1, '이런게 남성미': 1, '상쾌하게 시작': 1, '스포티함 가득': 1, '가볍고 심플하게': 1, '선도부장': 1, '대세는 네온!': 1, '레이어드 자신감': 1, '깔끔한 멋 완성': 1, '내 멋에 산다': 1, '신나는 오늘!': 1, 'Cheer Up!': 1, '스포츠의 세계': 1, '언제나 예쁘게': 1, '귀염뽀짝 티셔츠': 1, '운동하는 훈남': 1, '서머 애슬레저': 1, '키치한 컬러': 1, '진짜를 원해?': 1, '에너제틱 여름': 1, '이 느낌 좋다': 1, '운동하고 싶어져': 1, '편안함에 주목': 1, '모두 입어줘!': 1, '편해야 진짜!': 1, '가벼운 오늘!': 1, '편한게 좋지?': 1, '새롭고 짜릿해': 1, '가볍게 입기!': 1, '산뜻한 스포츠 룩': 1, '제대로 여름!': 1, '보드 타자!': 1, '올 블랙': 1, '제일 편하지': 1, '보통의 멋': 1, '남자의 스포츠': 1, '응원하고 싶어': 1, '필라테스 가는 날': 1, '국보급 조합': 1, '다 아는 코디': 1, '원마일 룩': 1, '경계 없는 패션': 1, '매일 즐겨요': 1, '아노락은 필수': 1, '편하고 좋아!': 1, '시선 강탈 네온': 1, '편하게 멋있게': 1, '상큼함 가득': 1, '애슬레저 최고': 1, '디테일이 가득': 1, '베스트 스웨트!': 1, '내 마음에 쏙!': 1, '깔끔 이즈 베스트': 1, '스포츠 좋아해?': 1, '건강한 패션': 1, '겨울 아우터': 1, '진짜 매력': 1, '스포티 클래식': 1, '운동부 주장': 1, '리버서블 매력': 1, '운동장으로 집합!': 1, '힙한 그대!': 1, '편해 보이지?': 1, '마음이 자꾸 가': 1, '딱 내꺼!': 1, '입기 쉬운 코디': 1, '스포츠 꿈나무': 1, '빼놓기 힘든 멋': 1, '네온 포인트!': 1, '겨울 교복 등장': 1, '내 마음 원탑!': 1, '에너제틱 훈남': 1, '자유롭게!': 1, '운동가는 날': 1, '가을 재킷 추천': 1, '당연하게 좋아': 1, '로고 포인트!': 1, '힙하게 가자': 1, '스타일링 순삭!': 1, '이제 곧!': 1, '이제 때가 왔다': 1, '형광 파워!': 1, '필수템 조합': 1, '궁극의 애슬레저': 1, '오늘도 에너제틱!': 1, '활동하기 좋은': 1, '편안하게 멋있게': 1, '애슬레저 여왕': 1, '눈길을 끈다': 1, '에너제틱 파워!': 1, '스포티 가이': 1, '얼마나 편한지!': 1, '은근 깔맞춤!': 1, '힙한 티셔츠': 1, '러닝 셋업!': 1, '아웃도어 매니아': 1, '에너제틱 스타일!': 1, '셋업의 끝판왕': 1, '스포티한 코디': 1, '카리스마 작렬': 1, '진리의 리복': 1, '네온으로 포인트': 1, '달려 볼까?': 1, '심플한 차림': 1, '개성을 매다': 1, '당당한 뒤태': 1, '운동에 빠져': 1, '쇼츠를 입어봐': 1, '유쾌한 여름!': 1, '요새 빠진 스포티': 1, '아디다스의 힘': 1, '달려라 내남자!': 1, '앞서가는 룩': 1, '취미는 운동!': 1, '같이 운동해': 1, '요새 빠졌어': 1, '클라이밍 고수': 1, '삼선의 위력': 1, '스포티 섹시남': 1, '운동 필수 아이템': 1, '꾸안꾸 스포티룩': 1, '운동할때 이쁘게': 1, '깜찍해!': 1, '러닝 여신 등장': 1, '너도 나도 탐내!': 1, '힙하게 입어줘': 1, '대세는 에슬레저!': 1, '스타일리시한 그녀': 1, '매일의 레깅스': 1, '로맨틱&스포티': 1, '스타일리시하게!': 1, '산뜻하게 운동': 1, '매력적인 필라복': 1, '세련된 운동 코디': 1, '컬러 레깅스 러버': 1, '빅로고의 향연': 1, '힙기운 뿜뿜': 1, '쇼츠로 말하기': 1, '밤 산책 모드': 1, '뒤태 포스': 1, '편하게 살자': 1, '아웃도어룩': 1, '편안한 데일리룩': 1, '시선집중 쇼츠': 1, '큐티섹시': 1, '스웨트 간지': 1, 'NBA 스타일링': 1, '카파 잘 입는법': 1, '농구 한판?': 1, '마트갈때도 힙해': 1, '나쁘지 않잖아?': 1, '섹시함과 발랄함': 1, '스타일 3점슛': 1, '믹스 매치 제대로': 1, '봄 재킷 추천': 1, '제일 잘나가': 1, '신상 트랙재킷': 1, '대세 스포츠룩': 1, '발끝까지': 1, '편하지만 멋진': 1, '시크섹시': 1, '슬리퍼로 힙하게': 1, '터프한 오렌지': 1, '아드리안 호!': 1, '아디다스 셋업': 1, '아디다스 스웩': 1, '휠라 셋업': 1, '트랙 셋업!': 1, '만능 스포츠맨': 1, '편한게 제일': 1, '폴로갱': 1, '편해서 더 멋져': 1, '아노락 코디': 1, '왠지 좋아': 1, '은근 매력있어': 1, '트렌드를 모았어!': 1, '편한 남자의 매력': 1, '편한데 멋있잖아': 1, '킵 리얼!': 1, '편하게 가자': 1, '건강한 매력': 1, '애슬레저!': 1, '유러피안 감성': 1, '시구남신?': 1, '활동적인 그': 1, '진격의 폴로': 1, '봄은 내가 알려': 1, '그냥 눈길 가!': 1, '뭐 이리 멋져?': 1, '겨울 추천템': 1, '야구보러 가자': 1, '은근 눈길 가': 1, '내 멋이야': 1, '찰떡같이 어울려': 1, '개인적인 취향': 1, '야생의 카리스마': 1, '내마음을 체크': 1, '숏패딩이 강자!': 1, '나의 힙을 주목해': 1, '롱패딩이 날감싸!': 1, '숏패딩의 포스': 1, '겨울인데 편하게': 1, '간단한 애슬레저': 1, '호피로 거칠게!': 1, '롱패딩이 최고': 1, '귀여운 윈터룩': 1, '애슬래저룩 완성': 1, '분홍 패딩의 힘': 1, '스트릿 감성 UP': 1, '매력 발굴': 1, '모두 나를 보라!': 1, '패딩하나로 끝': 1, '어디서든 주목!': 1, '멀리서도 알아봐': 1, '이정도 입어줘!': 1, '멋있는 재킷룩': 1, '레트로 무드 UP': 1, '눈보라 덤벼!': 1, '스키장 슈퍼스타': 1, '산뜻하게 아노락': 1, '간지나는 윈터룩': 1, '색감 너무 좋아': 1, '아디다스 롱패딩': 1, '아디다스 대란!': 1, '젊으니까 유스': 1, '롱패딩으로 무장': 1, '컬러 패딩의 위력': 1, '체크 아우터의 멋': 1, '편한 멋이 최고': 1, '간지란 이런 것': 1, '아드리안 호?': 1, '믹스 매치 나이스': 1, '패션리더의 패딩': 1, '따뜻하고 편하게!': 1, '양면성을 보여봐!': 1, '벨벳이 최고야': 1, '빠빠빨간맛!': 1, '운동할때 멋나게': 1, '불타는 청춘!': 1, '장난아닌 스타일': 1, '셋업의 장점': 1, '걷기만해도 멋져': 1, '재킷이 멋있다!': 1, '멋진 삼선 셋업': 1, '평범하지 않아!': 1, '완전 내스타일': 1, '이렇게 입을래!': 1, '아디다스 집업!': 1, '체대생 넘버원': 1, '다운 재킷 간지': 1, '멋있는 코디': 1, '편한데 멋져♥': 1, '솔직히 힙하다': 1, '스포티 캐주얼 룩': 1, '2281': 1, '2279': 1, '2277': 1, '2276': 1, '2229': 1, '1990': 1, '1987': 1, '1966': 1, '1941': 1, '1918': 1, '1015': 1, '1014': 1, '1013': 1, '1012': 1, '1011': 1, '970': 1, '969': 1, '966': 1, '964': 1, '963': 1, '961': 1, '653': 1, '66': 1, '55': 1, '52': 1, '[이동연 스타일리스트] 스트릿한 매력': 1, '[이동연 스타일리스트] 믹스 앤 매치': 1, '[정설 스타일리스트] 포인트 찾기': 1, '[정설 스타일리스트] 블랙&화이트': 1, '[정설 스타일리스트] 시선 집중!': 1, '[윤애리 스타일리스트] 쿨하게 입어줘': 1, '힙하고 트렌디해!': 1, '유니크한 데님': 1, '스트릿 스타일링': 1, '[이동연 스타일리스트] 힙하게': 1, '블록 코어': 1, '키 컬러': 1, '[엄아름 스타일리스트] 레드 포인트': 1, '[엄아름 스타일리스트] 디테일 가득!': 1, '[엄아름 스타일리스트] 트렌디 아이템': 1, '[엄아름 스타일리스트] 힙한 매치': 1, 'UNIQUE': 1, '[윤애리 스타일리스트] 레이어링 센스': 1, '후드의 계절': 1, '그런지 무드': 1, '데님&빈티지': 1, 'HIP': 1, '유니크 블록코어': 1, '펑크 룩의 근본': 1, '점프 슈트 패션': 1, '남다른 연출법': 1, '멋스러운 올 블랙': 1, 'HOT!': 1, '오묘한 분위기': 1, '모노톤으로 완성!': 1, '크롭 연출법': 1, '페스티벌 퀸': 1, '여름의 멋': 1, '[정설 스타일리스트] 센스 있는 컬러 매치': 1, '[정설 스타일리스트] 괜찮은 조합': 1, '[정설 스타일리스트] 무심한 듯 멋스럽게': 1, '[정설 스타일리스트] 감각적인 연출': 1, '[정설 스타일리스트] 개성 있게': 1, '[정설 스타일리스트] 빈티지 무드': 1, '[이동연 스타일리스트] 컬러 포인트': 1, '[이동연 스타일리스트] 블록코어 룩': 1, '[이동연 스타일리스트] 스트릿 무드': 1, '[이동연 스타일리스트] 유니크한 디테일': 1, '[이동연 스타일리스트] 대세 스타일': 1, '물놀이 가자': 1, '튜브 탑 패션': 1, '서머 퀸 등극': 1, '[윤애리 스타일리스트] 시선을 끄는': 1, '[윤애리 스타일리스트] 쿨한 감각': 1, '[윤애리 스타일리스트] 레트로 바이브': 1, '경쾌한 스타일링': 1, '돋보이는 모습': 1, '[정설 스타일리스트] 스트릿 무드': 1, '[정설 스타일리스트] 컬러 포인트': 1, '[이동연 스타일리스트] 블록코어 스타일': 1, '[이동연 스타일리스트] 스트릿 캐주얼': 1, '[이동연 스타일리스트] 돋보이는 컬러 매치': 1, '[이동연 스타일리스트] 데님 포인트': 1, '[정설 스타일리스트] 페스티벌 가자': 1, '[정설 스타일리스트] 핫 서머 룩': 1, '[정설 스타일리스트] Y2K 패션': 1, '[윤애리 스타일리스트] 쿨한 바이브': 1, '[윤애리 스타일리스트] 블랙 & 실버': 1, '유니크한 비주얼': 1, '그래픽에 반해': 1, '서머 그래픽': 1, '[정진아 스타일리스트] 스포티 무드 한 스푼': 1, '[정진아 스타일리스트] 시크한 매력': 1, '[윤애리 스타일리스트] HIP한 분위기': 1, '[윤애리 스타일리스트] 믹스 앤 매치': 1, '[이동연 스타일리스트] 힙 무드': 1, '[이동연 스타일리스트] 돋보이는 아웃핏': 1, '[정설 스타일리스트] 페스티벌 퀸': 1, '[정설 스타일리스트] y2k 무드': 1, '[정설 스타일리스트] 자유로운 느낌': 1, '과감한 그래픽': 1, '스트릿 연출법': 1, '시선을 끄는 그래픽': 1, '에스닉 스타일': 1, '레트로 컨셉': 1, '[박서현 스타일리스트]멋스럽게': 1, '[박서현 스타일리스트]HIP!': 1, '[박서현 스타일리스트]대세 블록코어': 1, '비치 웨어 룩': 1, '유니크한 연출법': 1, '쿨한 모습': 1, 'Y2K 코디': 1, '트렌드 블록코어': 1, '패턴 아이템': 1, '티셔츠 포인트': 1, '캠핑 제격!': 1, '그래픽 강조': 1, '돋보이는 레이어드 룩': 1, '눈에 띄는 패션': 1, '블록코어 스타일링': 1, '컷아웃 디테일': 1, '서머 블록코어': 1, '걸 크러시': 1, '핫한 트렌드': 1, '러블리 핑크!': 1, '힙 그자체': 1, '개성 있는 매치': 1, '컬러매치': 1, '강렬한 블루': 1, '오버올 연출법': 1, '힙한 감각': 1, '그래픽의 멋': 1, '힙하게 멋내기': 1, '눈에 띄는 모습': 1, '데일리 연출': 1, '스커트 활용법': 1, '[박서현 스타일리스트] 패셔너블한 연출': 1, '[박서현 스타일리스트] 스타일 가이드': 1, '저지 티셔츠 연출법': 1, '유니크 캐주얼': 1, '특별함을 원해': 1, 'Y2K 스타일': 1, '스트릿이 대세': 1, '멋스러운 모노톤': 1, '대세 풋볼 맨투맨': 1, '유니크한 바이브': 1, '카디건 강조': 1, '유광 패딩 코디': 1, '셋업 코디는 이렇게!': 1, '포인트로 완성': 1, 'MZ 세대 룩': 1, '일품 아우터': 1, '매력적인 디테일': 1, '힙!': 1, '개성 있는 코디': 1, '독보적인 아이템': 1, '힙하게 꾸며': 1, '패피의 겨울': 1, '트렌디한 스트릿 룩': 1, '디네댓 스타일링': 1, '신선한 컬러 조합': 1, '힙스러워': 1, '겨울 패피': 1, '유니크한 감성': 1, '스트릿한 멋': 1, '시크한 디테일': 1, '퍼 재킷 활용법': 1, '유니크한 패션': 1, '개성 있게 완성': 1, '코디 추천!': 1, '루즈하게 입기': 1, '팬츠를 주목해!': 1, '러프한 매치': 1, '이목 집중!': 1, '거침없어!': 1, '생기 넘치는 하루': 1, '힙한 패션': 1, '빈티지 코디': 1, '강렬한 스타일링': 1, '포근한 모습': 1, '힙스터는 이렇게!': 1, '강렬한 분위기': 1, '날씨에 지지 않아': 1, '손 쉽게 멋 내기': 1, '모노 톤으로 멋 내기': 1, '캐주얼한 셋업': 1, '유니크한 아우터 코디': 1, '조거 팬츠 디테일': 1, '데일리 빈티지': 1, '컬러도 개성 있게': 1, '탐나는 패션 센스': 1, '러프한 무드': 1, '디테일 포인트': 1, '편하고 유니크해!': 1, '터프한 무드': 1, '매혹적인 패턴': 1, '루즈한 핏 감': 1, '힙 감성 물씬!': 1, '개성 듬뿍': 1, '레이어링 활용법': 1, '로라이즈 아이템': 1, '거친 매력': 1, '카무플라주 룩': 1, '강렬한 실루엣': 1, '튜브 탑 활용법': 1, '과감한 매치': 1, '크롭의 매력': 1, '팬츠로 멋 내기': 1, '흐르는 힙 감성': 1, '쿨하고 멋져': 1, '꾸미고 싶은 날!': 1, '멋 내는 방법': 1, '힙하게 마무리': 1, '그래픽에 눈이 가': 1, '쿨하게!': 1, '스트릿한 디테일': 1, '유니크하게 완성': 1, '힙하고 멋스러워': 1, '패턴 셋업': 1, '인기 스트릿 룩': 1, '독보적인 디자인': 1, '쿨하게 꾸미기': 1, '특별한 디테일': 1, '여름 멋쟁이': 1, '이목을 끄는 패션': 1, '빈티지 스트릿 룩': 1, '유니크함 더하기': 1, '멋스럽게 외출해': 1, '디테일로 가득!': 1, '자신감 넘쳐': 1, '핫하게 꾸며봐': 1, '체크 패턴 활용법': 1, '힙한 패턴 코디': 1, '강렬한 스타일': 1, '스프링 패턴 룩': 1, '유니크 매치': 1, '컬러 플레이': 1, '포인트 있어': 1, '힙스터의 데일리 룩': 1, '남들과 다르게': 1, '독보적인 스트릿 룩': 1, '모노 톤 매치': 1, '완벽한 톤온톤': 1, '강렬한 이미지': 1, '힙하게, 편안하게': 1, '힙한 매력 한 스푼': 1, '그래픽의 향연!': 1, '힙하게 꾸며봐': 1, '화려한 패션': 1, '스트릿의 매력': 1, '팬츠로 강조': 1, '퍼 코트로 완성': 1, '레오퍼드 패턴': 1, '멋져보여': 1, '분위기 있게!': 1, '강렬함 그 자체': 1, '다채로운 디테일': 1, '올겨울 힙한 남자': 1, '컬러감 있게 완성': 1, '힙한 레이어드 룩': 1, '레이어드의 표본': 1, '눈에 띄는 존재감': 1, '무난한 스트릿 룩': 1, '설날에도 힙하게': 1, '독보적인 명절 룩': 1, '카무플라주 스타일': 1, '눈길이 가': 1, '힙한 멋쟁이': 1, '레터링의 향연': 1, '힙한 꾸안꾸': 1, '컬러풀 코디': 1, '스타일리시한 프린팅': 1, '카무플라주 포인트': 1, '힙한 컬러 룩': 1, '개성있어!': 1, '편하게 멋 부리기': 1, '패피의 모습': 1, '셀럽의 스타일': 1, '대세 스트릿 룩': 1, '평범하지 않은 코디': 1, '강추위도 문제없어!': 1, '특별한 데일리 룩': 1, '맵시 나는 셋업': 1, '힙하고 멋스럽게!': 1, '패턴 매치': 1, '패턴이 주는 센스': 1, '힙한 스타일링': 1, '생동감 넘쳐': 1, '두 가지 매력': 1, '리버서블 홀릭': 1, '힙합 분위기': 1, '꾸러기스럽게': 1, '폭발적 반응': 1, '체커 보드 러버': 1, '힙한 매력의 셋업': 1, '힙하고 쿨해': 1, '힙한 하루': 1, '플렉스 코디': 1, '남다른 컬러 조합': 1, '돋보이는 유니크함': 1, '오늘은 스트릿 룩': 1, '힙 무드 가득!': 1, '시크하게 입어봐': 1, '데일리 힙스터': 1, '독보적인 그래픽': 1, '색다른 포인트!': 1, '강렬한 조합': 1, '패턴 플레이': 1, '플렉스': 1, '록 시크': 1, '핫한 뒷모습': 1, '개성이 느껴져': 1, '베스트 코디 등극': 1, '뉴&힙 스타일': 1, '길 위의 패피': 1, '자유로워': 1, '힙함 그 자체': 1, '개성 있게!': 1, '힙하게 꾸며봐!': 1, '유니크한 게 좋아': 1, '올 블랙 스트릿': 1, '인기 예감 패션': 1, '오늘은 레드 포인트': 1, '과감한 패션': 1, '록 시크 룩 추천!': 1, '독보적 패턴': 1, '내 방식대로': 1, '스트릿한 조합': 1, '강렬해!': 1, '짜릿해!': 1, '즐겨 입어': 1, '새로워': 1, '유니크 스타일': 1, '힙하고 키치해': 1, '화려한 프린팅': 1, '센스가 좋아': 1, '독보적': 1, '봄 스트릿 룩': 1, '한정판': 1, '찐스트릿': 1, '끝판왕': 1, '나만의 룩': 1, '힙한 룩의 장인': 1, '스트릿의 계절': 1, '힙한 셋업': 1, '힙합 보이': 1, '센스 한가득': 1, '강렬한 매력 발산': 1, '탐나는 아이템!': 1, '제일 멋있어': 1, '필수 조건': 1, '멋스러운 모노 톤': 1, '스웨그 넘쳐': 1, '마음속 1위': 1, '전사의 후예': 1, '힙하게 연출하기': 1, '스트릿 룩 정석': 1, '감성 충만': 1, '남다른 스트릿 룩': 1, '힙하고 멋있게': 1, '자유로운 영혼': 1, '기분 전환 컬러': 1, '네온의 매력': 1, '스트릿 보이': 1, '풍부한 컬러': 1, '부동의 1위': 1, '패션 챔피언': 1, '간단 명료!': 1, '한파 극복 아우터': 1, '요즘 대세 니트!': 1, '힙하고 쿨하게!': 1, '힙하게 즐겨!': 1, '쿨해서 좋아': 1, '빈틈없는 멋': 1, '톡톡 튀는 블루': 1, '마성의 코디': 1, '독보적 디테일': 1, '미래지향적': 1, '따뜻하게 무장': 1, '패션 선두 주자': 1, '일탈을 꿈꾸다': 1, '퍼 재킷은 필수!': 1, '믹스 매치 끝판왕': 1, '니트가 포인트': 1, '레더 스타일': 1, '멋짐 주의': 1, '위트 한 스푼': 1, '대세는 플리스!': 1, '레더로 시크하게!': 1, '블랙 스타일': 1, '무채색에 반해': 1, '비주얼 폭격': 1, '한파 대비책': 1, '힙하게 겨울 나기': 1, '한 방에 해결!': 1, '따라 입기 쉬워': 1, '원 포인트 스타일': 1, '악동 스타일': 1, '플리스의 계절!': 1, '아우라에 빠져': 1, '밸런스 있게': 1, '컬러로 포인트!': 1, '손 가는 대로': 1, '지금 트렌드!': 1, '바람 부는 날': 1, '센스만점': 1, '현대적 감각': 1, '테크 웨어 도전': 1, '호감도 상승!': 1, '빛나는 멋': 1, 'SWAG!': 1, '시크한 반응': 1, '기분이 좋아': 1, '꾸미기 나름': 1, '믿고 입어': 1, '나만 알고 싶어': 1, '인상적이야': 1, '스포티한 느낌': 1, '디테일 넘쳐!': 1, '스타일 성공': 1, '파란만장': 1, '자동 엄지척!': 1, '일편단심': 1, '멋쁨 폭발 코디': 1, '농염주의보': 1, '스타일 적중': 1, '메쉬의 매력': 1, '꾸안꾸 코디 팁!': 1, '기분전환 룩': 1, '린넨 포인트': 1, '라일락 향기': 1, '레이어드가 정답': 1, '유니크 그 자체!': 1, \"완벽하게 '힙'해\": 1, '포인트는 살리고!': 1, \"'청청'의 바른 예\": 1, '훈훈한 스트릿': 1, '작지만 큰 차이': 1, '당찬 하루': 1, '단 하나뿐인 룩': 1, '오버사이즈!': 1, '카리스마 대장': 1, '레이어드는 필수!': 1, '요즘 유행 룩': 1, '그냥 멋있잖아?': 1, '힙한 서머 룩': 1, \"'쿨'하게 입기\": 1, '찐 멋쟁이': 1, '나의 아티스트': 1, '여름 꾸러기': 1, '때로는 자유!': 1, '프리하게': 1, '올 블랙은 쿨해!': 1, '여름이 좋다': 1, '멋있는 남자': 1, \"편하고 '힙'하게\": 1, '패션 피플 등장': 1, '히피 룩 도전!': 1, '존재감 UP': 1, '거리의 신사': 1, '불꽃 카리스마': 1, '시선 집중 컬러!': 1, '보통보다 멋져': 1, '툭 걸친 멋짐': 1, '서머 룩 치트키': 1, '트렌디함 최강!': 1, '스타일 1인자': 1, '여름엔 블루!': 1, '느낌 있잖아!': 1, '자꾸 입고 싶어': 1, '느낌 좋아': 1, \"'힙'의 정석\": 1, '카리스마 장전': 1, '마음에 들길 바라': 1, '스페셜리티해': 1, '랜선 바캉스 룩': 1, '여름을 위해': 1, '스트릿 무드!': 1, '레트로 매력': 1, \"'힙'한 무드\": 1, '꾸러기 스타일링': 1, '디테일로 완성': 1, '포스 있는 스트릿': 1, '힙하고 러블리해': 1, '원 마일 룩의 정석': 1, '답답함 제로': 1, '궁극의 스트릿 룩': 1, '강렬한 한방': 1, '디테일의 묘미': 1, '셔링이 대세': 1, '요즘 이렇게 입어': 1, '느낌 충만해!': 1, '이런 게 힙!': 1, '귀염 폭발 코디': 1, '마치 셋업 같아!': 1, '바지가 포인트': 1, '패피의 서머 룩': 1, '쿨걸의 스타일': 1, '찐 스트릿 룩': 1, '보기만 해도 쿨!': 1, '볼캡으로 완성!': 1, '시선 집중 아이템': 1, '록 시크 물씬': 1, '트렌디한 그녀': 1, '멋쁨 주의보': 1, '요즘 핫한 룩!': 1, '뉴트로 힙합': 1, '쿨한 분위기': 1, '시선 집중 컬러': 1, '편하고 멋있어!': 1, '톡톡 튀어!': 1, '오버롤의 귀환!': 1, '차원이 다른 룩': 1, '패션 퀸 등극!': 1, '올 여름 핫템!': 1, \"이게 '힙'\": 1, '포인트 있게!': 1, '영원한 로망, 핑크': 1, '빠져드는 실루엣': 1, '가볍지만 멋있게': 1, '프린트의 향연!': 1, '찐이다 찐!': 1, '보드 남신': 1, '힙 장착': 1, '멋짐 포인트': 1, '믹스 매치 천재': 1, '이 언니 멋져': 1, '무채색 향연': 1, '놈코어의 정석': 1, '힙한데 귀엽다': 1, '프린트의 매력': 1, '힙하게 간다!': 1, '평범함을 거부해': 1, '완전 내 스타일': 1, '이목집중': 1, '매력 끝판왕': 1, '지금 당장 입자': 1, '힙하게 입어': 1, '핫한 반응!': 1, '매력에 빠져': 1, '데님의 멋': 1, '쏟아지는 찬사': 1, '개성으로 무장': 1, '지금 유행': 1, '가끔은 정열!': 1, '레드의 매력': 1, '대세 데일리 룩': 1, '시선강탈!': 1, '포스 있어': 1, '레이어드하는 법': 1, '하루종일 편해': 1, '스트릿!': 1, '힙한 언니': 1, '완벽한 룩': 1, '인상적이야!': 1, '끌리는 패턴': 1, '민트로 통한다': 1, '잘 고른 셔츠': 1, '봄에 찰떡코디': 1, '마성의 팬츠': 1, '스트릿 필링!': 1, '두개의 얼굴': 1, '유니크하게 가자': 1, '분위기로 승부': 1, '매력 만점 원피스': 1, '마음에 드는데?': 1, '역시 봄이다!': 1, '실용성 있게!': 1, '유니크한 선택': 1, '개성으로 무장!': 1, '체크는 필수템': 1, '발끝까지 완벽해': 1, '지나칠 수 없다': 1, '나만 알고 싶다': 1, '핫한 트레이닝복': 1, '통통 튄다': 1, '완벽한 아우터': 1, '내가 힙이다!': 1, '훈훈한 남자': 1, '블루종의 멋': 1, '힙 무드 추가': 1, '레더는 지금': 1, '주목받는 룩': 1, '평범하지 않아': 1, '봄이 다가온다': 1, '편안한 스트릿': 1, '포인트 장착!': 1, '레더 재킷을 입자': 1, '보라색을 보라!': 1, '볼캡 매니아': 1, '이게 힙한거지!': 1, '패턴술사': 1, '봄에는 라벤더': 1, '봄을 입은 후디': 1, '마성의 실루엣': 1, '봄의 생기': 1, '니트로 포인트': 1, '가장 보통의 룩': 1, '개성있는 룩': 1, '멋진 조합': 1, '유니크의 대가': 1, '폼나게 입기': 1, '요즘 대세템': 1, '레더 재킷의 멋': 1, '블랙&네온': 1, '이제 곧 봄!': 1, '인생 샷': 1, '특별한 스타일': 1, '포인트로 좋아': 1, '화제의 아이템': 1, '레이어드 신': 1, '뉴트로!': 1, '멋진데?': 1, '상큼 톡톡': 1, '이상형의 코디': 1, '개강 남신': 1, '신발에 주목!': 1, '굉장한 포스': 1, '내가 찾던 룩': 1, '니트 탐나!': 1, '이 조합 굿!': 1, '시선을 뺏는다!': 1, '이제는 가볍게': 1, '세트처럼': 1, '시크 털털': 1, '특별한 분위기': 1, '개취저격!': 1, '인기 만점 플리스': 1, '찾던 스타일': 1, '니트가 포인트!': 1, '요즘 많이 보여': 1, '매력 좀 넘쳐': 1, '힙한데?': 1, '제대로 즐겨': 1, '기분이 좋아!': 1, '감탄사 나와': 1, '롱패딩은 필수!': 1, '윈터 스트릿': 1, '시선집중': 1, '든든한 조합': 1, '두 가지 느낌': 1, '눈 오는 날 입기': 1, '넉넉하게': 1, '세상 힙해!': 1, '리버서블로 가자': 1, '코디 재질 최고': 1, '내가 찾던 조거': 1, '카무의 매력': 1, '스타일 살리고': 1, '멋 내기 성공': 1, '데님 셋업 코디': 1, '아우터 정복': 1, '강력한 포스': 1, '와 제대로다': 1, '너무 좋은걸': 1, '빠져드는 컬러': 1, '겨울 타이다이': 1, '존재감 있어': 1, '블랙 중독': 1, '포스 무엇?': 1, '귀여운 스웨터': 1, '멋있게 즐기기': 1, '멋 좀 부렸어': 1, '아우터 페스티벌': 1, '즐겨 입는 코디': 1, '촉감에 반해': 1, '등산도 가능해': 1, '시티팝 감성': 1, '패딩 홀릭': 1, '나도 입어봐야지': 1, '두렵지 않아': 1, '미니멀 스트릿': 1, '군인은 아냐': 1, '군밤의 계절': 1, '오늘 좀 꾸몄어': 1, '포인트 주기 딱': 1, '정답은 없어!': 1, '완전 좋아!': 1, '깔끔한 스트릿!': 1, '아이돌 나타남': 1, '스트릿하게 어때?': 1, '코디 족보': 1, '개구쟁이처럼': 1, '요즘 대세잖아!': 1, '호감가는 패딩': 1, '매력 후디': 1, '어디서 샀어?': 1, '활용하기 나름': 1, '감각적인 조화': 1, '볼드한 매력': 1, '실루엣 멋쟁이': 1, '탐나는 캐주얼': 1, '이코디 사랑해': 1, '지금 입자!': 1, '롱스커트 좋아': 1, '카무 캐주얼': 1, '그레이 컬러로': 1, '가을 스트릿': 1, '진짜 멋있어!': 1, '제대로다': 1, '환호성 외쳐!': 1, '힙하니까': 1, '뭘 좀 아는데?': 1, '놀이동산 가자': 1, '제대로야!': 1, '힙스터 기운': 1, '이 코디 찜콩': 1, '이게 바로 힙!': 1, '코디 남바원!': 1, '개성있다!': 1, '가을의 스트릿': 1, '니트&레더': 1, '포인트가 필요해': 1, '카모는 역시!': 1, '편하게 다니자': 1, '유니크 감성': 1, '그냥 좋다': 1, '안색을 밝혀줘': 1, '옷잘남의 코디': 1, '카리스마 레더!': 1, '우리의 가을': 1, '현대식 레트로': 1, '매력의 유스': 1, '레더 재킷 코디': 1, '그레이의 향연': 1, '아메카지 성공적': 1, '스트릿 제대로': 1, '팬츠에 주목': 1, '올블랙 가득': 1, '파이톤 포인트': 1, '주황으로 포인트': 1, '스트릿 힙스터': 1, '말할 필요 없어': 1, '포인트가 딱!': 1, '타이다이를 입자': 1, '그냥 좋잖아!': 1, '귀여운 코랄': 1, '굿조합 띵조합': 1, '마지막 여름': 1, '느낌있다': 1, '파워 퍼플걸!': 1, '스타일리시 해!': 1, '편하게 입어요': 1, '힙합 소울': 1, '깔끔 스트릿': 1, '네온 드림': 1, '자유분방하게!': 1, '독특한 매력': 1, '정확히 최고!': 1, '의미심장!': 1, '해맑은 여름': 1, '여름을 놓치지마': 1, '레트로 트렌디': 1, '지금이 제격!': 1, '빠져버렸어': 1, '핫한 오늘': 1, '볼캡 포인트!': 1, '팬츠로 포인트!': 1, '카키의 매력': 1, '역시 스트릿': 1, '빈티지 스트릿': 1, '컬러풀하게!': 1, '바지에 주목!': 1, '독특한 스커트': 1, '레트로 정석': 1, '편안하게 유스': 1, '귀여운 젊음!': 1, '라임 쇼츠의 멋': 1, '오버사이즈 월드': 1, '카모 포인트': 1, '구매 완료!': 1, '카리스마 무드': 1, '레트로하게': 1, '실패 없이': 1, '귀여운데 멋져': 1, '반전의 원피스': 1, '강력추천 코디': 1, '언발란스의 매력': 1, '힙하게 유스!': 1, '요즘 교복': 1, '힙템 다 모여!': 1, '쉬운 캐주얼': 1, '제일 좋더라': 1, '네온으로 완성': 1, '개성있게 입기': 1, '원피스 카리스마': 1, '뒤태도 챙겨': 1, '보드 황제': 1, '스타일 최고': 1, '레트로 대세': 1, '조합 좋아': 1, '스트릿 여제': 1, '레트로 스쿨걸': 1, '크롭 홀릭': 1, '편한데 시크하게': 1, '타이다이를 즐겨': 1, '쇼츠에 주목!': 1, '레트로걸': 1, '라인을 드러내': 1, '눈에 확 띄게': 1, '시원한 스트릿': 1, '대세는 셔링!': 1, '여름 코디 완성!': 1, '당장 입을래': 1, '귀여움 실화?': 1, '이조합 좋아!': 1, '완벽 꿀템': 1, '여름엔 셔츠!': 1, '오버핏의 끝판왕!': 1, '매력이 뿜뿜': 1, '즐기러 가자': 1, '꽃보다 남자': 1, '제일 좋아해': 1, '남자의 분홍': 1, '멋있는 여자': 1, '숨막히는 뒤태!': 1, '유니크함 넘쳐': 1, '상큼 오렌지 걸!': 1, '스타일 대장!': 1, '요즘 최애': 1, '로고 파워': 1, '보드 타는 남자': 1, '기분 좋은 컬러': 1, '원피스가 좋아!': 1, '대세는 타이다이': 1, '청키하게': 1, '크롭의 시즌': 1, '오버롤로 멋내기': 1, '오버핏 매력': 1, '티셔츠 예뻐!': 1, '셔츠가 다했다!': 1, '아디다스 러버': 1, '고민될 때는': 1, '걸크러쉬!': 1, '내 발에 주목!': 1, '아래핏 위색감': 1, '러프한 핏': 1, '이지하게 멋내기': 1, '여름을 기다렸다': 1, '시크함 뚝뚝': 1, '여름 필수템 집합': 1, '백의 민족': 1, '데일리룩 제격': 1, '발랄한 스트릿룩': 1, '그레이 스타일링': 1, '러닝 크루 모여': 1, '반다나 셔츠 코디': 1, '에너제틱하게!': 1, '데일리로 저격!': 1, '최애 쇼츠 코디': 1, '스몰 로고가 대세': 1, '스트릿의 멋': 1, '미친 존재감': 1, '타이다이로 물들여': 1, '반전 뒤태!': 1, '네온으로 빛나기': 1, '발랄한 티셔츠!': 1, '카무 시선 끌기': 1, '로고가 좋다': 1, '멋나게 오버핏': 1, '편안한 스트릿 룩': 1, '페스티벌 여신': 1, '버킷 리스트': 1, '스타일 챙기기': 1, '장난꾸러기 되기': 1, '여름 교복 완성!': 1, '왠지 끌려': 1, '탐나는 티셔츠': 1, '귀엽게 스트릿': 1, '매력 장착': 1, '타이다이를 입자!': 1, '강렬한 그래픽': 1, '화려한 포인트': 1, '역시는 역시!': 1, '로고 티셔츠 선택': 1, '귀찮은 날에는': 1, '이 조합 완벽해': 1, '레트로의 열풍': 1, '여행갈 때 딱!': 1, '발랄하게 셋업!': 1, '귀여운 건 다해!': 1, '크롭&데님 룩': 1, '트렌디하게 입자': 1, '간편 스트릿룩': 1, '오버핏의 멋': 1, '여행 가기 좋아': 1, '뒤태도 귀여워': 1, '블루블루 팡!': 1, '시선 사로잡기!': 1, '자주 입을거야': 1, '뒤태까지 완벽': 1, '로고 파워 얍!': 1, '청순 섹시': 1, '오늘은 과감하게!': 1, '컬러가 다 했네': 1, '레드는 역시': 1, '귀엽게 스트릿룩': 1, '스트릿 코디': 1, '셔츠 하나로 끝!': 1, '이게 바로 스트릿': 1, '힙한 후디': 1, '존재감 뿜뿜': 1, '궁극의 재킷': 1, '매일의 캐주얼': 1, '한강에서 놀기': 1, '도서관 여신': 1, '다 사고 싶어!': 1, '은근 많이 입어': 1, '멋있는 걸?': 1, '분홍 분홍해': 1, '개구장이 그': 1, '왠지 발랄': 1, '코피 팡팡!': 1, '힙함이 몰려와': 1, '너는 내 취향!': 1, '빠져들어': 1, '필수템 원피스': 1, '셋업으로 섹시': 1, '깜찍함 한다발': 1, '귀여운 거 다해': 1, '카리스마를 보여줘': 1, '관능적인 레더': 1, '터프&섹시': 1, '타이다이가 대세': 1, '개성 넘치는 스타일': 1, '탐나는 MA-1': 1, '상큼시크': 1, '카모 하나면 끝!': 1, '진리의 테크웨어': 1, '잘 입은 스타일': 1, '스웨그 스커트': 1, '셋업으로 뾰로롱': 1, '어머 사야해!': 1, '시크한 크롭룩': 1, '스트릿 카리스마': 1, '너드한 매력': 1, '봄을 형상화': 1, '반바지 지금부터': 1, '어깨라인 자랑': 1, '스커트 코디': 1, '이렇게 편해도 돼?': 1, '힙언니': 1, '빈티지로 이겨': 1, '스트라이프 샤워!': 1, '청청이 대세다': 1, '힙한 스커트': 1, '여전히 레트로': 1, '강력한 조합': 1, '후리하게 스트릿': 1, '활발한 스커트': 1, '터프하게 살자': 1, '걸크러시 셋업!': 1, '인간 비타민': 1, '스트릿룩의 격': 1, '시크한 스프링룩': 1, '톤온톤 코디하기': 1, '카모는 진리': 1, '레트로 힙합': 1, '팬츠 하나도 힙하게': 1, '청청한 매력남': 1, '클린하게 가자': 1, '스포티 걸': 1, '체크셔츠 룩': 1, '타미진 코디': 1, '라이더 재킷룩': 1, '카모엔 오렌지': 1, '레깅스로 포인트!': 1, '누구든 탐내는!': 1, '대새를 따르라!': 1, '지금이 때야!': 1, '셋업으로 짜잔': 1, '솜사탕 컬러!': 1, '진리의 원피스': 1, '편하고 매력있게': 1, '타미 걸': 1, '대세는 옐로': 1, '카키+레드': 1, '시크한 아이템만': 1, '옷 잘입는 남자': 1, '실용성 갑': 1, '스트릿의 진수': 1, '힙하고 핫하게': 1, '라이더의 매력': 1, '카리스마 레더': 1, '귀여워 죽을뻔': 1, '정말 잘생겼어': 1, '마음에 쏙들어': 1, '청순섹시 최고': 1, '찬란하고 밝게': 1, '복고가 대세': 1, '활동적인 그녀': 1, '믹스 매치의 견본': 1, '섹시한 재킷': 1, '봄이 오는 소리': 1, '스트릿 정석': 1, '귀여움 포텐': 1, '반반 파워!': 1, '개성 있게 입자': 1, '아노락과 찰떡': 1, '제일 좋아': 1, '개성이 넘쳐': 1, '레트로는 현재!': 1, '올해 대세!': 1, '발랄하게 놀자': 1, '라이더 포스': 1, '레트로 스트릿': 1, '힙스터 바이브': 1, '스프링 스트릿룩': 1, '신상 아우터': 1, '셔츠 레이어드': 1, '무심하게 멋내기': 1, '마음에 쏙 들어': 1, '발랄한 개구쟁이': 1, '블랙 섹시': 1, '완전 멋있어': 1, '심장이 쿵했다!': 1, '봄맞이 데일리룩': 1, '반반 패션': 1, '눈부시게 멋지게': 1, '시선 강탈자': 1, '카리스마를 입다': 1, '레더의 포스': 1, '마음에 저장': 1, '힙이 철철': 1, '대놓고 내스타일': 1, '매력 한도초과': 1, '민트의 향연': 1, '봄을 위한 컬러': 1, '로고 후디 코디': 1, '힙한 그 동생': 1, '통통튀는 스타일': 1, '체리처럼 달콤해': 1, '힙한 남자는 핑크': 1, '옷 좀 입는다면': 1, '블랙 시크!': 1, '레더로 카리스마': 1, '올봄 코디 끝!': 1, '리버시블 입어봐': 1, '센스있는 데일리룩': 1, '고급진 스트릿룩': 1, '개성이 가득해': 1, '스트릿 지수 업!': 1, '후디의 존재감': 1, '레오퍼드 활용법': 1, '강렬한 남자': 1, '귀여운 코치 재킷': 1, '보더룩 좋아!': 1, '무심 시크': 1, '대세는 퍼플': 1, '레드로 강렬하게': 1, '컬러조합 최고야': 1, '스트릿룩의 정점': 1, '마성의 MA-1': 1, '핫한 아이템만': 1, '네온 컬러 찰떡': 1, '올블랙 카리스마': 1, '활발한 절친': 1, '결점 없는 코디': 1, '멋남의 스타일': 1, '시크한 아이템': 1, '독특한 조합': 1, '이 조합 어때': 1, '스트릿룩의 탑': 1, '대세 레오퍼드': 1, '광택이 살아있네': 1, '너 참 멋있다': 1, '힙스터 병아리': 1, '취향합니다!': 1, '이대로 구매완료': 1, '스트릿은 진리': 1, '빈티지가 대세': 1, '꾸민듯 안 꾸민듯': 1, '날 따라해봐!': 1, '힙의 최고봉': 1, '보드남의 매력': 1, '광나는 스타일': 1, '자유분방 룩': 1, '숏패딩 필요해?': 1, '간지 폭발': 1, '스트릿엔 리복': 1, '상큼한 레몬처럼': 1, '섹시하고 우아해': 1, '믹스 매치의 매력': 1, '귀엽고 멋지고': 1, '통큰 남자의 팬츠': 1, '올킬 코디': 1, '세상 시크하게': 1, '윈터룩의 정점': 1, '힙스터 아이템': 1, '힙한 스트릿룩': 1, '없으면 서운한': 1, '매력 쩌는 날': 1, '스트릿 아이템': 1, '시크하게 입자': 1, '라임 컬러 뽝': 1, '터프한 매력': 1, '리버시블의 힘': 1, '뺏고싶은 스타일': 1, '광나는 패딩': 1, '안구호강 코디': 1, '찾았다! 내남자': 1, '섹시한 당신': 1, '대형견 같아': 1, '문제 없어!': 1, '힙한 숏패딩': 1, '주인공 패션': 1, '체크 패딩 코디': 1, '복고풍이 답': 1, '핑크가 대세': 1, '멋쁨 여신': 1, '설표같은 여자': 1, '섹시포텐': 1, '세상귀여운 겨울룩': 1, '상큼한 너': 1, '패턴 믹스!': 1, '올겨울 최강자': 1, '옳은 조합': 1, '지코 오마주!': 1, '볼수록 좋네': 1, '칭찬하기 입아파': 1, '쉽게 멋지기': 1, '귀엽다고 말해!': 1, '별거없이 멋져': 1, '내가 바로 젊은이': 1, '자랑하고 싶어': 1, '이코디 칭찬해': 1, '갖고싶은 남자': 1, '스타일로 완승': 1, '신이 내린 바지핏': 1, '눈빛부터 달라': 1, '확실한 애티튜드': 1, '대란 롱패딩!': 1, '패딩 어때!': 1, '상큼해서 미쳐!': 1, '깔끔, 시크하게': 1, '컬러 조합 예술': 1, '레오퍼드 패딩!': 1, '자꾸 입게 된다': 1, '요즘 꽂혔어!': 1, '멋지고 시크하게': 1, 'MA-1재킷 코디': 1, '스웨트팬츠 입어봐': 1, '시선을 강탈한다!': 1, '스트릿 스나이퍼': 1, '종강기념룩': 1, '센스있는 겨울룩': 1, '진짜 좋아해': 1, '나를 좀 바라봐': 1, '세상 힙한 룩': 1, '힙하게, 편하게!': 1, '오레오 쿠키처럼': 1, '카디건 힙스터': 1, '힙하게 코디': 1, '크로우즈 제로!': 1, '섹시한 패딩': 1, '블랙 간지 뿜뿜': 1, '내 남자의 플리스': 1, '올겨울 핫템!': 1, '스트릿의 맛!': 1, '최애탬 조합': 1, '스포티해서 예뻐': 1, '세상 해맑은 룩': 1, '가끔은 편하게': 1, '시크하고 섹시해': 1, '말이 필요없잖아': 1, '귀여운 치타라구': 1, '코트&후디 룩': 1, '컬러가 포인트': 1, '개성있는 스트릿룩': 1, '플리스 패션': 1, '무톤 재킷 간지': 1, '순수한 남자!': 1, '백투더 빈티지': 1, '반짝반짝 빛나는': 1, '보라돌이 치타': 1, '힙합씬 접수': 1, '남극가도 걱정無': 1, '독특한 레트로룩': 1, 'MA-1코디': 1, '이런 조합 어때!': 1, '대세 숏패딩': 1, '컬러 패딩 소환!': 1, '은근히 눈이 가': 1, '인기만점 연말룩': 1, '모델 코트': 1, '꽃원피스+패딩': 1, '귀여운 치타!': 1, '베스트가 다했어': 1, '추운데 핫해!': 1, '상큼발랄 스타일': 1, '통장 잔고 두둑': 1, '스트릿룩의 완성': 1, '무심털털 플리스': 1, '힙스터 선두주자': 1, '스타일의 선구자': 1, '말이 필요없다!': 1, '입을 줄 아는데?': 1, '아우터 하나면돼!': 1, '윈터 에센셜': 1, '리복 셋업!': 1, '한마리의 치타!': 1, '이 스타일 좋아!': 1, '지금 아님 못입어': 1, '더플 코트와 함께': 1, '외극 스트릿 무드': 1, '시크함이 남달라': 1, 'F/W 핫아이템!': 1, '패딩도 센스 있게': 1, '시크한 맛!': 1, '세젤예 스트릿룩': 1, '훈내나는 데일리': 1, '멋진 코치 재킷': 1, '숏패딩 스트릿룩': 1, '과거로의 여행': 1, '거칠게 멋지게': 1, '추워도 핫해!': 1, '과거가 현재다!': 1, '겨울 간지': 1, '플리스가 딱이야': 1, '멋진 스트릿 룩': 1, '컬러 조합이 딱!': 1, '시크한 매력!': 1, '강렬한 룩!': 1, '시크한 도시남자': 1, '시크한 셋업': 1, '이게 내 컬러야': 1, '이런 바이브 어때': 1, '개성 살린 댄디': 1, '믹스 패턴 룩': 1, '박수받아 마땅해': 1, '래퍼 루피 오마주!': 1, '이런건 어때?': 1, '숏 패딩의 정석': 1, '제대로 믹스 매치': 1, '밀리터리 패션!': 1, '롱 셔츠의 반란': 1, '벨벳의 계절': 1, '개성 살린 MA-1': 1, '믹스 & 매치': 1, '칭찬받는 스타일': 1, '눈에 확 들어온다': 1, '데이트 룩으로 딱': 1, '꼭 입고 싶은 룩!': 1, '스냅샷 찍힐 듯!': 1, '앙큼한 데일리룩': 1, '후디&어흥 스커트': 1, '레트로 감각!': 1, '재기발랄 여친룩': 1, '에스닉 감성 좋다': 1, '트리플 레이어드': 1, '과감한 컬러선택': 1, '다리가 길어보여': 1, '누가봐도 힙해': 1, '이게 요즘 대세!': 1, '카리스마가 뿜뿜': 1, '버건디는 이렇게!': 1, '롱패딩 종결자': 1, '가끔은 반항아': 1, '사람들이 나만봐': 1, '실패없는 올블랙': 1, '범상치 않아!': 1, '캐주얼의 멋!': 1, '시크한 패딩 룩': 1, '힙함이 제대로!': 1, '허리라인 자랑룩': 1, '지금 우리 젊음!': 1, '넘나리 귀여워!': 1, '옷은 커야 제멋!': 1, '테크웨어의 매력': 1, '눈에 띄네!': 1, '내심장도 올블랙': 1, '롱 데님 재킷의 멋': 1, '컬러 블록의 매력': 1, '센스 있게 폴로!': 1, '까리한 코디': 1, '윈드 재킷 코디': 1, '편하고 따듯하게': 1, '멋진 오버사이즈': 1, '후디&스커트': 1, '라이더 시크': 1, '완전 터프해': 1, '연예인 뺨친다!': 1, '이거로 코디 끝!': 1, '귀여운 꿀벌같아': 1, '크롭티로 귀엽게': 1, '오버핏이 힙하다': 1, '모두가 나만봐!': 1, '키드밀리 오마주!': 1, '힙한 스트릿 룩': 1, '벨루어 소재의 멋': 1, '컬러 매치가 예술': 1, '과감한 스트릿룩': 1, '차분한 스트릿룩': 1, '내가 제일 빛나': 1, '이건 진짜 외힙!': 1, '갖고싶은 스타일': 1, '무심한듯 시크해': 1, '칸예 스타일': 1, '세젤귀 스타일링': 1, '남자의 항공재킷': 1, '강렬한 카파': 1, '테크웨어의 정석': 1, '태평양 어깨': 1, '아이돌처럼!': 1, '유니크 스타일링': 1, '외힙 느낌 충만': 1, '힙스터 스타일!': 1, '귀여운 레트로': 1, '파리지앵 스타일': 1, '편안하고 시크한': 1, '스니커즈 포인트': 1, '재기발랄 룩': 1, '코팅 데님 팬츠': 1, '2287': 1, '2275': 1, '2272': 1, '2085': 1, '2029': 1, '1968': 1, '1963': 1, '1961': 1, '1954': 1, '1950': 1, '1943': 1, '1937': 1, '1930': 1, '1928': 1, '1923': 1, '402': 1, '220': 1, '218': 1, '217': 1, '162': 1, '161': 1, '130': 1, '125': 1, '68': 1, '64': 1, '63': 1, '62': 1, '60': 1, '59': 1, '58': 1, '53': 1, '유틸리티 웨어': 1, '가을 고프코어 룩': 1, '가벼운 캠핑 룩': 1, '[이동연 스타일리스트] 테크 웨어': 1, '[이동연 스타일리스트] 편안한 매력': 1, '[이동연 스타일리스트] 캠핑 즐기는 법': 1, '[이동연 스타일리스트] 고프코어 스타일': 1, '[이동연 스타일리스트] 아웃도어 패션': 1, '[이동연 스타일리스트] 벌룬 핏 실루엣': 1, '[이동연 스타일리스트] 활동적인 날': 1, '[이동연 스타일리스트] 유틸리티 룩': 1, '따라 하고 싶어': 1, 'gorpcore': 1, '뉴 고프코어': 1, '모던 유틸리티 룩': 1, '유니크한': 1, '캠핑하기 좋은 날': 1, '고프코어 무드': 1, '고프코어 룩 완성': 1, '벌룬 실루엣': 1, '트렌디 고프코어': 1, '활동성UP!': 1, '핫한 서머 코디': 1, '고프코어 완성': 1, '편한데 스타일리시해': 1, '[정설 스타일리스트] 힙스터 룩': 1, '여름 고프코어': 1, '멋쁨 그 자체': 1, '워너비 매치': 1, '워너비 고프코어': 1, '유니크한 스포츠 룩': 1, '걸 크러시!': 1, '아웃도어를 즐겨': 1, '라이징 스타일': 1, '캠핑 코디': 1, '캠퍼 스타일': 1, '사파리 무드': 1, '아노락 연출법': 1, '레이어드 강조': 1, '하이킹 가자!': 1, '겨울 아웃도어': 1, '겨울 고프코어': 1, '고프코어 끝판왕': 1, '마무리가 중요해': 1, '즐겨 입게 돼': 1, '한파에 제격': 1, '겨울 고프코어 룩': 1, '활동성  UP!': 1, '겨울 스포츠': 1, '겨울 캠핑 코디': 1, '따듯함과 편안함': 1, '겨울 등산 룩': 1, '고프코어 룩 추천!': 1, '아웃도어 활용법': 1, '겨울 스포티': 1, '대세는 고프코어!': 1, '요즘 눈에 띄어!': 1, '가벼운 아웃도어': 1, '캠핑이 좋아': 1, '트렌디한 등산 룩': 1, '요즘 캠핑 룩': 1, '캠핑 패션': 1, '차박에 제격': 1, '트레킹 룩에 제격': 1, '컬처': 1})\n",
      "TAG2: Counter({nan: 31331, '목걸이/펜던트': 5486, '데님 팬츠': 4430, '숄더백': 3789, '셔츠/블라우스': 3747, '부츠': 3738, '캔버스/단화': 3466, '반소매 티셔츠': 3465, '반지': 3403, '귀걸이': 3322, '니트/스웨터': 2958, '팔찌': 2615, '메신저/크로스 백': 2549, '패션스니커즈화': 2538, '긴소매 티셔츠': 2078, '숏 팬츠': 2055, '코튼 팬츠': 1894, '트레이닝/조거 팬츠': 1865, '캡/야구 모자': 1709, '백팩': 1548, '샌들': 1522, '슈트 팬츠/슬랙스': 1475, '미니스커트': 1416, '카디건': 1414, '슬리퍼': 1356, '토트백': 1319, '맨투맨/스웨트셔츠': 1210, '구두': 1097, '민소매 티셔츠': 1089, '기타 스니커즈': 1087, '크로스백': 990, '쿼츠 아날로그': 911, '로퍼': 908, '안경': 904, '숏패딩/숏헤비 아우터': 851, '슈트/블레이저 재킷': 834, '스포츠신발': 769, '후드 티셔츠': 764, '베스트': 700, '스포츠가방': 658, '버킷/사파리햇': 645, '비니': 645, '기타 바지': 636, '양말': 606, '벨트': 602, '힐/펌프스': 598, '상의': 585, '레더/라이더스 재킷': 568, '선글라스': 544, '롱스커트': 535, '미니 원피스': 530, '머플러': 528, '미디스커트': 524, '무스탕/퍼': 523, '겨울 싱글 코트': 488, '블루종/MA-1': 482, '하의': 465, '트러커 재킷': 464, '피케/카라 티셔츠': 459, '헌팅캡/베레모': 433, '스포츠잡화': 430, '기타 아우터': 400, '플리스/뽀글이': 353, '나일론/코치 재킷': 347, '아우터': 339, '겨울 더블 코트': 336, '장갑': 331, '블로퍼': 325, '헤어 액세서리': 324, '스포츠모자': 322, '후드 집업': 318, '겨울 기타 코트': 300, '에코백': 282, '맥시 원피스': 268, '웨이스트 백': 257, '스타디움 재킷': 239, '미디 원피스': 226, '플랫 슈즈': 214, '디지털': 207, '패딩 베스트': 203, '환절기 코트': 194, '브리프케이스': 193, '키링/키케이스': 184, '생활용품': 174, '기타 상의': 165, '스카프/반다나': 164, '롱패딩/롱헤비 아우터': 160, '사파리/헌팅 재킷': 157, '스커트': 156, '기타 모자': 135, '아노락 재킷': 119, '넥타이': 116, '기타 신발': 99, '모카신/보트 슈즈': 98, '트레이닝 재킷': 89, '기구/용품/장비': 80, None: 78, '파우치 백': 74, '점프 슈트/오버올': 70, '트루퍼': 61, '수영복/비치웨어': 59, '기타 액세서리': 55, '지갑/머니클립': 55, '클러치 백': 42, '페도라': 38, '휴대폰': 36, '발찌': 35, '기타 시계': 30, '가방 소품': 30, '음향가전': 25, '낚시용품': 23, '캐리어': 22, '마스크': 21, '브로치/배지': 17, '카메라': 16, '원피스': 15, '홈웨어': 14, '여성 속옷 상의': 8, '오토매틱 아날로그': 8, '시계 용품': 5, '욕실용품': 5, '상하의세트': 4, '주방용품': 3, '스타킹': 3, '여성 속옷 하의': 2, '신발 용품': 2, '남성 속옷': 1, '홈패브릭': 1, '침구': 1, '여성 속옷 세트': 1, '도서/음반': 1})\n"
     ]
    }
   ],
   "source": [
    "print(f\"TAG1: {Counter(list(df_concat2['TAG1']))}\")\n",
    "print(f\"TAG2: {Counter(list(df_concat2['TAG2']))}\")"
   ]
  },
  {
   "cell_type": "markdown",
   "metadata": {},
   "source": [
    "### 🍔 중분류 아이템 조회\n",
    "* ex) 미니스커트 조회"
   ]
  },
  {
   "cell_type": "code",
   "execution_count": 17,
   "metadata": {},
   "outputs": [
    {
     "name": "stdout",
     "output_type": "stream",
     "text": [
      "\u001b[32m\"⬇⬇⬇ 아이템(중분류 단위) ⬇⬇⬇\"\u001b[0m\n",
      "\u001b[33m\"전체 Shape: (1416, 12), Snippet Shape: (2, 12)\"\u001b[0m\n"
     ]
    },
    {
     "data": {
      "text/html": [
       "<div>\n",
       "<style scoped>\n",
       "    .dataframe tbody tr th:only-of-type {\n",
       "        vertical-align: middle;\n",
       "    }\n",
       "\n",
       "    .dataframe tbody tr th {\n",
       "        vertical-align: top;\n",
       "    }\n",
       "\n",
       "    .dataframe thead th {\n",
       "        text-align: right;\n",
       "    }\n",
       "</style>\n",
       "<table border=\"1\" class=\"dataframe\">\n",
       "  <thead>\n",
       "    <tr style=\"text-align: right;\">\n",
       "      <th></th>\n",
       "      <th>LEVEL</th>\n",
       "      <th>ITEM_ID</th>\n",
       "      <th>CODI_ID</th>\n",
       "      <th>STYLE</th>\n",
       "      <th>DATE</th>\n",
       "      <th>VIEWS</th>\n",
       "      <th>TAG1</th>\n",
       "      <th>TAG2</th>\n",
       "      <th>GENDER</th>\n",
       "      <th>MODEL</th>\n",
       "      <th>CODI_URL</th>\n",
       "      <th>ITEM_URL</th>\n",
       "    </tr>\n",
       "  </thead>\n",
       "  <tbody>\n",
       "    <tr>\n",
       "      <th>0</th>\n",
       "      <td>1</td>\n",
       "      <td>3227713</td>\n",
       "      <td>35815</td>\n",
       "      <td>americancasual</td>\n",
       "      <td>2023.09.01</td>\n",
       "      <td>974.0</td>\n",
       "      <td>스커트</td>\n",
       "      <td>미니스커트</td>\n",
       "      <td>여</td>\n",
       "      <td>NaN</td>\n",
       "      <td>https://www.musinsa.com/app/styles/views/35815...</td>\n",
       "      <td>https://www.musinsa.com/app/goods/3227713</td>\n",
       "    </tr>\n",
       "    <tr>\n",
       "      <th>1</th>\n",
       "      <td>1</td>\n",
       "      <td>3254190</td>\n",
       "      <td>34845</td>\n",
       "      <td>americancasual</td>\n",
       "      <td>2023.07.26</td>\n",
       "      <td>1156.0</td>\n",
       "      <td>스커트</td>\n",
       "      <td>미니스커트</td>\n",
       "      <td>여</td>\n",
       "      <td>NaN</td>\n",
       "      <td>https://www.musinsa.com/app/styles/views/34845...</td>\n",
       "      <td>https://www.musinsa.com/app/goods/3254190</td>\n",
       "    </tr>\n",
       "  </tbody>\n",
       "</table>\n",
       "</div>"
      ],
      "text/plain": [
       "   LEVEL  ITEM_ID  CODI_ID           STYLE        DATE   VIEWS TAG1   TAG2  \\\n",
       "0      1  3227713    35815  americancasual  2023.09.01   974.0  스커트  미니스커트   \n",
       "1      1  3254190    34845  americancasual  2023.07.26  1156.0  스커트  미니스커트   \n",
       "\n",
       "  GENDER MODEL                                           CODI_URL  \\\n",
       "0      여   NaN  https://www.musinsa.com/app/styles/views/35815...   \n",
       "1      여   NaN  https://www.musinsa.com/app/styles/views/34845...   \n",
       "\n",
       "                                    ITEM_URL  \n",
       "0  https://www.musinsa.com/app/goods/3227713  \n",
       "1  https://www.musinsa.com/app/goods/3254190  "
      ]
     },
     "metadata": {},
     "output_type": "display_data"
    }
   ],
   "source": [
    "view_item_midclass = df_concat2[df_concat2['TAG2'] == '미니스커트'].reset_index(drop=True)\n",
    "slicing_startnum = 0 # 시작 인덱스\n",
    "slicing_endnum = 1 # 종료 인덱스\n",
    "\n",
    "print(\"\\x1b[32m\\\"⬇⬇⬇ 아이템(중분류 단위) ⬇⬇⬇\\\"\\x1b[0m\")\n",
    "print(f\"\\x1b[33m\\\"전체 Shape: {view_item_midclass.shape}, Snippet Shape: {view_item_midclass.loc[slicing_startnum:slicing_endnum].shape}\\\"\\x1b[0m\")\n",
    "display(view_item_midclass.loc[slicing_startnum:slicing_endnum])"
   ]
  },
  {
   "cell_type": "markdown",
   "metadata": {},
   "source": [
    "### 🍔 특정 아이템 조회\n",
    "* ITEM_ID를 입력하여 조회합니다."
   ]
  },
  {
   "cell_type": "code",
   "execution_count": 77,
   "metadata": {},
   "outputs": [
    {
     "name": "stdout",
     "output_type": "stream",
     "text": [
      "\u001b[32m\"⬇⬇⬇ 특정 아이템 ⬇⬇⬇\"\u001b[0m\n",
      "\u001b[33m\"Shape: (1, 12)\"\u001b[0m\n"
     ]
    },
    {
     "data": {
      "text/html": [
       "<div>\n",
       "<style scoped>\n",
       "    .dataframe tbody tr th:only-of-type {\n",
       "        vertical-align: middle;\n",
       "    }\n",
       "\n",
       "    .dataframe tbody tr th {\n",
       "        vertical-align: top;\n",
       "    }\n",
       "\n",
       "    .dataframe thead th {\n",
       "        text-align: right;\n",
       "    }\n",
       "</style>\n",
       "<table border=\"1\" class=\"dataframe\">\n",
       "  <thead>\n",
       "    <tr style=\"text-align: right;\">\n",
       "      <th></th>\n",
       "      <th>LEVEL</th>\n",
       "      <th>ITEM_ID</th>\n",
       "      <th>CODI_ID</th>\n",
       "      <th>STYLE</th>\n",
       "      <th>DATE</th>\n",
       "      <th>VIEWS</th>\n",
       "      <th>TAG1</th>\n",
       "      <th>TAG2</th>\n",
       "      <th>GENDER</th>\n",
       "      <th>MODEL</th>\n",
       "      <th>CODI_URL</th>\n",
       "      <th>ITEM_URL</th>\n",
       "    </tr>\n",
       "  </thead>\n",
       "  <tbody>\n",
       "    <tr>\n",
       "      <th>62086</th>\n",
       "      <td>1</td>\n",
       "      <td>1507636</td>\n",
       "      <td>17570</td>\n",
       "      <td>americancasual</td>\n",
       "      <td>2020.08.18</td>\n",
       "      <td>1031.0</td>\n",
       "      <td>상의</td>\n",
       "      <td>반소매 티셔츠</td>\n",
       "      <td>여</td>\n",
       "      <td>NaN</td>\n",
       "      <td>https://www.musinsa.com/app/styles/views/17570...</td>\n",
       "      <td>https://www.musinsa.com/app/goods/1507636</td>\n",
       "    </tr>\n",
       "  </tbody>\n",
       "</table>\n",
       "</div>"
      ],
      "text/plain": [
       "       LEVEL  ITEM_ID  CODI_ID           STYLE        DATE   VIEWS TAG1  \\\n",
       "62086      1  1507636    17570  americancasual  2020.08.18  1031.0   상의   \n",
       "\n",
       "          TAG2 GENDER MODEL  \\\n",
       "62086  반소매 티셔츠      여   NaN   \n",
       "\n",
       "                                                CODI_URL  \\\n",
       "62086  https://www.musinsa.com/app/styles/views/17570...   \n",
       "\n",
       "                                        ITEM_URL  \n",
       "62086  https://www.musinsa.com/app/goods/1507636  "
      ]
     },
     "metadata": {},
     "output_type": "display_data"
    }
   ],
   "source": [
    "view_item = df_concat2[df_concat2['ITEM_ID'] == 1507636]\n",
    "\n",
    "print(\"\\x1b[32m\\\"⬇⬇⬇ 특정 아이템 ⬇⬇⬇\\\"\\x1b[0m\")\n",
    "print(f\"\\x1b[33m\\\"Shape: {view_item.shape}\\\"\\x1b[0m\")\n",
    "display(view_item)"
   ]
  },
  {
   "cell_type": "markdown",
   "metadata": {},
   "source": [
    "## 📌 Light-GCN 학습 데이터셋 구축\n",
    "* 상의 ➡ 하의: 'upper_class_list.txt', 'bottom_item_list.txt', 'train.txt', 'test.txt'\n",
    "* 하의 ➡ 상의: 'bottom_class_list.txt', 'upper_item_list.txt', 'train.txt', 'test.txt'"
   ]
  },
  {
   "cell_type": "markdown",
   "metadata": {},
   "source": [
    "### 🍔 하의 ➡ 상의 raw 파일 만들기"
   ]
  },
  {
   "cell_type": "code",
   "execution_count": 6,
   "metadata": {},
   "outputs": [
    {
     "name": "stdout",
     "output_type": "stream",
     "text": [
      "(129285, 12)\n"
     ]
    },
    {
     "data": {
      "text/html": [
       "<div>\n",
       "<style scoped>\n",
       "    .dataframe tbody tr th:only-of-type {\n",
       "        vertical-align: middle;\n",
       "    }\n",
       "\n",
       "    .dataframe tbody tr th {\n",
       "        vertical-align: top;\n",
       "    }\n",
       "\n",
       "    .dataframe thead th {\n",
       "        text-align: right;\n",
       "    }\n",
       "</style>\n",
       "<table border=\"1\" class=\"dataframe\">\n",
       "  <thead>\n",
       "    <tr style=\"text-align: right;\">\n",
       "      <th></th>\n",
       "      <th>LEVEL</th>\n",
       "      <th>ITEM_ID</th>\n",
       "      <th>CODI_ID</th>\n",
       "      <th>STYLE</th>\n",
       "      <th>DATE</th>\n",
       "      <th>VIEWS</th>\n",
       "      <th>TAG1</th>\n",
       "      <th>TAG2</th>\n",
       "      <th>GENDER</th>\n",
       "      <th>MODEL</th>\n",
       "      <th>CODI_URL</th>\n",
       "      <th>ITEM_URL</th>\n",
       "    </tr>\n",
       "  </thead>\n",
       "  <tbody>\n",
       "    <tr>\n",
       "      <th>129284</th>\n",
       "      <td>1</td>\n",
       "      <td>969541</td>\n",
       "      <td>20947</td>\n",
       "      <td>girlish</td>\n",
       "      <td>2020.07.15</td>\n",
       "      <td>2369.0</td>\n",
       "      <td>스니커즈</td>\n",
       "      <td>패션스니커즈화</td>\n",
       "      <td>남, 여</td>\n",
       "      <td>NaN</td>\n",
       "      <td>https://www.musinsa.com/app/styles/views/20947...</td>\n",
       "      <td>https://www.musinsa.com/app/goods/969541</td>\n",
       "    </tr>\n",
       "  </tbody>\n",
       "</table>\n",
       "</div>"
      ],
      "text/plain": [
       "        LEVEL ITEM_ID  CODI_ID    STYLE        DATE   VIEWS  TAG1     TAG2  \\\n",
       "129284      1  969541    20947  girlish  2020.07.15  2369.0  스니커즈  패션스니커즈화   \n",
       "\n",
       "       GENDER MODEL                                           CODI_URL  \\\n",
       "129284   남, 여   NaN  https://www.musinsa.com/app/styles/views/20947...   \n",
       "\n",
       "                                        ITEM_URL  \n",
       "129284  https://www.musinsa.com/app/goods/969541  "
      ]
     },
     "metadata": {},
     "output_type": "display_data"
    },
    {
     "name": "stdout",
     "output_type": "stream",
     "text": [
      "\u001b[33m\" drop 전, null 체크 \"\u001b[0m\n",
      "LEVEL           0\n",
      "ITEM_ID      3800\n",
      "CODI_ID         0\n",
      "STYLE           0\n",
      "DATE          567\n",
      "VIEWS         567\n",
      "TAG1          645\n",
      "TAG2        31409\n",
      "GENDER      31331\n",
      "MODEL       98521\n",
      "CODI_URL        0\n",
      "ITEM_URL    30764\n",
      "dtype: int64\n",
      "\u001b[32m\" drop 후, null 체크 \"\u001b[0m\n",
      "LEVEL           0\n",
      "ITEM_ID         0\n",
      "CODI_ID         0\n",
      "STYLE           0\n",
      "DATE            0\n",
      "VIEWS           0\n",
      "TAG1            0\n",
      "TAG2            0\n",
      "GENDER          0\n",
      "MODEL       97876\n",
      "CODI_URL        0\n",
      "ITEM_URL        0\n",
      "dtype: int64\n"
     ]
    }
   ],
   "source": [
    "concat_df = copy.deepcopy(df_concat2)\n",
    "print(concat_df.shape)\n",
    "display(concat_df.tail(1))\n",
    "print(f\"\\x1b[33m\\\" drop 전, null 체크 \\\"\\x1b[0m\")\n",
    "print(concat_df.isnull().sum())\n",
    "\n",
    "# TAG1/ gender 에서 null 행 삭제\n",
    "concat_df.dropna(subset=[\"TAG1\"], inplace=True)\n",
    "concat_df.dropna(subset=[\"GENDER\"], inplace=True)\n",
    "\n",
    "concat_df['TAG2'] = concat_df['TAG2'].str.replace(' ', '')\n",
    "concat_df['GENDER'] = concat_df['GENDER'].str.replace(' ', '')\n",
    "\n",
    "print(f\"\\x1b[32m\\\" drop 후, null 체크 \\\"\\x1b[0m\")\n",
    "print(concat_df.isnull().sum())\n",
    "\n",
    "# 상하의를 분류\n",
    "con1 = concat_df['LEVEL'] == 1\n",
    "con2 = concat_df[\"TAG1\"].str.contains(\"상의\", regex= True)\n",
    "con3 = concat_df[\"TAG1\"].str.contains(\"바지|스커트\", regex= True)\n",
    " \n",
    "df_up = copy.deepcopy(concat_df[con1 & con2])\n",
    "df_down = copy.deepcopy(concat_df[con1 & con3])"
   ]
  },
  {
   "cell_type": "code",
   "execution_count": 7,
   "metadata": {},
   "outputs": [
    {
     "name": "stdout",
     "output_type": "stream",
     "text": [
      "\u001b[33m\" 상의 GENDER 컬럼: ['남,여' '여' '남'] \"\u001b[0m\n",
      "\u001b[33m\" 하의 GENDER 컬럼: ['여' '남' '남,여' '라이프'] \"\u001b[0m\n",
      "\u001b[32m\" 상의 GENDER 컬럼: ['남,여' '여' '남'] \"\u001b[0m\n",
      "\u001b[32m\" 하의 GENDER 컬럼: ['여' '남' '남,여'] \"\u001b[0m\n"
     ]
    }
   ],
   "source": [
    "print(f\"\\x1b[33m\\\" 상의 GENDER 컬럼: {df_up['GENDER'].unique()} \\\"\\x1b[0m\")\n",
    "print(f\"\\x1b[33m\\\" 하의 GENDER 컬럼: {df_down['GENDER'].unique()} \\\"\\x1b[0m\")\n",
    "\n",
    "# gender에 라이프 제거 (하의)\n",
    "df_down[df_down['GENDER'] == '라이프']\n",
    "df_down[\"GENDER\"] = df_down[\"GENDER\"].str.replace(\"라이프\", \"남,여\")\n",
    "\n",
    "print(f\"\\x1b[32m\\\" 상의 GENDER 컬럼: {df_up['GENDER'].unique()} \\\"\\x1b[0m\")\n",
    "print(f\"\\x1b[32m\\\" 하의 GENDER 컬럼: {df_down['GENDER'].unique()} \\\"\\x1b[0m\")"
   ]
  },
  {
   "cell_type": "markdown",
   "metadata": {},
   "source": [
    "⬇⬇⬇ \"CATEGORY1\" 가능한 경우의 수(<b>필수 실행</b>)"
   ]
  },
  {
   "cell_type": "code",
   "execution_count": 8,
   "metadata": {},
   "outputs": [
    {
     "name": "stdout",
     "output_type": "stream",
     "text": [
      "Shape: (14900, 13), Unique of CATEGORY1: (245)\n"
     ]
    },
    {
     "data": {
      "text/html": [
       "<div>\n",
       "<style scoped>\n",
       "    .dataframe tbody tr th:only-of-type {\n",
       "        vertical-align: middle;\n",
       "    }\n",
       "\n",
       "    .dataframe tbody tr th {\n",
       "        vertical-align: top;\n",
       "    }\n",
       "\n",
       "    .dataframe thead th {\n",
       "        text-align: right;\n",
       "    }\n",
       "</style>\n",
       "<table border=\"1\" class=\"dataframe\">\n",
       "  <thead>\n",
       "    <tr style=\"text-align: right;\">\n",
       "      <th></th>\n",
       "      <th>LEVEL</th>\n",
       "      <th>ITEM_ID</th>\n",
       "      <th>CODI_ID</th>\n",
       "      <th>STYLE</th>\n",
       "      <th>DATE</th>\n",
       "      <th>VIEWS</th>\n",
       "      <th>TAG1</th>\n",
       "      <th>TAG2</th>\n",
       "      <th>GENDER</th>\n",
       "      <th>MODEL</th>\n",
       "      <th>CODI_URL</th>\n",
       "      <th>ITEM_URL</th>\n",
       "      <th>CATEGORY1</th>\n",
       "    </tr>\n",
       "  </thead>\n",
       "  <tbody>\n",
       "    <tr>\n",
       "      <th>129277</th>\n",
       "      <td>1</td>\n",
       "      <td>1920528</td>\n",
       "      <td>21185</td>\n",
       "      <td>girlish</td>\n",
       "      <td>2021.05.28</td>\n",
       "      <td>1607.0</td>\n",
       "      <td>바지</td>\n",
       "      <td>트레이닝/조거팬츠</td>\n",
       "      <td>남</td>\n",
       "      <td>NaN</td>\n",
       "      <td>https://www.musinsa.com/app/styles/views/21185...</td>\n",
       "      <td>https://www.musinsa.com/app/goods/1920528</td>\n",
       "      <td>girlish트레이닝/조거팬츠남</td>\n",
       "    </tr>\n",
       "  </tbody>\n",
       "</table>\n",
       "</div>"
      ],
      "text/plain": [
       "        LEVEL  ITEM_ID  CODI_ID    STYLE        DATE   VIEWS TAG1       TAG2  \\\n",
       "129277      1  1920528    21185  girlish  2021.05.28  1607.0   바지  트레이닝/조거팬츠   \n",
       "\n",
       "       GENDER MODEL                                           CODI_URL  \\\n",
       "129277      남   NaN  https://www.musinsa.com/app/styles/views/21185...   \n",
       "\n",
       "                                         ITEM_URL          CATEGORY1  \n",
       "129277  https://www.musinsa.com/app/goods/1920528  girlish트레이닝/조거팬츠남  "
      ]
     },
     "metadata": {},
     "output_type": "display_data"
    }
   ],
   "source": [
    "df_down[\"CATEGORY1\"] = df_down[\"STYLE\"] + df_down[\"TAG2\"] + df_down[\"GENDER\"]\n",
    "df_down[\"CATEGORY1\"] = df_down[\"CATEGORY1\"].str.replace(\" \", \"\")\n",
    "\n",
    "down_cat_list = list(df_down['CATEGORY1'].unique())\n",
    "\n",
    "print(f\"Shape: {df_down.shape}, Unique of CATEGORY1: ({len(df_down['CATEGORY1'].unique())})\")\n",
    "display(df_down.tail(1))"
   ]
  },
  {
   "cell_type": "markdown",
   "metadata": {},
   "source": [
    "#### 🍟 upper_item_list.txt 만들기"
   ]
  },
  {
   "cell_type": "code",
   "execution_count": 9,
   "metadata": {},
   "outputs": [
    {
     "name": "stdout",
     "output_type": "stream",
     "text": [
      "\u001b[32m\"..\\data\\BottomToUpper\\upper_item_list.txt 저장되었습니다.\"\u001b[0m\n"
     ]
    }
   ],
   "source": [
    "before_txt_list = [\"org_id remap_id\"]\n",
    "upper_item_dict = dict()\n",
    "\n",
    "upper_itemid_list = df_up['ITEM_ID'].unique()\n",
    "upper_itemid_list.sort()\n",
    "\n",
    "for idx, item in enumerate(upper_itemid_list):\n",
    "    before_txt_list.append(f\"\\r{item} {idx}\")\n",
    "    upper_item_dict[idx] = item\n",
    "\n",
    "upper_item_txt = \" \".join(before_txt_list)\n",
    "\n",
    "filename = os.path.join(\"..\", \"data\", \"BottomToUpper\", \"upper_item_list.txt\")\n",
    "\n",
    "with open(f\"{filename}\", \"w\") as file:\n",
    "    file.write(upper_item_txt)\n",
    "    file.close()\n",
    "\n",
    "print(f\"\\x1b[32m\\\"{filename} 저장되었습니다.\\\"\\x1b[0m\")"
   ]
  },
  {
   "cell_type": "markdown",
   "metadata": {},
   "source": [
    "#### 🍟 train.txt 만들기"
   ]
  },
  {
   "cell_type": "code",
   "execution_count": 10,
   "metadata": {},
   "outputs": [
    {
     "name": "stdout",
     "output_type": "stream",
     "text": [
      "\u001b[32m\"..\\data\\BottomToUpper\\train.txt 저장되었습니다.\"\u001b[0m\n",
      "--------------------------------------------------\n",
      "CATEGORY1 : 245개\n",
      "비어있는 인덱스[16개] [76, 117, 137, 138, 140, 158, 159, 173, 175, 177, 186, 197, 211, 214, 216, 227]\n",
      "ex) 인덱스 139번 retro트레이닝/조거팬츠여 제거... \n",
      "비어있는 인덱스 제거 후: 245 - 16 = 229 개\n"
     ]
    }
   ],
   "source": [
    "def get_key(val):\n",
    "    for key, value in upper_item_dict.items():\n",
    "        if val == value:\n",
    "            return key\n",
    "    return \"key doesn't exist\"\n",
    "\n",
    "# df_down CATEGORY1 컬럼값별로 ITEM_ID를 모아서 리스트로 만들기\n",
    "upper_itemlist = list()\n",
    "noitem_list = list()\n",
    "\n",
    "forindex = 0\n",
    "for idx, item in enumerate(down_cat_list): # 245번 돌 것\n",
    "    tmp_list = []\n",
    "    for idx2, item2 in enumerate(set(list(df_down[df_down['CATEGORY1'] == item]['CODI_ID']))):\n",
    "        for item3 in df_up[df_up['CODI_ID'] == item2]['ITEM_ID']:\n",
    "            tmp_list.append(get_key(item3))\n",
    "    if len(tmp_list) == 0:\n",
    "        noitem_list.append(forindex)\n",
    "    elif len(tmp_list) > 0:\n",
    "        upper_itemlist.append(f\"{forindex} {str(tmp_list).replace('[', '').replace(']', '').replace(',', '')}\")\n",
    "        forindex += 1\n",
    "\n",
    "train_txt = \"\\n\".join(upper_itemlist)\n",
    "filename = os.path.join(\"..\", \"data\", \"BottomToUpper\", \"train.txt\")\n",
    "\n",
    "with open(f\"{filename}\", \"w\") as file:\n",
    "    file.write(train_txt)\n",
    "    file.close()\n",
    "\n",
    "print(f\"\\x1b[32m\\\"{filename} 저장되었습니다.\\\"\\x1b[0m\")\n",
    "print(f\"{'-' * 50}\")\n",
    "print(f\"CATEGORY1 : {len(down_cat_list)}개\")\n",
    "print(f\"비어있는 인덱스[{len(noitem_list)}개] {noitem_list}\")\n",
    "print(f\"ex) 인덱스 139번 {down_cat_list[139]} 제거... \")\n",
    "print(f\"비어있는 인덱스 제거 후: {len(down_cat_list)} - {len(noitem_list)} = {len(upper_itemlist)} 개\")"
   ]
  },
  {
   "cell_type": "markdown",
   "metadata": {},
   "source": [
    "#### 🍟 bottom_class_list.txt 만들기\n",
    "* 하의를 Style, 성별, 중분류 특성을 참고하여 분류"
   ]
  },
  {
   "cell_type": "code",
   "execution_count": 11,
   "metadata": {},
   "outputs": [
    {
     "name": "stdout",
     "output_type": "stream",
     "text": [
      "\u001b[32m\"..\\data\\BottomToUpper\\bottom_class_list.txt 저장되었습니다.\"\u001b[0m\n"
     ]
    }
   ],
   "source": [
    "tmp_list = [\"org_id remap_id\"]\n",
    "\n",
    "forindex = 0\n",
    "for idx, item in enumerate(down_cat_list):\n",
    "    if idx not in noitem_list:\n",
    "        tmp_list.append(f\"\\r{item} {forindex}\")\n",
    "        forindex +=1\n",
    "\n",
    "bottom_class_txt = \" \".join(tmp_list)\n",
    "\n",
    "filename = os.path.join(\"..\", \"data\", \"BottomToUpper\", \"bottom_class_list.txt\")\n",
    "\n",
    "with open(f\"{filename}\", \"w\") as file:\n",
    "    file.write(bottom_class_txt)\n",
    "    file.close()\n",
    "\n",
    "print(f\"\\x1b[32m\\\"{filename} 저장되었습니다.\\\"\\x1b[0m\")"
   ]
  },
  {
   "cell_type": "markdown",
   "metadata": {},
   "source": [
    "#### 🍟 test.txt 만들기 (train.txt 복사 해서 변형하세요)"
   ]
  },
  {
   "cell_type": "code",
   "execution_count": 12,
   "metadata": {},
   "outputs": [
    {
     "name": "stdout",
     "output_type": "stream",
     "text": [
      "\u001b[32m\"..\\data\\BottomToUpper\\test.txt 저장되었습니다.\"\u001b[0m\n"
     ]
    }
   ],
   "source": [
    "original_file = os.path.join(\"..\", \"data\", \"BottomToUpper\", \"train.txt\")\n",
    "copy_file = os.path.join(\"..\", \"data\", \"BottomToUpper\", \"test.txt\")\n",
    "\n",
    "try:\n",
    "    with open(original_file, 'r') as of:\n",
    "        tmp_txt = of.read()\n",
    "        \n",
    "        with open(copy_file, 'w') as cf:\n",
    "            cf.write(tmp_txt)\n",
    "        print(f\"\\x1b[32m\\\"{copy_file} 저장되었습니다.\\\"\\x1b[0m\")\n",
    "except FileNotFoundError:\n",
    "    print('파일을 찾을 수 없습니다.')\n",
    "except Exception as e:\n",
    "    print('파일 복사 중 오류가 발생했습니다:', e)\n"
   ]
  },
  {
   "cell_type": "markdown",
   "metadata": {},
   "source": [
    "### 🍔 상의 ➡ 하의 raw 파일 만들기"
   ]
  },
  {
   "cell_type": "markdown",
   "metadata": {},
   "source": [
    "⬇⬇⬇ \"CATEGORY1\" 가능한 경우의 수(<b>필수 실행</b>)"
   ]
  },
  {
   "cell_type": "code",
   "execution_count": 13,
   "metadata": {},
   "outputs": [
    {
     "name": "stdout",
     "output_type": "stream",
     "text": [
      "Shape: (15935, 13), Unique of CATEGORY1: (259)\n"
     ]
    },
    {
     "data": {
      "text/html": [
       "<div>\n",
       "<style scoped>\n",
       "    .dataframe tbody tr th:only-of-type {\n",
       "        vertical-align: middle;\n",
       "    }\n",
       "\n",
       "    .dataframe tbody tr th {\n",
       "        vertical-align: top;\n",
       "    }\n",
       "\n",
       "    .dataframe thead th {\n",
       "        text-align: right;\n",
       "    }\n",
       "</style>\n",
       "<table border=\"1\" class=\"dataframe\">\n",
       "  <thead>\n",
       "    <tr style=\"text-align: right;\">\n",
       "      <th></th>\n",
       "      <th>LEVEL</th>\n",
       "      <th>ITEM_ID</th>\n",
       "      <th>CODI_ID</th>\n",
       "      <th>STYLE</th>\n",
       "      <th>DATE</th>\n",
       "      <th>VIEWS</th>\n",
       "      <th>TAG1</th>\n",
       "      <th>TAG2</th>\n",
       "      <th>GENDER</th>\n",
       "      <th>MODEL</th>\n",
       "      <th>CODI_URL</th>\n",
       "      <th>ITEM_URL</th>\n",
       "      <th>CATEGORY1</th>\n",
       "    </tr>\n",
       "  </thead>\n",
       "  <tbody>\n",
       "    <tr>\n",
       "      <th>129274</th>\n",
       "      <td>1</td>\n",
       "      <td>1947912</td>\n",
       "      <td>21323</td>\n",
       "      <td>girlish</td>\n",
       "      <td>2021.06.08</td>\n",
       "      <td>1657.0</td>\n",
       "      <td>상의</td>\n",
       "      <td>셔츠/블라우스</td>\n",
       "      <td>남</td>\n",
       "      <td>NaN</td>\n",
       "      <td>https://www.musinsa.com/app/styles/views/21323...</td>\n",
       "      <td>https://www.musinsa.com/app/goods/1947912</td>\n",
       "      <td>girlish셔츠/블라우스남</td>\n",
       "    </tr>\n",
       "  </tbody>\n",
       "</table>\n",
       "</div>"
      ],
      "text/plain": [
       "        LEVEL  ITEM_ID  CODI_ID    STYLE        DATE   VIEWS TAG1     TAG2  \\\n",
       "129274      1  1947912    21323  girlish  2021.06.08  1657.0   상의  셔츠/블라우스   \n",
       "\n",
       "       GENDER MODEL                                           CODI_URL  \\\n",
       "129274      남   NaN  https://www.musinsa.com/app/styles/views/21323...   \n",
       "\n",
       "                                         ITEM_URL        CATEGORY1  \n",
       "129274  https://www.musinsa.com/app/goods/1947912  girlish셔츠/블라우스남  "
      ]
     },
     "metadata": {},
     "output_type": "display_data"
    }
   ],
   "source": [
    "df_up[\"CATEGORY1\"] = df_up[\"STYLE\"] + df_up[\"TAG2\"] + df_up[\"GENDER\"]\n",
    "df_up[\"CATEGORY1\"] = df_up[\"CATEGORY1\"].str.replace(\" \", \"\")\n",
    "\n",
    "up_cat_list = list(df_up['CATEGORY1'].unique())\n",
    "\n",
    "print(f\"Shape: {df_up.shape}, Unique of CATEGORY1: ({len(df_up['CATEGORY1'].unique())})\")\n",
    "display(df_up.tail(1))"
   ]
  },
  {
   "cell_type": "markdown",
   "metadata": {},
   "source": [
    "#### 🍟 bottom_item_list.txt 만들기"
   ]
  },
  {
   "cell_type": "code",
   "execution_count": 14,
   "metadata": {},
   "outputs": [
    {
     "name": "stdout",
     "output_type": "stream",
     "text": [
      "\u001b[32m\"..\\data\\UpperToBottom\\bottom_item_list.txt 저장되었습니다.\"\u001b[0m\n"
     ]
    }
   ],
   "source": [
    "before_txt_list = [\"org_id remap_id\"]\n",
    "bottom_item_dict = dict()\n",
    "\n",
    "bottom_itemid_list = df_down['ITEM_ID'].unique()\n",
    "bottom_itemid_list.sort()\n",
    "\n",
    "for idx, item in enumerate(bottom_itemid_list):\n",
    "    before_txt_list.append(f\"\\r{item} {idx}\")\n",
    "    bottom_item_dict[idx] = item\n",
    "\n",
    "bottom_item_txt = \" \".join(before_txt_list)\n",
    "\n",
    "filename = os.path.join(\"..\", \"data\", \"UpperToBottom\", \"bottom_item_list.txt\")\n",
    "\n",
    "with open(f\"{filename}\", \"w\") as file:\n",
    "    file.write(bottom_item_txt)\n",
    "    file.close()\n",
    "\n",
    "print(f\"\\x1b[32m\\\"{filename} 저장되었습니다.\\\"\\x1b[0m\")"
   ]
  },
  {
   "cell_type": "markdown",
   "metadata": {},
   "source": [
    "#### 🍟 train.txt 만들기"
   ]
  },
  {
   "cell_type": "code",
   "execution_count": 16,
   "metadata": {},
   "outputs": [
    {
     "name": "stdout",
     "output_type": "stream",
     "text": [
      "\u001b[32m\"..\\data\\UpperToBottom\\train.txt 저장되었습니다.\"\u001b[0m\n",
      "--------------------------------------------------\n",
      "CATEGORY1 : 259개\n",
      "비어있는 인덱스[12개] [149, 152, 154, 163, 181, 182, 186, 186, 230, 236, 241, 246]\n",
      "ex) 인덱스 149번 romantic코튼팬츠남 제거... \n",
      "비어있는 인덱스 제거 후: 259 - 12 = 247 개\n"
     ]
    }
   ],
   "source": [
    "def get_key(val):\n",
    "    for key, value in bottom_item_dict.items():\n",
    "        if val == value:\n",
    "            return key\n",
    "    return \"key doesn't exist\"\n",
    "\n",
    "# df_up CATEGORY1 컬럼값별로 ITEM_ID를 모아서 리스트로 만들기\n",
    "bottom_itemlist = list()\n",
    "noitem_list = list()\n",
    "\n",
    "forindex = 0\n",
    "for idx, item in enumerate(up_cat_list): \n",
    "    tmp_list = []\n",
    "    for idx2, item2 in enumerate(set(list(df_up[df_up['CATEGORY1'] == item]['CODI_ID']))):\n",
    "        for item3 in df_down[df_down['CODI_ID'] == item2]['ITEM_ID']:\n",
    "            tmp_list.append(get_key(item3))\n",
    "    if len(tmp_list) == 0:\n",
    "        noitem_list.append(forindex)\n",
    "    elif len(tmp_list) > 0:\n",
    "        bottom_itemlist.append(f\"{forindex} {str(tmp_list).replace('[', '').replace(']', '').replace(',', '')}\")\n",
    "        forindex += 1\n",
    "\n",
    "train_txt = \"\\n\".join(bottom_itemlist)\n",
    "filename = os.path.join(\"..\", \"data\", \"UpperToBottom\", \"train.txt\")\n",
    "\n",
    "with open(f\"{filename}\", \"w\") as file:\n",
    "    file.write(train_txt)\n",
    "    file.close()\n",
    "\n",
    "print(f\"\\x1b[32m\\\"{filename} 저장되었습니다.\\\"\\x1b[0m\")\n",
    "print(f\"{'-' * 50}\")\n",
    "print(f\"CATEGORY1 : {len(up_cat_list)}개\")\n",
    "print(f\"비어있는 인덱스[{len(noitem_list)}개] {noitem_list}\")\n",
    "print(f\"ex) 인덱스 149번 {down_cat_list[149]} 제거... \")\n",
    "print(f\"비어있는 인덱스 제거 후: {len(up_cat_list)} - {len(noitem_list)} = {len(bottom_itemlist)} 개\")"
   ]
  },
  {
   "cell_type": "markdown",
   "metadata": {},
   "source": [
    "#### 🍟 upper_class_list.txt 만들기\n",
    "* 상의를 Style, 성별, 중분류 특성을 참고하여 분류"
   ]
  },
  {
   "cell_type": "code",
   "execution_count": 17,
   "metadata": {},
   "outputs": [
    {
     "name": "stdout",
     "output_type": "stream",
     "text": [
      "\u001b[32m\"..\\data\\UpperToBottom\\upper_class_list.txt 저장되었습니다.\"\u001b[0m\n"
     ]
    }
   ],
   "source": [
    "tmp_list = [\"org_id remap_id\"]\n",
    "\n",
    "forindex = 0\n",
    "for idx, item in enumerate(up_cat_list):\n",
    "    if idx not in noitem_list:\n",
    "        tmp_list.append(f\"\\r{item} {forindex}\")\n",
    "        forindex +=1\n",
    "\n",
    "upper_class_txt = \" \".join(tmp_list)\n",
    "\n",
    "filename = os.path.join(\"..\", \"data\", \"UpperToBottom\", \"upper_class_list.txt\")\n",
    "\n",
    "with open(f\"{filename}\", \"w\") as file:\n",
    "    file.write(upper_class_txt)\n",
    "    file.close()\n",
    "\n",
    "print(f\"\\x1b[32m\\\"{filename} 저장되었습니다.\\\"\\x1b[0m\")"
   ]
  },
  {
   "cell_type": "markdown",
   "metadata": {},
   "source": [
    "#### 🍟 test.txt 만들기 (train.txt 복사 해서 변형하세요)"
   ]
  },
  {
   "cell_type": "code",
   "execution_count": 18,
   "metadata": {},
   "outputs": [
    {
     "name": "stdout",
     "output_type": "stream",
     "text": [
      "\u001b[32m\"..\\data\\UpperToBottom\\test.txt 저장되었습니다.\"\u001b[0m\n"
     ]
    }
   ],
   "source": [
    "original_file = os.path.join(\"..\", \"data\", \"UpperToBottom\", \"train.txt\")\n",
    "copy_file = os.path.join(\"..\", \"data\", \"UpperToBottom\", \"test.txt\")\n",
    "\n",
    "try:\n",
    "    with open(original_file, 'r') as of:\n",
    "        tmp_txt = of.read()\n",
    "        \n",
    "        with open(copy_file, 'w') as cf:\n",
    "            cf.write(tmp_txt)\n",
    "        print(f\"\\x1b[32m\\\"{copy_file} 저장되었습니다.\\\"\\x1b[0m\")\n",
    "except FileNotFoundError:\n",
    "    print('파일을 찾을 수 없습니다.')\n",
    "except Exception as e:\n",
    "    print('파일 복사 중 오류가 발생했습니다:', e)\n"
   ]
  }
 ],
 "metadata": {
  "kernelspec": {
   "display_name": "Python 3",
   "language": "python",
   "name": "python3"
  },
  "language_info": {
   "codemirror_mode": {
    "name": "ipython",
    "version": 3
   },
   "file_extension": ".py",
   "mimetype": "text/x-python",
   "name": "python",
   "nbconvert_exporter": "python",
   "pygments_lexer": "ipython3",
   "version": "3.10.10"
  },
  "orig_nbformat": 4
 },
 "nbformat": 4,
 "nbformat_minor": 2
}
