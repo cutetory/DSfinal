{
 "cells": [
  {
   "cell_type": "code",
   "execution_count": 6,
   "metadata": {},
   "outputs": [
    {
     "name": "stdout",
     "output_type": "stream",
     "text": [
      "2023-09-17 07:27:07: [/tmp/ipykernel_22/1553896188.py]:Python 버전📌 sys.version_info(major=3, minor=10, micro=13, releaselevel='final', serial=0)\n",
      "2023-09-17 07:27:07: [/tmp/ipykernel_22/1553896188.py]:Pytorch 버전📌 1.13.1\n",
      "2023-09-17 07:27:07: [/tmp/ipykernel_22/1553896188.py]:torchvision 버전📌 0.14.1\n",
      "2023-09-17 07:27:07: [/tmp/ipykernel_22/1553896188.py]:Torch GPU 가능여부📌 False\n",
      "2023-09-17 07:27:07: [/tmp/ipykernel_22/1553896188.py]:Numpy Version📌 1.22.3\n",
      "nvcc: NVIDIA (R) Cuda compiler driver\n",
      "Copyright (c) 2005-2022 NVIDIA Corporation\n",
      "Built on Tue_Mar__8_18:18:20_PST_2022\n",
      "Cuda compilation tools, release 11.6, V11.6.124\n",
      "Build cuda_11.6.r11.6/compiler.31057947_0\n"
     ]
    }
   ],
   "source": [
    "import time\n",
    "import sys\n",
    "import inspect #디버깅용\n",
    "import torch\n",
    "# import tensorflow as tf\n",
    "import torchvision\n",
    "# import ninja\n",
    "# import click\n",
    "# import pandas as pd\n",
    "# import matplotlib.pyplot as plt\n",
    "from PIL import Image\n",
    "from torchvision import transforms\n",
    "import numpy as np\n",
    "import pickle\n",
    "# import cv2\n",
    "# %matplotlib inline\n",
    "from IPython.display import clear_output\n",
    "\n",
    "from IPython.core.interactiveshell import InteractiveShell\n",
    "InteractiveShell.ast_node_interactivity = \"all\"\n",
    "\n",
    "def time_stamp():\n",
    "    temp = r\"%Y-%m-%d %H:%M:%S\"\n",
    "    current_frame = inspect.currentframe()\n",
    "    tmp = f\"{time.strftime(temp, time.localtime(time.time()))}: [{inspect.getframeinfo(current_frame).filename}]:\"\n",
    "    return tmp\n",
    "\n",
    "def version_all():\n",
    "    print(f\"{time_stamp()}Python 버전📌 {sys.version_info}\")\n",
    "    print(f\"{time_stamp()}Pytorch 버전📌 {torch.__version__}\")\n",
    "    print(f\"{time_stamp()}torchvision 버전📌 {torchvision.__version__}\")\n",
    "    # print(f\"{time_stamp()}ninja 버전📌 {ninja.__version__}\")\n",
    "    # print(f\"{time_stamp()}Tensorflow 버전📌 {tf.__version__}\")\n",
    "    print(f\"{time_stamp()}Torch GPU 가능여부📌 {torch.torch.cuda.is_available()}\")\n",
    "    # print(f\"{time_stamp()}Tensorflow GPU 가능여부📌 {tf.config.list_physical_devices('GPU')}\") # 텐서플로우 2.x버전\n",
    "    # print(f\"{time_stamp()}Tensorflow GPU 가능여부📌 {device_lib.list_local_devices()}\") # 텐서플로우 1.x버전\n",
    "    # print(f\"{time_stamp()}Click Version📌 {click.__version__}\") # 텐서플로우 1.x버전\n",
    "    # print(f\"{time_stamp()}cudatoolkit Version📌 {cudatoolkit.__version__}\")\n",
    "    print(f\"{time_stamp()}Numpy Version📌 {np.__version__}\")\n",
    "    \n",
    "# GPU 사용 설정\n",
    "# physical_devices = tf.config.experimental.list_physical_devices('GPU')\n",
    "# if len(physical_devices) > 0:\n",
    "    # tf.config.experimental.set_memory_growth(physical_devices[0], True)\n",
    "    # print(\"GPU 설정 완료\")\n",
    "# else:\n",
    "    # print(\"GPU를 찾을 수 없습니다. CPU\")\n",
    "\n",
    "\n",
    "version_all()\n",
    "!nvcc -V"
   ]
  },
  {
   "cell_type": "code",
   "execution_count": 8,
   "metadata": {},
   "outputs": [
    {
     "data": {
      "text/plain": [
       "'/step1'"
      ]
     },
     "execution_count": 8,
     "metadata": {},
     "output_type": "execute_result"
    }
   ],
   "source": [
    "pwd"
   ]
  },
  {
   "cell_type": "code",
   "execution_count": 9,
   "metadata": {},
   "outputs": [
    {
     "name": "stdout",
     "output_type": "stream",
     "text": [
      "fatal: not a git repository (or any parent up to mount point /)\n",
      "Stopping at filesystem boundary (GIT_DISCOVERY_ACROSS_FILESYSTEM not set).\n"
     ]
    }
   ],
   "source": [
    "! git status"
   ]
  }
 ],
 "metadata": {
  "kernelspec": {
   "display_name": "Python 3 (ipykernel)",
   "language": "python",
   "name": "python3"
  },
  "language_info": {
   "codemirror_mode": {
    "name": "ipython",
    "version": 3
   },
   "file_extension": ".py",
   "mimetype": "text/x-python",
   "name": "python",
   "nbconvert_exporter": "python",
   "pygments_lexer": "ipython3",
   "version": "3.10.13"
  }
 },
 "nbformat": 4,
 "nbformat_minor": 4
}
